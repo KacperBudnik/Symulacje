{
 "cells": [
  {
   "cell_type": "code",
   "execution_count": 46,
   "id": "4b48e467",
   "metadata": {},
   "outputs": [
    {
     "data": {
      "text/plain": [
       "3.1408128"
      ]
     },
     "execution_count": 46,
     "metadata": {},
     "output_type": "execute_result"
    }
   ],
   "source": [
    "N=1e7\n",
    "4sum(sum(i^2 for i in 2rand(2).-1)<1 for j in 1:N)/N"
   ]
  },
  {
   "cell_type": "code",
   "execution_count": 47,
   "id": "07a3468a",
   "metadata": {},
   "outputs": [
    {
     "data": {
      "text/plain": [
       "f (generic function with 1 method)"
      ]
     },
     "execution_count": 47,
     "metadata": {},
     "output_type": "execute_result"
    }
   ],
   "source": [
    "f(N)=4sum(sum(i^2 for i in 2rand(2).-1)<1 for j in 1:N)/N"
   ]
  },
  {
   "cell_type": "code",
   "execution_count": 48,
   "id": "9e2bc24b",
   "metadata": {},
   "outputs": [
    {
     "data": {
      "text/plain": [
       "g (generic function with 1 method)"
      ]
     },
     "execution_count": 48,
     "metadata": {},
     "output_type": "execute_result"
    }
   ],
   "source": [
    "g(N)=4sum(sum(i^2 for i in rand(2))<1 for j in 1:N)/N"
   ]
  },
  {
   "cell_type": "code",
   "execution_count": null,
   "id": "dcbeabd7",
   "metadata": {},
   "outputs": [],
   "source": []
  },
  {
   "cell_type": "code",
   "execution_count": 61,
   "id": "0b4bced1",
   "metadata": {},
   "outputs": [
    {
     "name": "stdout",
     "output_type": "stream",
     "text": [
      "  0.000019 seconds (306 allocations: 28.297 KiB)\n"
     ]
    },
    {
     "data": {
      "text/plain": [
       "3.16"
      ]
     },
     "execution_count": 61,
     "metadata": {},
     "output_type": "execute_result"
    }
   ],
   "source": [
    "@time begin\n",
    "f(100)\n",
    "end"
   ]
  },
  {
   "cell_type": "code",
   "execution_count": 62,
   "id": "b977fb48",
   "metadata": {},
   "outputs": [
    {
     "name": "stdout",
     "output_type": "stream",
     "text": [
      "  0.000013 seconds (106 allocations: 9.547 KiB)\n"
     ]
    },
    {
     "data": {
      "text/plain": [
       "3.24"
      ]
     },
     "execution_count": 62,
     "metadata": {},
     "output_type": "execute_result"
    }
   ],
   "source": [
    "@time begin\n",
    "g(100)\n",
    "end"
   ]
  },
  {
   "cell_type": "code",
   "execution_count": 72,
   "id": "a5c07892",
   "metadata": {},
   "outputs": [
    {
     "name": "stdout",
     "output_type": "stream",
     "text": [
      "  0.012538 seconds (300.00 k allocations: 27.466 MiB)\n"
     ]
    },
    {
     "data": {
      "text/plain": [
       "3.14656"
      ]
     },
     "execution_count": 72,
     "metadata": {},
     "output_type": "execute_result"
    }
   ],
   "source": [
    "@time begin\n",
    "f(1e5)\n",
    "end"
   ]
  },
  {
   "cell_type": "code",
   "execution_count": 79,
   "id": "b51b8217",
   "metadata": {},
   "outputs": [
    {
     "name": "stdout",
     "output_type": "stream",
     "text": [
      "  0.005772 seconds (100.00 k allocations: 9.155 MiB)\n"
     ]
    },
    {
     "data": {
      "text/plain": [
       "3.1404"
      ]
     },
     "execution_count": 79,
     "metadata": {},
     "output_type": "execute_result"
    }
   ],
   "source": [
    "@time begin\n",
    "g(1e5)\n",
    "end"
   ]
  },
  {
   "cell_type": "code",
   "execution_count": null,
   "id": "13eee0f4",
   "metadata": {},
   "outputs": [],
   "source": []
  },
  {
   "cell_type": "code",
   "execution_count": null,
   "id": "cf3659cb",
   "metadata": {},
   "outputs": [],
   "source": []
  },
  {
   "cell_type": "code",
   "execution_count": null,
   "id": "921892e7",
   "metadata": {},
   "outputs": [],
   "source": []
  },
  {
   "cell_type": "code",
   "execution_count": null,
   "id": "26df1340",
   "metadata": {},
   "outputs": [],
   "source": []
  },
  {
   "cell_type": "code",
   "execution_count": null,
   "id": "daf5c849",
   "metadata": {},
   "outputs": [],
   "source": []
  },
  {
   "cell_type": "code",
   "execution_count": 77,
   "id": "2aacfc88",
   "metadata": {},
   "outputs": [
    {
     "data": {
      "text/latex": [
       "\\begin{verbatim}\n",
       "@time\n",
       "\\end{verbatim}\n",
       "A macro to execute an expression, printing the time it took to execute, the number of allocations, and the total number of bytes its execution caused to be allocated, before returning the value of the expression. Any time spent garbage collecting (gc) or compiling is shown as a percentage.\n",
       "\n",
       "In some cases the system will look inside the \\texttt{@time} expression and compile some of the called code before execution of the top-level expression begins. When that happens, some compilation time will not be counted. To include this time you can run \\texttt{@time @eval ...}.\n",
       "\n",
       "See also \\href{@ref}{\\texttt{@timev}}, \\href{@ref}{\\texttt{@timed}}, \\href{@ref}{\\texttt{@elapsed}}, and \\href{@ref}{\\texttt{@allocated}}.\n",
       "\n",
       "\\begin{quote}\n",
       "\\textbf{note}\n",
       "\n",
       "Note\n",
       "\n",
       "For more serious benchmarking, consider the \\texttt{@btime} macro from the BenchmarkTools.jl package which among other things evaluates the function multiple times in order to reduce noise.\n",
       "\n",
       "\\end{quote}\n",
       "\\begin{verbatim}\n",
       "julia> x = rand(10,10);\n",
       "\n",
       "julia> @time x * x;\n",
       "  0.606588 seconds (2.19 M allocations: 116.555 MiB, 3.75% gc time, 99.94% compilation time)\n",
       "\n",
       "julia> @time x * x;\n",
       "  0.000009 seconds (1 allocation: 896 bytes)\n",
       "\n",
       "julia> @time begin\n",
       "           sleep(0.3)\n",
       "           1+1\n",
       "       end\n",
       "  0.301395 seconds (8 allocations: 336 bytes)\n",
       "2\n",
       "\\end{verbatim}\n"
      ],
      "text/markdown": [
       "```\n",
       "@time\n",
       "```\n",
       "\n",
       "A macro to execute an expression, printing the time it took to execute, the number of allocations, and the total number of bytes its execution caused to be allocated, before returning the value of the expression. Any time spent garbage collecting (gc) or compiling is shown as a percentage.\n",
       "\n",
       "In some cases the system will look inside the `@time` expression and compile some of the called code before execution of the top-level expression begins. When that happens, some compilation time will not be counted. To include this time you can run `@time @eval ...`.\n",
       "\n",
       "See also [`@timev`](@ref), [`@timed`](@ref), [`@elapsed`](@ref), and [`@allocated`](@ref).\n",
       "\n",
       "!!! note\n",
       "    For more serious benchmarking, consider the `@btime` macro from the BenchmarkTools.jl package which among other things evaluates the function multiple times in order to reduce noise.\n",
       "\n",
       "\n",
       "```julia-repl\n",
       "julia> x = rand(10,10);\n",
       "\n",
       "julia> @time x * x;\n",
       "  0.606588 seconds (2.19 M allocations: 116.555 MiB, 3.75% gc time, 99.94% compilation time)\n",
       "\n",
       "julia> @time x * x;\n",
       "  0.000009 seconds (1 allocation: 896 bytes)\n",
       "\n",
       "julia> @time begin\n",
       "           sleep(0.3)\n",
       "           1+1\n",
       "       end\n",
       "  0.301395 seconds (8 allocations: 336 bytes)\n",
       "2\n",
       "```\n"
      ],
      "text/plain": [
       "\u001b[36m  @time\u001b[39m\n",
       "\n",
       "  A macro to execute an expression, printing the time it took to execute, the\n",
       "  number of allocations, and the total number of bytes its execution caused to\n",
       "  be allocated, before returning the value of the expression. Any time spent\n",
       "  garbage collecting (gc) or compiling is shown as a percentage.\n",
       "\n",
       "  In some cases the system will look inside the \u001b[36m@time\u001b[39m expression and compile\n",
       "  some of the called code before execution of the top-level expression begins.\n",
       "  When that happens, some compilation time will not be counted. To include\n",
       "  this time you can run \u001b[36m@time @eval ...\u001b[39m.\n",
       "\n",
       "  See also \u001b[36m@timev\u001b[39m, \u001b[36m@timed\u001b[39m, \u001b[36m@elapsed\u001b[39m, and \u001b[36m@allocated\u001b[39m.\n",
       "\n",
       "\u001b[36m\u001b[1m  │ \u001b[22m\u001b[39m\u001b[36m\u001b[1mNote\u001b[22m\u001b[39m\n",
       "\u001b[36m\u001b[1m  │\u001b[22m\u001b[39m\n",
       "\u001b[36m\u001b[1m  │\u001b[22m\u001b[39m  For more serious benchmarking, consider the \u001b[36m@btime\u001b[39m macro from the\n",
       "\u001b[36m\u001b[1m  │\u001b[22m\u001b[39m  BenchmarkTools.jl package which among other things evaluates the\n",
       "\u001b[36m\u001b[1m  │\u001b[22m\u001b[39m  function multiple times in order to reduce noise.\n",
       "\n",
       "\u001b[36m  julia> x = rand(10,10);\u001b[39m\n",
       "\u001b[36m  \u001b[39m\n",
       "\u001b[36m  julia> @time x * x;\u001b[39m\n",
       "\u001b[36m    0.606588 seconds (2.19 M allocations: 116.555 MiB, 3.75% gc time, 99.94% compilation time)\u001b[39m\n",
       "\u001b[36m  \u001b[39m\n",
       "\u001b[36m  julia> @time x * x;\u001b[39m\n",
       "\u001b[36m    0.000009 seconds (1 allocation: 896 bytes)\u001b[39m\n",
       "\u001b[36m  \u001b[39m\n",
       "\u001b[36m  julia> @time begin\u001b[39m\n",
       "\u001b[36m             sleep(0.3)\u001b[39m\n",
       "\u001b[36m             1+1\u001b[39m\n",
       "\u001b[36m         end\u001b[39m\n",
       "\u001b[36m    0.301395 seconds (8 allocations: 336 bytes)\u001b[39m\n",
       "\u001b[36m  2\u001b[39m"
      ]
     },
     "execution_count": 77,
     "metadata": {},
     "output_type": "execute_result"
    }
   ],
   "source": [
    "?@time"
   ]
  },
  {
   "cell_type": "code",
   "execution_count": null,
   "id": "8043591c",
   "metadata": {},
   "outputs": [],
   "source": []
  }
 ],
 "metadata": {
  "kernelspec": {
   "display_name": "Julia 1.6.1",
   "language": "julia",
   "name": "julia-1.6"
  },
  "language_info": {
   "file_extension": ".jl",
   "mimetype": "application/julia",
   "name": "julia",
   "version": "1.6.1"
  },
  "toc": {
   "base_numbering": 1,
   "nav_menu": {},
   "number_sections": true,
   "sideBar": true,
   "skip_h1_title": false,
   "title_cell": "Table of Contents",
   "title_sidebar": "Contents",
   "toc_cell": false,
   "toc_position": {},
   "toc_section_display": true,
   "toc_window_display": false
  },
  "varInspector": {
   "cols": {
    "lenName": 16,
    "lenType": 16,
    "lenVar": 40
   },
   "kernels_config": {
    "python": {
     "delete_cmd_postfix": "",
     "delete_cmd_prefix": "del ",
     "library": "var_list.py",
     "varRefreshCmd": "print(var_dic_list())"
    },
    "r": {
     "delete_cmd_postfix": ") ",
     "delete_cmd_prefix": "rm(",
     "library": "var_list.r",
     "varRefreshCmd": "cat(var_dic_list()) "
    }
   },
   "types_to_exclude": [
    "module",
    "function",
    "builtin_function_or_method",
    "instance",
    "_Feature"
   ],
   "window_display": false
  }
 },
 "nbformat": 4,
 "nbformat_minor": 5
}
