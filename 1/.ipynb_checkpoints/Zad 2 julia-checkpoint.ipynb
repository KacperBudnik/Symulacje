{
 "cells": [
  {
   "cell_type": "code",
   "execution_count": 24,
   "id": "7a9b7139",
   "metadata": {},
   "outputs": [
    {
     "data": {
      "text/plain": [
       "1.0e7"
      ]
     },
     "execution_count": 24,
     "metadata": {},
     "output_type": "execute_result"
    }
   ],
   "source": [
    "N=1e7"
   ]
  },
  {
   "cell_type": "code",
   "execution_count": 25,
   "id": "98f86c86",
   "metadata": {},
   "outputs": [],
   "source": [
    "A=0\n",
    "B=0\n",
    "b_w=[0,0,1]\n",
    "a_w=[0,1,1]\n",
    "for i in 1:N\n",
    "    g=rand(0:1,3)\n",
    "    while g!=b_w && g!=a_w\n",
    "        g[1:2]=g[2:3]\n",
    "        g[3]=rand(0:1)\n",
    "    end\n",
    "    if g==a_w\n",
    "        A+=1\n",
    "    else\n",
    "        B+=1\n",
    "    end\n",
    "end"
   ]
  },
  {
   "cell_type": "code",
   "execution_count": 26,
   "id": "a826e434",
   "metadata": {},
   "outputs": [
    {
     "data": {
      "text/plain": [
       "0.3330602"
      ]
     },
     "execution_count": 26,
     "metadata": {},
     "output_type": "execute_result"
    }
   ],
   "source": [
    "A/(A+B)"
   ]
  },
  {
   "cell_type": "code",
   "execution_count": 27,
   "id": "dc23f9d3",
   "metadata": {},
   "outputs": [
    {
     "data": {
      "text/plain": [
       "0.6669398"
      ]
     },
     "execution_count": 27,
     "metadata": {},
     "output_type": "execute_result"
    }
   ],
   "source": [
    "1-ans"
   ]
  },
  {
   "cell_type": "code",
   "execution_count": null,
   "id": "544d053e",
   "metadata": {},
   "outputs": [],
   "source": []
  },
  {
   "cell_type": "code",
   "execution_count": null,
   "id": "9fe364fd",
   "metadata": {},
   "outputs": [],
   "source": []
  },
  {
   "cell_type": "code",
   "execution_count": 46,
   "id": "2a6900d9",
   "metadata": {},
   "outputs": [
    {
     "data": {
      "text/plain": [
       "1.0e7"
      ]
     },
     "execution_count": 46,
     "metadata": {},
     "output_type": "execute_result"
    }
   ],
   "source": [
    "N=1e7"
   ]
  },
  {
   "cell_type": "code",
   "execution_count": 47,
   "id": "33478268",
   "metadata": {},
   "outputs": [],
   "source": [
    "A=0\n",
    "B=0\n",
    "b_w=[0,0,1]\n",
    "a_w=[0,1,1]\n",
    "for i in 1:N\n",
    "    g=rand(0:1,10)\n",
    "    for i in 1:7\n",
    "        if g[i:i+2]==a_w\n",
    "            A+=1\n",
    "            break\n",
    "        elseif g[i:i+2]==b_w\n",
    "            B+=1\n",
    "            break\n",
    "        end\n",
    "    end        \n",
    "end"
   ]
  },
  {
   "cell_type": "code",
   "execution_count": 48,
   "id": "b36b6f67",
   "metadata": {},
   "outputs": [
    {
     "data": {
      "text/plain": [
       "0.3443507136802081"
      ]
     },
     "execution_count": 48,
     "metadata": {},
     "output_type": "execute_result"
    }
   ],
   "source": [
    "A/(A+B)"
   ]
  },
  {
   "cell_type": "code",
   "execution_count": 49,
   "id": "0b149ed0",
   "metadata": {},
   "outputs": [
    {
     "data": {
      "text/plain": [
       "0.6556492863197919"
      ]
     },
     "execution_count": 49,
     "metadata": {},
     "output_type": "execute_result"
    }
   ],
   "source": [
    "1-ans"
   ]
  },
  {
   "cell_type": "code",
   "execution_count": null,
   "id": "00278d18",
   "metadata": {},
   "outputs": [],
   "source": []
  }
 ],
 "metadata": {
  "kernelspec": {
   "display_name": "Julia 1.6.1",
   "language": "julia",
   "name": "julia-1.6"
  },
  "language_info": {
   "file_extension": ".jl",
   "mimetype": "application/julia",
   "name": "julia",
   "version": "1.6.1"
  },
  "toc": {
   "base_numbering": 1,
   "nav_menu": {},
   "number_sections": true,
   "sideBar": true,
   "skip_h1_title": false,
   "title_cell": "Table of Contents",
   "title_sidebar": "Contents",
   "toc_cell": false,
   "toc_position": {},
   "toc_section_display": true,
   "toc_window_display": false
  },
  "varInspector": {
   "cols": {
    "lenName": 16,
    "lenType": 16,
    "lenVar": 40
   },
   "kernels_config": {
    "python": {
     "delete_cmd_postfix": "",
     "delete_cmd_prefix": "del ",
     "library": "var_list.py",
     "varRefreshCmd": "print(var_dic_list())"
    },
    "r": {
     "delete_cmd_postfix": ") ",
     "delete_cmd_prefix": "rm(",
     "library": "var_list.r",
     "varRefreshCmd": "cat(var_dic_list()) "
    }
   },
   "types_to_exclude": [
    "module",
    "function",
    "builtin_function_or_method",
    "instance",
    "_Feature"
   ],
   "window_display": false
  }
 },
 "nbformat": 4,
 "nbformat_minor": 5
}
