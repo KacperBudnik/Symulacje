{
 "cells": [
  {
   "cell_type": "code",
   "execution_count": 20,
   "id": "a54da7bb",
   "metadata": {},
   "outputs": [],
   "source": [
    "from random import random\n",
    "from numpy.random import random as nprand"
   ]
  },
  {
   "cell_type": "code",
   "execution_count": 2,
   "id": "be01d8e1",
   "metadata": {},
   "outputs": [],
   "source": [
    "N=1e5"
   ]
  },
  {
   "cell_type": "code",
   "execution_count": 10,
   "id": "84915c99",
   "metadata": {},
   "outputs": [],
   "source": [
    "def f(N):\n",
    "    S=0\n",
    "    for i in range(N):\n",
    "        S+=(2*random()-1)**2+(2*random()-1)**2<1\n",
    "    return 4*S/N"
   ]
  },
  {
   "cell_type": "code",
   "execution_count": 11,
   "id": "0b048c9b",
   "metadata": {},
   "outputs": [],
   "source": [
    "def g(N):\n",
    "    return 4*sum((2*random()-1)**2+(2*random()-1)**2 for _ in range(N))/N"
   ]
  },
  {
   "cell_type": "code",
   "execution_count": 23,
   "id": "7d02e515",
   "metadata": {},
   "outputs": [],
   "source": [
    "def h(N):\n",
    "    return 4*sum(sum((2*i-1)**2 for i in nprand(2)) for _ in range(N))/N"
   ]
  },
  {
   "cell_type": "code",
   "execution_count": 26,
   "id": "7acc289f",
   "metadata": {},
   "outputs": [],
   "source": [
    "def k(N):\n",
    "    return 4*sum(random()**2+random()**2 for _ in range(N))/N"
   ]
  },
  {
   "cell_type": "code",
   "execution_count": null,
   "id": "26ece13a",
   "metadata": {},
   "outputs": [],
   "source": []
  },
  {
   "cell_type": "code",
   "execution_count": null,
   "id": "0d5ddd75",
   "metadata": {},
   "outputs": [],
   "source": []
  },
  {
   "cell_type": "code",
   "execution_count": null,
   "id": "6058a3a0",
   "metadata": {},
   "outputs": [],
   "source": []
  },
  {
   "cell_type": "code",
   "execution_count": null,
   "id": "6c751cb1",
   "metadata": {},
   "outputs": [],
   "source": []
  },
  {
   "cell_type": "code",
   "execution_count": 12,
   "id": "eaf606d7",
   "metadata": {},
   "outputs": [
    {
     "name": "stdout",
     "output_type": "stream",
     "text": [
      "51.8 µs ± 634 ns per loop (mean ± std. dev. of 7 runs, 10000 loops each)\n"
     ]
    }
   ],
   "source": [
    "%%timeit\n",
    "f(100)"
   ]
  },
  {
   "cell_type": "code",
   "execution_count": 13,
   "id": "08699526",
   "metadata": {},
   "outputs": [
    {
     "name": "stdout",
     "output_type": "stream",
     "text": [
      "49.2 µs ± 617 ns per loop (mean ± std. dev. of 7 runs, 10000 loops each)\n"
     ]
    }
   ],
   "source": [
    "%%timeit\n",
    "g(100)"
   ]
  },
  {
   "cell_type": "code",
   "execution_count": 24,
   "id": "78a2fb3c",
   "metadata": {},
   "outputs": [
    {
     "name": "stdout",
     "output_type": "stream",
     "text": [
      "365 µs ± 3.85 µs per loop (mean ± std. dev. of 7 runs, 1000 loops each)\n"
     ]
    }
   ],
   "source": [
    "%%timeit\n",
    "h(100)"
   ]
  },
  {
   "cell_type": "code",
   "execution_count": 29,
   "id": "1a55ee88",
   "metadata": {},
   "outputs": [
    {
     "name": "stdout",
     "output_type": "stream",
     "text": [
      "37.5 µs ± 253 ns per loop (mean ± std. dev. of 7 runs, 10000 loops each)\n"
     ]
    }
   ],
   "source": [
    "%%timeit\n",
    "k(100)"
   ]
  },
  {
   "cell_type": "code",
   "execution_count": null,
   "id": "e538dfac",
   "metadata": {},
   "outputs": [],
   "source": []
  },
  {
   "cell_type": "code",
   "execution_count": null,
   "id": "5853eca0",
   "metadata": {},
   "outputs": [],
   "source": []
  },
  {
   "cell_type": "code",
   "execution_count": 16,
   "id": "87a0942f",
   "metadata": {},
   "outputs": [
    {
     "name": "stdout",
     "output_type": "stream",
     "text": [
      "52.5 ms ± 319 µs per loop (mean ± std. dev. of 7 runs, 10 loops each)\n"
     ]
    }
   ],
   "source": [
    "%%timeit\n",
    "f(10**5)"
   ]
  },
  {
   "cell_type": "code",
   "execution_count": 17,
   "id": "fec14aa2",
   "metadata": {},
   "outputs": [
    {
     "name": "stdout",
     "output_type": "stream",
     "text": [
      "49.2 ms ± 1.07 ms per loop (mean ± std. dev. of 7 runs, 10 loops each)\n"
     ]
    }
   ],
   "source": [
    "%%timeit\n",
    "g(10**5)"
   ]
  },
  {
   "cell_type": "code",
   "execution_count": 25,
   "id": "0cb499f0",
   "metadata": {},
   "outputs": [
    {
     "name": "stdout",
     "output_type": "stream",
     "text": [
      "365 ms ± 2.34 ms per loop (mean ± std. dev. of 7 runs, 1 loop each)\n"
     ]
    }
   ],
   "source": [
    "%%timeit\n",
    "h(10**5)"
   ]
  },
  {
   "cell_type": "code",
   "execution_count": 30,
   "id": "40e4fe97",
   "metadata": {},
   "outputs": [
    {
     "name": "stdout",
     "output_type": "stream",
     "text": [
      "38.4 ms ± 262 µs per loop (mean ± std. dev. of 7 runs, 10 loops each)\n"
     ]
    }
   ],
   "source": [
    "%%timeit\n",
    "k(10**5)"
   ]
  },
  {
   "cell_type": "code",
   "execution_count": null,
   "id": "73e8fa9c",
   "metadata": {},
   "outputs": [],
   "source": []
  }
 ],
 "metadata": {
  "kernelspec": {
   "display_name": "Python 3",
   "language": "python",
   "name": "python3"
  },
  "language_info": {
   "codemirror_mode": {
    "name": "ipython",
    "version": 3
   },
   "file_extension": ".py",
   "mimetype": "text/x-python",
   "name": "python",
   "nbconvert_exporter": "python",
   "pygments_lexer": "ipython3",
   "version": "3.9.5"
  },
  "toc": {
   "base_numbering": 1,
   "nav_menu": {},
   "number_sections": true,
   "sideBar": true,
   "skip_h1_title": false,
   "title_cell": "Table of Contents",
   "title_sidebar": "Contents",
   "toc_cell": false,
   "toc_position": {},
   "toc_section_display": true,
   "toc_window_display": false
  },
  "varInspector": {
   "cols": {
    "lenName": 16,
    "lenType": 16,
    "lenVar": 40
   },
   "kernels_config": {
    "python": {
     "delete_cmd_postfix": "",
     "delete_cmd_prefix": "del ",
     "library": "var_list.py",
     "varRefreshCmd": "print(var_dic_list())"
    },
    "r": {
     "delete_cmd_postfix": ") ",
     "delete_cmd_prefix": "rm(",
     "library": "var_list.r",
     "varRefreshCmd": "cat(var_dic_list()) "
    }
   },
   "types_to_exclude": [
    "module",
    "function",
    "builtin_function_or_method",
    "instance",
    "_Feature"
   ],
   "window_display": false
  }
 },
 "nbformat": 4,
 "nbformat_minor": 5
}
