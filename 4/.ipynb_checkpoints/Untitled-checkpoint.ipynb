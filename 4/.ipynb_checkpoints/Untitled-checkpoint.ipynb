{
 "cells": [
  {
   "cell_type": "markdown",
   "metadata": {},
   "source": [
    "# Zad 1"
   ]
  },
  {
   "cell_type": "code",
   "execution_count": 101,
   "metadata": {},
   "outputs": [
    {
     "data": {
      "text/plain": [
       "93.6784077520715"
      ]
     },
     "execution_count": 101,
     "metadata": {},
     "output_type": "execute_result"
    }
   ],
   "source": [
    "n=Int(1e5)\n",
    "4sum(exp(x+x^2) for x in 4rand(n).-2)/n"
   ]
  },
  {
   "cell_type": "code",
   "execution_count": 95,
   "metadata": {},
   "outputs": [
    {
     "name": "stdout",
     "output_type": "stream",
     "text": [
      "0.3382844053521188\n",
      "-1.4497938519144027\n",
      "1.7042935166371729\n",
      "0.5377874925380732\n",
      "-0.09907938642040204\n",
      "0.6545713558794448\n",
      "1.0930235848761987\n",
      "0.8775166751051557\n",
      "0.9065283416066308\n",
      "0.3527349075470383\n"
     ]
    }
   ],
   "source": [
    "for i in 4rand(10).-2\n",
    "    println(i)\n",
    "end"
   ]
  },
  {
   "cell_type": "code",
   "execution_count": 103,
   "metadata": {},
   "outputs": [
    {
     "data": {
      "text/plain": [
       "h (generic function with 1 method)"
      ]
     },
     "execution_count": 103,
     "metadata": {},
     "output_type": "execute_result"
    }
   ],
   "source": [
    "h(x,y)=sin(x^2+y^2)*exp(-(x^2+y^2))"
   ]
  },
  {
   "cell_type": "code",
   "execution_count": 131,
   "metadata": {},
   "outputs": [
    {
     "data": {
      "text/plain": [
       "l (generic function with 1 method)"
      ]
     },
     "execution_count": 131,
     "metadata": {},
     "output_type": "execute_result"
    }
   ],
   "source": [
    "l(x,y)=exp(x+y)"
   ]
  },
  {
   "cell_type": "code",
   "execution_count": 134,
   "metadata": {},
   "outputs": [
    {
     "data": {
      "text/plain": [
       "k (generic function with 1 method)"
      ]
     },
     "execution_count": 134,
     "metadata": {},
     "output_type": "execute_result"
    }
   ],
   "source": [
    "k(t)=-log(t)"
   ]
  },
  {
   "cell_type": "code",
   "execution_count": 140,
   "metadata": {},
   "outputs": [
    {
     "data": {
      "text/plain": [
       "1.5669452200015932"
      ]
     },
     "execution_count": 140,
     "metadata": {},
     "output_type": "execute_result"
    }
   ],
   "source": [
    "4sum(h(x,y)*l(x,y) for (x,y) in [[k.(rand()) for i in 1:2] for j in 1:n])/n"
   ]
  },
  {
   "cell_type": "code",
   "execution_count": null,
   "metadata": {},
   "outputs": [],
   "source": []
  },
  {
   "cell_type": "markdown",
   "metadata": {},
   "source": [
    "# Zad 2"
   ]
  },
  {
   "cell_type": "markdown",
   "metadata": {
    "heading_collapsed": true
   },
   "source": [
    "## Dyskretny"
   ]
  },
  {
   "cell_type": "markdown",
   "metadata": {
    "hidden": true
   },
   "source": [
    "Dod -> Ile razy pętla?"
   ]
  },
  {
   "cell_type": "markdown",
   "metadata": {
    "hidden": true
   },
   "source": [
    "Dod2 -> Porównać 1. z rozkładem geometrycznym, takim, że\n",
    "$$P(X=k)=p(1-p)^{k-1},$$\n",
    "gdzie\n",
    "$p=\\dfrac{1}{c}$"
   ]
  },
  {
   "cell_type": "code",
   "execution_count": 58,
   "metadata": {
    "hidden": true
   },
   "outputs": [
    {
     "data": {
      "text/plain": [
       "F (generic function with 1 method)"
      ]
     },
     "execution_count": 58,
     "metadata": {},
     "output_type": "execute_result"
    }
   ],
   "source": [
    "F(t)= t==1 ? 0.11 : \n",
    "    t==2 ? 0.12 :\n",
    "    t==3 ? 0.27 :\n",
    "    t==4 ? 0.19 :\n",
    "    t==5 ? 0.31 :\n",
    "    0"
   ]
  },
  {
   "cell_type": "code",
   "execution_count": 59,
   "metadata": {
    "hidden": true
   },
   "outputs": [
    {
     "data": {
      "text/plain": [
       "1.0"
      ]
     },
     "execution_count": 59,
     "metadata": {},
     "output_type": "execute_result"
    }
   ],
   "source": [
    "sum(F(t) for t in 1:5)"
   ]
  },
  {
   "cell_type": "code",
   "execution_count": 60,
   "metadata": {
    "hidden": true
   },
   "outputs": [
    {
     "data": {
      "text/plain": [
       "f (generic function with 1 method)"
      ]
     },
     "execution_count": 60,
     "metadata": {},
     "output_type": "execute_result"
    }
   ],
   "source": [
    "f(t)=F(t)"
   ]
  },
  {
   "cell_type": "markdown",
   "metadata": {
    "hidden": true
   },
   "source": [
    "Nie X ma rozkład jednostajny na (0,5)"
   ]
  },
  {
   "cell_type": "code",
   "execution_count": 118,
   "metadata": {
    "hidden": true
   },
   "outputs": [
    {
     "data": {
      "text/plain": [
       "Y (generic function with 1 method)"
      ]
     },
     "execution_count": 118,
     "metadata": {},
     "output_type": "execute_result"
    }
   ],
   "source": [
    "Y() = Int(floor(5*rand()))+1"
   ]
  },
  {
   "cell_type": "code",
   "execution_count": 119,
   "metadata": {
    "hidden": true
   },
   "outputs": [
    {
     "data": {
      "text/plain": [
       "4"
      ]
     },
     "execution_count": 119,
     "metadata": {},
     "output_type": "execute_result"
    }
   ],
   "source": [
    "Y()"
   ]
  },
  {
   "cell_type": "code",
   "execution_count": 120,
   "metadata": {
    "hidden": true
   },
   "outputs": [
    {
     "data": {
      "image/svg+xml": [
       "<?xml version=\"1.0\" encoding=\"utf-8\"?>\n",
       "<svg xmlns=\"http://www.w3.org/2000/svg\" xmlns:xlink=\"http://www.w3.org/1999/xlink\" width=\"600\" height=\"400\" viewBox=\"0 0 2400 1600\">\n",
       "<defs>\n",
       "  <clipPath id=\"clip190\">\n",
       "    <rect x=\"0\" y=\"0\" width=\"2400\" height=\"1600\"/>\n",
       "  </clipPath>\n",
       "</defs>\n",
       "<path clip-path=\"url(#clip190)\" d=\"\n",
       "M0 1600 L2400 1600 L2400 0 L0 0  Z\n",
       "  \" fill=\"#ffffff\" fill-rule=\"evenodd\" fill-opacity=\"1\"/>\n",
       "<defs>\n",
       "  <clipPath id=\"clip191\">\n",
       "    <rect x=\"480\" y=\"0\" width=\"1681\" height=\"1600\"/>\n",
       "  </clipPath>\n",
       "</defs>\n",
       "<path clip-path=\"url(#clip190)\" d=\"\n",
       "M170.857 1486.45 L2352.76 1486.45 L2352.76 47.2441 L170.857 47.2441  Z\n",
       "  \" fill=\"#ffffff\" fill-rule=\"evenodd\" fill-opacity=\"1\"/>\n",
       "<defs>\n",
       "  <clipPath id=\"clip192\">\n",
       "    <rect x=\"170\" y=\"47\" width=\"2183\" height=\"1440\"/>\n",
       "  </clipPath>\n",
       "</defs>\n",
       "<polyline clip-path=\"url(#clip192)\" style=\"stroke:#000000; stroke-width:2; stroke-opacity:0.1; fill:none\" points=\"\n",
       "  290.866,1486.45 290.866,47.2441 \n",
       "  \"/>\n",
       "<polyline clip-path=\"url(#clip192)\" style=\"stroke:#000000; stroke-width:2; stroke-opacity:0.1; fill:none\" points=\"\n",
       "  679.242,1486.45 679.242,47.2441 \n",
       "  \"/>\n",
       "<polyline clip-path=\"url(#clip192)\" style=\"stroke:#000000; stroke-width:2; stroke-opacity:0.1; fill:none\" points=\"\n",
       "  1067.62,1486.45 1067.62,47.2441 \n",
       "  \"/>\n",
       "<polyline clip-path=\"url(#clip192)\" style=\"stroke:#000000; stroke-width:2; stroke-opacity:0.1; fill:none\" points=\"\n",
       "  1455.99,1486.45 1455.99,47.2441 \n",
       "  \"/>\n",
       "<polyline clip-path=\"url(#clip192)\" style=\"stroke:#000000; stroke-width:2; stroke-opacity:0.1; fill:none\" points=\"\n",
       "  1844.37,1486.45 1844.37,47.2441 \n",
       "  \"/>\n",
       "<polyline clip-path=\"url(#clip192)\" style=\"stroke:#000000; stroke-width:2; stroke-opacity:0.1; fill:none\" points=\"\n",
       "  2232.75,1486.45 2232.75,47.2441 \n",
       "  \"/>\n",
       "<polyline clip-path=\"url(#clip190)\" style=\"stroke:#000000; stroke-width:4; stroke-opacity:1; fill:none\" points=\"\n",
       "  170.857,1486.45 2352.76,1486.45 \n",
       "  \"/>\n",
       "<polyline clip-path=\"url(#clip190)\" style=\"stroke:#000000; stroke-width:4; stroke-opacity:1; fill:none\" points=\"\n",
       "  290.866,1486.45 290.866,1469.18 \n",
       "  \"/>\n",
       "<polyline clip-path=\"url(#clip190)\" style=\"stroke:#000000; stroke-width:4; stroke-opacity:1; fill:none\" points=\"\n",
       "  679.242,1486.45 679.242,1469.18 \n",
       "  \"/>\n",
       "<polyline clip-path=\"url(#clip190)\" style=\"stroke:#000000; stroke-width:4; stroke-opacity:1; fill:none\" points=\"\n",
       "  1067.62,1486.45 1067.62,1469.18 \n",
       "  \"/>\n",
       "<polyline clip-path=\"url(#clip190)\" style=\"stroke:#000000; stroke-width:4; stroke-opacity:1; fill:none\" points=\"\n",
       "  1455.99,1486.45 1455.99,1469.18 \n",
       "  \"/>\n",
       "<polyline clip-path=\"url(#clip190)\" style=\"stroke:#000000; stroke-width:4; stroke-opacity:1; fill:none\" points=\"\n",
       "  1844.37,1486.45 1844.37,1469.18 \n",
       "  \"/>\n",
       "<polyline clip-path=\"url(#clip190)\" style=\"stroke:#000000; stroke-width:4; stroke-opacity:1; fill:none\" points=\"\n",
       "  2232.75,1486.45 2232.75,1469.18 \n",
       "  \"/>\n",
       "<path clip-path=\"url(#clip190)\" d=\"M 0 0 M281.248 1543.18 L288.887 1543.18 L288.887 1516.82 L280.576 1518.49 L280.576 1514.23 L288.84 1512.56 L293.516 1512.56 L293.516 1543.18 L301.155 1543.18 L301.155 1547.12 L281.248 1547.12 L281.248 1543.18 Z\" fill=\"#000000\" fill-rule=\"evenodd\" fill-opacity=\"1\" /><path clip-path=\"url(#clip190)\" d=\"M 0 0 M673.895 1543.18 L690.214 1543.18 L690.214 1547.12 L668.27 1547.12 L668.27 1543.18 Q670.932 1540.43 675.515 1535.8 Q680.122 1531.15 681.302 1529.81 Q683.548 1527.28 684.427 1525.55 Q685.33 1523.79 685.33 1522.1 Q685.33 1519.34 683.386 1517.61 Q681.464 1515.87 678.362 1515.87 Q676.163 1515.87 673.71 1516.63 Q671.279 1517.4 668.501 1518.95 L668.501 1514.23 Q671.325 1513.09 673.779 1512.51 Q676.233 1511.93 678.27 1511.93 Q683.64 1511.93 686.835 1514.62 Q690.029 1517.31 690.029 1521.8 Q690.029 1523.93 689.219 1525.85 Q688.432 1527.74 686.325 1530.34 Q685.747 1531.01 682.645 1534.23 Q679.543 1537.42 673.895 1543.18 Z\" fill=\"#000000\" fill-rule=\"evenodd\" fill-opacity=\"1\" /><path clip-path=\"url(#clip190)\" d=\"M 0 0 M1071.87 1528.49 Q1075.22 1529.2 1077.1 1531.47 Q1079 1533.74 1079 1537.07 Q1079 1542.19 1075.48 1544.99 Q1071.96 1547.79 1065.48 1547.79 Q1063.3 1547.79 1060.99 1547.35 Q1058.69 1546.93 1056.24 1546.08 L1056.24 1541.56 Q1058.19 1542.7 1060.5 1543.28 Q1062.82 1543.86 1065.34 1543.86 Q1069.74 1543.86 1072.03 1542.12 Q1074.34 1540.38 1074.34 1537.07 Q1074.34 1534.02 1072.19 1532.31 Q1070.06 1530.57 1066.24 1530.57 L1062.21 1530.57 L1062.21 1526.73 L1066.43 1526.73 Q1069.88 1526.73 1071.7 1525.36 Q1073.53 1523.97 1073.53 1521.38 Q1073.53 1518.72 1071.63 1517.31 Q1069.76 1515.87 1066.24 1515.87 Q1064.32 1515.87 1062.12 1516.29 Q1059.92 1516.7 1057.28 1517.58 L1057.28 1513.42 Q1059.94 1512.68 1062.26 1512.31 Q1064.6 1511.93 1066.66 1511.93 Q1071.98 1511.93 1075.08 1514.37 Q1078.19 1516.77 1078.19 1520.89 Q1078.19 1523.76 1076.54 1525.75 Q1074.9 1527.72 1071.87 1528.49 Z\" fill=\"#000000\" fill-rule=\"evenodd\" fill-opacity=\"1\" /><path clip-path=\"url(#clip190)\" d=\"M 0 0 M1459 1516.63 L1447.2 1535.08 L1459 1535.08 L1459 1516.63 M1457.78 1512.56 L1463.66 1512.56 L1463.66 1535.08 L1468.59 1535.08 L1468.59 1538.97 L1463.66 1538.97 L1463.66 1547.12 L1459 1547.12 L1459 1538.97 L1443.4 1538.97 L1443.4 1534.46 L1457.78 1512.56 Z\" fill=\"#000000\" fill-rule=\"evenodd\" fill-opacity=\"1\" /><path clip-path=\"url(#clip190)\" d=\"M 0 0 M1834.65 1512.56 L1853.01 1512.56 L1853.01 1516.5 L1838.93 1516.5 L1838.93 1524.97 Q1839.95 1524.62 1840.97 1524.46 Q1841.99 1524.27 1843.01 1524.27 Q1848.79 1524.27 1852.17 1527.44 Q1855.55 1530.62 1855.55 1536.03 Q1855.55 1541.61 1852.08 1544.71 Q1848.61 1547.79 1842.29 1547.79 Q1840.11 1547.79 1837.84 1547.42 Q1835.6 1547.05 1833.19 1546.31 L1833.19 1541.61 Q1835.27 1542.74 1837.5 1543.3 Q1839.72 1543.86 1842.2 1543.86 Q1846.2 1543.86 1848.54 1541.75 Q1850.88 1539.64 1850.88 1536.03 Q1850.88 1532.42 1848.54 1530.31 Q1846.2 1528.21 1842.2 1528.21 Q1840.32 1528.21 1838.45 1528.62 Q1836.59 1529.04 1834.65 1529.92 L1834.65 1512.56 Z\" fill=\"#000000\" fill-rule=\"evenodd\" fill-opacity=\"1\" /><path clip-path=\"url(#clip190)\" d=\"M 0 0 M2233.15 1527.98 Q2230 1527.98 2228.15 1530.13 Q2226.32 1532.28 2226.32 1536.03 Q2226.32 1539.76 2228.15 1541.93 Q2230 1544.09 2233.15 1544.09 Q2236.3 1544.09 2238.13 1541.93 Q2239.98 1539.76 2239.98 1536.03 Q2239.98 1532.28 2238.13 1530.13 Q2236.3 1527.98 2233.15 1527.98 M2242.44 1513.32 L2242.44 1517.58 Q2240.68 1516.75 2238.87 1516.31 Q2237.09 1515.87 2235.33 1515.87 Q2230.7 1515.87 2228.25 1519 Q2225.81 1522.12 2225.47 1528.44 Q2226.83 1526.43 2228.89 1525.36 Q2230.95 1524.27 2233.43 1524.27 Q2238.64 1524.27 2241.65 1527.44 Q2244.68 1530.59 2244.68 1536.03 Q2244.68 1541.36 2241.53 1544.57 Q2238.38 1547.79 2233.15 1547.79 Q2227.16 1547.79 2223.99 1543.21 Q2220.81 1538.6 2220.81 1529.87 Q2220.81 1521.68 2224.7 1516.82 Q2228.59 1511.93 2235.14 1511.93 Q2236.9 1511.93 2238.69 1512.28 Q2240.49 1512.63 2242.44 1513.32 Z\" fill=\"#000000\" fill-rule=\"evenodd\" fill-opacity=\"1\" /><polyline clip-path=\"url(#clip192)\" style=\"stroke:#000000; stroke-width:2; stroke-opacity:0.1; fill:none\" points=\"\n",
       "  170.857,1445.72 2352.76,1445.72 \n",
       "  \"/>\n",
       "<polyline clip-path=\"url(#clip192)\" style=\"stroke:#000000; stroke-width:2; stroke-opacity:0.1; fill:none\" points=\"\n",
       "  170.857,1129.96 2352.76,1129.96 \n",
       "  \"/>\n",
       "<polyline clip-path=\"url(#clip192)\" style=\"stroke:#000000; stroke-width:2; stroke-opacity:0.1; fill:none\" points=\"\n",
       "  170.857,814.209 2352.76,814.209 \n",
       "  \"/>\n",
       "<polyline clip-path=\"url(#clip192)\" style=\"stroke:#000000; stroke-width:2; stroke-opacity:0.1; fill:none\" points=\"\n",
       "  170.857,498.456 2352.76,498.456 \n",
       "  \"/>\n",
       "<polyline clip-path=\"url(#clip192)\" style=\"stroke:#000000; stroke-width:2; stroke-opacity:0.1; fill:none\" points=\"\n",
       "  170.857,182.702 2352.76,182.702 \n",
       "  \"/>\n",
       "<polyline clip-path=\"url(#clip190)\" style=\"stroke:#000000; stroke-width:4; stroke-opacity:1; fill:none\" points=\"\n",
       "  170.857,1486.45 170.857,47.2441 \n",
       "  \"/>\n",
       "<polyline clip-path=\"url(#clip190)\" style=\"stroke:#000000; stroke-width:4; stroke-opacity:1; fill:none\" points=\"\n",
       "  170.857,1445.72 197.04,1445.72 \n",
       "  \"/>\n",
       "<polyline clip-path=\"url(#clip190)\" style=\"stroke:#000000; stroke-width:4; stroke-opacity:1; fill:none\" points=\"\n",
       "  170.857,1129.96 197.04,1129.96 \n",
       "  \"/>\n",
       "<polyline clip-path=\"url(#clip190)\" style=\"stroke:#000000; stroke-width:4; stroke-opacity:1; fill:none\" points=\"\n",
       "  170.857,814.209 197.04,814.209 \n",
       "  \"/>\n",
       "<polyline clip-path=\"url(#clip190)\" style=\"stroke:#000000; stroke-width:4; stroke-opacity:1; fill:none\" points=\"\n",
       "  170.857,498.456 197.04,498.456 \n",
       "  \"/>\n",
       "<polyline clip-path=\"url(#clip190)\" style=\"stroke:#000000; stroke-width:4; stroke-opacity:1; fill:none\" points=\"\n",
       "  170.857,182.702 197.04,182.702 \n",
       "  \"/>\n",
       "<path clip-path=\"url(#clip190)\" d=\"M 0 0 M122.913 1431.51 Q119.302 1431.51 117.473 1435.08 Q115.668 1438.62 115.668 1445.75 Q115.668 1452.86 117.473 1456.42 Q119.302 1459.96 122.913 1459.96 Q126.547 1459.96 128.353 1456.42 Q130.182 1452.86 130.182 1445.75 Q130.182 1438.62 128.353 1435.08 Q126.547 1431.51 122.913 1431.51 M122.913 1427.81 Q128.723 1427.81 131.779 1432.42 Q134.857 1437 134.857 1445.75 Q134.857 1454.48 131.779 1459.08 Q128.723 1463.67 122.913 1463.67 Q117.103 1463.67 114.024 1459.08 Q110.969 1454.48 110.969 1445.75 Q110.969 1437 114.024 1432.42 Q117.103 1427.81 122.913 1427.81 Z\" fill=\"#000000\" fill-rule=\"evenodd\" fill-opacity=\"1\" /><path clip-path=\"url(#clip190)\" d=\"M 0 0 M82.7975 1112.68 L101.154 1112.68 L101.154 1116.62 L87.0799 1116.62 L87.0799 1125.09 Q88.0984 1124.74 89.1169 1124.58 Q90.1354 1124.4 91.1539 1124.4 Q96.941 1124.4 100.321 1127.57 Q103.7 1130.74 103.7 1136.15 Q103.7 1141.73 100.228 1144.83 Q96.7558 1147.91 90.4364 1147.91 Q88.2604 1147.91 85.9919 1147.54 Q83.7466 1147.17 81.3392 1146.43 L81.3392 1141.73 Q83.4225 1142.87 85.6447 1143.42 Q87.8669 1143.98 90.3438 1143.98 Q94.3484 1143.98 96.6863 1141.87 Q99.0243 1139.77 99.0243 1136.15 Q99.0243 1132.54 96.6863 1130.44 Q94.3484 1128.33 90.3438 1128.33 Q88.4688 1128.33 86.5938 1128.75 Q84.7419 1129.16 82.7975 1130.04 L82.7975 1112.68 Z\" fill=\"#000000\" fill-rule=\"evenodd\" fill-opacity=\"1\" /><path clip-path=\"url(#clip190)\" d=\"M 0 0 M122.913 1115.76 Q119.302 1115.76 117.473 1119.33 Q115.668 1122.87 115.668 1130 Q115.668 1137.1 117.473 1140.67 Q119.302 1144.21 122.913 1144.21 Q126.547 1144.21 128.353 1140.67 Q130.182 1137.1 130.182 1130 Q130.182 1122.87 128.353 1119.33 Q126.547 1115.76 122.913 1115.76 M122.913 1112.06 Q128.723 1112.06 131.779 1116.66 Q134.857 1121.25 134.857 1130 Q134.857 1138.72 131.779 1143.33 Q128.723 1147.91 122.913 1147.91 Q117.103 1147.91 114.024 1143.33 Q110.969 1138.72 110.969 1130 Q110.969 1121.25 114.024 1116.66 Q117.103 1112.06 122.913 1112.06 Z\" fill=\"#000000\" fill-rule=\"evenodd\" fill-opacity=\"1\" /><path clip-path=\"url(#clip190)\" d=\"M 0 0 M53.3995 827.554 L61.0384 827.554 L61.0384 801.188 L52.7282 802.855 L52.7282 798.596 L60.9921 796.929 L65.668 796.929 L65.668 827.554 L73.3068 827.554 L73.3068 831.489 L53.3995 831.489 L53.3995 827.554 Z\" fill=\"#000000\" fill-rule=\"evenodd\" fill-opacity=\"1\" /><path clip-path=\"url(#clip190)\" d=\"M 0 0 M92.7512 800.008 Q89.1401 800.008 87.3114 803.572 Q85.5058 807.114 85.5058 814.244 Q85.5058 821.35 87.3114 824.915 Q89.1401 828.457 92.7512 828.457 Q96.3854 828.457 98.1909 824.915 Q100.02 821.35 100.02 814.244 Q100.02 807.114 98.1909 803.572 Q96.3854 800.008 92.7512 800.008 M92.7512 796.304 Q98.5613 796.304 101.617 800.91 Q104.696 805.494 104.696 814.244 Q104.696 822.971 101.617 827.577 Q98.5613 832.16 92.7512 832.16 Q86.941 832.16 83.8623 827.577 Q80.8068 822.971 80.8068 814.244 Q80.8068 805.494 83.8623 800.91 Q86.941 796.304 92.7512 796.304 Z\" fill=\"#000000\" fill-rule=\"evenodd\" fill-opacity=\"1\" /><path clip-path=\"url(#clip190)\" d=\"M 0 0 M122.913 800.008 Q119.302 800.008 117.473 803.572 Q115.668 807.114 115.668 814.244 Q115.668 821.35 117.473 824.915 Q119.302 828.457 122.913 828.457 Q126.547 828.457 128.353 824.915 Q130.182 821.35 130.182 814.244 Q130.182 807.114 128.353 803.572 Q126.547 800.008 122.913 800.008 M122.913 796.304 Q128.723 796.304 131.779 800.91 Q134.857 805.494 134.857 814.244 Q134.857 822.971 131.779 827.577 Q128.723 832.16 122.913 832.16 Q117.103 832.16 114.024 827.577 Q110.969 822.971 110.969 814.244 Q110.969 805.494 114.024 800.91 Q117.103 796.304 122.913 796.304 Z\" fill=\"#000000\" fill-rule=\"evenodd\" fill-opacity=\"1\" /><path clip-path=\"url(#clip190)\" d=\"M 0 0 M53.3995 511.8 L61.0384 511.8 L61.0384 485.435 L52.7282 487.102 L52.7282 482.842 L60.9921 481.176 L65.668 481.176 L65.668 511.8 L73.3068 511.8 L73.3068 515.736 L53.3995 515.736 L53.3995 511.8 Z\" fill=\"#000000\" fill-rule=\"evenodd\" fill-opacity=\"1\" /><path clip-path=\"url(#clip190)\" d=\"M 0 0 M82.7975 481.176 L101.154 481.176 L101.154 485.111 L87.0799 485.111 L87.0799 493.583 Q88.0984 493.236 89.1169 493.074 Q90.1354 492.889 91.1539 492.889 Q96.941 492.889 100.321 496.06 Q103.7 499.231 103.7 504.648 Q103.7 510.226 100.228 513.328 Q96.7558 516.407 90.4364 516.407 Q88.2604 516.407 85.9919 516.037 Q83.7466 515.666 81.3392 514.925 L81.3392 510.226 Q83.4225 511.361 85.6447 511.916 Q87.8669 512.472 90.3438 512.472 Q94.3484 512.472 96.6863 510.365 Q99.0243 508.259 99.0243 504.648 Q99.0243 501.037 96.6863 498.93 Q94.3484 496.824 90.3438 496.824 Q88.4688 496.824 86.5938 497.24 Q84.7419 497.657 82.7975 498.537 L82.7975 481.176 Z\" fill=\"#000000\" fill-rule=\"evenodd\" fill-opacity=\"1\" /><path clip-path=\"url(#clip190)\" d=\"M 0 0 M122.913 484.254 Q119.302 484.254 117.473 487.819 Q115.668 491.361 115.668 498.49 Q115.668 505.597 117.473 509.162 Q119.302 512.703 122.913 512.703 Q126.547 512.703 128.353 509.162 Q130.182 505.597 130.182 498.49 Q130.182 491.361 128.353 487.819 Q126.547 484.254 122.913 484.254 M122.913 480.551 Q128.723 480.551 131.779 485.157 Q134.857 489.74 134.857 498.49 Q134.857 507.217 131.779 511.824 Q128.723 516.407 122.913 516.407 Q117.103 516.407 114.024 511.824 Q110.969 507.217 110.969 498.49 Q110.969 489.74 114.024 485.157 Q117.103 480.551 122.913 480.551 Z\" fill=\"#000000\" fill-rule=\"evenodd\" fill-opacity=\"1\" /><path clip-path=\"url(#clip190)\" d=\"M 0 0 M56.6171 196.047 L72.9365 196.047 L72.9365 199.982 L50.9921 199.982 L50.9921 196.047 Q53.6541 193.293 58.2375 188.663 Q62.8439 184.01 64.0245 182.668 Q66.2698 180.144 67.1494 178.408 Q68.0522 176.649 68.0522 174.959 Q68.0522 172.205 66.1078 170.469 Q64.1865 168.732 61.0847 168.732 Q58.8856 168.732 56.4319 169.496 Q54.0014 170.26 51.2236 171.811 L51.2236 167.089 Q54.0477 165.955 56.5014 165.376 Q58.955 164.797 60.9921 164.797 Q66.3624 164.797 69.5568 167.482 Q72.7513 170.168 72.7513 174.658 Q72.7513 176.788 71.9411 178.709 Q71.1541 180.607 69.0476 183.2 Q68.4689 183.871 65.367 187.089 Q62.2652 190.283 56.6171 196.047 Z\" fill=\"#000000\" fill-rule=\"evenodd\" fill-opacity=\"1\" /><path clip-path=\"url(#clip190)\" d=\"M 0 0 M92.7512 168.501 Q89.1401 168.501 87.3114 172.066 Q85.5058 175.607 85.5058 182.737 Q85.5058 189.843 87.3114 193.408 Q89.1401 196.95 92.7512 196.95 Q96.3854 196.95 98.1909 193.408 Q100.02 189.843 100.02 182.737 Q100.02 175.607 98.1909 172.066 Q96.3854 168.501 92.7512 168.501 M92.7512 164.797 Q98.5613 164.797 101.617 169.404 Q104.696 173.987 104.696 182.737 Q104.696 191.464 101.617 196.07 Q98.5613 200.654 92.7512 200.654 Q86.941 200.654 83.8623 196.07 Q80.8068 191.464 80.8068 182.737 Q80.8068 173.987 83.8623 169.404 Q86.941 164.797 92.7512 164.797 Z\" fill=\"#000000\" fill-rule=\"evenodd\" fill-opacity=\"1\" /><path clip-path=\"url(#clip190)\" d=\"M 0 0 M122.913 168.501 Q119.302 168.501 117.473 172.066 Q115.668 175.607 115.668 182.737 Q115.668 189.843 117.473 193.408 Q119.302 196.95 122.913 196.95 Q126.547 196.95 128.353 193.408 Q130.182 189.843 130.182 182.737 Q130.182 175.607 128.353 172.066 Q126.547 168.501 122.913 168.501 M122.913 164.797 Q128.723 164.797 131.779 169.404 Q134.857 173.987 134.857 182.737 Q134.857 191.464 131.779 196.07 Q128.723 200.654 122.913 200.654 Q117.103 200.654 114.024 196.07 Q110.969 191.464 110.969 182.737 Q110.969 173.987 114.024 169.404 Q117.103 164.797 122.913 164.797 Z\" fill=\"#000000\" fill-rule=\"evenodd\" fill-opacity=\"1\" /><path clip-path=\"url(#clip192)\" d=\"\n",
       "M290.866 296.373 L290.866 1445.72 L679.242 1445.72 L679.242 296.373 L290.866 296.373 L290.866 296.373  Z\n",
       "  \" fill=\"#009af9\" fill-rule=\"evenodd\" fill-opacity=\"1\"/>\n",
       "<polyline clip-path=\"url(#clip192)\" style=\"stroke:#000000; stroke-width:4; stroke-opacity:1; fill:none\" points=\"\n",
       "  290.866,296.373 290.866,1445.72 679.242,1445.72 679.242,296.373 290.866,296.373 \n",
       "  \"/>\n",
       "<path clip-path=\"url(#clip192)\" d=\"\n",
       "M679.242 220.593 L679.242 1445.72 L1067.62 1445.72 L1067.62 220.593 L679.242 220.593 L679.242 220.593  Z\n",
       "  \" fill=\"#009af9\" fill-rule=\"evenodd\" fill-opacity=\"1\"/>\n",
       "<polyline clip-path=\"url(#clip192)\" style=\"stroke:#000000; stroke-width:4; stroke-opacity:1; fill:none\" points=\"\n",
       "  679.242,220.593 679.242,1445.72 1067.62,1445.72 1067.62,220.593 679.242,220.593 \n",
       "  \"/>\n",
       "<path clip-path=\"url(#clip192)\" d=\"\n",
       "M1067.62 106.921 L1067.62 1445.72 L1455.99 1445.72 L1455.99 106.921 L1067.62 106.921 L1067.62 106.921  Z\n",
       "  \" fill=\"#009af9\" fill-rule=\"evenodd\" fill-opacity=\"1\"/>\n",
       "<polyline clip-path=\"url(#clip192)\" style=\"stroke:#000000; stroke-width:4; stroke-opacity:1; fill:none\" points=\"\n",
       "  1067.62,106.921 1067.62,1445.72 1455.99,1445.72 1455.99,106.921 1067.62,106.921 \n",
       "  \"/>\n",
       "<path clip-path=\"url(#clip192)\" d=\"\n",
       "M1455.99 87.9763 L1455.99 1445.72 L1844.37 1445.72 L1844.37 87.9763 L1455.99 87.9763 L1455.99 87.9763  Z\n",
       "  \" fill=\"#009af9\" fill-rule=\"evenodd\" fill-opacity=\"1\"/>\n",
       "<polyline clip-path=\"url(#clip192)\" style=\"stroke:#000000; stroke-width:4; stroke-opacity:1; fill:none\" points=\"\n",
       "  1455.99,87.9763 1455.99,1445.72 1844.37,1445.72 1844.37,87.9763 1455.99,87.9763 \n",
       "  \"/>\n",
       "<path clip-path=\"url(#clip192)\" d=\"\n",
       "M1844.37 201.647 L1844.37 1445.72 L2232.75 1445.72 L2232.75 201.647 L1844.37 201.647 L1844.37 201.647  Z\n",
       "  \" fill=\"#009af9\" fill-rule=\"evenodd\" fill-opacity=\"1\"/>\n",
       "<polyline clip-path=\"url(#clip192)\" style=\"stroke:#000000; stroke-width:4; stroke-opacity:1; fill:none\" points=\"\n",
       "  1844.37,201.647 1844.37,1445.72 2232.75,1445.72 2232.75,201.647 1844.37,201.647 \n",
       "  \"/>\n",
       "</svg>\n"
      ]
     },
     "execution_count": 120,
     "metadata": {},
     "output_type": "execute_result"
    }
   ],
   "source": [
    "using Plots\n",
    "a=[Y() for i in 1:1e3]\n",
    "histogram(a, bins=5, leg=false)"
   ]
  },
  {
   "cell_type": "code",
   "execution_count": 121,
   "metadata": {
    "hidden": true
   },
   "outputs": [
    {
     "data": {
      "text/plain": [
       "g (generic function with 1 method)"
      ]
     },
     "execution_count": 121,
     "metadata": {},
     "output_type": "execute_result"
    }
   ],
   "source": [
    "g(t) = t in 1:5 ? 1/5 : 0"
   ]
  },
  {
   "cell_type": "code",
   "execution_count": 122,
   "metadata": {
    "hidden": true
   },
   "outputs": [
    {
     "data": {
      "text/plain": [
       "0.31"
      ]
     },
     "execution_count": 122,
     "metadata": {},
     "output_type": "execute_result"
    }
   ],
   "source": [
    "a=maximum(f(t) for t in 1:5)"
   ]
  },
  {
   "cell_type": "code",
   "execution_count": 123,
   "metadata": {
    "hidden": true
   },
   "outputs": [
    {
     "data": {
      "text/plain": [
       "0.2"
      ]
     },
     "execution_count": 123,
     "metadata": {},
     "output_type": "execute_result"
    }
   ],
   "source": [
    "b=minimum(g(t) for t in 1:5)"
   ]
  },
  {
   "cell_type": "code",
   "execution_count": 124,
   "metadata": {
    "hidden": true
   },
   "outputs": [
    {
     "data": {
      "text/plain": [
       "1.5499999999999998"
      ]
     },
     "execution_count": 124,
     "metadata": {},
     "output_type": "execute_result"
    }
   ],
   "source": [
    "c=a/b"
   ]
  },
  {
   "cell_type": "code",
   "execution_count": 177,
   "metadata": {
    "hidden": true
   },
   "outputs": [
    {
     "data": {
      "text/plain": [
       "Z (generic function with 1 method)"
      ]
     },
     "execution_count": 177,
     "metadata": {},
     "output_type": "execute_result"
    }
   ],
   "source": [
    "Z(t,c)=begin\n",
    "    i=0\n",
    "    while true\n",
    "        i+=1\n",
    "        y=Y()\n",
    "        u=rand()\n",
    "        \n",
    "        u<=f(y)/c/g(y) ? (return [y,i]) : 0\n",
    "        #if u<=f(y)/c/g(y)\n",
    "        #    return [y,i]\n",
    "        #end\n",
    "    end\n",
    "end"
   ]
  },
  {
   "cell_type": "code",
   "execution_count": 178,
   "metadata": {
    "hidden": true
   },
   "outputs": [
    {
     "data": {
      "text/plain": [
       "V (generic function with 1 method)"
      ]
     },
     "execution_count": 178,
     "metadata": {},
     "output_type": "execute_result"
    }
   ],
   "source": [
    "V(t,c)=begin\n",
    "    i=0\n",
    "    u=rand()\n",
    "    while true\n",
    "        i+=1\n",
    "        y=Y()\n",
    "        #u<=f(y)/c/g(y) ? x : \"cos\"\n",
    "        if u<=f(y)/c/g(y)\n",
    "            return [y,i]\n",
    "        end\n",
    "    end\n",
    "end"
   ]
  },
  {
   "cell_type": "code",
   "execution_count": null,
   "metadata": {
    "hidden": true
   },
   "outputs": [],
   "source": []
  },
  {
   "cell_type": "code",
   "execution_count": 179,
   "metadata": {
    "hidden": true
   },
   "outputs": [
    {
     "data": {
      "text/plain": [
       "2-element Vector{Int64}:\n",
       " 2\n",
       " 4"
      ]
     },
     "execution_count": 179,
     "metadata": {},
     "output_type": "execute_result"
    }
   ],
   "source": [
    "Z(1,2*c)"
   ]
  },
  {
   "cell_type": "code",
   "execution_count": 180,
   "metadata": {
    "hidden": true
   },
   "outputs": [],
   "source": [
    "z=[Z(t,c) for t in rand(1:5,100000)];"
   ]
  },
  {
   "cell_type": "code",
   "execution_count": 181,
   "metadata": {
    "hidden": true
   },
   "outputs": [],
   "source": [
    "z1=[Z(t,c)[1] for t in rand(1:5,100000)];"
   ]
  },
  {
   "cell_type": "code",
   "execution_count": 182,
   "metadata": {
    "hidden": true
   },
   "outputs": [],
   "source": [
    "z2=[Z(t,c)[2] for t in rand(1:5,100000)];"
   ]
  },
  {
   "cell_type": "code",
   "execution_count": 183,
   "metadata": {
    "hidden": true
   },
   "outputs": [
    {
     "data": {
      "image/svg+xml": [
       "<?xml version=\"1.0\" encoding=\"utf-8\"?>\n",
       "<svg xmlns=\"http://www.w3.org/2000/svg\" xmlns:xlink=\"http://www.w3.org/1999/xlink\" width=\"600\" height=\"400\" viewBox=\"0 0 2400 1600\">\n",
       "<defs>\n",
       "  <clipPath id=\"clip030\">\n",
       "    <rect x=\"0\" y=\"0\" width=\"2400\" height=\"1600\"/>\n",
       "  </clipPath>\n",
       "</defs>\n",
       "<path clip-path=\"url(#clip030)\" d=\"\n",
       "M0 1600 L2400 1600 L2400 0 L0 0  Z\n",
       "  \" fill=\"#ffffff\" fill-rule=\"evenodd\" fill-opacity=\"1\"/>\n",
       "<defs>\n",
       "  <clipPath id=\"clip031\">\n",
       "    <rect x=\"480\" y=\"0\" width=\"1681\" height=\"1600\"/>\n",
       "  </clipPath>\n",
       "</defs>\n",
       "<path clip-path=\"url(#clip030)\" d=\"\n",
       "M156.112 1486.45 L2352.76 1486.45 L2352.76 47.2441 L156.112 47.2441  Z\n",
       "  \" fill=\"#ffffff\" fill-rule=\"evenodd\" fill-opacity=\"1\"/>\n",
       "<defs>\n",
       "  <clipPath id=\"clip032\">\n",
       "    <rect x=\"156\" y=\"47\" width=\"2198\" height=\"1440\"/>\n",
       "  </clipPath>\n",
       "</defs>\n",
       "<polyline clip-path=\"url(#clip032)\" style=\"stroke:#000000; stroke-width:2; stroke-opacity:0.1; fill:none\" points=\"\n",
       "  276.931,1486.45 276.931,47.2441 \n",
       "  \"/>\n",
       "<polyline clip-path=\"url(#clip032)\" style=\"stroke:#000000; stroke-width:2; stroke-opacity:0.1; fill:none\" points=\"\n",
       "  667.932,1486.45 667.932,47.2441 \n",
       "  \"/>\n",
       "<polyline clip-path=\"url(#clip032)\" style=\"stroke:#000000; stroke-width:2; stroke-opacity:0.1; fill:none\" points=\"\n",
       "  1058.93,1486.45 1058.93,47.2441 \n",
       "  \"/>\n",
       "<polyline clip-path=\"url(#clip032)\" style=\"stroke:#000000; stroke-width:2; stroke-opacity:0.1; fill:none\" points=\"\n",
       "  1449.93,1486.45 1449.93,47.2441 \n",
       "  \"/>\n",
       "<polyline clip-path=\"url(#clip032)\" style=\"stroke:#000000; stroke-width:2; stroke-opacity:0.1; fill:none\" points=\"\n",
       "  1840.94,1486.45 1840.94,47.2441 \n",
       "  \"/>\n",
       "<polyline clip-path=\"url(#clip032)\" style=\"stroke:#000000; stroke-width:2; stroke-opacity:0.1; fill:none\" points=\"\n",
       "  2231.94,1486.45 2231.94,47.2441 \n",
       "  \"/>\n",
       "<polyline clip-path=\"url(#clip030)\" style=\"stroke:#000000; stroke-width:4; stroke-opacity:1; fill:none\" points=\"\n",
       "  156.112,1486.45 2352.76,1486.45 \n",
       "  \"/>\n",
       "<polyline clip-path=\"url(#clip030)\" style=\"stroke:#000000; stroke-width:4; stroke-opacity:1; fill:none\" points=\"\n",
       "  276.931,1486.45 276.931,1469.18 \n",
       "  \"/>\n",
       "<polyline clip-path=\"url(#clip030)\" style=\"stroke:#000000; stroke-width:4; stroke-opacity:1; fill:none\" points=\"\n",
       "  667.932,1486.45 667.932,1469.18 \n",
       "  \"/>\n",
       "<polyline clip-path=\"url(#clip030)\" style=\"stroke:#000000; stroke-width:4; stroke-opacity:1; fill:none\" points=\"\n",
       "  1058.93,1486.45 1058.93,1469.18 \n",
       "  \"/>\n",
       "<polyline clip-path=\"url(#clip030)\" style=\"stroke:#000000; stroke-width:4; stroke-opacity:1; fill:none\" points=\"\n",
       "  1449.93,1486.45 1449.93,1469.18 \n",
       "  \"/>\n",
       "<polyline clip-path=\"url(#clip030)\" style=\"stroke:#000000; stroke-width:4; stroke-opacity:1; fill:none\" points=\"\n",
       "  1840.94,1486.45 1840.94,1469.18 \n",
       "  \"/>\n",
       "<polyline clip-path=\"url(#clip030)\" style=\"stroke:#000000; stroke-width:4; stroke-opacity:1; fill:none\" points=\"\n",
       "  2231.94,1486.45 2231.94,1469.18 \n",
       "  \"/>\n",
       "<path clip-path=\"url(#clip030)\" d=\"M 0 0 M267.313 1543.18 L274.952 1543.18 L274.952 1516.82 L266.642 1518.49 L266.642 1514.23 L274.906 1512.56 L279.582 1512.56 L279.582 1543.18 L287.221 1543.18 L287.221 1547.12 L267.313 1547.12 L267.313 1543.18 Z\" fill=\"#000000\" fill-rule=\"evenodd\" fill-opacity=\"1\" /><path clip-path=\"url(#clip030)\" d=\"M 0 0 M662.585 1543.18 L678.905 1543.18 L678.905 1547.12 L656.96 1547.12 L656.96 1543.18 Q659.622 1540.43 664.206 1535.8 Q668.812 1531.15 669.993 1529.81 Q672.238 1527.28 673.118 1525.55 Q674.02 1523.79 674.02 1522.1 Q674.02 1519.34 672.076 1517.61 Q670.155 1515.87 667.053 1515.87 Q664.854 1515.87 662.4 1516.63 Q659.97 1517.4 657.192 1518.95 L657.192 1514.23 Q660.016 1513.09 662.47 1512.51 Q664.923 1511.93 666.96 1511.93 Q672.331 1511.93 675.525 1514.62 Q678.719 1517.31 678.719 1521.8 Q678.719 1523.93 677.909 1525.85 Q677.122 1527.74 675.016 1530.34 Q674.437 1531.01 671.335 1534.23 Q668.233 1537.42 662.585 1543.18 Z\" fill=\"#000000\" fill-rule=\"evenodd\" fill-opacity=\"1\" /><path clip-path=\"url(#clip030)\" d=\"M 0 0 M1063.18 1528.49 Q1066.54 1529.2 1068.41 1531.47 Q1070.31 1533.74 1070.31 1537.07 Q1070.31 1542.19 1066.79 1544.99 Q1063.27 1547.79 1056.79 1547.79 Q1054.62 1547.79 1052.3 1547.35 Q1050.01 1546.93 1047.56 1546.08 L1047.56 1541.56 Q1049.5 1542.7 1051.82 1543.28 Q1054.13 1543.86 1056.65 1543.86 Q1061.05 1543.86 1063.34 1542.12 Q1065.66 1540.38 1065.66 1537.07 Q1065.66 1534.02 1063.51 1532.31 Q1061.38 1530.57 1057.56 1530.57 L1053.53 1530.57 L1053.53 1526.73 L1057.74 1526.73 Q1061.19 1526.73 1063.02 1525.36 Q1064.85 1523.97 1064.85 1521.38 Q1064.85 1518.72 1062.95 1517.31 Q1061.07 1515.87 1057.56 1515.87 Q1055.63 1515.87 1053.44 1516.29 Q1051.24 1516.7 1048.6 1517.58 L1048.6 1513.42 Q1051.26 1512.68 1053.57 1512.31 Q1055.91 1511.93 1057.97 1511.93 Q1063.3 1511.93 1066.4 1514.37 Q1069.5 1516.77 1069.5 1520.89 Q1069.5 1523.76 1067.86 1525.75 Q1066.21 1527.72 1063.18 1528.49 Z\" fill=\"#000000\" fill-rule=\"evenodd\" fill-opacity=\"1\" /><path clip-path=\"url(#clip030)\" d=\"M 0 0 M1452.94 1516.63 L1441.14 1535.08 L1452.94 1535.08 L1452.94 1516.63 M1451.72 1512.56 L1457.6 1512.56 L1457.6 1535.08 L1462.53 1535.08 L1462.53 1538.97 L1457.6 1538.97 L1457.6 1547.12 L1452.94 1547.12 L1452.94 1538.97 L1437.34 1538.97 L1437.34 1534.46 L1451.72 1512.56 Z\" fill=\"#000000\" fill-rule=\"evenodd\" fill-opacity=\"1\" /><path clip-path=\"url(#clip030)\" d=\"M 0 0 M1831.21 1512.56 L1849.57 1512.56 L1849.57 1516.5 L1835.5 1516.5 L1835.5 1524.97 Q1836.51 1524.62 1837.53 1524.46 Q1838.55 1524.27 1839.57 1524.27 Q1845.36 1524.27 1848.74 1527.44 Q1852.12 1530.62 1852.12 1536.03 Q1852.12 1541.61 1848.64 1544.71 Q1845.17 1547.79 1838.85 1547.79 Q1836.68 1547.79 1834.41 1547.42 Q1832.16 1547.05 1829.76 1546.31 L1829.76 1541.61 Q1831.84 1542.74 1834.06 1543.3 Q1836.28 1543.86 1838.76 1543.86 Q1842.76 1543.86 1845.1 1541.75 Q1847.44 1539.64 1847.44 1536.03 Q1847.44 1532.42 1845.1 1530.31 Q1842.76 1528.21 1838.76 1528.21 Q1836.88 1528.21 1835.01 1528.62 Q1833.16 1529.04 1831.21 1529.92 L1831.21 1512.56 Z\" fill=\"#000000\" fill-rule=\"evenodd\" fill-opacity=\"1\" /><path clip-path=\"url(#clip030)\" d=\"M 0 0 M2232.34 1527.98 Q2229.19 1527.98 2227.34 1530.13 Q2225.51 1532.28 2225.51 1536.03 Q2225.51 1539.76 2227.34 1541.93 Q2229.19 1544.09 2232.34 1544.09 Q2235.49 1544.09 2237.32 1541.93 Q2239.17 1539.76 2239.17 1536.03 Q2239.17 1532.28 2237.32 1530.13 Q2235.49 1527.98 2232.34 1527.98 M2241.62 1513.32 L2241.62 1517.58 Q2239.86 1516.75 2238.06 1516.31 Q2236.28 1515.87 2234.52 1515.87 Q2229.89 1515.87 2227.43 1519 Q2225 1522.12 2224.66 1528.44 Q2226.02 1526.43 2228.08 1525.36 Q2230.14 1524.27 2232.62 1524.27 Q2237.83 1524.27 2240.84 1527.44 Q2243.87 1530.59 2243.87 1536.03 Q2243.87 1541.36 2240.72 1544.57 Q2237.57 1547.79 2232.34 1547.79 Q2226.35 1547.79 2223.18 1543.21 Q2220 1538.6 2220 1529.87 Q2220 1521.68 2223.89 1516.82 Q2227.78 1511.93 2234.33 1511.93 Q2236.09 1511.93 2237.87 1512.28 Q2239.68 1512.63 2241.62 1513.32 Z\" fill=\"#000000\" fill-rule=\"evenodd\" fill-opacity=\"1\" /><polyline clip-path=\"url(#clip032)\" style=\"stroke:#000000; stroke-width:2; stroke-opacity:0.1; fill:none\" points=\"\n",
       "  156.112,1445.72 2352.76,1445.72 \n",
       "  \"/>\n",
       "<polyline clip-path=\"url(#clip032)\" style=\"stroke:#000000; stroke-width:2; stroke-opacity:0.1; fill:none\" points=\"\n",
       "  156.112,1010.75 2352.76,1010.75 \n",
       "  \"/>\n",
       "<polyline clip-path=\"url(#clip032)\" style=\"stroke:#000000; stroke-width:2; stroke-opacity:0.1; fill:none\" points=\"\n",
       "  156.112,575.788 2352.76,575.788 \n",
       "  \"/>\n",
       "<polyline clip-path=\"url(#clip032)\" style=\"stroke:#000000; stroke-width:2; stroke-opacity:0.1; fill:none\" points=\"\n",
       "  156.112,140.824 2352.76,140.824 \n",
       "  \"/>\n",
       "<polyline clip-path=\"url(#clip030)\" style=\"stroke:#000000; stroke-width:4; stroke-opacity:1; fill:none\" points=\"\n",
       "  156.112,1486.45 156.112,47.2441 \n",
       "  \"/>\n",
       "<polyline clip-path=\"url(#clip030)\" style=\"stroke:#000000; stroke-width:4; stroke-opacity:1; fill:none\" points=\"\n",
       "  156.112,1445.72 182.472,1445.72 \n",
       "  \"/>\n",
       "<polyline clip-path=\"url(#clip030)\" style=\"stroke:#000000; stroke-width:4; stroke-opacity:1; fill:none\" points=\"\n",
       "  156.112,1010.75 182.472,1010.75 \n",
       "  \"/>\n",
       "<polyline clip-path=\"url(#clip030)\" style=\"stroke:#000000; stroke-width:4; stroke-opacity:1; fill:none\" points=\"\n",
       "  156.112,575.788 182.472,575.788 \n",
       "  \"/>\n",
       "<polyline clip-path=\"url(#clip030)\" style=\"stroke:#000000; stroke-width:4; stroke-opacity:1; fill:none\" points=\"\n",
       "  156.112,140.824 182.472,140.824 \n",
       "  \"/>\n",
       "<path clip-path=\"url(#clip030)\" d=\"M 0 0 M62.9365 1431.51 Q59.3254 1431.51 57.4967 1435.08 Q55.6912 1438.62 55.6912 1445.75 Q55.6912 1452.86 57.4967 1456.42 Q59.3254 1459.96 62.9365 1459.96 Q66.5707 1459.96 68.3763 1456.42 Q70.205 1452.86 70.205 1445.75 Q70.205 1438.62 68.3763 1435.08 Q66.5707 1431.51 62.9365 1431.51 M62.9365 1427.81 Q68.7467 1427.81 71.8022 1432.42 Q74.8809 1437 74.8809 1445.75 Q74.8809 1454.48 71.8022 1459.08 Q68.7467 1463.67 62.9365 1463.67 Q57.1264 1463.67 54.0477 1459.08 Q50.9921 1454.48 50.9921 1445.75 Q50.9921 1437 54.0477 1432.42 Q57.1264 1427.81 62.9365 1427.81 Z\" fill=\"#000000\" fill-rule=\"evenodd\" fill-opacity=\"1\" /><path clip-path=\"url(#clip030)\" d=\"M 0 0 M83.0984 1457.12 L87.9827 1457.12 L87.9827 1463 L83.0984 1463 L83.0984 1457.12 Z\" fill=\"#000000\" fill-rule=\"evenodd\" fill-opacity=\"1\" /><path clip-path=\"url(#clip030)\" d=\"M 0 0 M108.168 1431.51 Q104.557 1431.51 102.728 1435.08 Q100.922 1438.62 100.922 1445.75 Q100.922 1452.86 102.728 1456.42 Q104.557 1459.96 108.168 1459.96 Q111.802 1459.96 113.608 1456.42 Q115.436 1452.86 115.436 1445.75 Q115.436 1438.62 113.608 1435.08 Q111.802 1431.51 108.168 1431.51 M108.168 1427.81 Q113.978 1427.81 117.033 1432.42 Q120.112 1437 120.112 1445.75 Q120.112 1454.48 117.033 1459.08 Q113.978 1463.67 108.168 1463.67 Q102.358 1463.67 99.2789 1459.08 Q96.2234 1454.48 96.2234 1445.75 Q96.2234 1437 99.2789 1432.42 Q102.358 1427.81 108.168 1427.81 Z\" fill=\"#000000\" fill-rule=\"evenodd\" fill-opacity=\"1\" /><path clip-path=\"url(#clip030)\" d=\"M 0 0 M64.1634 996.551 Q60.5523 996.551 58.7236 1000.12 Q56.918 1003.66 56.918 1010.79 Q56.918 1017.89 58.7236 1021.46 Q60.5523 1025 64.1634 1025 Q67.7976 1025 69.6031 1021.46 Q71.4318 1017.89 71.4318 1010.79 Q71.4318 1003.66 69.6031 1000.12 Q67.7976 996.551 64.1634 996.551 M64.1634 992.847 Q69.9735 992.847 73.029 997.453 Q76.1077 1002.04 76.1077 1010.79 Q76.1077 1019.51 73.029 1024.12 Q69.9735 1028.7 64.1634 1028.7 Q58.3532 1028.7 55.2745 1024.12 Q52.219 1019.51 52.219 1010.79 Q52.219 1002.04 55.2745 997.453 Q58.3532 992.847 64.1634 992.847 Z\" fill=\"#000000\" fill-rule=\"evenodd\" fill-opacity=\"1\" /><path clip-path=\"url(#clip030)\" d=\"M 0 0 M84.3253 1022.15 L89.2095 1022.15 L89.2095 1028.03 L84.3253 1028.03 L84.3253 1022.15 Z\" fill=\"#000000\" fill-rule=\"evenodd\" fill-opacity=\"1\" /><path clip-path=\"url(#clip030)\" d=\"M 0 0 M100.205 1024.1 L107.844 1024.1 L107.844 997.731 L99.5335 999.398 L99.5335 995.139 L107.797 993.472 L112.473 993.472 L112.473 1024.1 L120.112 1024.1 L120.112 1028.03 L100.205 1028.03 L100.205 1024.1 Z\" fill=\"#000000\" fill-rule=\"evenodd\" fill-opacity=\"1\" /><path clip-path=\"url(#clip030)\" d=\"M 0 0 M64.5337 561.587 Q60.9226 561.587 59.0939 565.152 Q57.2884 568.693 57.2884 575.823 Q57.2884 582.929 59.0939 586.494 Q60.9226 590.036 64.5337 590.036 Q68.168 590.036 69.9735 586.494 Q71.8022 582.929 71.8022 575.823 Q71.8022 568.693 69.9735 565.152 Q68.168 561.587 64.5337 561.587 M64.5337 557.883 Q70.3439 557.883 73.3994 562.49 Q76.4781 567.073 76.4781 575.823 Q76.4781 584.55 73.3994 589.156 Q70.3439 593.739 64.5337 593.739 Q58.7236 593.739 55.6449 589.156 Q52.5893 584.55 52.5893 575.823 Q52.5893 567.073 55.6449 562.49 Q58.7236 557.883 64.5337 557.883 Z\" fill=\"#000000\" fill-rule=\"evenodd\" fill-opacity=\"1\" /><path clip-path=\"url(#clip030)\" d=\"M 0 0 M84.6956 587.189 L89.5799 587.189 L89.5799 593.068 L84.6956 593.068 L84.6956 587.189 Z\" fill=\"#000000\" fill-rule=\"evenodd\" fill-opacity=\"1\" /><path clip-path=\"url(#clip030)\" d=\"M 0 0 M103.793 589.133 L120.112 589.133 L120.112 593.068 L98.1678 593.068 L98.1678 589.133 Q100.83 586.378 105.413 581.749 Q110.02 577.096 111.2 575.753 Q113.445 573.23 114.325 571.494 Q115.228 569.735 115.228 568.045 Q115.228 565.291 113.283 563.554 Q111.362 561.818 108.26 561.818 Q106.061 561.818 103.608 562.582 Q101.177 563.346 98.3993 564.897 L98.3993 560.175 Q101.223 559.041 103.677 558.462 Q106.131 557.883 108.168 557.883 Q113.538 557.883 116.733 560.568 Q119.927 563.253 119.927 567.744 Q119.927 569.874 119.117 571.795 Q118.33 573.693 116.223 576.286 Q115.645 576.957 112.543 580.175 Q109.441 583.369 103.793 589.133 Z\" fill=\"#000000\" fill-rule=\"evenodd\" fill-opacity=\"1\" /><path clip-path=\"url(#clip030)\" d=\"M 0 0 M63.5847 126.623 Q59.9736 126.623 58.1449 130.188 Q56.3393 133.73 56.3393 140.859 Q56.3393 147.966 58.1449 151.53 Q59.9736 155.072 63.5847 155.072 Q67.2189 155.072 69.0244 151.53 Q70.8531 147.966 70.8531 140.859 Q70.8531 133.73 69.0244 130.188 Q67.2189 126.623 63.5847 126.623 M63.5847 122.919 Q69.3948 122.919 72.4503 127.526 Q75.529 132.109 75.529 140.859 Q75.529 149.586 72.4503 154.192 Q69.3948 158.776 63.5847 158.776 Q57.7745 158.776 54.6958 154.192 Q51.6403 149.586 51.6403 140.859 Q51.6403 132.109 54.6958 127.526 Q57.7745 122.919 63.5847 122.919 Z\" fill=\"#000000\" fill-rule=\"evenodd\" fill-opacity=\"1\" /><path clip-path=\"url(#clip030)\" d=\"M 0 0 M83.7466 152.225 L88.6308 152.225 L88.6308 158.104 L83.7466 158.104 L83.7466 152.225 Z\" fill=\"#000000\" fill-rule=\"evenodd\" fill-opacity=\"1\" /><path clip-path=\"url(#clip030)\" d=\"M 0 0 M112.983 139.47 Q116.339 140.188 118.214 142.456 Q120.112 144.725 120.112 148.058 Q120.112 153.174 116.594 155.975 Q113.075 158.776 106.594 158.776 Q104.418 158.776 102.103 158.336 Q99.8113 157.919 97.3576 157.063 L97.3576 152.549 Q99.3021 153.683 101.617 154.262 Q103.932 154.841 106.455 154.841 Q110.853 154.841 113.145 153.104 Q115.459 151.368 115.459 148.058 Q115.459 145.003 113.307 143.29 Q111.177 141.554 107.358 141.554 L103.33 141.554 L103.33 137.711 L107.543 137.711 Q110.992 137.711 112.82 136.345 Q114.649 134.956 114.649 132.364 Q114.649 129.702 112.751 128.29 Q110.876 126.855 107.358 126.855 Q105.436 126.855 103.237 127.271 Q101.038 127.688 98.3993 128.567 L98.3993 124.401 Q101.061 123.66 103.376 123.29 Q105.714 122.919 107.774 122.919 Q113.098 122.919 116.2 125.35 Q119.302 127.757 119.302 131.878 Q119.302 134.748 117.658 136.739 Q116.015 138.706 112.983 139.47 Z\" fill=\"#000000\" fill-rule=\"evenodd\" fill-opacity=\"1\" /><path clip-path=\"url(#clip032)\" d=\"\n",
       "M276.931 972.562 L276.931 1445.72 L667.932 1445.72 L667.932 972.562 L276.931 972.562 L276.931 972.562  Z\n",
       "  \" fill=\"#009af9\" fill-rule=\"evenodd\" fill-opacity=\"1\"/>\n",
       "<polyline clip-path=\"url(#clip032)\" style=\"stroke:#000000; stroke-width:4; stroke-opacity:1; fill:none\" points=\"\n",
       "  276.931,972.562 276.931,1445.72 667.932,1445.72 667.932,972.562 276.931,972.562 \n",
       "  \"/>\n",
       "<path clip-path=\"url(#clip032)\" d=\"\n",
       "M667.932 931.806 L667.932 1445.72 L1058.93 1445.72 L1058.93 931.806 L667.932 931.806 L667.932 931.806  Z\n",
       "  \" fill=\"#009af9\" fill-rule=\"evenodd\" fill-opacity=\"1\"/>\n",
       "<polyline clip-path=\"url(#clip032)\" style=\"stroke:#000000; stroke-width:4; stroke-opacity:1; fill:none\" points=\"\n",
       "  667.932,931.806 667.932,1445.72 1058.93,1445.72 1058.93,931.806 667.932,931.806 \n",
       "  \"/>\n",
       "<path clip-path=\"url(#clip032)\" d=\"\n",
       "M1058.93 273.836 L1058.93 1445.72 L1449.93 1445.72 L1449.93 273.836 L1058.93 273.836 L1058.93 273.836  Z\n",
       "  \" fill=\"#009af9\" fill-rule=\"evenodd\" fill-opacity=\"1\"/>\n",
       "<polyline clip-path=\"url(#clip032)\" style=\"stroke:#000000; stroke-width:4; stroke-opacity:1; fill:none\" points=\"\n",
       "  1058.93,273.836 1058.93,1445.72 1449.93,1445.72 1449.93,273.836 1058.93,273.836 \n",
       "  \"/>\n",
       "<path clip-path=\"url(#clip032)\" d=\"\n",
       "M1449.93 612.76 L1449.93 1445.72 L1840.94 1445.72 L1840.94 612.76 L1449.93 612.76 L1449.93 612.76  Z\n",
       "  \" fill=\"#009af9\" fill-rule=\"evenodd\" fill-opacity=\"1\"/>\n",
       "<polyline clip-path=\"url(#clip032)\" style=\"stroke:#000000; stroke-width:4; stroke-opacity:1; fill:none\" points=\"\n",
       "  1449.93,612.76 1449.93,1445.72 1840.94,1445.72 1840.94,612.76 1449.93,612.76 \n",
       "  \"/>\n",
       "<path clip-path=\"url(#clip032)\" d=\"\n",
       "M1840.94 87.9763 L1840.94 1445.72 L2231.94 1445.72 L2231.94 87.9763 L1840.94 87.9763 L1840.94 87.9763  Z\n",
       "  \" fill=\"#009af9\" fill-rule=\"evenodd\" fill-opacity=\"1\"/>\n",
       "<polyline clip-path=\"url(#clip032)\" style=\"stroke:#000000; stroke-width:4; stroke-opacity:1; fill:none\" points=\"\n",
       "  1840.94,87.9763 1840.94,1445.72 2231.94,1445.72 2231.94,87.9763 1840.94,87.9763 \n",
       "  \"/>\n",
       "</svg>\n"
      ]
     },
     "execution_count": 183,
     "metadata": {},
     "output_type": "execute_result"
    }
   ],
   "source": [
    "histogram(z1, leg=false, bins=5, normed=true)"
   ]
  },
  {
   "cell_type": "code",
   "execution_count": 184,
   "metadata": {
    "hidden": true
   },
   "outputs": [
    {
     "data": {
      "image/svg+xml": [
       "<?xml version=\"1.0\" encoding=\"utf-8\"?>\n",
       "<svg xmlns=\"http://www.w3.org/2000/svg\" xmlns:xlink=\"http://www.w3.org/1999/xlink\" width=\"600\" height=\"400\" viewBox=\"0 0 2400 1600\">\n",
       "<defs>\n",
       "  <clipPath id=\"clip070\">\n",
       "    <rect x=\"0\" y=\"0\" width=\"2400\" height=\"1600\"/>\n",
       "  </clipPath>\n",
       "</defs>\n",
       "<path clip-path=\"url(#clip070)\" d=\"\n",
       "M0 1600 L2400 1600 L2400 0 L0 0  Z\n",
       "  \" fill=\"#ffffff\" fill-rule=\"evenodd\" fill-opacity=\"1\"/>\n",
       "<defs>\n",
       "  <clipPath id=\"clip071\">\n",
       "    <rect x=\"480\" y=\"0\" width=\"1681\" height=\"1600\"/>\n",
       "  </clipPath>\n",
       "</defs>\n",
       "<path clip-path=\"url(#clip070)\" d=\"\n",
       "M156.598 1486.45 L2352.76 1486.45 L2352.76 47.2441 L156.598 47.2441  Z\n",
       "  \" fill=\"#ffffff\" fill-rule=\"evenodd\" fill-opacity=\"1\"/>\n",
       "<defs>\n",
       "  <clipPath id=\"clip072\">\n",
       "    <rect x=\"156\" y=\"47\" width=\"2197\" height=\"1440\"/>\n",
       "  </clipPath>\n",
       "</defs>\n",
       "<polyline clip-path=\"url(#clip072)\" style=\"stroke:#000000; stroke-width:2; stroke-opacity:0.1; fill:none\" points=\"\n",
       "  543.923,1486.45 543.923,47.2441 \n",
       "  \"/>\n",
       "<polyline clip-path=\"url(#clip072)\" style=\"stroke:#000000; stroke-width:2; stroke-opacity:0.1; fill:none\" points=\"\n",
       "  988.144,1486.45 988.144,47.2441 \n",
       "  \"/>\n",
       "<polyline clip-path=\"url(#clip072)\" style=\"stroke:#000000; stroke-width:2; stroke-opacity:0.1; fill:none\" points=\"\n",
       "  1432.37,1486.45 1432.37,47.2441 \n",
       "  \"/>\n",
       "<polyline clip-path=\"url(#clip072)\" style=\"stroke:#000000; stroke-width:2; stroke-opacity:0.1; fill:none\" points=\"\n",
       "  1876.59,1486.45 1876.59,47.2441 \n",
       "  \"/>\n",
       "<polyline clip-path=\"url(#clip072)\" style=\"stroke:#000000; stroke-width:2; stroke-opacity:0.1; fill:none\" points=\"\n",
       "  2320.81,1486.45 2320.81,47.2441 \n",
       "  \"/>\n",
       "<polyline clip-path=\"url(#clip070)\" style=\"stroke:#000000; stroke-width:4; stroke-opacity:1; fill:none\" points=\"\n",
       "  156.598,1486.45 2352.76,1486.45 \n",
       "  \"/>\n",
       "<polyline clip-path=\"url(#clip070)\" style=\"stroke:#000000; stroke-width:4; stroke-opacity:1; fill:none\" points=\"\n",
       "  543.923,1486.45 543.923,1469.18 \n",
       "  \"/>\n",
       "<polyline clip-path=\"url(#clip070)\" style=\"stroke:#000000; stroke-width:4; stroke-opacity:1; fill:none\" points=\"\n",
       "  988.144,1486.45 988.144,1469.18 \n",
       "  \"/>\n",
       "<polyline clip-path=\"url(#clip070)\" style=\"stroke:#000000; stroke-width:4; stroke-opacity:1; fill:none\" points=\"\n",
       "  1432.37,1486.45 1432.37,1469.18 \n",
       "  \"/>\n",
       "<polyline clip-path=\"url(#clip070)\" style=\"stroke:#000000; stroke-width:4; stroke-opacity:1; fill:none\" points=\"\n",
       "  1876.59,1486.45 1876.59,1469.18 \n",
       "  \"/>\n",
       "<polyline clip-path=\"url(#clip070)\" style=\"stroke:#000000; stroke-width:4; stroke-opacity:1; fill:none\" points=\"\n",
       "  2320.81,1486.45 2320.81,1469.18 \n",
       "  \"/>\n",
       "<path clip-path=\"url(#clip070)\" d=\"M 0 0 M515.66 1543.18 L531.979 1543.18 L531.979 1547.12 L510.035 1547.12 L510.035 1543.18 Q512.697 1540.43 517.28 1535.8 Q521.887 1531.15 523.067 1529.81 Q525.312 1527.28 526.192 1525.55 Q527.095 1523.79 527.095 1522.1 Q527.095 1519.34 525.15 1517.61 Q523.229 1515.87 520.127 1515.87 Q517.928 1515.87 515.475 1516.63 Q513.044 1517.4 510.266 1518.95 L510.266 1514.23 Q513.09 1513.09 515.544 1512.51 Q517.998 1511.93 520.035 1511.93 Q525.405 1511.93 528.599 1514.62 Q531.794 1517.31 531.794 1521.8 Q531.794 1523.93 530.984 1525.85 Q530.197 1527.74 528.09 1530.34 Q527.511 1531.01 524.41 1534.23 Q521.308 1537.42 515.66 1543.18 Z\" fill=\"#000000\" fill-rule=\"evenodd\" fill-opacity=\"1\" /><path clip-path=\"url(#clip070)\" d=\"M 0 0 M541.794 1541.24 L546.678 1541.24 L546.678 1547.12 L541.794 1547.12 L541.794 1541.24 Z\" fill=\"#000000\" fill-rule=\"evenodd\" fill-opacity=\"1\" /><path clip-path=\"url(#clip070)\" d=\"M 0 0 M556.909 1512.56 L575.266 1512.56 L575.266 1516.5 L561.192 1516.5 L561.192 1524.97 Q562.21 1524.62 563.229 1524.46 Q564.247 1524.27 565.266 1524.27 Q571.053 1524.27 574.433 1527.44 Q577.812 1530.62 577.812 1536.03 Q577.812 1541.61 574.34 1544.71 Q570.868 1547.79 564.548 1547.79 Q562.372 1547.79 560.104 1547.42 Q557.859 1547.05 555.451 1546.31 L555.451 1541.61 Q557.534 1542.74 559.757 1543.3 Q561.979 1543.86 564.456 1543.86 Q568.46 1543.86 570.798 1541.75 Q573.136 1539.64 573.136 1536.03 Q573.136 1532.42 570.798 1530.31 Q568.46 1528.21 564.456 1528.21 Q562.581 1528.21 560.706 1528.62 Q558.854 1529.04 556.909 1529.92 L556.909 1512.56 Z\" fill=\"#000000\" fill-rule=\"evenodd\" fill-opacity=\"1\" /><path clip-path=\"url(#clip070)\" d=\"M 0 0 M955.309 1512.56 L973.665 1512.56 L973.665 1516.5 L959.591 1516.5 L959.591 1524.97 Q960.61 1524.62 961.628 1524.46 Q962.647 1524.27 963.665 1524.27 Q969.452 1524.27 972.832 1527.44 Q976.212 1530.62 976.212 1536.03 Q976.212 1541.61 972.739 1544.71 Q969.267 1547.79 962.948 1547.79 Q960.772 1547.79 958.503 1547.42 Q956.258 1547.05 953.851 1546.31 L953.851 1541.61 Q955.934 1542.74 958.156 1543.3 Q960.378 1543.86 962.855 1543.86 Q966.86 1543.86 969.198 1541.75 Q971.536 1539.64 971.536 1536.03 Q971.536 1532.42 969.198 1530.31 Q966.86 1528.21 962.855 1528.21 Q960.98 1528.21 959.105 1528.62 Q957.253 1529.04 955.309 1529.92 L955.309 1512.56 Z\" fill=\"#000000\" fill-rule=\"evenodd\" fill-opacity=\"1\" /><path clip-path=\"url(#clip070)\" d=\"M 0 0 M985.425 1541.24 L990.309 1541.24 L990.309 1547.12 L985.425 1547.12 L985.425 1541.24 Z\" fill=\"#000000\" fill-rule=\"evenodd\" fill-opacity=\"1\" /><path clip-path=\"url(#clip070)\" d=\"M 0 0 M1010.49 1515.64 Q1006.88 1515.64 1005.05 1519.2 Q1003.25 1522.75 1003.25 1529.87 Q1003.25 1536.98 1005.05 1540.55 Q1006.88 1544.09 1010.49 1544.09 Q1014.13 1544.09 1015.93 1540.55 Q1017.76 1536.98 1017.76 1529.87 Q1017.76 1522.75 1015.93 1519.2 Q1014.13 1515.64 1010.49 1515.64 M1010.49 1511.93 Q1016.3 1511.93 1019.36 1516.54 Q1022.44 1521.12 1022.44 1529.87 Q1022.44 1538.6 1019.36 1543.21 Q1016.3 1547.79 1010.49 1547.79 Q1004.68 1547.79 1001.61 1543.21 Q998.549 1538.6 998.549 1529.87 Q998.549 1521.12 1001.61 1516.54 Q1004.68 1511.93 1010.49 1511.93 Z\" fill=\"#000000\" fill-rule=\"evenodd\" fill-opacity=\"1\" /><path clip-path=\"url(#clip070)\" d=\"M 0 0 M1398.69 1512.56 L1420.91 1512.56 L1420.91 1514.55 L1408.36 1547.12 L1403.48 1547.12 L1415.28 1516.5 L1398.69 1516.5 L1398.69 1512.56 Z\" fill=\"#000000\" fill-rule=\"evenodd\" fill-opacity=\"1\" /><path clip-path=\"url(#clip070)\" d=\"M 0 0 M1430.03 1541.24 L1434.91 1541.24 L1434.91 1547.12 L1430.03 1547.12 L1430.03 1541.24 Z\" fill=\"#000000\" fill-rule=\"evenodd\" fill-opacity=\"1\" /><path clip-path=\"url(#clip070)\" d=\"M 0 0 M1445.14 1512.56 L1463.5 1512.56 L1463.5 1516.5 L1449.43 1516.5 L1449.43 1524.97 Q1450.44 1524.62 1451.46 1524.46 Q1452.48 1524.27 1453.5 1524.27 Q1459.29 1524.27 1462.67 1527.44 Q1466.05 1530.62 1466.05 1536.03 Q1466.05 1541.61 1462.57 1544.71 Q1459.1 1547.79 1452.78 1547.79 Q1450.61 1547.79 1448.34 1547.42 Q1446.09 1547.05 1443.68 1546.31 L1443.68 1541.61 Q1445.77 1542.74 1447.99 1543.3 Q1450.21 1543.86 1452.69 1543.86 Q1456.69 1543.86 1459.03 1541.75 Q1461.37 1539.64 1461.37 1536.03 Q1461.37 1532.42 1459.03 1530.31 Q1456.69 1528.21 1452.69 1528.21 Q1450.81 1528.21 1448.94 1528.62 Q1447.09 1529.04 1445.14 1529.92 L1445.14 1512.56 Z\" fill=\"#000000\" fill-rule=\"evenodd\" fill-opacity=\"1\" /><path clip-path=\"url(#clip070)\" d=\"M 0 0 M1828.66 1543.18 L1836.3 1543.18 L1836.3 1516.82 L1827.99 1518.49 L1827.99 1514.23 L1836.25 1512.56 L1840.93 1512.56 L1840.93 1543.18 L1848.57 1543.18 L1848.57 1547.12 L1828.66 1547.12 L1828.66 1543.18 Z\" fill=\"#000000\" fill-rule=\"evenodd\" fill-opacity=\"1\" /><path clip-path=\"url(#clip070)\" d=\"M 0 0 M1868.01 1515.64 Q1864.4 1515.64 1862.57 1519.2 Q1860.76 1522.75 1860.76 1529.87 Q1860.76 1536.98 1862.57 1540.55 Q1864.4 1544.09 1868.01 1544.09 Q1871.64 1544.09 1873.45 1540.55 Q1875.28 1536.98 1875.28 1529.87 Q1875.28 1522.75 1873.45 1519.2 Q1871.64 1515.64 1868.01 1515.64 M1868.01 1511.93 Q1873.82 1511.93 1876.88 1516.54 Q1879.95 1521.12 1879.95 1529.87 Q1879.95 1538.6 1876.88 1543.21 Q1873.82 1547.79 1868.01 1547.79 Q1862.2 1547.79 1859.12 1543.21 Q1856.07 1538.6 1856.07 1529.87 Q1856.07 1521.12 1859.12 1516.54 Q1862.2 1511.93 1868.01 1511.93 Z\" fill=\"#000000\" fill-rule=\"evenodd\" fill-opacity=\"1\" /><path clip-path=\"url(#clip070)\" d=\"M 0 0 M1888.17 1541.24 L1893.06 1541.24 L1893.06 1547.12 L1888.17 1547.12 L1888.17 1541.24 Z\" fill=\"#000000\" fill-rule=\"evenodd\" fill-opacity=\"1\" /><path clip-path=\"url(#clip070)\" d=\"M 0 0 M1913.24 1515.64 Q1909.63 1515.64 1907.8 1519.2 Q1906 1522.75 1906 1529.87 Q1906 1536.98 1907.8 1540.55 Q1909.63 1544.09 1913.24 1544.09 Q1916.88 1544.09 1918.68 1540.55 Q1920.51 1536.98 1920.51 1529.87 Q1920.51 1522.75 1918.68 1519.2 Q1916.88 1515.64 1913.24 1515.64 M1913.24 1511.93 Q1919.05 1511.93 1922.11 1516.54 Q1925.19 1521.12 1925.19 1529.87 Q1925.19 1538.6 1922.11 1543.21 Q1919.05 1547.79 1913.24 1547.79 Q1907.43 1547.79 1904.35 1543.21 Q1901.3 1538.6 1901.3 1529.87 Q1901.3 1521.12 1904.35 1516.54 Q1907.43 1511.93 1913.24 1511.93 Z\" fill=\"#000000\" fill-rule=\"evenodd\" fill-opacity=\"1\" /><path clip-path=\"url(#clip070)\" d=\"M 0 0 M2273.38 1543.18 L2281.02 1543.18 L2281.02 1516.82 L2272.71 1518.49 L2272.71 1514.23 L2280.97 1512.56 L2285.65 1512.56 L2285.65 1543.18 L2293.28 1543.18 L2293.28 1547.12 L2273.38 1547.12 L2273.38 1543.18 Z\" fill=\"#000000\" fill-rule=\"evenodd\" fill-opacity=\"1\" /><path clip-path=\"url(#clip070)\" d=\"M 0 0 M2306.76 1543.18 L2323.08 1543.18 L2323.08 1547.12 L2301.13 1547.12 L2301.13 1543.18 Q2303.79 1540.43 2308.38 1535.8 Q2312.98 1531.15 2314.16 1529.81 Q2316.41 1527.28 2317.29 1525.55 Q2318.19 1523.79 2318.19 1522.1 Q2318.19 1519.34 2316.25 1517.61 Q2314.33 1515.87 2311.22 1515.87 Q2309.03 1515.87 2306.57 1516.63 Q2304.14 1517.4 2301.36 1518.95 L2301.36 1514.23 Q2304.19 1513.09 2306.64 1512.51 Q2309.09 1511.93 2311.13 1511.93 Q2316.5 1511.93 2319.7 1514.62 Q2322.89 1517.31 2322.89 1521.8 Q2322.89 1523.93 2322.08 1525.85 Q2321.29 1527.74 2319.19 1530.34 Q2318.61 1531.01 2315.51 1534.23 Q2312.4 1537.42 2306.76 1543.18 Z\" fill=\"#000000\" fill-rule=\"evenodd\" fill-opacity=\"1\" /><path clip-path=\"url(#clip070)\" d=\"M 0 0 M2332.89 1541.24 L2337.78 1541.24 L2337.78 1547.12 L2332.89 1547.12 L2332.89 1541.24 Z\" fill=\"#000000\" fill-rule=\"evenodd\" fill-opacity=\"1\" /><path clip-path=\"url(#clip070)\" d=\"M 0 0 M2348.01 1512.56 L2366.36 1512.56 L2366.36 1516.5 L2352.29 1516.5 L2352.29 1524.97 Q2353.31 1524.62 2354.33 1524.46 Q2355.34 1524.27 2356.36 1524.27 Q2362.15 1524.27 2365.53 1527.44 Q2368.91 1530.62 2368.91 1536.03 Q2368.91 1541.61 2365.44 1544.71 Q2361.96 1547.79 2355.65 1547.79 Q2353.47 1547.79 2351.2 1547.42 Q2348.96 1547.05 2346.55 1546.31 L2346.55 1541.61 Q2348.63 1542.74 2350.85 1543.3 Q2353.08 1543.86 2355.55 1543.86 Q2359.56 1543.86 2361.9 1541.75 Q2364.23 1539.64 2364.23 1536.03 Q2364.23 1532.42 2361.9 1530.31 Q2359.56 1528.21 2355.55 1528.21 Q2353.68 1528.21 2351.8 1528.62 Q2349.95 1529.04 2348.01 1529.92 L2348.01 1512.56 Z\" fill=\"#000000\" fill-rule=\"evenodd\" fill-opacity=\"1\" /><polyline clip-path=\"url(#clip072)\" style=\"stroke:#000000; stroke-width:2; stroke-opacity:0.1; fill:none\" points=\"\n",
       "  156.598,1445.72 2352.76,1445.72 \n",
       "  \"/>\n",
       "<polyline clip-path=\"url(#clip072)\" style=\"stroke:#000000; stroke-width:2; stroke-opacity:0.1; fill:none\" points=\"\n",
       "  156.598,1235.79 2352.76,1235.79 \n",
       "  \"/>\n",
       "<polyline clip-path=\"url(#clip072)\" style=\"stroke:#000000; stroke-width:2; stroke-opacity:0.1; fill:none\" points=\"\n",
       "  156.598,1025.86 2352.76,1025.86 \n",
       "  \"/>\n",
       "<polyline clip-path=\"url(#clip072)\" style=\"stroke:#000000; stroke-width:2; stroke-opacity:0.1; fill:none\" points=\"\n",
       "  156.598,815.934 2352.76,815.934 \n",
       "  \"/>\n",
       "<polyline clip-path=\"url(#clip072)\" style=\"stroke:#000000; stroke-width:2; stroke-opacity:0.1; fill:none\" points=\"\n",
       "  156.598,606.006 2352.76,606.006 \n",
       "  \"/>\n",
       "<polyline clip-path=\"url(#clip072)\" style=\"stroke:#000000; stroke-width:2; stroke-opacity:0.1; fill:none\" points=\"\n",
       "  156.598,396.079 2352.76,396.079 \n",
       "  \"/>\n",
       "<polyline clip-path=\"url(#clip072)\" style=\"stroke:#000000; stroke-width:2; stroke-opacity:0.1; fill:none\" points=\"\n",
       "  156.598,186.152 2352.76,186.152 \n",
       "  \"/>\n",
       "<polyline clip-path=\"url(#clip070)\" style=\"stroke:#000000; stroke-width:4; stroke-opacity:1; fill:none\" points=\"\n",
       "  156.598,1486.45 156.598,47.2441 \n",
       "  \"/>\n",
       "<polyline clip-path=\"url(#clip070)\" style=\"stroke:#000000; stroke-width:4; stroke-opacity:1; fill:none\" points=\"\n",
       "  156.598,1445.72 182.952,1445.72 \n",
       "  \"/>\n",
       "<polyline clip-path=\"url(#clip070)\" style=\"stroke:#000000; stroke-width:4; stroke-opacity:1; fill:none\" points=\"\n",
       "  156.598,1235.79 182.952,1235.79 \n",
       "  \"/>\n",
       "<polyline clip-path=\"url(#clip070)\" style=\"stroke:#000000; stroke-width:4; stroke-opacity:1; fill:none\" points=\"\n",
       "  156.598,1025.86 182.952,1025.86 \n",
       "  \"/>\n",
       "<polyline clip-path=\"url(#clip070)\" style=\"stroke:#000000; stroke-width:4; stroke-opacity:1; fill:none\" points=\"\n",
       "  156.598,815.934 182.952,815.934 \n",
       "  \"/>\n",
       "<polyline clip-path=\"url(#clip070)\" style=\"stroke:#000000; stroke-width:4; stroke-opacity:1; fill:none\" points=\"\n",
       "  156.598,606.006 182.952,606.006 \n",
       "  \"/>\n",
       "<polyline clip-path=\"url(#clip070)\" style=\"stroke:#000000; stroke-width:4; stroke-opacity:1; fill:none\" points=\"\n",
       "  156.598,396.079 182.952,396.079 \n",
       "  \"/>\n",
       "<polyline clip-path=\"url(#clip070)\" style=\"stroke:#000000; stroke-width:4; stroke-opacity:1; fill:none\" points=\"\n",
       "  156.598,186.152 182.952,186.152 \n",
       "  \"/>\n",
       "<path clip-path=\"url(#clip070)\" d=\"M 0 0 M63.4226 1431.51 Q59.8115 1431.51 57.9828 1435.08 Q56.1773 1438.62 56.1773 1445.75 Q56.1773 1452.86 57.9828 1456.42 Q59.8115 1459.96 63.4226 1459.96 Q67.0569 1459.96 68.8624 1456.42 Q70.6911 1452.86 70.6911 1445.75 Q70.6911 1438.62 68.8624 1435.08 Q67.0569 1431.51 63.4226 1431.51 M63.4226 1427.81 Q69.2328 1427.81 72.2883 1432.42 Q75.367 1437 75.367 1445.75 Q75.367 1454.48 72.2883 1459.08 Q69.2328 1463.67 63.4226 1463.67 Q57.6125 1463.67 54.5338 1459.08 Q51.4782 1454.48 51.4782 1445.75 Q51.4782 1437 54.5338 1432.42 Q57.6125 1427.81 63.4226 1427.81 Z\" fill=\"#000000\" fill-rule=\"evenodd\" fill-opacity=\"1\" /><path clip-path=\"url(#clip070)\" d=\"M 0 0 M83.5845 1457.12 L88.4688 1457.12 L88.4688 1463 L83.5845 1463 L83.5845 1457.12 Z\" fill=\"#000000\" fill-rule=\"evenodd\" fill-opacity=\"1\" /><path clip-path=\"url(#clip070)\" d=\"M 0 0 M108.654 1431.51 Q105.043 1431.51 103.214 1435.08 Q101.409 1438.62 101.409 1445.75 Q101.409 1452.86 103.214 1456.42 Q105.043 1459.96 108.654 1459.96 Q112.288 1459.96 114.094 1456.42 Q115.922 1452.86 115.922 1445.75 Q115.922 1438.62 114.094 1435.08 Q112.288 1431.51 108.654 1431.51 M108.654 1427.81 Q114.464 1427.81 117.52 1432.42 Q120.598 1437 120.598 1445.75 Q120.598 1454.48 117.52 1459.08 Q114.464 1463.67 108.654 1463.67 Q102.844 1463.67 99.765 1459.08 Q96.7095 1454.48 96.7095 1445.75 Q96.7095 1437 99.765 1432.42 Q102.844 1427.81 108.654 1427.81 Z\" fill=\"#000000\" fill-rule=\"evenodd\" fill-opacity=\"1\" /><path clip-path=\"url(#clip070)\" d=\"M 0 0 M64.6495 1221.59 Q61.0384 1221.59 59.2097 1225.15 Q57.4041 1228.69 57.4041 1235.82 Q57.4041 1242.93 59.2097 1246.49 Q61.0384 1250.04 64.6495 1250.04 Q68.2837 1250.04 70.0892 1246.49 Q71.9179 1242.93 71.9179 1235.82 Q71.9179 1228.69 70.0892 1225.15 Q68.2837 1221.59 64.6495 1221.59 M64.6495 1217.88 Q70.4596 1217.88 73.5152 1222.49 Q76.5938 1227.07 76.5938 1235.82 Q76.5938 1244.55 73.5152 1249.16 Q70.4596 1253.74 64.6495 1253.74 Q58.8393 1253.74 55.7606 1249.16 Q52.7051 1244.55 52.7051 1235.82 Q52.7051 1227.07 55.7606 1222.49 Q58.8393 1217.88 64.6495 1217.88 Z\" fill=\"#000000\" fill-rule=\"evenodd\" fill-opacity=\"1\" /><path clip-path=\"url(#clip070)\" d=\"M 0 0 M84.8114 1247.19 L89.6956 1247.19 L89.6956 1253.07 L84.8114 1253.07 L84.8114 1247.19 Z\" fill=\"#000000\" fill-rule=\"evenodd\" fill-opacity=\"1\" /><path clip-path=\"url(#clip070)\" d=\"M 0 0 M100.691 1249.13 L108.33 1249.13 L108.33 1222.77 L100.02 1224.43 L100.02 1220.18 L108.283 1218.51 L112.959 1218.51 L112.959 1249.13 L120.598 1249.13 L120.598 1253.07 L100.691 1253.07 L100.691 1249.13 Z\" fill=\"#000000\" fill-rule=\"evenodd\" fill-opacity=\"1\" /><path clip-path=\"url(#clip070)\" d=\"M 0 0 M65.0198 1011.66 Q61.4087 1011.66 59.58 1015.22 Q57.7745 1018.77 57.7745 1025.9 Q57.7745 1033 59.58 1036.57 Q61.4087 1040.11 65.0198 1040.11 Q68.6541 1040.11 70.4596 1036.57 Q72.2883 1033 72.2883 1025.9 Q72.2883 1018.77 70.4596 1015.22 Q68.6541 1011.66 65.0198 1011.66 M65.0198 1007.96 Q70.83 1007.96 73.8855 1012.56 Q76.9642 1017.15 76.9642 1025.9 Q76.9642 1034.62 73.8855 1039.23 Q70.83 1043.81 65.0198 1043.81 Q59.2097 1043.81 56.131 1039.23 Q53.0754 1034.62 53.0754 1025.9 Q53.0754 1017.15 56.131 1012.56 Q59.2097 1007.96 65.0198 1007.96 Z\" fill=\"#000000\" fill-rule=\"evenodd\" fill-opacity=\"1\" /><path clip-path=\"url(#clip070)\" d=\"M 0 0 M85.1818 1037.26 L90.066 1037.26 L90.066 1043.14 L85.1818 1043.14 L85.1818 1037.26 Z\" fill=\"#000000\" fill-rule=\"evenodd\" fill-opacity=\"1\" /><path clip-path=\"url(#clip070)\" d=\"M 0 0 M104.279 1039.21 L120.598 1039.21 L120.598 1043.14 L98.6539 1043.14 L98.6539 1039.21 Q101.316 1036.45 105.899 1031.82 Q110.506 1027.17 111.686 1025.83 Q113.932 1023.3 114.811 1021.57 Q115.714 1019.81 115.714 1018.12 Q115.714 1015.36 113.77 1013.63 Q111.848 1011.89 108.746 1011.89 Q106.547 1011.89 104.094 1012.66 Q101.663 1013.42 98.8854 1014.97 L98.8854 1010.25 Q101.709 1009.11 104.163 1008.53 Q106.617 1007.96 108.654 1007.96 Q114.024 1007.96 117.219 1010.64 Q120.413 1013.33 120.413 1017.82 Q120.413 1019.95 119.603 1021.87 Q118.816 1023.77 116.709 1026.36 Q116.131 1027.03 113.029 1030.25 Q109.927 1033.44 104.279 1039.21 Z\" fill=\"#000000\" fill-rule=\"evenodd\" fill-opacity=\"1\" /><path clip-path=\"url(#clip070)\" d=\"M 0 0 M64.0708 801.732 Q60.4597 801.732 58.631 805.297 Q56.8254 808.839 56.8254 815.968 Q56.8254 823.075 58.631 826.64 Q60.4597 830.181 64.0708 830.181 Q67.705 830.181 69.5105 826.64 Q71.3392 823.075 71.3392 815.968 Q71.3392 808.839 69.5105 805.297 Q67.705 801.732 64.0708 801.732 M64.0708 798.029 Q69.8809 798.029 72.9365 802.635 Q76.0151 807.219 76.0151 815.968 Q76.0151 824.695 72.9365 829.302 Q69.8809 833.885 64.0708 833.885 Q58.2606 833.885 55.1819 829.302 Q52.1264 824.695 52.1264 815.968 Q52.1264 807.219 55.1819 802.635 Q58.2606 798.029 64.0708 798.029 Z\" fill=\"#000000\" fill-rule=\"evenodd\" fill-opacity=\"1\" /><path clip-path=\"url(#clip070)\" d=\"M 0 0 M84.2327 827.334 L89.1169 827.334 L89.1169 833.214 L84.2327 833.214 L84.2327 827.334 Z\" fill=\"#000000\" fill-rule=\"evenodd\" fill-opacity=\"1\" /><path clip-path=\"url(#clip070)\" d=\"M 0 0 M113.469 814.58 Q116.825 815.297 118.7 817.566 Q120.598 819.834 120.598 823.168 Q120.598 828.283 117.08 831.084 Q113.561 833.885 107.08 833.885 Q104.904 833.885 102.589 833.445 Q100.297 833.029 97.8437 832.172 L97.8437 827.658 Q99.7882 828.793 102.103 829.371 Q104.418 829.95 106.941 829.95 Q111.339 829.95 113.631 828.214 Q115.945 826.478 115.945 823.168 Q115.945 820.112 113.793 818.399 Q111.663 816.663 107.844 816.663 L103.816 816.663 L103.816 812.82 L108.029 812.82 Q111.478 812.82 113.307 811.455 Q115.135 810.066 115.135 807.473 Q115.135 804.811 113.237 803.399 Q111.362 801.964 107.844 801.964 Q105.922 801.964 103.723 802.381 Q101.524 802.797 98.8854 803.677 L98.8854 799.51 Q101.547 798.77 103.862 798.399 Q106.2 798.029 108.26 798.029 Q113.584 798.029 116.686 800.459 Q119.788 802.867 119.788 806.987 Q119.788 809.857 118.145 811.848 Q116.501 813.816 113.469 814.58 Z\" fill=\"#000000\" fill-rule=\"evenodd\" fill-opacity=\"1\" /><path clip-path=\"url(#clip070)\" d=\"M 0 0 M62.9365 591.805 Q59.3254 591.805 57.4967 595.37 Q55.6912 598.912 55.6912 606.041 Q55.6912 613.148 57.4967 616.712 Q59.3254 620.254 62.9365 620.254 Q66.5707 620.254 68.3763 616.712 Q70.205 613.148 70.205 606.041 Q70.205 598.912 68.3763 595.37 Q66.5707 591.805 62.9365 591.805 M62.9365 588.101 Q68.7467 588.101 71.8022 592.708 Q74.8809 597.291 74.8809 606.041 Q74.8809 614.768 71.8022 619.374 Q68.7467 623.958 62.9365 623.958 Q57.1264 623.958 54.0477 619.374 Q50.9921 614.768 50.9921 606.041 Q50.9921 597.291 54.0477 592.708 Q57.1264 588.101 62.9365 588.101 Z\" fill=\"#000000\" fill-rule=\"evenodd\" fill-opacity=\"1\" /><path clip-path=\"url(#clip070)\" d=\"M 0 0 M83.0984 617.407 L87.9827 617.407 L87.9827 623.286 L83.0984 623.286 L83.0984 617.407 Z\" fill=\"#000000\" fill-rule=\"evenodd\" fill-opacity=\"1\" /><path clip-path=\"url(#clip070)\" d=\"M 0 0 M111.015 592.801 L99.2095 611.249 L111.015 611.249 L111.015 592.801 M109.788 588.726 L115.668 588.726 L115.668 611.249 L120.598 611.249 L120.598 615.138 L115.668 615.138 L115.668 623.286 L111.015 623.286 L111.015 615.138 L95.4132 615.138 L95.4132 610.625 L109.788 588.726 Z\" fill=\"#000000\" fill-rule=\"evenodd\" fill-opacity=\"1\" /><path clip-path=\"url(#clip070)\" d=\"M 0 0 M64.418 381.878 Q60.8069 381.878 58.9782 385.443 Q57.1726 388.984 57.1726 396.114 Q57.1726 403.22 58.9782 406.785 Q60.8069 410.327 64.418 410.327 Q68.0522 410.327 69.8578 406.785 Q71.6865 403.22 71.6865 396.114 Q71.6865 388.984 69.8578 385.443 Q68.0522 381.878 64.418 381.878 M64.418 378.174 Q70.2281 378.174 73.2837 382.781 Q76.3624 387.364 76.3624 396.114 Q76.3624 404.841 73.2837 409.447 Q70.2281 414.03 64.418 414.03 Q58.6078 414.03 55.5291 409.447 Q52.4736 404.841 52.4736 396.114 Q52.4736 387.364 55.5291 382.781 Q58.6078 378.174 64.418 378.174 Z\" fill=\"#000000\" fill-rule=\"evenodd\" fill-opacity=\"1\" /><path clip-path=\"url(#clip070)\" d=\"M 0 0 M84.5799 407.48 L89.4641 407.48 L89.4641 413.359 L84.5799 413.359 L84.5799 407.48 Z\" fill=\"#000000\" fill-rule=\"evenodd\" fill-opacity=\"1\" /><path clip-path=\"url(#clip070)\" d=\"M 0 0 M99.6956 378.799 L118.052 378.799 L118.052 382.734 L103.978 382.734 L103.978 391.207 Q104.996 390.859 106.015 390.697 Q107.033 390.512 108.052 390.512 Q113.839 390.512 117.219 393.683 Q120.598 396.855 120.598 402.271 Q120.598 407.85 117.126 410.952 Q113.654 414.03 107.334 414.03 Q105.159 414.03 102.89 413.66 Q100.645 413.29 98.2372 412.549 L98.2372 407.85 Q100.321 408.984 102.543 409.54 Q104.765 410.095 107.242 410.095 Q111.246 410.095 113.584 407.989 Q115.922 405.882 115.922 402.271 Q115.922 398.66 113.584 396.554 Q111.246 394.447 107.242 394.447 Q105.367 394.447 103.492 394.864 Q101.64 395.281 99.6956 396.16 L99.6956 378.799 Z\" fill=\"#000000\" fill-rule=\"evenodd\" fill-opacity=\"1\" /><path clip-path=\"url(#clip070)\" d=\"M 0 0 M63.2606 171.951 Q59.6495 171.951 57.8208 175.515 Q56.0152 179.057 56.0152 186.187 Q56.0152 193.293 57.8208 196.858 Q59.6495 200.399 63.2606 200.399 Q66.8948 200.399 68.7004 196.858 Q70.5291 193.293 70.5291 186.187 Q70.5291 179.057 68.7004 175.515 Q66.8948 171.951 63.2606 171.951 M63.2606 168.247 Q69.0707 168.247 72.1263 172.853 Q75.205 177.437 75.205 186.187 Q75.205 194.913 72.1263 199.52 Q69.0707 204.103 63.2606 204.103 Q57.4504 204.103 54.3717 199.52 Q51.3162 194.913 51.3162 186.187 Q51.3162 177.437 54.3717 172.853 Q57.4504 168.247 63.2606 168.247 Z\" fill=\"#000000\" fill-rule=\"evenodd\" fill-opacity=\"1\" /><path clip-path=\"url(#clip070)\" d=\"M 0 0 M83.4225 197.552 L88.3067 197.552 L88.3067 203.432 L83.4225 203.432 L83.4225 197.552 Z\" fill=\"#000000\" fill-rule=\"evenodd\" fill-opacity=\"1\" /><path clip-path=\"url(#clip070)\" d=\"M 0 0 M109.071 184.288 Q105.922 184.288 104.071 186.441 Q102.242 188.594 102.242 192.344 Q102.242 196.071 104.071 198.247 Q105.922 200.399 109.071 200.399 Q112.219 200.399 114.047 198.247 Q115.899 196.071 115.899 192.344 Q115.899 188.594 114.047 186.441 Q112.219 184.288 109.071 184.288 M118.353 169.636 L118.353 173.895 Q116.594 173.062 114.788 172.622 Q113.006 172.182 111.246 172.182 Q106.617 172.182 104.163 175.307 Q101.733 178.432 101.385 184.751 Q102.751 182.738 104.811 181.673 Q106.871 180.585 109.348 180.585 Q114.557 180.585 117.566 183.756 Q120.598 186.904 120.598 192.344 Q120.598 197.668 117.45 200.886 Q114.302 204.103 109.071 204.103 Q103.075 204.103 99.9039 199.52 Q96.7326 194.913 96.7326 186.187 Q96.7326 177.992 100.621 173.131 Q104.51 168.247 111.061 168.247 Q112.82 168.247 114.603 168.594 Q116.408 168.941 118.353 169.636 Z\" fill=\"#000000\" fill-rule=\"evenodd\" fill-opacity=\"1\" /><path clip-path=\"url(#clip072)\" d=\"\n",
       "M277.391 87.9763 L277.391 1445.72 L455.079 1445.72 L455.079 87.9763 L277.391 87.9763 L277.391 87.9763  Z\n",
       "  \" fill=\"#009af9\" fill-rule=\"evenodd\" fill-opacity=\"1\"/>\n",
       "<polyline clip-path=\"url(#clip072)\" style=\"stroke:#000000; stroke-width:4; stroke-opacity:1; fill:none\" points=\"\n",
       "  277.391,87.9763 277.391,1445.72 455.079,1445.72 455.079,87.9763 277.391,87.9763 \n",
       "  \"/>\n",
       "<path clip-path=\"url(#clip072)\" d=\"\n",
       "M455.079 968.966 L455.079 1445.72 L632.768 1445.72 L632.768 968.966 L455.079 968.966 L455.079 968.966  Z\n",
       "  \" fill=\"#009af9\" fill-rule=\"evenodd\" fill-opacity=\"1\"/>\n",
       "<polyline clip-path=\"url(#clip072)\" style=\"stroke:#000000; stroke-width:4; stroke-opacity:1; fill:none\" points=\"\n",
       "  455.079,968.966 455.079,1445.72 632.768,1445.72 632.768,968.966 455.079,968.966 \n",
       "  \"/>\n",
       "<path clip-path=\"url(#clip072)\" d=\"\n",
       "M632.768 1276.07 L632.768 1445.72 L810.456 1445.72 L810.456 1276.07 L632.768 1276.07 L632.768 1276.07  Z\n",
       "  \" fill=\"#009af9\" fill-rule=\"evenodd\" fill-opacity=\"1\"/>\n",
       "<polyline clip-path=\"url(#clip072)\" style=\"stroke:#000000; stroke-width:4; stroke-opacity:1; fill:none\" points=\"\n",
       "  632.768,1276.07 632.768,1445.72 810.456,1445.72 810.456,1276.07 632.768,1276.07 \n",
       "  \"/>\n",
       "<path clip-path=\"url(#clip072)\" d=\"\n",
       "M810.456 1384.02 L810.456 1445.72 L988.144 1445.72 L988.144 1384.02 L810.456 1384.02 L810.456 1384.02  Z\n",
       "  \" fill=\"#009af9\" fill-rule=\"evenodd\" fill-opacity=\"1\"/>\n",
       "<polyline clip-path=\"url(#clip072)\" style=\"stroke:#000000; stroke-width:4; stroke-opacity:1; fill:none\" points=\"\n",
       "  810.456,1384.02 810.456,1445.72 988.144,1445.72 988.144,1384.02 810.456,1384.02 \n",
       "  \"/>\n",
       "<path clip-path=\"url(#clip072)\" d=\"\n",
       "M988.144 1424.81 L988.144 1445.72 L1165.83 1445.72 L1165.83 1424.81 L988.144 1424.81 L988.144 1424.81  Z\n",
       "  \" fill=\"#009af9\" fill-rule=\"evenodd\" fill-opacity=\"1\"/>\n",
       "<polyline clip-path=\"url(#clip072)\" style=\"stroke:#000000; stroke-width:4; stroke-opacity:1; fill:none\" points=\"\n",
       "  988.144,1424.81 988.144,1445.72 1165.83,1445.72 1165.83,1424.81 988.144,1424.81 \n",
       "  \"/>\n",
       "<path clip-path=\"url(#clip072)\" d=\"\n",
       "M1165.83 1437.74 L1165.83 1445.72 L1343.52 1445.72 L1343.52 1437.74 L1165.83 1437.74 L1165.83 1437.74  Z\n",
       "  \" fill=\"#009af9\" fill-rule=\"evenodd\" fill-opacity=\"1\"/>\n",
       "<polyline clip-path=\"url(#clip072)\" style=\"stroke:#000000; stroke-width:4; stroke-opacity:1; fill:none\" points=\"\n",
       "  1165.83,1437.74 1165.83,1445.72 1343.52,1445.72 1343.52,1437.74 1165.83,1437.74 \n",
       "  \"/>\n",
       "<path clip-path=\"url(#clip072)\" d=\"\n",
       "M1343.52 1442.59 L1343.52 1445.72 L1521.21 1445.72 L1521.21 1442.59 L1343.52 1442.59 L1343.52 1442.59  Z\n",
       "  \" fill=\"#009af9\" fill-rule=\"evenodd\" fill-opacity=\"1\"/>\n",
       "<polyline clip-path=\"url(#clip072)\" style=\"stroke:#000000; stroke-width:4; stroke-opacity:1; fill:none\" points=\"\n",
       "  1343.52,1442.59 1343.52,1445.72 1521.21,1445.72 1521.21,1442.59 1343.52,1442.59 \n",
       "  \"/>\n",
       "<path clip-path=\"url(#clip072)\" d=\"\n",
       "M1521.21 1444.71 L1521.21 1445.72 L1698.9 1445.72 L1698.9 1444.71 L1521.21 1444.71 L1521.21 1444.71  Z\n",
       "  \" fill=\"#009af9\" fill-rule=\"evenodd\" fill-opacity=\"1\"/>\n",
       "<polyline clip-path=\"url(#clip072)\" style=\"stroke:#000000; stroke-width:4; stroke-opacity:1; fill:none\" points=\"\n",
       "  1521.21,1444.71 1521.21,1445.72 1698.9,1445.72 1698.9,1444.71 1521.21,1444.71 \n",
       "  \"/>\n",
       "<path clip-path=\"url(#clip072)\" d=\"\n",
       "M1698.9 1445.36 L1698.9 1445.72 L1876.59 1445.72 L1876.59 1445.36 L1698.9 1445.36 L1698.9 1445.36  Z\n",
       "  \" fill=\"#009af9\" fill-rule=\"evenodd\" fill-opacity=\"1\"/>\n",
       "<polyline clip-path=\"url(#clip072)\" style=\"stroke:#000000; stroke-width:4; stroke-opacity:1; fill:none\" points=\"\n",
       "  1698.9,1445.36 1698.9,1445.72 1876.59,1445.72 1876.59,1445.36 1698.9,1445.36 \n",
       "  \"/>\n",
       "<path clip-path=\"url(#clip072)\" d=\"\n",
       "M1876.59 1445.65 L1876.59 1445.72 L2054.27 1445.72 L2054.27 1445.65 L1876.59 1445.65 L1876.59 1445.65  Z\n",
       "  \" fill=\"#009af9\" fill-rule=\"evenodd\" fill-opacity=\"1\"/>\n",
       "<polyline clip-path=\"url(#clip072)\" style=\"stroke:#000000; stroke-width:4; stroke-opacity:1; fill:none\" points=\"\n",
       "  1876.59,1445.65 1876.59,1445.72 2054.27,1445.72 2054.27,1445.65 1876.59,1445.65 \n",
       "  \"/>\n",
       "<path clip-path=\"url(#clip072)\" d=\"\n",
       "M2054.27 1445.72 L2054.27 1445.72 L2231.96 1445.72 L2231.96 1445.72 L2054.27 1445.72 L2054.27 1445.72  Z\n",
       "  \" fill=\"#009af9\" fill-rule=\"evenodd\" fill-opacity=\"1\"/>\n",
       "<polyline clip-path=\"url(#clip072)\" style=\"stroke:#000000; stroke-width:4; stroke-opacity:1; fill:none\" points=\"\n",
       "  2054.27,1445.72 2054.27,1445.72 2231.96,1445.72 2054.27,1445.72 \n",
       "  \"/>\n",
       "</svg>\n"
      ]
     },
     "execution_count": 184,
     "metadata": {},
     "output_type": "execute_result"
    }
   ],
   "source": [
    "histogram(z2,leg=false,normed=true, bins=[i for i in 1:12])"
   ]
  },
  {
   "cell_type": "code",
   "execution_count": 185,
   "metadata": {
    "hidden": true
   },
   "outputs": [
    {
     "data": {
      "text/plain": [
       "12"
      ]
     },
     "execution_count": 185,
     "metadata": {},
     "output_type": "execute_result"
    }
   ],
   "source": [
    "maximum(z2)"
   ]
  },
  {
   "cell_type": "code",
   "execution_count": 186,
   "metadata": {
    "hidden": true
   },
   "outputs": [],
   "source": [
    "v=[V(t,c)[1] for t in rand(1:5,100000)];"
   ]
  },
  {
   "cell_type": "code",
   "execution_count": 187,
   "metadata": {
    "hidden": true
   },
   "outputs": [
    {
     "data": {
      "image/svg+xml": [
       "<?xml version=\"1.0\" encoding=\"utf-8\"?>\n",
       "<svg xmlns=\"http://www.w3.org/2000/svg\" xmlns:xlink=\"http://www.w3.org/1999/xlink\" width=\"600\" height=\"400\" viewBox=\"0 0 2400 1600\">\n",
       "<defs>\n",
       "  <clipPath id=\"clip110\">\n",
       "    <rect x=\"0\" y=\"0\" width=\"2400\" height=\"1600\"/>\n",
       "  </clipPath>\n",
       "</defs>\n",
       "<path clip-path=\"url(#clip110)\" d=\"\n",
       "M0 1600 L2400 1600 L2400 0 L0 0  Z\n",
       "  \" fill=\"#ffffff\" fill-rule=\"evenodd\" fill-opacity=\"1\"/>\n",
       "<defs>\n",
       "  <clipPath id=\"clip111\">\n",
       "    <rect x=\"480\" y=\"0\" width=\"1681\" height=\"1600\"/>\n",
       "  </clipPath>\n",
       "</defs>\n",
       "<path clip-path=\"url(#clip110)\" d=\"\n",
       "M156.598 1486.45 L2352.76 1486.45 L2352.76 47.2441 L156.598 47.2441  Z\n",
       "  \" fill=\"#ffffff\" fill-rule=\"evenodd\" fill-opacity=\"1\"/>\n",
       "<defs>\n",
       "  <clipPath id=\"clip112\">\n",
       "    <rect x=\"156\" y=\"47\" width=\"2197\" height=\"1440\"/>\n",
       "  </clipPath>\n",
       "</defs>\n",
       "<polyline clip-path=\"url(#clip112)\" style=\"stroke:#000000; stroke-width:2; stroke-opacity:0.1; fill:none\" points=\"\n",
       "  277.391,1486.45 277.391,47.2441 \n",
       "  \"/>\n",
       "<polyline clip-path=\"url(#clip112)\" style=\"stroke:#000000; stroke-width:2; stroke-opacity:0.1; fill:none\" points=\"\n",
       "  668.305,1486.45 668.305,47.2441 \n",
       "  \"/>\n",
       "<polyline clip-path=\"url(#clip112)\" style=\"stroke:#000000; stroke-width:2; stroke-opacity:0.1; fill:none\" points=\"\n",
       "  1059.22,1486.45 1059.22,47.2441 \n",
       "  \"/>\n",
       "<polyline clip-path=\"url(#clip112)\" style=\"stroke:#000000; stroke-width:2; stroke-opacity:0.1; fill:none\" points=\"\n",
       "  1450.13,1486.45 1450.13,47.2441 \n",
       "  \"/>\n",
       "<polyline clip-path=\"url(#clip112)\" style=\"stroke:#000000; stroke-width:2; stroke-opacity:0.1; fill:none\" points=\"\n",
       "  1841.05,1486.45 1841.05,47.2441 \n",
       "  \"/>\n",
       "<polyline clip-path=\"url(#clip112)\" style=\"stroke:#000000; stroke-width:2; stroke-opacity:0.1; fill:none\" points=\"\n",
       "  2231.96,1486.45 2231.96,47.2441 \n",
       "  \"/>\n",
       "<polyline clip-path=\"url(#clip110)\" style=\"stroke:#000000; stroke-width:4; stroke-opacity:1; fill:none\" points=\"\n",
       "  156.598,1486.45 2352.76,1486.45 \n",
       "  \"/>\n",
       "<polyline clip-path=\"url(#clip110)\" style=\"stroke:#000000; stroke-width:4; stroke-opacity:1; fill:none\" points=\"\n",
       "  277.391,1486.45 277.391,1469.18 \n",
       "  \"/>\n",
       "<polyline clip-path=\"url(#clip110)\" style=\"stroke:#000000; stroke-width:4; stroke-opacity:1; fill:none\" points=\"\n",
       "  668.305,1486.45 668.305,1469.18 \n",
       "  \"/>\n",
       "<polyline clip-path=\"url(#clip110)\" style=\"stroke:#000000; stroke-width:4; stroke-opacity:1; fill:none\" points=\"\n",
       "  1059.22,1486.45 1059.22,1469.18 \n",
       "  \"/>\n",
       "<polyline clip-path=\"url(#clip110)\" style=\"stroke:#000000; stroke-width:4; stroke-opacity:1; fill:none\" points=\"\n",
       "  1450.13,1486.45 1450.13,1469.18 \n",
       "  \"/>\n",
       "<polyline clip-path=\"url(#clip110)\" style=\"stroke:#000000; stroke-width:4; stroke-opacity:1; fill:none\" points=\"\n",
       "  1841.05,1486.45 1841.05,1469.18 \n",
       "  \"/>\n",
       "<polyline clip-path=\"url(#clip110)\" style=\"stroke:#000000; stroke-width:4; stroke-opacity:1; fill:none\" points=\"\n",
       "  2231.96,1486.45 2231.96,1469.18 \n",
       "  \"/>\n",
       "<path clip-path=\"url(#clip110)\" d=\"M 0 0 M267.773 1543.18 L275.412 1543.18 L275.412 1516.82 L267.102 1518.49 L267.102 1514.23 L275.365 1512.56 L280.041 1512.56 L280.041 1543.18 L287.68 1543.18 L287.68 1547.12 L267.773 1547.12 L267.773 1543.18 Z\" fill=\"#000000\" fill-rule=\"evenodd\" fill-opacity=\"1\" /><path clip-path=\"url(#clip110)\" d=\"M 0 0 M662.958 1543.18 L679.277 1543.18 L679.277 1547.12 L657.333 1547.12 L657.333 1543.18 Q659.995 1540.43 664.578 1535.8 Q669.185 1531.15 670.365 1529.81 Q672.611 1527.28 673.49 1525.55 Q674.393 1523.79 674.393 1522.1 Q674.393 1519.34 672.449 1517.61 Q670.528 1515.87 667.426 1515.87 Q665.227 1515.87 662.773 1516.63 Q660.342 1517.4 657.565 1518.95 L657.565 1514.23 Q660.389 1513.09 662.842 1512.51 Q665.296 1511.93 667.333 1511.93 Q672.703 1511.93 675.898 1514.62 Q679.092 1517.31 679.092 1521.8 Q679.092 1523.93 678.282 1525.85 Q677.495 1527.74 675.389 1530.34 Q674.81 1531.01 671.708 1534.23 Q668.606 1537.42 662.958 1543.18 Z\" fill=\"#000000\" fill-rule=\"evenodd\" fill-opacity=\"1\" /><path clip-path=\"url(#clip110)\" d=\"M 0 0 M1063.47 1528.49 Q1066.82 1529.2 1068.7 1531.47 Q1070.6 1533.74 1070.6 1537.07 Q1070.6 1542.19 1067.08 1544.99 Q1063.56 1547.79 1057.08 1547.79 Q1054.9 1547.79 1052.59 1547.35 Q1050.3 1546.93 1047.84 1546.08 L1047.84 1541.56 Q1049.79 1542.7 1052.1 1543.28 Q1054.42 1543.86 1056.94 1543.86 Q1061.34 1543.86 1063.63 1542.12 Q1065.94 1540.38 1065.94 1537.07 Q1065.94 1534.02 1063.79 1532.31 Q1061.66 1530.57 1057.84 1530.57 L1053.81 1530.57 L1053.81 1526.73 L1058.03 1526.73 Q1061.48 1526.73 1063.31 1525.36 Q1065.13 1523.97 1065.13 1521.38 Q1065.13 1518.72 1063.24 1517.31 Q1061.36 1515.87 1057.84 1515.87 Q1055.92 1515.87 1053.72 1516.29 Q1051.52 1516.7 1048.88 1517.58 L1048.88 1513.42 Q1051.55 1512.68 1053.86 1512.31 Q1056.2 1511.93 1058.26 1511.93 Q1063.58 1511.93 1066.69 1514.37 Q1069.79 1516.77 1069.79 1520.89 Q1069.79 1523.76 1068.14 1525.75 Q1066.5 1527.72 1063.47 1528.49 Z\" fill=\"#000000\" fill-rule=\"evenodd\" fill-opacity=\"1\" /><path clip-path=\"url(#clip110)\" d=\"M 0 0 M1453.14 1516.63 L1441.34 1535.08 L1453.14 1535.08 L1453.14 1516.63 M1451.92 1512.56 L1457.8 1512.56 L1457.8 1535.08 L1462.73 1535.08 L1462.73 1538.97 L1457.8 1538.97 L1457.8 1547.12 L1453.14 1547.12 L1453.14 1538.97 L1437.54 1538.97 L1437.54 1534.46 L1451.92 1512.56 Z\" fill=\"#000000\" fill-rule=\"evenodd\" fill-opacity=\"1\" /><path clip-path=\"url(#clip110)\" d=\"M 0 0 M1831.33 1512.56 L1849.68 1512.56 L1849.68 1516.5 L1835.61 1516.5 L1835.61 1524.97 Q1836.63 1524.62 1837.65 1524.46 Q1838.66 1524.27 1839.68 1524.27 Q1845.47 1524.27 1848.85 1527.44 Q1852.23 1530.62 1852.23 1536.03 Q1852.23 1541.61 1848.76 1544.71 Q1845.28 1547.79 1838.97 1547.79 Q1836.79 1547.79 1834.52 1547.42 Q1832.28 1547.05 1829.87 1546.31 L1829.87 1541.61 Q1831.95 1542.74 1834.17 1543.3 Q1836.4 1543.86 1838.87 1543.86 Q1842.88 1543.86 1845.22 1541.75 Q1847.55 1539.64 1847.55 1536.03 Q1847.55 1532.42 1845.22 1530.31 Q1842.88 1528.21 1838.87 1528.21 Q1837 1528.21 1835.12 1528.62 Q1833.27 1529.04 1831.33 1529.92 L1831.33 1512.56 Z\" fill=\"#000000\" fill-rule=\"evenodd\" fill-opacity=\"1\" /><path clip-path=\"url(#clip110)\" d=\"M 0 0 M2232.37 1527.98 Q2229.22 1527.98 2227.37 1530.13 Q2225.54 1532.28 2225.54 1536.03 Q2225.54 1539.76 2227.37 1541.93 Q2229.22 1544.09 2232.37 1544.09 Q2235.52 1544.09 2237.35 1541.93 Q2239.2 1539.76 2239.2 1536.03 Q2239.2 1532.28 2237.35 1530.13 Q2235.52 1527.98 2232.37 1527.98 M2241.65 1513.32 L2241.65 1517.58 Q2239.89 1516.75 2238.09 1516.31 Q2236.3 1515.87 2234.54 1515.87 Q2229.91 1515.87 2227.46 1519 Q2225.03 1522.12 2224.68 1528.44 Q2226.05 1526.43 2228.11 1525.36 Q2230.17 1524.27 2232.65 1524.27 Q2237.85 1524.27 2240.86 1527.44 Q2243.9 1530.59 2243.9 1536.03 Q2243.9 1541.36 2240.75 1544.57 Q2237.6 1547.79 2232.37 1547.79 Q2226.37 1547.79 2223.2 1543.21 Q2220.03 1538.6 2220.03 1529.87 Q2220.03 1521.68 2223.92 1516.82 Q2227.81 1511.93 2234.36 1511.93 Q2236.12 1511.93 2237.9 1512.28 Q2239.71 1512.63 2241.65 1513.32 Z\" fill=\"#000000\" fill-rule=\"evenodd\" fill-opacity=\"1\" /><polyline clip-path=\"url(#clip112)\" style=\"stroke:#000000; stroke-width:2; stroke-opacity:0.1; fill:none\" points=\"\n",
       "  156.598,1445.72 2352.76,1445.72 \n",
       "  \"/>\n",
       "<polyline clip-path=\"url(#clip112)\" style=\"stroke:#000000; stroke-width:2; stroke-opacity:0.1; fill:none\" points=\"\n",
       "  156.598,1116.14 2352.76,1116.14 \n",
       "  \"/>\n",
       "<polyline clip-path=\"url(#clip112)\" style=\"stroke:#000000; stroke-width:2; stroke-opacity:0.1; fill:none\" points=\"\n",
       "  156.598,786.571 2352.76,786.571 \n",
       "  \"/>\n",
       "<polyline clip-path=\"url(#clip112)\" style=\"stroke:#000000; stroke-width:2; stroke-opacity:0.1; fill:none\" points=\"\n",
       "  156.598,456.998 2352.76,456.998 \n",
       "  \"/>\n",
       "<polyline clip-path=\"url(#clip112)\" style=\"stroke:#000000; stroke-width:2; stroke-opacity:0.1; fill:none\" points=\"\n",
       "  156.598,127.426 2352.76,127.426 \n",
       "  \"/>\n",
       "<polyline clip-path=\"url(#clip110)\" style=\"stroke:#000000; stroke-width:4; stroke-opacity:1; fill:none\" points=\"\n",
       "  156.598,1486.45 156.598,47.2441 \n",
       "  \"/>\n",
       "<polyline clip-path=\"url(#clip110)\" style=\"stroke:#000000; stroke-width:4; stroke-opacity:1; fill:none\" points=\"\n",
       "  156.598,1445.72 182.952,1445.72 \n",
       "  \"/>\n",
       "<polyline clip-path=\"url(#clip110)\" style=\"stroke:#000000; stroke-width:4; stroke-opacity:1; fill:none\" points=\"\n",
       "  156.598,1116.14 182.952,1116.14 \n",
       "  \"/>\n",
       "<polyline clip-path=\"url(#clip110)\" style=\"stroke:#000000; stroke-width:4; stroke-opacity:1; fill:none\" points=\"\n",
       "  156.598,786.571 182.952,786.571 \n",
       "  \"/>\n",
       "<polyline clip-path=\"url(#clip110)\" style=\"stroke:#000000; stroke-width:4; stroke-opacity:1; fill:none\" points=\"\n",
       "  156.598,456.998 182.952,456.998 \n",
       "  \"/>\n",
       "<polyline clip-path=\"url(#clip110)\" style=\"stroke:#000000; stroke-width:4; stroke-opacity:1; fill:none\" points=\"\n",
       "  156.598,127.426 182.952,127.426 \n",
       "  \"/>\n",
       "<path clip-path=\"url(#clip110)\" d=\"M 0 0 M63.4226 1431.51 Q59.8115 1431.51 57.9828 1435.08 Q56.1773 1438.62 56.1773 1445.75 Q56.1773 1452.86 57.9828 1456.42 Q59.8115 1459.96 63.4226 1459.96 Q67.0569 1459.96 68.8624 1456.42 Q70.6911 1452.86 70.6911 1445.75 Q70.6911 1438.62 68.8624 1435.08 Q67.0569 1431.51 63.4226 1431.51 M63.4226 1427.81 Q69.2328 1427.81 72.2883 1432.42 Q75.367 1437 75.367 1445.75 Q75.367 1454.48 72.2883 1459.08 Q69.2328 1463.67 63.4226 1463.67 Q57.6125 1463.67 54.5338 1459.08 Q51.4782 1454.48 51.4782 1445.75 Q51.4782 1437 54.5338 1432.42 Q57.6125 1427.81 63.4226 1427.81 Z\" fill=\"#000000\" fill-rule=\"evenodd\" fill-opacity=\"1\" /><path clip-path=\"url(#clip110)\" d=\"M 0 0 M83.5845 1457.12 L88.4688 1457.12 L88.4688 1463 L83.5845 1463 L83.5845 1457.12 Z\" fill=\"#000000\" fill-rule=\"evenodd\" fill-opacity=\"1\" /><path clip-path=\"url(#clip110)\" d=\"M 0 0 M108.654 1431.51 Q105.043 1431.51 103.214 1435.08 Q101.409 1438.62 101.409 1445.75 Q101.409 1452.86 103.214 1456.42 Q105.043 1459.96 108.654 1459.96 Q112.288 1459.96 114.094 1456.42 Q115.922 1452.86 115.922 1445.75 Q115.922 1438.62 114.094 1435.08 Q112.288 1431.51 108.654 1431.51 M108.654 1427.81 Q114.464 1427.81 117.52 1432.42 Q120.598 1437 120.598 1445.75 Q120.598 1454.48 117.52 1459.08 Q114.464 1463.67 108.654 1463.67 Q102.844 1463.67 99.765 1459.08 Q96.7095 1454.48 96.7095 1445.75 Q96.7095 1437 99.765 1432.42 Q102.844 1427.81 108.654 1427.81 Z\" fill=\"#000000\" fill-rule=\"evenodd\" fill-opacity=\"1\" /><path clip-path=\"url(#clip110)\" d=\"M 0 0 M64.6495 1101.94 Q61.0384 1101.94 59.2097 1105.51 Q57.4041 1109.05 57.4041 1116.18 Q57.4041 1123.28 59.2097 1126.85 Q61.0384 1130.39 64.6495 1130.39 Q68.2837 1130.39 70.0892 1126.85 Q71.9179 1123.28 71.9179 1116.18 Q71.9179 1109.05 70.0892 1105.51 Q68.2837 1101.94 64.6495 1101.94 M64.6495 1098.24 Q70.4596 1098.24 73.5152 1102.84 Q76.5938 1107.43 76.5938 1116.18 Q76.5938 1124.9 73.5152 1129.51 Q70.4596 1134.09 64.6495 1134.09 Q58.8393 1134.09 55.7606 1129.51 Q52.7051 1124.9 52.7051 1116.18 Q52.7051 1107.43 55.7606 1102.84 Q58.8393 1098.24 64.6495 1098.24 Z\" fill=\"#000000\" fill-rule=\"evenodd\" fill-opacity=\"1\" /><path clip-path=\"url(#clip110)\" d=\"M 0 0 M84.8114 1127.54 L89.6956 1127.54 L89.6956 1133.42 L84.8114 1133.42 L84.8114 1127.54 Z\" fill=\"#000000\" fill-rule=\"evenodd\" fill-opacity=\"1\" /><path clip-path=\"url(#clip110)\" d=\"M 0 0 M100.691 1129.49 L108.33 1129.49 L108.33 1103.12 L100.02 1104.79 L100.02 1100.53 L108.283 1098.86 L112.959 1098.86 L112.959 1129.49 L120.598 1129.49 L120.598 1133.42 L100.691 1133.42 L100.691 1129.49 Z\" fill=\"#000000\" fill-rule=\"evenodd\" fill-opacity=\"1\" /><path clip-path=\"url(#clip110)\" d=\"M 0 0 M65.0198 772.37 Q61.4087 772.37 59.58 775.934 Q57.7745 779.476 57.7745 786.606 Q57.7745 793.712 59.58 797.277 Q61.4087 800.819 65.0198 800.819 Q68.6541 800.819 70.4596 797.277 Q72.2883 793.712 72.2883 786.606 Q72.2883 779.476 70.4596 775.934 Q68.6541 772.37 65.0198 772.37 M65.0198 768.666 Q70.83 768.666 73.8855 773.272 Q76.9642 777.856 76.9642 786.606 Q76.9642 795.332 73.8855 799.939 Q70.83 804.522 65.0198 804.522 Q59.2097 804.522 56.131 799.939 Q53.0754 795.332 53.0754 786.606 Q53.0754 777.856 56.131 773.272 Q59.2097 768.666 65.0198 768.666 Z\" fill=\"#000000\" fill-rule=\"evenodd\" fill-opacity=\"1\" /><path clip-path=\"url(#clip110)\" d=\"M 0 0 M85.1818 797.971 L90.066 797.971 L90.066 803.851 L85.1818 803.851 L85.1818 797.971 Z\" fill=\"#000000\" fill-rule=\"evenodd\" fill-opacity=\"1\" /><path clip-path=\"url(#clip110)\" d=\"M 0 0 M104.279 799.916 L120.598 799.916 L120.598 803.851 L98.6539 803.851 L98.6539 799.916 Q101.316 797.161 105.899 792.532 Q110.506 787.879 111.686 786.536 Q113.932 784.013 114.811 782.277 Q115.714 780.518 115.714 778.828 Q115.714 776.073 113.77 774.337 Q111.848 772.601 108.746 772.601 Q106.547 772.601 104.094 773.365 Q101.663 774.129 98.8854 775.68 L98.8854 770.958 Q101.709 769.823 104.163 769.245 Q106.617 768.666 108.654 768.666 Q114.024 768.666 117.219 771.351 Q120.413 774.036 120.413 778.527 Q120.413 780.657 119.603 782.578 Q118.816 784.476 116.709 787.069 Q116.131 787.74 113.029 790.957 Q109.927 794.152 104.279 799.916 Z\" fill=\"#000000\" fill-rule=\"evenodd\" fill-opacity=\"1\" /><path clip-path=\"url(#clip110)\" d=\"M 0 0 M64.0708 442.797 Q60.4597 442.797 58.631 446.362 Q56.8254 449.904 56.8254 457.033 Q56.8254 464.14 58.631 467.704 Q60.4597 471.246 64.0708 471.246 Q67.705 471.246 69.5105 467.704 Q71.3392 464.14 71.3392 457.033 Q71.3392 449.904 69.5105 446.362 Q67.705 442.797 64.0708 442.797 M64.0708 439.093 Q69.8809 439.093 72.9365 443.7 Q76.0151 448.283 76.0151 457.033 Q76.0151 465.76 72.9365 470.366 Q69.8809 474.95 64.0708 474.95 Q58.2606 474.95 55.1819 470.366 Q52.1264 465.76 52.1264 457.033 Q52.1264 448.283 55.1819 443.7 Q58.2606 439.093 64.0708 439.093 Z\" fill=\"#000000\" fill-rule=\"evenodd\" fill-opacity=\"1\" /><path clip-path=\"url(#clip110)\" d=\"M 0 0 M84.2327 468.399 L89.1169 468.399 L89.1169 474.278 L84.2327 474.278 L84.2327 468.399 Z\" fill=\"#000000\" fill-rule=\"evenodd\" fill-opacity=\"1\" /><path clip-path=\"url(#clip110)\" d=\"M 0 0 M113.469 455.644 Q116.825 456.362 118.7 458.63 Q120.598 460.899 120.598 464.232 Q120.598 469.348 117.08 472.149 Q113.561 474.95 107.08 474.95 Q104.904 474.95 102.589 474.51 Q100.297 474.093 97.8437 473.237 L97.8437 468.723 Q99.7882 469.857 102.103 470.436 Q104.418 471.015 106.941 471.015 Q111.339 471.015 113.631 469.279 Q115.945 467.542 115.945 464.232 Q115.945 461.177 113.793 459.464 Q111.663 457.728 107.844 457.728 L103.816 457.728 L103.816 453.885 L108.029 453.885 Q111.478 453.885 113.307 452.519 Q115.135 451.13 115.135 448.538 Q115.135 445.876 113.237 444.464 Q111.362 443.029 107.844 443.029 Q105.922 443.029 103.723 443.445 Q101.524 443.862 98.8854 444.742 L98.8854 440.575 Q101.547 439.834 103.862 439.464 Q106.2 439.093 108.26 439.093 Q113.584 439.093 116.686 441.524 Q119.788 443.931 119.788 448.052 Q119.788 450.922 118.145 452.913 Q116.501 454.88 113.469 455.644 Z\" fill=\"#000000\" fill-rule=\"evenodd\" fill-opacity=\"1\" /><path clip-path=\"url(#clip110)\" d=\"M 0 0 M62.9365 113.225 Q59.3254 113.225 57.4967 116.79 Q55.6912 120.331 55.6912 127.461 Q55.6912 134.567 57.4967 138.132 Q59.3254 141.674 62.9365 141.674 Q66.5707 141.674 68.3763 138.132 Q70.205 134.567 70.205 127.461 Q70.205 120.331 68.3763 116.79 Q66.5707 113.225 62.9365 113.225 M62.9365 109.521 Q68.7467 109.521 71.8022 114.128 Q74.8809 118.711 74.8809 127.461 Q74.8809 136.188 71.8022 140.794 Q68.7467 145.377 62.9365 145.377 Q57.1264 145.377 54.0477 140.794 Q50.9921 136.188 50.9921 127.461 Q50.9921 118.711 54.0477 114.128 Q57.1264 109.521 62.9365 109.521 Z\" fill=\"#000000\" fill-rule=\"evenodd\" fill-opacity=\"1\" /><path clip-path=\"url(#clip110)\" d=\"M 0 0 M83.0984 138.826 L87.9827 138.826 L87.9827 144.706 L83.0984 144.706 L83.0984 138.826 Z\" fill=\"#000000\" fill-rule=\"evenodd\" fill-opacity=\"1\" /><path clip-path=\"url(#clip110)\" d=\"M 0 0 M111.015 114.22 L99.2095 132.669 L111.015 132.669 L111.015 114.22 M109.788 110.146 L115.668 110.146 L115.668 132.669 L120.598 132.669 L120.598 136.558 L115.668 136.558 L115.668 144.706 L111.015 144.706 L111.015 136.558 L95.4132 136.558 L95.4132 132.044 L109.788 110.146 Z\" fill=\"#000000\" fill-rule=\"evenodd\" fill-opacity=\"1\" /><path clip-path=\"url(#clip112)\" d=\"\n",
       "M277.391 1211.69 L277.391 1445.72 L668.305 1445.72 L668.305 1211.69 L277.391 1211.69 L277.391 1211.69  Z\n",
       "  \" fill=\"#009af9\" fill-rule=\"evenodd\" fill-opacity=\"1\"/>\n",
       "<polyline clip-path=\"url(#clip112)\" style=\"stroke:#000000; stroke-width:4; stroke-opacity:1; fill:none\" points=\"\n",
       "  277.391,1211.69 277.391,1445.72 668.305,1445.72 668.305,1211.69 277.391,1211.69 \n",
       "  \"/>\n",
       "<path clip-path=\"url(#clip112)\" d=\"\n",
       "M668.305 1190.86 L668.305 1445.72 L1059.22 1445.72 L1059.22 1190.86 L668.305 1190.86 L668.305 1190.86  Z\n",
       "  \" fill=\"#009af9\" fill-rule=\"evenodd\" fill-opacity=\"1\"/>\n",
       "<polyline clip-path=\"url(#clip112)\" style=\"stroke:#000000; stroke-width:4; stroke-opacity:1; fill:none\" points=\"\n",
       "  668.305,1190.86 668.305,1445.72 1059.22,1445.72 1059.22,1190.86 668.305,1190.86 \n",
       "  \"/>\n",
       "<path clip-path=\"url(#clip112)\" d=\"\n",
       "M1059.22 506.138 L1059.22 1445.72 L1450.13 1445.72 L1450.13 506.138 L1059.22 506.138 L1059.22 506.138  Z\n",
       "  \" fill=\"#009af9\" fill-rule=\"evenodd\" fill-opacity=\"1\"/>\n",
       "<polyline clip-path=\"url(#clip112)\" style=\"stroke:#000000; stroke-width:4; stroke-opacity:1; fill:none\" points=\"\n",
       "  1059.22,506.138 1059.22,1445.72 1450.13,1445.72 1450.13,506.138 1059.22,506.138 \n",
       "  \"/>\n",
       "<path clip-path=\"url(#clip112)\" d=\"\n",
       "M1450.13 936.197 L1450.13 1445.72 L1841.05 1445.72 L1841.05 936.197 L1450.13 936.197 L1450.13 936.197  Z\n",
       "  \" fill=\"#009af9\" fill-rule=\"evenodd\" fill-opacity=\"1\"/>\n",
       "<polyline clip-path=\"url(#clip112)\" style=\"stroke:#000000; stroke-width:4; stroke-opacity:1; fill:none\" points=\"\n",
       "  1450.13,936.197 1450.13,1445.72 1841.05,1445.72 1841.05,936.197 1450.13,936.197 \n",
       "  \"/>\n",
       "<path clip-path=\"url(#clip112)\" d=\"\n",
       "M1841.05 87.9763 L1841.05 1445.72 L2231.96 1445.72 L2231.96 87.9763 L1841.05 87.9763 L1841.05 87.9763  Z\n",
       "  \" fill=\"#009af9\" fill-rule=\"evenodd\" fill-opacity=\"1\"/>\n",
       "<polyline clip-path=\"url(#clip112)\" style=\"stroke:#000000; stroke-width:4; stroke-opacity:1; fill:none\" points=\"\n",
       "  1841.05,87.9763 1841.05,1445.72 2231.96,1445.72 2231.96,87.9763 1841.05,87.9763 \n",
       "  \"/>\n",
       "</svg>\n"
      ]
     },
     "execution_count": 187,
     "metadata": {},
     "output_type": "execute_result"
    }
   ],
   "source": [
    "histogram(v, leg=false, bins=5, normed=true)"
   ]
  },
  {
   "cell_type": "markdown",
   "metadata": {
    "heading_collapsed": true
   },
   "source": [
    "## Ciągły"
   ]
  },
  {
   "cell_type": "markdown",
   "metadata": {
    "hidden": true
   },
   "source": [
    "$$ f(x;\\alpha,\\lambda) = \\lambda^\\alpha\\frac{1}{\\Gamma(\\alpha)} x^{\\alpha-1} e^{-\\lambda x} $$"
   ]
  },
  {
   "cell_type": "markdown",
   "metadata": {
    "hidden": true
   },
   "source": [
    "$\\alpha=3$ \n",
    "\n",
    "$\\lambda=\\frac{1}{2}$"
   ]
  },
  {
   "cell_type": "markdown",
   "metadata": {
    "hidden": true
   },
   "source": [
    "\n",
    "$$g(x;\\beta)=\\beta e^{-\\beta x}$$"
   ]
  },
  {
   "cell_type": "markdown",
   "metadata": {
    "hidden": true
   },
   "source": [
    "$\\beta = \\dfrac{\\lambda}{\\alpha} = \\dfrac{1}{6}$"
   ]
  },
  {
   "cell_type": "markdown",
   "metadata": {
    "hidden": true
   },
   "source": [
    "$$c=\\sup\\dfrac{f(x)}{g(x)}=\\dfrac{6}{2^3\\cdot2!}\\sup\\dfrac{x^2 e^{-\\frac{1}{2}x}}{e^{-\\frac{1}{6}x}}=\\dfrac{6}{16}\\sup x^2e^{-\\frac{1}{3}x}=\\frac{6}{16}\\cdot 6 = \\frac{9}{4}$$"
   ]
  },
  {
   "cell_type": "markdown",
   "metadata": {
    "hidden": true
   },
   "source": [
    "$$F_Y(x) = 1 - e^{-\\lambda x}$$"
   ]
  },
  {
   "cell_type": "markdown",
   "metadata": {
    "hidden": true
   },
   "source": [
    "$$ F^{-1}_Y(t) = -\\frac{1}{\\lambda} \\ln(x) $$"
   ]
  },
  {
   "cell_type": "code",
   "execution_count": 40,
   "metadata": {
    "hidden": true
   },
   "outputs": [
    {
     "data": {
      "text/plain": [
       "g (generic function with 1 method)"
      ]
     },
     "execution_count": 40,
     "metadata": {},
     "output_type": "execute_result"
    }
   ],
   "source": [
    "using Distributions\n",
    "using Plots\n",
    "\n",
    "α=3\n",
    "λ=1/2\n",
    "β=λ/α\n",
    "c=27/2/exp(2)\n",
    "\n",
    "f(x)=1/16*x^(α-1)*exp(-λ*x)\n",
    "g(x)=β*exp(-β*x)\n"
   ]
  },
  {
   "cell_type": "code",
   "execution_count": 41,
   "metadata": {
    "hidden": true
   },
   "outputs": [
    {
     "data": {
      "text/plain": [
       "X (generic function with 1 method)"
      ]
     },
     "execution_count": 41,
     "metadata": {},
     "output_type": "execute_result"
    }
   ],
   "source": [
    "X()= begin\n",
    "     \n",
    "    while true\n",
    "        \n",
    "        U=rand()\n",
    "        Y=-1/λ*log(rand())\n",
    "        if U<=f(Y)/g(Y)/c\n",
    "            return Y\n",
    "        end\n",
    "    end\n",
    "    \n",
    "end"
   ]
  },
  {
   "cell_type": "code",
   "execution_count": 59,
   "metadata": {
    "hidden": true
   },
   "outputs": [
    {
     "data": {
      "image/svg+xml": [
       "<?xml version=\"1.0\" encoding=\"utf-8\"?>\n",
       "<svg xmlns=\"http://www.w3.org/2000/svg\" xmlns:xlink=\"http://www.w3.org/1999/xlink\" width=\"600\" height=\"400\" viewBox=\"0 0 2400 1600\">\n",
       "<defs>\n",
       "  <clipPath id=\"clip710\">\n",
       "    <rect x=\"0\" y=\"0\" width=\"2400\" height=\"1600\"/>\n",
       "  </clipPath>\n",
       "</defs>\n",
       "<path clip-path=\"url(#clip710)\" d=\"\n",
       "M0 1600 L2400 1600 L2400 0 L0 0  Z\n",
       "  \" fill=\"#ffffff\" fill-rule=\"evenodd\" fill-opacity=\"1\"/>\n",
       "<defs>\n",
       "  <clipPath id=\"clip711\">\n",
       "    <rect x=\"480\" y=\"0\" width=\"1681\" height=\"1600\"/>\n",
       "  </clipPath>\n",
       "</defs>\n",
       "<path clip-path=\"url(#clip710)\" d=\"\n",
       "M186.274 1486.45 L2352.76 1486.45 L2352.76 47.2441 L186.274 47.2441  Z\n",
       "  \" fill=\"#ffffff\" fill-rule=\"evenodd\" fill-opacity=\"1\"/>\n",
       "<defs>\n",
       "  <clipPath id=\"clip712\">\n",
       "    <rect x=\"186\" y=\"47\" width=\"2167\" height=\"1440\"/>\n",
       "  </clipPath>\n",
       "</defs>\n",
       "<polyline clip-path=\"url(#clip712)\" style=\"stroke:#000000; stroke-width:2; stroke-opacity:0.1; fill:none\" points=\"\n",
       "  305.434,1486.45 305.434,47.2441 \n",
       "  \"/>\n",
       "<polyline clip-path=\"url(#clip712)\" style=\"stroke:#000000; stroke-width:2; stroke-opacity:0.1; fill:none\" points=\"\n",
       "  889.726,1486.45 889.726,47.2441 \n",
       "  \"/>\n",
       "<polyline clip-path=\"url(#clip712)\" style=\"stroke:#000000; stroke-width:2; stroke-opacity:0.1; fill:none\" points=\"\n",
       "  1474.02,1486.45 1474.02,47.2441 \n",
       "  \"/>\n",
       "<polyline clip-path=\"url(#clip712)\" style=\"stroke:#000000; stroke-width:2; stroke-opacity:0.1; fill:none\" points=\"\n",
       "  2058.31,1486.45 2058.31,47.2441 \n",
       "  \"/>\n",
       "<polyline clip-path=\"url(#clip710)\" style=\"stroke:#000000; stroke-width:4; stroke-opacity:1; fill:none\" points=\"\n",
       "  186.274,1486.45 2352.76,1486.45 \n",
       "  \"/>\n",
       "<polyline clip-path=\"url(#clip710)\" style=\"stroke:#000000; stroke-width:4; stroke-opacity:1; fill:none\" points=\"\n",
       "  305.434,1486.45 305.434,1469.18 \n",
       "  \"/>\n",
       "<polyline clip-path=\"url(#clip710)\" style=\"stroke:#000000; stroke-width:4; stroke-opacity:1; fill:none\" points=\"\n",
       "  889.726,1486.45 889.726,1469.18 \n",
       "  \"/>\n",
       "<polyline clip-path=\"url(#clip710)\" style=\"stroke:#000000; stroke-width:4; stroke-opacity:1; fill:none\" points=\"\n",
       "  1474.02,1486.45 1474.02,1469.18 \n",
       "  \"/>\n",
       "<polyline clip-path=\"url(#clip710)\" style=\"stroke:#000000; stroke-width:4; stroke-opacity:1; fill:none\" points=\"\n",
       "  2058.31,1486.45 2058.31,1469.18 \n",
       "  \"/>\n",
       "<path clip-path=\"url(#clip710)\" d=\"M 0 0 M305.434 1515.64 Q301.823 1515.64 299.995 1519.2 Q298.189 1522.75 298.189 1529.87 Q298.189 1536.98 299.995 1540.55 Q301.823 1544.09 305.434 1544.09 Q309.069 1544.09 310.874 1540.55 Q312.703 1536.98 312.703 1529.87 Q312.703 1522.75 310.874 1519.2 Q309.069 1515.64 305.434 1515.64 M305.434 1511.93 Q311.245 1511.93 314.3 1516.54 Q317.379 1521.12 317.379 1529.87 Q317.379 1538.6 314.3 1543.21 Q311.245 1547.79 305.434 1547.79 Q299.624 1547.79 296.546 1543.21 Q293.49 1538.6 293.49 1529.87 Q293.49 1521.12 296.546 1516.54 Q299.624 1511.93 305.434 1511.93 Z\" fill=\"#000000\" fill-rule=\"evenodd\" fill-opacity=\"1\" /><path clip-path=\"url(#clip710)\" d=\"M 0 0 M880.003 1512.56 L898.36 1512.56 L898.36 1516.5 L884.286 1516.5 L884.286 1524.97 Q885.304 1524.62 886.323 1524.46 Q887.341 1524.27 888.36 1524.27 Q894.147 1524.27 897.527 1527.44 Q900.906 1530.62 900.906 1536.03 Q900.906 1541.61 897.434 1544.71 Q893.962 1547.79 887.642 1547.79 Q885.466 1547.79 883.198 1547.42 Q880.953 1547.05 878.545 1546.31 L878.545 1541.61 Q880.628 1542.74 882.851 1543.3 Q885.073 1543.86 887.55 1543.86 Q891.554 1543.86 893.892 1541.75 Q896.23 1539.64 896.23 1536.03 Q896.23 1532.42 893.892 1530.31 Q891.554 1528.21 887.55 1528.21 Q885.675 1528.21 883.8 1528.62 Q881.948 1529.04 880.003 1529.92 L880.003 1512.56 Z\" fill=\"#000000\" fill-rule=\"evenodd\" fill-opacity=\"1\" /><path clip-path=\"url(#clip710)\" d=\"M 0 0 M1448.7 1543.18 L1456.34 1543.18 L1456.34 1516.82 L1448.03 1518.49 L1448.03 1514.23 L1456.3 1512.56 L1460.97 1512.56 L1460.97 1543.18 L1468.61 1543.18 L1468.61 1547.12 L1448.7 1547.12 L1448.7 1543.18 Z\" fill=\"#000000\" fill-rule=\"evenodd\" fill-opacity=\"1\" /><path clip-path=\"url(#clip710)\" d=\"M 0 0 M1488.06 1515.64 Q1484.45 1515.64 1482.62 1519.2 Q1480.81 1522.75 1480.81 1529.87 Q1480.81 1536.98 1482.62 1540.55 Q1484.45 1544.09 1488.06 1544.09 Q1491.69 1544.09 1493.5 1540.55 Q1495.32 1536.98 1495.32 1529.87 Q1495.32 1522.75 1493.5 1519.2 Q1491.69 1515.64 1488.06 1515.64 M1488.06 1511.93 Q1493.87 1511.93 1496.92 1516.54 Q1500 1521.12 1500 1529.87 Q1500 1538.6 1496.92 1543.21 Q1493.87 1547.79 1488.06 1547.79 Q1482.25 1547.79 1479.17 1543.21 Q1476.11 1538.6 1476.11 1529.87 Q1476.11 1521.12 1479.17 1516.54 Q1482.25 1511.93 1488.06 1511.93 Z\" fill=\"#000000\" fill-rule=\"evenodd\" fill-opacity=\"1\" /><path clip-path=\"url(#clip710)\" d=\"M 0 0 M2033.49 1543.18 L2041.13 1543.18 L2041.13 1516.82 L2032.82 1518.49 L2032.82 1514.23 L2041.09 1512.56 L2045.76 1512.56 L2045.76 1543.18 L2053.4 1543.18 L2053.4 1547.12 L2033.49 1547.12 L2033.49 1543.18 Z\" fill=\"#000000\" fill-rule=\"evenodd\" fill-opacity=\"1\" /><path clip-path=\"url(#clip710)\" d=\"M 0 0 M2062.89 1512.56 L2081.25 1512.56 L2081.25 1516.5 L2067.17 1516.5 L2067.17 1524.97 Q2068.19 1524.62 2069.21 1524.46 Q2070.23 1524.27 2071.25 1524.27 Q2077.03 1524.27 2080.41 1527.44 Q2083.79 1530.62 2083.79 1536.03 Q2083.79 1541.61 2080.32 1544.71 Q2076.85 1547.79 2070.53 1547.79 Q2068.35 1547.79 2066.09 1547.42 Q2063.84 1547.05 2061.43 1546.31 L2061.43 1541.61 Q2063.52 1542.74 2065.74 1543.3 Q2067.96 1543.86 2070.44 1543.86 Q2074.44 1543.86 2076.78 1541.75 Q2079.12 1539.64 2079.12 1536.03 Q2079.12 1532.42 2076.78 1530.31 Q2074.44 1528.21 2070.44 1528.21 Q2068.56 1528.21 2066.69 1528.62 Q2064.84 1529.04 2062.89 1529.92 L2062.89 1512.56 Z\" fill=\"#000000\" fill-rule=\"evenodd\" fill-opacity=\"1\" /><polyline clip-path=\"url(#clip712)\" style=\"stroke:#000000; stroke-width:2; stroke-opacity:0.1; fill:none\" points=\"\n",
       "  186.274,1445.72 2352.76,1445.72 \n",
       "  \"/>\n",
       "<polyline clip-path=\"url(#clip712)\" style=\"stroke:#000000; stroke-width:2; stroke-opacity:0.1; fill:none\" points=\"\n",
       "  186.274,1145.86 2352.76,1145.86 \n",
       "  \"/>\n",
       "<polyline clip-path=\"url(#clip712)\" style=\"stroke:#000000; stroke-width:2; stroke-opacity:0.1; fill:none\" points=\"\n",
       "  186.274,846.007 2352.76,846.007 \n",
       "  \"/>\n",
       "<polyline clip-path=\"url(#clip712)\" style=\"stroke:#000000; stroke-width:2; stroke-opacity:0.1; fill:none\" points=\"\n",
       "  186.274,546.153 2352.76,546.153 \n",
       "  \"/>\n",
       "<polyline clip-path=\"url(#clip712)\" style=\"stroke:#000000; stroke-width:2; stroke-opacity:0.1; fill:none\" points=\"\n",
       "  186.274,246.299 2352.76,246.299 \n",
       "  \"/>\n",
       "<polyline clip-path=\"url(#clip710)\" style=\"stroke:#000000; stroke-width:4; stroke-opacity:1; fill:none\" points=\"\n",
       "  186.274,1486.45 186.274,47.2441 \n",
       "  \"/>\n",
       "<polyline clip-path=\"url(#clip710)\" style=\"stroke:#000000; stroke-width:4; stroke-opacity:1; fill:none\" points=\"\n",
       "  186.274,1445.72 212.272,1445.72 \n",
       "  \"/>\n",
       "<polyline clip-path=\"url(#clip710)\" style=\"stroke:#000000; stroke-width:4; stroke-opacity:1; fill:none\" points=\"\n",
       "  186.274,1145.86 212.272,1145.86 \n",
       "  \"/>\n",
       "<polyline clip-path=\"url(#clip710)\" style=\"stroke:#000000; stroke-width:4; stroke-opacity:1; fill:none\" points=\"\n",
       "  186.274,846.007 212.272,846.007 \n",
       "  \"/>\n",
       "<polyline clip-path=\"url(#clip710)\" style=\"stroke:#000000; stroke-width:4; stroke-opacity:1; fill:none\" points=\"\n",
       "  186.274,546.153 212.272,546.153 \n",
       "  \"/>\n",
       "<polyline clip-path=\"url(#clip710)\" style=\"stroke:#000000; stroke-width:4; stroke-opacity:1; fill:none\" points=\"\n",
       "  186.274,246.299 212.272,246.299 \n",
       "  \"/>\n",
       "<path clip-path=\"url(#clip710)\" d=\"M 0 0 M62.9365 1431.51 Q59.3254 1431.51 57.4967 1435.08 Q55.6912 1438.62 55.6912 1445.75 Q55.6912 1452.86 57.4967 1456.42 Q59.3254 1459.96 62.9365 1459.96 Q66.5707 1459.96 68.3763 1456.42 Q70.205 1452.86 70.205 1445.75 Q70.205 1438.62 68.3763 1435.08 Q66.5707 1431.51 62.9365 1431.51 M62.9365 1427.81 Q68.7467 1427.81 71.8022 1432.42 Q74.8809 1437 74.8809 1445.75 Q74.8809 1454.48 71.8022 1459.08 Q68.7467 1463.67 62.9365 1463.67 Q57.1264 1463.67 54.0477 1459.08 Q50.9921 1454.48 50.9921 1445.75 Q50.9921 1437 54.0477 1432.42 Q57.1264 1427.81 62.9365 1427.81 Z\" fill=\"#000000\" fill-rule=\"evenodd\" fill-opacity=\"1\" /><path clip-path=\"url(#clip710)\" d=\"M 0 0 M83.0984 1457.12 L87.9827 1457.12 L87.9827 1463 L83.0984 1463 L83.0984 1457.12 Z\" fill=\"#000000\" fill-rule=\"evenodd\" fill-opacity=\"1\" /><path clip-path=\"url(#clip710)\" d=\"M 0 0 M108.168 1431.51 Q104.557 1431.51 102.728 1435.08 Q100.922 1438.62 100.922 1445.75 Q100.922 1452.86 102.728 1456.42 Q104.557 1459.96 108.168 1459.96 Q111.802 1459.96 113.608 1456.42 Q115.436 1452.86 115.436 1445.75 Q115.436 1438.62 113.608 1435.08 Q111.802 1431.51 108.168 1431.51 M108.168 1427.81 Q113.978 1427.81 117.033 1432.42 Q120.112 1437 120.112 1445.75 Q120.112 1454.48 117.033 1459.08 Q113.978 1463.67 108.168 1463.67 Q102.358 1463.67 99.2789 1459.08 Q96.2234 1454.48 96.2234 1445.75 Q96.2234 1437 99.2789 1432.42 Q102.358 1427.81 108.168 1427.81 Z\" fill=\"#000000\" fill-rule=\"evenodd\" fill-opacity=\"1\" /><path clip-path=\"url(#clip710)\" d=\"M 0 0 M138.33 1431.51 Q134.719 1431.51 132.89 1435.08 Q131.084 1438.62 131.084 1445.75 Q131.084 1452.86 132.89 1456.42 Q134.719 1459.96 138.33 1459.96 Q141.964 1459.96 143.769 1456.42 Q145.598 1452.86 145.598 1445.75 Q145.598 1438.62 143.769 1435.08 Q141.964 1431.51 138.33 1431.51 M138.33 1427.81 Q144.14 1427.81 147.195 1432.42 Q150.274 1437 150.274 1445.75 Q150.274 1454.48 147.195 1459.08 Q144.14 1463.67 138.33 1463.67 Q132.519 1463.67 129.441 1459.08 Q126.385 1454.48 126.385 1445.75 Q126.385 1437 129.441 1432.42 Q132.519 1427.81 138.33 1427.81 Z\" fill=\"#000000\" fill-rule=\"evenodd\" fill-opacity=\"1\" /><path clip-path=\"url(#clip710)\" d=\"M 0 0 M63.9319 1131.66 Q60.3208 1131.66 58.4921 1135.23 Q56.6865 1138.77 56.6865 1145.9 Q56.6865 1153 58.4921 1156.57 Q60.3208 1160.11 63.9319 1160.11 Q67.5661 1160.11 69.3717 1156.57 Q71.2004 1153 71.2004 1145.9 Q71.2004 1138.77 69.3717 1135.23 Q67.5661 1131.66 63.9319 1131.66 M63.9319 1127.96 Q69.742 1127.96 72.7976 1132.56 Q75.8763 1137.15 75.8763 1145.9 Q75.8763 1154.62 72.7976 1159.23 Q69.742 1163.81 63.9319 1163.81 Q58.1217 1163.81 55.043 1159.23 Q51.9875 1154.62 51.9875 1145.9 Q51.9875 1137.15 55.043 1132.56 Q58.1217 1127.96 63.9319 1127.96 Z\" fill=\"#000000\" fill-rule=\"evenodd\" fill-opacity=\"1\" /><path clip-path=\"url(#clip710)\" d=\"M 0 0 M84.0938 1157.26 L88.978 1157.26 L88.978 1163.14 L84.0938 1163.14 L84.0938 1157.26 Z\" fill=\"#000000\" fill-rule=\"evenodd\" fill-opacity=\"1\" /><path clip-path=\"url(#clip710)\" d=\"M 0 0 M109.163 1131.66 Q105.552 1131.66 103.723 1135.23 Q101.918 1138.77 101.918 1145.9 Q101.918 1153 103.723 1156.57 Q105.552 1160.11 109.163 1160.11 Q112.797 1160.11 114.603 1156.57 Q116.432 1153 116.432 1145.9 Q116.432 1138.77 114.603 1135.23 Q112.797 1131.66 109.163 1131.66 M109.163 1127.96 Q114.973 1127.96 118.029 1132.56 Q121.107 1137.15 121.107 1145.9 Q121.107 1154.62 118.029 1159.23 Q114.973 1163.81 109.163 1163.81 Q103.353 1163.81 100.274 1159.23 Q97.2187 1154.62 97.2187 1145.9 Q97.2187 1137.15 100.274 1132.56 Q103.353 1127.96 109.163 1127.96 Z\" fill=\"#000000\" fill-rule=\"evenodd\" fill-opacity=\"1\" /><path clip-path=\"url(#clip710)\" d=\"M 0 0 M129.371 1128.58 L147.728 1128.58 L147.728 1132.52 L133.654 1132.52 L133.654 1140.99 Q134.672 1140.64 135.691 1140.48 Q136.709 1140.29 137.728 1140.29 Q143.515 1140.29 146.894 1143.47 Q150.274 1146.64 150.274 1152.05 Q150.274 1157.63 146.802 1160.73 Q143.33 1163.81 137.01 1163.81 Q134.834 1163.81 132.566 1163.44 Q130.32 1163.07 127.913 1162.33 L127.913 1157.63 Q129.996 1158.77 132.219 1159.32 Q134.441 1159.88 136.918 1159.88 Q140.922 1159.88 143.26 1157.77 Q145.598 1155.66 145.598 1152.05 Q145.598 1148.44 143.26 1146.34 Q140.922 1144.23 136.918 1144.23 Q135.043 1144.23 133.168 1144.65 Q131.316 1145.06 129.371 1145.94 L129.371 1128.58 Z\" fill=\"#000000\" fill-rule=\"evenodd\" fill-opacity=\"1\" /><path clip-path=\"url(#clip710)\" d=\"M 0 0 M62.9365 831.806 Q59.3254 831.806 57.4967 835.371 Q55.6912 838.913 55.6912 846.042 Q55.6912 853.149 57.4967 856.713 Q59.3254 860.255 62.9365 860.255 Q66.5707 860.255 68.3763 856.713 Q70.205 853.149 70.205 846.042 Q70.205 838.913 68.3763 835.371 Q66.5707 831.806 62.9365 831.806 M62.9365 828.102 Q68.7467 828.102 71.8022 832.709 Q74.8809 837.292 74.8809 846.042 Q74.8809 854.769 71.8022 859.375 Q68.7467 863.959 62.9365 863.959 Q57.1264 863.959 54.0477 859.375 Q50.9921 854.769 50.9921 846.042 Q50.9921 837.292 54.0477 832.709 Q57.1264 828.102 62.9365 828.102 Z\" fill=\"#000000\" fill-rule=\"evenodd\" fill-opacity=\"1\" /><path clip-path=\"url(#clip710)\" d=\"M 0 0 M83.0984 857.408 L87.9827 857.408 L87.9827 863.287 L83.0984 863.287 L83.0984 857.408 Z\" fill=\"#000000\" fill-rule=\"evenodd\" fill-opacity=\"1\" /><path clip-path=\"url(#clip710)\" d=\"M 0 0 M98.978 859.352 L106.617 859.352 L106.617 832.987 L98.3067 834.653 L98.3067 830.394 L106.571 828.727 L111.246 828.727 L111.246 859.352 L118.885 859.352 L118.885 863.287 L98.978 863.287 L98.978 859.352 Z\" fill=\"#000000\" fill-rule=\"evenodd\" fill-opacity=\"1\" /><path clip-path=\"url(#clip710)\" d=\"M 0 0 M138.33 831.806 Q134.719 831.806 132.89 835.371 Q131.084 838.913 131.084 846.042 Q131.084 853.149 132.89 856.713 Q134.719 860.255 138.33 860.255 Q141.964 860.255 143.769 856.713 Q145.598 853.149 145.598 846.042 Q145.598 838.913 143.769 835.371 Q141.964 831.806 138.33 831.806 M138.33 828.102 Q144.14 828.102 147.195 832.709 Q150.274 837.292 150.274 846.042 Q150.274 854.769 147.195 859.375 Q144.14 863.959 138.33 863.959 Q132.519 863.959 129.441 859.375 Q126.385 854.769 126.385 846.042 Q126.385 837.292 129.441 832.709 Q132.519 828.102 138.33 828.102 Z\" fill=\"#000000\" fill-rule=\"evenodd\" fill-opacity=\"1\" /><path clip-path=\"url(#clip710)\" d=\"M 0 0 M63.9319 531.952 Q60.3208 531.952 58.4921 535.517 Q56.6865 539.058 56.6865 546.188 Q56.6865 553.295 58.4921 556.859 Q60.3208 560.401 63.9319 560.401 Q67.5661 560.401 69.3717 556.859 Q71.2004 553.295 71.2004 546.188 Q71.2004 539.058 69.3717 535.517 Q67.5661 531.952 63.9319 531.952 M63.9319 528.248 Q69.742 528.248 72.7976 532.855 Q75.8763 537.438 75.8763 546.188 Q75.8763 554.915 72.7976 559.521 Q69.742 564.105 63.9319 564.105 Q58.1217 564.105 55.043 559.521 Q51.9875 554.915 51.9875 546.188 Q51.9875 537.438 55.043 532.855 Q58.1217 528.248 63.9319 528.248 Z\" fill=\"#000000\" fill-rule=\"evenodd\" fill-opacity=\"1\" /><path clip-path=\"url(#clip710)\" d=\"M 0 0 M84.0938 557.554 L88.978 557.554 L88.978 563.433 L84.0938 563.433 L84.0938 557.554 Z\" fill=\"#000000\" fill-rule=\"evenodd\" fill-opacity=\"1\" /><path clip-path=\"url(#clip710)\" d=\"M 0 0 M99.9733 559.498 L107.612 559.498 L107.612 533.133 L99.3021 534.799 L99.3021 530.54 L107.566 528.873 L112.242 528.873 L112.242 559.498 L119.881 559.498 L119.881 563.433 L99.9733 563.433 L99.9733 559.498 Z\" fill=\"#000000\" fill-rule=\"evenodd\" fill-opacity=\"1\" /><path clip-path=\"url(#clip710)\" d=\"M 0 0 M129.371 528.873 L147.728 528.873 L147.728 532.809 L133.654 532.809 L133.654 541.281 Q134.672 540.933 135.691 540.771 Q136.709 540.586 137.728 540.586 Q143.515 540.586 146.894 543.758 Q150.274 546.929 150.274 552.345 Q150.274 557.924 146.802 561.026 Q143.33 564.105 137.01 564.105 Q134.834 564.105 132.566 563.734 Q130.32 563.364 127.913 562.623 L127.913 557.924 Q129.996 559.058 132.219 559.614 Q134.441 560.169 136.918 560.169 Q140.922 560.169 143.26 558.063 Q145.598 555.957 145.598 552.345 Q145.598 548.734 143.26 546.628 Q140.922 544.521 136.918 544.521 Q135.043 544.521 133.168 544.938 Q131.316 545.355 129.371 546.234 L129.371 528.873 Z\" fill=\"#000000\" fill-rule=\"evenodd\" fill-opacity=\"1\" /><path clip-path=\"url(#clip710)\" d=\"M 0 0 M62.9365 232.098 Q59.3254 232.098 57.4967 235.663 Q55.6912 239.204 55.6912 246.334 Q55.6912 253.44 57.4967 257.005 Q59.3254 260.547 62.9365 260.547 Q66.5707 260.547 68.3763 257.005 Q70.205 253.44 70.205 246.334 Q70.205 239.204 68.3763 235.663 Q66.5707 232.098 62.9365 232.098 M62.9365 228.394 Q68.7467 228.394 71.8022 233.001 Q74.8809 237.584 74.8809 246.334 Q74.8809 255.061 71.8022 259.667 Q68.7467 264.251 62.9365 264.251 Q57.1264 264.251 54.0477 259.667 Q50.9921 255.061 50.9921 246.334 Q50.9921 237.584 54.0477 233.001 Q57.1264 228.394 62.9365 228.394 Z\" fill=\"#000000\" fill-rule=\"evenodd\" fill-opacity=\"1\" /><path clip-path=\"url(#clip710)\" d=\"M 0 0 M83.0984 257.7 L87.9827 257.7 L87.9827 263.579 L83.0984 263.579 L83.0984 257.7 Z\" fill=\"#000000\" fill-rule=\"evenodd\" fill-opacity=\"1\" /><path clip-path=\"url(#clip710)\" d=\"M 0 0 M102.196 259.644 L118.515 259.644 L118.515 263.579 L96.5706 263.579 L96.5706 259.644 Q99.2326 256.889 103.816 252.26 Q108.422 247.607 109.603 246.265 Q111.848 243.741 112.728 242.005 Q113.631 240.246 113.631 238.556 Q113.631 235.802 111.686 234.066 Q109.765 232.329 106.663 232.329 Q104.464 232.329 102.01 233.093 Q99.5798 233.857 96.8021 235.408 L96.8021 230.686 Q99.6261 229.552 102.08 228.973 Q104.534 228.394 106.571 228.394 Q111.941 228.394 115.135 231.079 Q118.33 233.765 118.33 238.255 Q118.33 240.385 117.52 242.306 Q116.733 244.204 114.626 246.797 Q114.047 247.468 110.946 250.686 Q107.844 253.88 102.196 259.644 Z\" fill=\"#000000\" fill-rule=\"evenodd\" fill-opacity=\"1\" /><path clip-path=\"url(#clip710)\" d=\"M 0 0 M138.33 232.098 Q134.719 232.098 132.89 235.663 Q131.084 239.204 131.084 246.334 Q131.084 253.44 132.89 257.005 Q134.719 260.547 138.33 260.547 Q141.964 260.547 143.769 257.005 Q145.598 253.44 145.598 246.334 Q145.598 239.204 143.769 235.663 Q141.964 232.098 138.33 232.098 M138.33 228.394 Q144.14 228.394 147.195 233.001 Q150.274 237.584 150.274 246.334 Q150.274 255.061 147.195 259.667 Q144.14 264.251 138.33 264.251 Q132.519 264.251 129.441 259.667 Q126.385 255.061 126.385 246.334 Q126.385 237.584 129.441 233.001 Q132.519 228.394 138.33 228.394 Z\" fill=\"#000000\" fill-rule=\"evenodd\" fill-opacity=\"1\" /><path clip-path=\"url(#clip712)\" d=\"\n",
       "M305.434 1336.57 L305.434 1445.72 L363.863 1445.72 L363.863 1336.57 L305.434 1336.57 L305.434 1336.57  Z\n",
       "  \" fill=\"#009af9\" fill-rule=\"evenodd\" fill-opacity=\"1\"/>\n",
       "<polyline clip-path=\"url(#clip712)\" style=\"stroke:#000000; stroke-width:4; stroke-opacity:1; fill:none\" points=\"\n",
       "  305.434,1336.57 305.434,1445.72 363.863,1445.72 363.863,1336.57 305.434,1336.57 \n",
       "  \"/>\n",
       "<path clip-path=\"url(#clip712)\" d=\"\n",
       "M363.863 859.201 L363.863 1445.72 L422.293 1445.72 L422.293 859.201 L363.863 859.201 L363.863 859.201  Z\n",
       "  \" fill=\"#009af9\" fill-rule=\"evenodd\" fill-opacity=\"1\"/>\n",
       "<polyline clip-path=\"url(#clip712)\" style=\"stroke:#000000; stroke-width:4; stroke-opacity:1; fill:none\" points=\"\n",
       "  363.863,859.201 363.863,1445.72 422.293,1445.72 422.293,859.201 363.863,859.201 \n",
       "  \"/>\n",
       "<path clip-path=\"url(#clip712)\" d=\"\n",
       "M422.293 567.743 L422.293 1445.72 L480.722 1445.72 L480.722 567.743 L422.293 567.743 L422.293 567.743  Z\n",
       "  \" fill=\"#009af9\" fill-rule=\"evenodd\" fill-opacity=\"1\"/>\n",
       "<polyline clip-path=\"url(#clip712)\" style=\"stroke:#000000; stroke-width:4; stroke-opacity:1; fill:none\" points=\"\n",
       "  422.293,567.743 422.293,1445.72 480.722,1445.72 480.722,567.743 422.293,567.743 \n",
       "  \"/>\n",
       "<path clip-path=\"url(#clip712)\" d=\"\n",
       "M480.722 228.308 L480.722 1445.72 L539.151 1445.72 L539.151 228.308 L480.722 228.308 L480.722 228.308  Z\n",
       "  \" fill=\"#009af9\" fill-rule=\"evenodd\" fill-opacity=\"1\"/>\n",
       "<polyline clip-path=\"url(#clip712)\" style=\"stroke:#000000; stroke-width:4; stroke-opacity:1; fill:none\" points=\"\n",
       "  480.722,228.308 480.722,1445.72 539.151,1445.72 539.151,228.308 480.722,228.308 \n",
       "  \"/>\n",
       "<path clip-path=\"url(#clip712)\" d=\"\n",
       "M539.151 87.9763 L539.151 1445.72 L597.58 1445.72 L597.58 87.9763 L539.151 87.9763 L539.151 87.9763  Z\n",
       "  \" fill=\"#009af9\" fill-rule=\"evenodd\" fill-opacity=\"1\"/>\n",
       "<polyline clip-path=\"url(#clip712)\" style=\"stroke:#000000; stroke-width:4; stroke-opacity:1; fill:none\" points=\"\n",
       "  539.151,87.9763 539.151,1445.72 597.58,1445.72 597.58,87.9763 539.151,87.9763 \n",
       "  \"/>\n",
       "<path clip-path=\"url(#clip712)\" d=\"\n",
       "M597.58 161.141 L597.58 1445.72 L656.009 1445.72 L656.009 161.141 L597.58 161.141 L597.58 161.141  Z\n",
       "  \" fill=\"#009af9\" fill-rule=\"evenodd\" fill-opacity=\"1\"/>\n",
       "<polyline clip-path=\"url(#clip712)\" style=\"stroke:#000000; stroke-width:4; stroke-opacity:1; fill:none\" points=\"\n",
       "  597.58,161.141 597.58,1445.72 656.009,1445.72 656.009,161.141 597.58,161.141 \n",
       "  \"/>\n",
       "<path clip-path=\"url(#clip712)\" d=\"\n",
       "M656.009 279.883 L656.009 1445.72 L714.438 1445.72 L714.438 279.883 L656.009 279.883 L656.009 279.883  Z\n",
       "  \" fill=\"#009af9\" fill-rule=\"evenodd\" fill-opacity=\"1\"/>\n",
       "<polyline clip-path=\"url(#clip712)\" style=\"stroke:#000000; stroke-width:4; stroke-opacity:1; fill:none\" points=\"\n",
       "  656.009,279.883 656.009,1445.72 714.438,1445.72 714.438,279.883 656.009,279.883 \n",
       "  \"/>\n",
       "<path clip-path=\"url(#clip712)\" d=\"\n",
       "M714.438 379.434 L714.438 1445.72 L772.867 1445.72 L772.867 379.434 L714.438 379.434 L714.438 379.434  Z\n",
       "  \" fill=\"#009af9\" fill-rule=\"evenodd\" fill-opacity=\"1\"/>\n",
       "<polyline clip-path=\"url(#clip712)\" style=\"stroke:#000000; stroke-width:4; stroke-opacity:1; fill:none\" points=\"\n",
       "  714.438,379.434 714.438,1445.72 772.867,1445.72 772.867,379.434 714.438,379.434 \n",
       "  \"/>\n",
       "<path clip-path=\"url(#clip712)\" d=\"\n",
       "M772.867 514.969 L772.867 1445.72 L831.297 1445.72 L831.297 514.969 L772.867 514.969 L772.867 514.969  Z\n",
       "  \" fill=\"#009af9\" fill-rule=\"evenodd\" fill-opacity=\"1\"/>\n",
       "<polyline clip-path=\"url(#clip712)\" style=\"stroke:#000000; stroke-width:4; stroke-opacity:1; fill:none\" points=\"\n",
       "  772.867,514.969 772.867,1445.72 831.297,1445.72 831.297,514.969 772.867,514.969 \n",
       "  \"/>\n",
       "<path clip-path=\"url(#clip712)\" d=\"\n",
       "M831.297 708.075 L831.297 1445.72 L889.726 1445.72 L889.726 708.075 L831.297 708.075 L831.297 708.075  Z\n",
       "  \" fill=\"#009af9\" fill-rule=\"evenodd\" fill-opacity=\"1\"/>\n",
       "<polyline clip-path=\"url(#clip712)\" style=\"stroke:#000000; stroke-width:4; stroke-opacity:1; fill:none\" points=\"\n",
       "  831.297,708.075 831.297,1445.72 889.726,1445.72 889.726,708.075 831.297,708.075 \n",
       "  \"/>\n",
       "<path clip-path=\"url(#clip712)\" d=\"\n",
       "M889.726 806.427 L889.726 1445.72 L948.155 1445.72 L948.155 806.427 L889.726 806.427 L889.726 806.427  Z\n",
       "  \" fill=\"#009af9\" fill-rule=\"evenodd\" fill-opacity=\"1\"/>\n",
       "<polyline clip-path=\"url(#clip712)\" style=\"stroke:#000000; stroke-width:4; stroke-opacity:1; fill:none\" points=\"\n",
       "  889.726,806.427 889.726,1445.72 948.155,1445.72 948.155,806.427 889.726,806.427 \n",
       "  \"/>\n",
       "<path clip-path=\"url(#clip712)\" d=\"\n",
       "M948.155 952.756 L948.155 1445.72 L1006.58 1445.72 L1006.58 952.756 L948.155 952.756 L948.155 952.756  Z\n",
       "  \" fill=\"#009af9\" fill-rule=\"evenodd\" fill-opacity=\"1\"/>\n",
       "<polyline clip-path=\"url(#clip712)\" style=\"stroke:#000000; stroke-width:4; stroke-opacity:1; fill:none\" points=\"\n",
       "  948.155,952.756 948.155,1445.72 1006.58,1445.72 1006.58,952.756 948.155,952.756 \n",
       "  \"/>\n",
       "<path clip-path=\"url(#clip712)\" d=\"\n",
       "M1006.58 1072.7 L1006.58 1445.72 L1065.01 1445.72 L1065.01 1072.7 L1006.58 1072.7 L1006.58 1072.7  Z\n",
       "  \" fill=\"#009af9\" fill-rule=\"evenodd\" fill-opacity=\"1\"/>\n",
       "<polyline clip-path=\"url(#clip712)\" style=\"stroke:#000000; stroke-width:4; stroke-opacity:1; fill:none\" points=\"\n",
       "  1006.58,1072.7 1006.58,1445.72 1065.01,1445.72 1065.01,1072.7 1006.58,1072.7 \n",
       "  \"/>\n",
       "<path clip-path=\"url(#clip712)\" d=\"\n",
       "M1065.01 1135.07 L1065.01 1445.72 L1123.44 1445.72 L1123.44 1135.07 L1065.01 1135.07 L1065.01 1135.07  Z\n",
       "  \" fill=\"#009af9\" fill-rule=\"evenodd\" fill-opacity=\"1\"/>\n",
       "<polyline clip-path=\"url(#clip712)\" style=\"stroke:#000000; stroke-width:4; stroke-opacity:1; fill:none\" points=\"\n",
       "  1065.01,1135.07 1065.01,1445.72 1123.44,1445.72 1123.44,1135.07 1065.01,1135.07 \n",
       "  \"/>\n",
       "<path clip-path=\"url(#clip712)\" d=\"\n",
       "M1123.44 1222.62 L1123.44 1445.72 L1181.87 1445.72 L1181.87 1222.62 L1123.44 1222.62 L1123.44 1222.62  Z\n",
       "  \" fill=\"#009af9\" fill-rule=\"evenodd\" fill-opacity=\"1\"/>\n",
       "<polyline clip-path=\"url(#clip712)\" style=\"stroke:#000000; stroke-width:4; stroke-opacity:1; fill:none\" points=\"\n",
       "  1123.44,1222.62 1123.44,1445.72 1181.87,1445.72 1181.87,1222.62 1123.44,1222.62 \n",
       "  \"/>\n",
       "<path clip-path=\"url(#clip712)\" d=\"\n",
       "M1181.87 1286.19 L1181.87 1445.72 L1240.3 1445.72 L1240.3 1286.19 L1181.87 1286.19 L1181.87 1286.19  Z\n",
       "  \" fill=\"#009af9\" fill-rule=\"evenodd\" fill-opacity=\"1\"/>\n",
       "<polyline clip-path=\"url(#clip712)\" style=\"stroke:#000000; stroke-width:4; stroke-opacity:1; fill:none\" points=\"\n",
       "  1181.87,1286.19 1181.87,1445.72 1240.3,1445.72 1240.3,1286.19 1181.87,1286.19 \n",
       "  \"/>\n",
       "<path clip-path=\"url(#clip712)\" d=\"\n",
       "M1240.3 1311.38 L1240.3 1445.72 L1298.73 1445.72 L1298.73 1311.38 L1240.3 1311.38 L1240.3 1311.38  Z\n",
       "  \" fill=\"#009af9\" fill-rule=\"evenodd\" fill-opacity=\"1\"/>\n",
       "<polyline clip-path=\"url(#clip712)\" style=\"stroke:#000000; stroke-width:4; stroke-opacity:1; fill:none\" points=\"\n",
       "  1240.3,1311.38 1240.3,1445.72 1298.73,1445.72 1298.73,1311.38 1240.3,1311.38 \n",
       "  \"/>\n",
       "<path clip-path=\"url(#clip712)\" d=\"\n",
       "M1298.73 1366.55 L1298.73 1445.72 L1357.16 1445.72 L1357.16 1366.55 L1298.73 1366.55 L1298.73 1366.55  Z\n",
       "  \" fill=\"#009af9\" fill-rule=\"evenodd\" fill-opacity=\"1\"/>\n",
       "<polyline clip-path=\"url(#clip712)\" style=\"stroke:#000000; stroke-width:4; stroke-opacity:1; fill:none\" points=\"\n",
       "  1298.73,1366.55 1298.73,1445.72 1357.16,1445.72 1357.16,1366.55 1298.73,1366.55 \n",
       "  \"/>\n",
       "<path clip-path=\"url(#clip712)\" d=\"\n",
       "M1357.16 1377.35 L1357.16 1445.72 L1415.59 1445.72 L1415.59 1377.35 L1357.16 1377.35 L1357.16 1377.35  Z\n",
       "  \" fill=\"#009af9\" fill-rule=\"evenodd\" fill-opacity=\"1\"/>\n",
       "<polyline clip-path=\"url(#clip712)\" style=\"stroke:#000000; stroke-width:4; stroke-opacity:1; fill:none\" points=\"\n",
       "  1357.16,1377.35 1357.16,1445.72 1415.59,1445.72 1415.59,1377.35 1357.16,1377.35 \n",
       "  \"/>\n",
       "<path clip-path=\"url(#clip712)\" d=\"\n",
       "M1415.59 1394.14 L1415.59 1445.72 L1474.02 1445.72 L1474.02 1394.14 L1415.59 1394.14 L1415.59 1394.14  Z\n",
       "  \" fill=\"#009af9\" fill-rule=\"evenodd\" fill-opacity=\"1\"/>\n",
       "<polyline clip-path=\"url(#clip712)\" style=\"stroke:#000000; stroke-width:4; stroke-opacity:1; fill:none\" points=\"\n",
       "  1415.59,1394.14 1415.59,1445.72 1474.02,1445.72 1474.02,1394.14 1415.59,1394.14 \n",
       "  \"/>\n",
       "<path clip-path=\"url(#clip712)\" d=\"\n",
       "M1474.02 1410.93 L1474.02 1445.72 L1532.45 1445.72 L1532.45 1410.93 L1474.02 1410.93 L1474.02 1410.93  Z\n",
       "  \" fill=\"#009af9\" fill-rule=\"evenodd\" fill-opacity=\"1\"/>\n",
       "<polyline clip-path=\"url(#clip712)\" style=\"stroke:#000000; stroke-width:4; stroke-opacity:1; fill:none\" points=\"\n",
       "  1474.02,1410.93 1474.02,1445.72 1532.45,1445.72 1532.45,1410.93 1474.02,1410.93 \n",
       "  \"/>\n",
       "<path clip-path=\"url(#clip712)\" d=\"\n",
       "M1532.45 1420.53 L1532.45 1445.72 L1590.88 1445.72 L1590.88 1420.53 L1532.45 1420.53 L1532.45 1420.53  Z\n",
       "  \" fill=\"#009af9\" fill-rule=\"evenodd\" fill-opacity=\"1\"/>\n",
       "<polyline clip-path=\"url(#clip712)\" style=\"stroke:#000000; stroke-width:4; stroke-opacity:1; fill:none\" points=\"\n",
       "  1532.45,1420.53 1532.45,1445.72 1590.88,1445.72 1590.88,1420.53 1532.45,1420.53 \n",
       "  \"/>\n",
       "<path clip-path=\"url(#clip712)\" d=\"\n",
       "M1590.88 1432.52 L1590.88 1445.72 L1649.3 1445.72 L1649.3 1432.52 L1590.88 1432.52 L1590.88 1432.52  Z\n",
       "  \" fill=\"#009af9\" fill-rule=\"evenodd\" fill-opacity=\"1\"/>\n",
       "<polyline clip-path=\"url(#clip712)\" style=\"stroke:#000000; stroke-width:4; stroke-opacity:1; fill:none\" points=\"\n",
       "  1590.88,1432.52 1590.88,1445.72 1649.3,1445.72 1649.3,1432.52 1590.88,1432.52 \n",
       "  \"/>\n",
       "<path clip-path=\"url(#clip712)\" d=\"\n",
       "M1649.3 1427.72 L1649.3 1445.72 L1707.73 1445.72 L1707.73 1427.72 L1649.3 1427.72 L1649.3 1427.72  Z\n",
       "  \" fill=\"#009af9\" fill-rule=\"evenodd\" fill-opacity=\"1\"/>\n",
       "<polyline clip-path=\"url(#clip712)\" style=\"stroke:#000000; stroke-width:4; stroke-opacity:1; fill:none\" points=\"\n",
       "  1649.3,1427.72 1649.3,1445.72 1707.73,1445.72 1707.73,1427.72 1649.3,1427.72 \n",
       "  \"/>\n",
       "<path clip-path=\"url(#clip712)\" d=\"\n",
       "M1707.73 1437.32 L1707.73 1445.72 L1766.16 1445.72 L1766.16 1437.32 L1707.73 1437.32 L1707.73 1437.32  Z\n",
       "  \" fill=\"#009af9\" fill-rule=\"evenodd\" fill-opacity=\"1\"/>\n",
       "<polyline clip-path=\"url(#clip712)\" style=\"stroke:#000000; stroke-width:4; stroke-opacity:1; fill:none\" points=\"\n",
       "  1707.73,1437.32 1707.73,1445.72 1766.16,1445.72 1766.16,1437.32 1707.73,1437.32 \n",
       "  \"/>\n",
       "<path clip-path=\"url(#clip712)\" d=\"\n",
       "M1766.16 1436.12 L1766.16 1445.72 L1824.59 1445.72 L1824.59 1436.12 L1766.16 1436.12 L1766.16 1436.12  Z\n",
       "  \" fill=\"#009af9\" fill-rule=\"evenodd\" fill-opacity=\"1\"/>\n",
       "<polyline clip-path=\"url(#clip712)\" style=\"stroke:#000000; stroke-width:4; stroke-opacity:1; fill:none\" points=\"\n",
       "  1766.16,1436.12 1766.16,1445.72 1824.59,1445.72 1824.59,1436.12 1766.16,1436.12 \n",
       "  \"/>\n",
       "<path clip-path=\"url(#clip712)\" d=\"\n",
       "M1824.59 1438.52 L1824.59 1445.72 L1883.02 1445.72 L1883.02 1438.52 L1824.59 1438.52 L1824.59 1438.52  Z\n",
       "  \" fill=\"#009af9\" fill-rule=\"evenodd\" fill-opacity=\"1\"/>\n",
       "<polyline clip-path=\"url(#clip712)\" style=\"stroke:#000000; stroke-width:4; stroke-opacity:1; fill:none\" points=\"\n",
       "  1824.59,1438.52 1824.59,1445.72 1883.02,1445.72 1883.02,1438.52 1824.59,1438.52 \n",
       "  \"/>\n",
       "<path clip-path=\"url(#clip712)\" d=\"\n",
       "M1883.02 1439.72 L1883.02 1445.72 L1941.45 1445.72 L1941.45 1439.72 L1883.02 1439.72 L1883.02 1439.72  Z\n",
       "  \" fill=\"#009af9\" fill-rule=\"evenodd\" fill-opacity=\"1\"/>\n",
       "<polyline clip-path=\"url(#clip712)\" style=\"stroke:#000000; stroke-width:4; stroke-opacity:1; fill:none\" points=\"\n",
       "  1883.02,1439.72 1883.02,1445.72 1941.45,1445.72 1941.45,1439.72 1883.02,1439.72 \n",
       "  \"/>\n",
       "<path clip-path=\"url(#clip712)\" d=\"\n",
       "M1941.45 1443.32 L1941.45 1445.72 L1999.88 1445.72 L1999.88 1443.32 L1941.45 1443.32 L1941.45 1443.32  Z\n",
       "  \" fill=\"#009af9\" fill-rule=\"evenodd\" fill-opacity=\"1\"/>\n",
       "<polyline clip-path=\"url(#clip712)\" style=\"stroke:#000000; stroke-width:4; stroke-opacity:1; fill:none\" points=\"\n",
       "  1941.45,1443.32 1941.45,1445.72 1999.88,1445.72 1999.88,1443.32 1941.45,1443.32 \n",
       "  \"/>\n",
       "<path clip-path=\"url(#clip712)\" d=\"\n",
       "M1999.88 1444.52 L1999.88 1445.72 L2058.31 1445.72 L2058.31 1444.52 L1999.88 1444.52 L1999.88 1444.52  Z\n",
       "  \" fill=\"#009af9\" fill-rule=\"evenodd\" fill-opacity=\"1\"/>\n",
       "<polyline clip-path=\"url(#clip712)\" style=\"stroke:#000000; stroke-width:4; stroke-opacity:1; fill:none\" points=\"\n",
       "  1999.88,1444.52 1999.88,1445.72 2058.31,1445.72 2058.31,1444.52 1999.88,1444.52 \n",
       "  \"/>\n",
       "<path clip-path=\"url(#clip712)\" d=\"\n",
       "M2058.31 1445.72 L2058.31 1445.72 L2116.74 1445.72 L2116.74 1445.72 L2058.31 1445.72 L2058.31 1445.72  Z\n",
       "  \" fill=\"#009af9\" fill-rule=\"evenodd\" fill-opacity=\"1\"/>\n",
       "<polyline clip-path=\"url(#clip712)\" style=\"stroke:#000000; stroke-width:4; stroke-opacity:1; fill:none\" points=\"\n",
       "  2058.31,1445.72 2058.31,1445.72 2116.74,1445.72 2058.31,1445.72 \n",
       "  \"/>\n",
       "<path clip-path=\"url(#clip712)\" d=\"\n",
       "M2116.74 1445.72 L2116.74 1445.72 L2175.17 1445.72 L2175.17 1445.72 L2116.74 1445.72 L2116.74 1445.72  Z\n",
       "  \" fill=\"#009af9\" fill-rule=\"evenodd\" fill-opacity=\"1\"/>\n",
       "<polyline clip-path=\"url(#clip712)\" style=\"stroke:#000000; stroke-width:4; stroke-opacity:1; fill:none\" points=\"\n",
       "  2116.74,1445.72 2116.74,1445.72 2175.17,1445.72 2116.74,1445.72 \n",
       "  \"/>\n",
       "<path clip-path=\"url(#clip712)\" d=\"\n",
       "M2175.17 1443.32 L2175.17 1445.72 L2233.6 1445.72 L2233.6 1443.32 L2175.17 1443.32 L2175.17 1443.32  Z\n",
       "  \" fill=\"#009af9\" fill-rule=\"evenodd\" fill-opacity=\"1\"/>\n",
       "<polyline clip-path=\"url(#clip712)\" style=\"stroke:#000000; stroke-width:4; stroke-opacity:1; fill:none\" points=\"\n",
       "  2175.17,1443.32 2175.17,1445.72 2233.6,1445.72 2233.6,1443.32 2175.17,1443.32 \n",
       "  \"/>\n",
       "</svg>\n"
      ]
     },
     "execution_count": 59,
     "metadata": {},
     "output_type": "execute_result"
    }
   ],
   "source": [
    "histogram([X() for x in 1:1e4], leg=false, normed=true)"
   ]
  },
  {
   "cell_type": "code",
   "execution_count": 60,
   "metadata": {
    "hidden": true
   },
   "outputs": [
    {
     "data": {
      "image/svg+xml": [
       "<?xml version=\"1.0\" encoding=\"utf-8\"?>\n",
       "<svg xmlns=\"http://www.w3.org/2000/svg\" xmlns:xlink=\"http://www.w3.org/1999/xlink\" width=\"600\" height=\"400\" viewBox=\"0 0 2400 1600\">\n",
       "<defs>\n",
       "  <clipPath id=\"clip750\">\n",
       "    <rect x=\"0\" y=\"0\" width=\"2400\" height=\"1600\"/>\n",
       "  </clipPath>\n",
       "</defs>\n",
       "<path clip-path=\"url(#clip750)\" d=\"\n",
       "M0 1600 L2400 1600 L2400 0 L0 0  Z\n",
       "  \" fill=\"#ffffff\" fill-rule=\"evenodd\" fill-opacity=\"1\"/>\n",
       "<defs>\n",
       "  <clipPath id=\"clip751\">\n",
       "    <rect x=\"480\" y=\"0\" width=\"1681\" height=\"1600\"/>\n",
       "  </clipPath>\n",
       "</defs>\n",
       "<path clip-path=\"url(#clip750)\" d=\"\n",
       "M186.274 1486.45 L2352.76 1486.45 L2352.76 47.2441 L186.274 47.2441  Z\n",
       "  \" fill=\"#ffffff\" fill-rule=\"evenodd\" fill-opacity=\"1\"/>\n",
       "<defs>\n",
       "  <clipPath id=\"clip752\">\n",
       "    <rect x=\"186\" y=\"47\" width=\"2167\" height=\"1440\"/>\n",
       "  </clipPath>\n",
       "</defs>\n",
       "<polyline clip-path=\"url(#clip752)\" style=\"stroke:#000000; stroke-width:2; stroke-opacity:0.1; fill:none\" points=\"\n",
       "  296.953,1486.45 296.953,47.2441 \n",
       "  \"/>\n",
       "<polyline clip-path=\"url(#clip752)\" style=\"stroke:#000000; stroke-width:2; stroke-opacity:0.1; fill:none\" points=\"\n",
       "  795.575,1486.45 795.575,47.2441 \n",
       "  \"/>\n",
       "<polyline clip-path=\"url(#clip752)\" style=\"stroke:#000000; stroke-width:2; stroke-opacity:0.1; fill:none\" points=\"\n",
       "  1294.2,1486.45 1294.2,47.2441 \n",
       "  \"/>\n",
       "<polyline clip-path=\"url(#clip752)\" style=\"stroke:#000000; stroke-width:2; stroke-opacity:0.1; fill:none\" points=\"\n",
       "  1792.82,1486.45 1792.82,47.2441 \n",
       "  \"/>\n",
       "<polyline clip-path=\"url(#clip752)\" style=\"stroke:#000000; stroke-width:2; stroke-opacity:0.1; fill:none\" points=\"\n",
       "  2291.44,1486.45 2291.44,47.2441 \n",
       "  \"/>\n",
       "<polyline clip-path=\"url(#clip750)\" style=\"stroke:#000000; stroke-width:4; stroke-opacity:1; fill:none\" points=\"\n",
       "  186.274,1486.45 2352.76,1486.45 \n",
       "  \"/>\n",
       "<polyline clip-path=\"url(#clip750)\" style=\"stroke:#000000; stroke-width:4; stroke-opacity:1; fill:none\" points=\"\n",
       "  296.953,1486.45 296.953,1469.18 \n",
       "  \"/>\n",
       "<polyline clip-path=\"url(#clip750)\" style=\"stroke:#000000; stroke-width:4; stroke-opacity:1; fill:none\" points=\"\n",
       "  795.575,1486.45 795.575,1469.18 \n",
       "  \"/>\n",
       "<polyline clip-path=\"url(#clip750)\" style=\"stroke:#000000; stroke-width:4; stroke-opacity:1; fill:none\" points=\"\n",
       "  1294.2,1486.45 1294.2,1469.18 \n",
       "  \"/>\n",
       "<polyline clip-path=\"url(#clip750)\" style=\"stroke:#000000; stroke-width:4; stroke-opacity:1; fill:none\" points=\"\n",
       "  1792.82,1486.45 1792.82,1469.18 \n",
       "  \"/>\n",
       "<polyline clip-path=\"url(#clip750)\" style=\"stroke:#000000; stroke-width:4; stroke-opacity:1; fill:none\" points=\"\n",
       "  2291.44,1486.45 2291.44,1469.18 \n",
       "  \"/>\n",
       "<path clip-path=\"url(#clip750)\" d=\"M 0 0 M296.953 1515.64 Q293.342 1515.64 291.513 1519.2 Q289.708 1522.75 289.708 1529.87 Q289.708 1536.98 291.513 1540.55 Q293.342 1544.09 296.953 1544.09 Q300.587 1544.09 302.393 1540.55 Q304.222 1536.98 304.222 1529.87 Q304.222 1522.75 302.393 1519.2 Q300.587 1515.64 296.953 1515.64 M296.953 1511.93 Q302.763 1511.93 305.819 1516.54 Q308.897 1521.12 308.897 1529.87 Q308.897 1538.6 305.819 1543.21 Q302.763 1547.79 296.953 1547.79 Q291.143 1547.79 288.064 1543.21 Q285.009 1538.6 285.009 1529.87 Q285.009 1521.12 288.064 1516.54 Q291.143 1511.93 296.953 1511.93 Z\" fill=\"#000000\" fill-rule=\"evenodd\" fill-opacity=\"1\" /><path clip-path=\"url(#clip750)\" d=\"M 0 0 M785.853 1512.56 L804.209 1512.56 L804.209 1516.5 L790.135 1516.5 L790.135 1524.97 Q791.154 1524.62 792.172 1524.46 Q793.191 1524.27 794.209 1524.27 Q799.996 1524.27 803.376 1527.44 Q806.755 1530.62 806.755 1536.03 Q806.755 1541.61 803.283 1544.71 Q799.811 1547.79 793.492 1547.79 Q791.316 1547.79 789.047 1547.42 Q786.802 1547.05 784.394 1546.31 L784.394 1541.61 Q786.478 1542.74 788.7 1543.3 Q790.922 1543.86 793.399 1543.86 Q797.404 1543.86 799.742 1541.75 Q802.08 1539.64 802.08 1536.03 Q802.08 1532.42 799.742 1530.31 Q797.404 1528.21 793.399 1528.21 Q791.524 1528.21 789.649 1528.62 Q787.797 1529.04 785.853 1529.92 L785.853 1512.56 Z\" fill=\"#000000\" fill-rule=\"evenodd\" fill-opacity=\"1\" /><path clip-path=\"url(#clip750)\" d=\"M 0 0 M1268.88 1543.18 L1276.52 1543.18 L1276.52 1516.82 L1268.21 1518.49 L1268.21 1514.23 L1276.48 1512.56 L1281.15 1512.56 L1281.15 1543.18 L1288.79 1543.18 L1288.79 1547.12 L1268.88 1547.12 L1268.88 1543.18 Z\" fill=\"#000000\" fill-rule=\"evenodd\" fill-opacity=\"1\" /><path clip-path=\"url(#clip750)\" d=\"M 0 0 M1308.24 1515.64 Q1304.62 1515.64 1302.8 1519.2 Q1300.99 1522.75 1300.99 1529.87 Q1300.99 1536.98 1302.8 1540.55 Q1304.62 1544.09 1308.24 1544.09 Q1311.87 1544.09 1313.68 1540.55 Q1315.5 1536.98 1315.5 1529.87 Q1315.5 1522.75 1313.68 1519.2 Q1311.87 1515.64 1308.24 1515.64 M1308.24 1511.93 Q1314.05 1511.93 1317.1 1516.54 Q1320.18 1521.12 1320.18 1529.87 Q1320.18 1538.6 1317.1 1543.21 Q1314.05 1547.79 1308.24 1547.79 Q1302.43 1547.79 1299.35 1543.21 Q1296.29 1538.6 1296.29 1529.87 Q1296.29 1521.12 1299.35 1516.54 Q1302.43 1511.93 1308.24 1511.93 Z\" fill=\"#000000\" fill-rule=\"evenodd\" fill-opacity=\"1\" /><path clip-path=\"url(#clip750)\" d=\"M 0 0 M1768 1543.18 L1775.64 1543.18 L1775.64 1516.82 L1767.33 1518.49 L1767.33 1514.23 L1775.6 1512.56 L1780.27 1512.56 L1780.27 1543.18 L1787.91 1543.18 L1787.91 1547.12 L1768 1547.12 L1768 1543.18 Z\" fill=\"#000000\" fill-rule=\"evenodd\" fill-opacity=\"1\" /><path clip-path=\"url(#clip750)\" d=\"M 0 0 M1797.4 1512.56 L1815.76 1512.56 L1815.76 1516.5 L1801.68 1516.5 L1801.68 1524.97 Q1802.7 1524.62 1803.72 1524.46 Q1804.74 1524.27 1805.76 1524.27 Q1811.55 1524.27 1814.92 1527.44 Q1818.3 1530.62 1818.3 1536.03 Q1818.3 1541.61 1814.83 1544.71 Q1811.36 1547.79 1805.04 1547.79 Q1802.86 1547.79 1800.6 1547.42 Q1798.35 1547.05 1795.94 1546.31 L1795.94 1541.61 Q1798.03 1542.74 1800.25 1543.3 Q1802.47 1543.86 1804.95 1543.86 Q1808.95 1543.86 1811.29 1541.75 Q1813.63 1539.64 1813.63 1536.03 Q1813.63 1532.42 1811.29 1530.31 Q1808.95 1528.21 1804.95 1528.21 Q1803.07 1528.21 1801.2 1528.62 Q1799.35 1529.04 1797.4 1529.92 L1797.4 1512.56 Z\" fill=\"#000000\" fill-rule=\"evenodd\" fill-opacity=\"1\" /><path clip-path=\"url(#clip750)\" d=\"M 0 0 M2270.21 1543.18 L2286.53 1543.18 L2286.53 1547.12 L2264.59 1547.12 L2264.59 1543.18 Q2267.25 1540.43 2271.83 1535.8 Q2276.44 1531.15 2277.62 1529.81 Q2279.87 1527.28 2280.75 1525.55 Q2281.65 1523.79 2281.65 1522.1 Q2281.65 1519.34 2279.7 1517.61 Q2277.78 1515.87 2274.68 1515.87 Q2272.48 1515.87 2270.03 1516.63 Q2267.6 1517.4 2264.82 1518.95 L2264.82 1514.23 Q2267.64 1513.09 2270.1 1512.51 Q2272.55 1511.93 2274.59 1511.93 Q2279.96 1511.93 2283.15 1514.62 Q2286.35 1517.31 2286.35 1521.8 Q2286.35 1523.93 2285.54 1525.85 Q2284.75 1527.74 2282.64 1530.34 Q2282.07 1531.01 2278.96 1534.23 Q2275.86 1537.42 2270.21 1543.18 Z\" fill=\"#000000\" fill-rule=\"evenodd\" fill-opacity=\"1\" /><path clip-path=\"url(#clip750)\" d=\"M 0 0 M2306.35 1515.64 Q2302.74 1515.64 2300.91 1519.2 Q2299.1 1522.75 2299.1 1529.87 Q2299.1 1536.98 2300.91 1540.55 Q2302.74 1544.09 2306.35 1544.09 Q2309.98 1544.09 2311.79 1540.55 Q2313.62 1536.98 2313.62 1529.87 Q2313.62 1522.75 2311.79 1519.2 Q2309.98 1515.64 2306.35 1515.64 M2306.35 1511.93 Q2312.16 1511.93 2315.21 1516.54 Q2318.29 1521.12 2318.29 1529.87 Q2318.29 1538.6 2315.21 1543.21 Q2312.16 1547.79 2306.35 1547.79 Q2300.54 1547.79 2297.46 1543.21 Q2294.4 1538.6 2294.4 1529.87 Q2294.4 1521.12 2297.46 1516.54 Q2300.54 1511.93 2306.35 1511.93 Z\" fill=\"#000000\" fill-rule=\"evenodd\" fill-opacity=\"1\" /><polyline clip-path=\"url(#clip752)\" style=\"stroke:#000000; stroke-width:2; stroke-opacity:0.1; fill:none\" points=\"\n",
       "  186.274,1445.72 2352.76,1445.72 \n",
       "  \"/>\n",
       "<polyline clip-path=\"url(#clip752)\" style=\"stroke:#000000; stroke-width:2; stroke-opacity:0.1; fill:none\" points=\"\n",
       "  186.274,1145.86 2352.76,1145.86 \n",
       "  \"/>\n",
       "<polyline clip-path=\"url(#clip752)\" style=\"stroke:#000000; stroke-width:2; stroke-opacity:0.1; fill:none\" points=\"\n",
       "  186.274,846.007 2352.76,846.007 \n",
       "  \"/>\n",
       "<polyline clip-path=\"url(#clip752)\" style=\"stroke:#000000; stroke-width:2; stroke-opacity:0.1; fill:none\" points=\"\n",
       "  186.274,546.153 2352.76,546.153 \n",
       "  \"/>\n",
       "<polyline clip-path=\"url(#clip752)\" style=\"stroke:#000000; stroke-width:2; stroke-opacity:0.1; fill:none\" points=\"\n",
       "  186.274,246.299 2352.76,246.299 \n",
       "  \"/>\n",
       "<polyline clip-path=\"url(#clip750)\" style=\"stroke:#000000; stroke-width:4; stroke-opacity:1; fill:none\" points=\"\n",
       "  186.274,1486.45 186.274,47.2441 \n",
       "  \"/>\n",
       "<polyline clip-path=\"url(#clip750)\" style=\"stroke:#000000; stroke-width:4; stroke-opacity:1; fill:none\" points=\"\n",
       "  186.274,1445.72 212.272,1445.72 \n",
       "  \"/>\n",
       "<polyline clip-path=\"url(#clip750)\" style=\"stroke:#000000; stroke-width:4; stroke-opacity:1; fill:none\" points=\"\n",
       "  186.274,1145.86 212.272,1145.86 \n",
       "  \"/>\n",
       "<polyline clip-path=\"url(#clip750)\" style=\"stroke:#000000; stroke-width:4; stroke-opacity:1; fill:none\" points=\"\n",
       "  186.274,846.007 212.272,846.007 \n",
       "  \"/>\n",
       "<polyline clip-path=\"url(#clip750)\" style=\"stroke:#000000; stroke-width:4; stroke-opacity:1; fill:none\" points=\"\n",
       "  186.274,546.153 212.272,546.153 \n",
       "  \"/>\n",
       "<polyline clip-path=\"url(#clip750)\" style=\"stroke:#000000; stroke-width:4; stroke-opacity:1; fill:none\" points=\"\n",
       "  186.274,246.299 212.272,246.299 \n",
       "  \"/>\n",
       "<path clip-path=\"url(#clip750)\" d=\"M 0 0 M62.9365 1431.51 Q59.3254 1431.51 57.4967 1435.08 Q55.6912 1438.62 55.6912 1445.75 Q55.6912 1452.86 57.4967 1456.42 Q59.3254 1459.96 62.9365 1459.96 Q66.5707 1459.96 68.3763 1456.42 Q70.205 1452.86 70.205 1445.75 Q70.205 1438.62 68.3763 1435.08 Q66.5707 1431.51 62.9365 1431.51 M62.9365 1427.81 Q68.7467 1427.81 71.8022 1432.42 Q74.8809 1437 74.8809 1445.75 Q74.8809 1454.48 71.8022 1459.08 Q68.7467 1463.67 62.9365 1463.67 Q57.1264 1463.67 54.0477 1459.08 Q50.9921 1454.48 50.9921 1445.75 Q50.9921 1437 54.0477 1432.42 Q57.1264 1427.81 62.9365 1427.81 Z\" fill=\"#000000\" fill-rule=\"evenodd\" fill-opacity=\"1\" /><path clip-path=\"url(#clip750)\" d=\"M 0 0 M83.0984 1457.12 L87.9827 1457.12 L87.9827 1463 L83.0984 1463 L83.0984 1457.12 Z\" fill=\"#000000\" fill-rule=\"evenodd\" fill-opacity=\"1\" /><path clip-path=\"url(#clip750)\" d=\"M 0 0 M108.168 1431.51 Q104.557 1431.51 102.728 1435.08 Q100.922 1438.62 100.922 1445.75 Q100.922 1452.86 102.728 1456.42 Q104.557 1459.96 108.168 1459.96 Q111.802 1459.96 113.608 1456.42 Q115.436 1452.86 115.436 1445.75 Q115.436 1438.62 113.608 1435.08 Q111.802 1431.51 108.168 1431.51 M108.168 1427.81 Q113.978 1427.81 117.033 1432.42 Q120.112 1437 120.112 1445.75 Q120.112 1454.48 117.033 1459.08 Q113.978 1463.67 108.168 1463.67 Q102.358 1463.67 99.2789 1459.08 Q96.2234 1454.48 96.2234 1445.75 Q96.2234 1437 99.2789 1432.42 Q102.358 1427.81 108.168 1427.81 Z\" fill=\"#000000\" fill-rule=\"evenodd\" fill-opacity=\"1\" /><path clip-path=\"url(#clip750)\" d=\"M 0 0 M138.33 1431.51 Q134.719 1431.51 132.89 1435.08 Q131.084 1438.62 131.084 1445.75 Q131.084 1452.86 132.89 1456.42 Q134.719 1459.96 138.33 1459.96 Q141.964 1459.96 143.769 1456.42 Q145.598 1452.86 145.598 1445.75 Q145.598 1438.62 143.769 1435.08 Q141.964 1431.51 138.33 1431.51 M138.33 1427.81 Q144.14 1427.81 147.195 1432.42 Q150.274 1437 150.274 1445.75 Q150.274 1454.48 147.195 1459.08 Q144.14 1463.67 138.33 1463.67 Q132.519 1463.67 129.441 1459.08 Q126.385 1454.48 126.385 1445.75 Q126.385 1437 129.441 1432.42 Q132.519 1427.81 138.33 1427.81 Z\" fill=\"#000000\" fill-rule=\"evenodd\" fill-opacity=\"1\" /><path clip-path=\"url(#clip750)\" d=\"M 0 0 M63.9319 1131.66 Q60.3208 1131.66 58.4921 1135.23 Q56.6865 1138.77 56.6865 1145.9 Q56.6865 1153 58.4921 1156.57 Q60.3208 1160.11 63.9319 1160.11 Q67.5661 1160.11 69.3717 1156.57 Q71.2004 1153 71.2004 1145.9 Q71.2004 1138.77 69.3717 1135.23 Q67.5661 1131.66 63.9319 1131.66 M63.9319 1127.96 Q69.742 1127.96 72.7976 1132.56 Q75.8763 1137.15 75.8763 1145.9 Q75.8763 1154.62 72.7976 1159.23 Q69.742 1163.81 63.9319 1163.81 Q58.1217 1163.81 55.043 1159.23 Q51.9875 1154.62 51.9875 1145.9 Q51.9875 1137.15 55.043 1132.56 Q58.1217 1127.96 63.9319 1127.96 Z\" fill=\"#000000\" fill-rule=\"evenodd\" fill-opacity=\"1\" /><path clip-path=\"url(#clip750)\" d=\"M 0 0 M84.0938 1157.26 L88.978 1157.26 L88.978 1163.14 L84.0938 1163.14 L84.0938 1157.26 Z\" fill=\"#000000\" fill-rule=\"evenodd\" fill-opacity=\"1\" /><path clip-path=\"url(#clip750)\" d=\"M 0 0 M109.163 1131.66 Q105.552 1131.66 103.723 1135.23 Q101.918 1138.77 101.918 1145.9 Q101.918 1153 103.723 1156.57 Q105.552 1160.11 109.163 1160.11 Q112.797 1160.11 114.603 1156.57 Q116.432 1153 116.432 1145.9 Q116.432 1138.77 114.603 1135.23 Q112.797 1131.66 109.163 1131.66 M109.163 1127.96 Q114.973 1127.96 118.029 1132.56 Q121.107 1137.15 121.107 1145.9 Q121.107 1154.62 118.029 1159.23 Q114.973 1163.81 109.163 1163.81 Q103.353 1163.81 100.274 1159.23 Q97.2187 1154.62 97.2187 1145.9 Q97.2187 1137.15 100.274 1132.56 Q103.353 1127.96 109.163 1127.96 Z\" fill=\"#000000\" fill-rule=\"evenodd\" fill-opacity=\"1\" /><path clip-path=\"url(#clip750)\" d=\"M 0 0 M129.371 1128.58 L147.728 1128.58 L147.728 1132.52 L133.654 1132.52 L133.654 1140.99 Q134.672 1140.64 135.691 1140.48 Q136.709 1140.29 137.728 1140.29 Q143.515 1140.29 146.894 1143.47 Q150.274 1146.64 150.274 1152.05 Q150.274 1157.63 146.802 1160.73 Q143.33 1163.81 137.01 1163.81 Q134.834 1163.81 132.566 1163.44 Q130.32 1163.07 127.913 1162.33 L127.913 1157.63 Q129.996 1158.77 132.219 1159.32 Q134.441 1159.88 136.918 1159.88 Q140.922 1159.88 143.26 1157.77 Q145.598 1155.66 145.598 1152.05 Q145.598 1148.44 143.26 1146.34 Q140.922 1144.23 136.918 1144.23 Q135.043 1144.23 133.168 1144.65 Q131.316 1145.06 129.371 1145.94 L129.371 1128.58 Z\" fill=\"#000000\" fill-rule=\"evenodd\" fill-opacity=\"1\" /><path clip-path=\"url(#clip750)\" d=\"M 0 0 M62.9365 831.806 Q59.3254 831.806 57.4967 835.371 Q55.6912 838.913 55.6912 846.042 Q55.6912 853.149 57.4967 856.713 Q59.3254 860.255 62.9365 860.255 Q66.5707 860.255 68.3763 856.713 Q70.205 853.149 70.205 846.042 Q70.205 838.913 68.3763 835.371 Q66.5707 831.806 62.9365 831.806 M62.9365 828.102 Q68.7467 828.102 71.8022 832.709 Q74.8809 837.292 74.8809 846.042 Q74.8809 854.769 71.8022 859.375 Q68.7467 863.959 62.9365 863.959 Q57.1264 863.959 54.0477 859.375 Q50.9921 854.769 50.9921 846.042 Q50.9921 837.292 54.0477 832.709 Q57.1264 828.102 62.9365 828.102 Z\" fill=\"#000000\" fill-rule=\"evenodd\" fill-opacity=\"1\" /><path clip-path=\"url(#clip750)\" d=\"M 0 0 M83.0984 857.408 L87.9827 857.408 L87.9827 863.287 L83.0984 863.287 L83.0984 857.408 Z\" fill=\"#000000\" fill-rule=\"evenodd\" fill-opacity=\"1\" /><path clip-path=\"url(#clip750)\" d=\"M 0 0 M98.978 859.352 L106.617 859.352 L106.617 832.987 L98.3067 834.653 L98.3067 830.394 L106.571 828.727 L111.246 828.727 L111.246 859.352 L118.885 859.352 L118.885 863.287 L98.978 863.287 L98.978 859.352 Z\" fill=\"#000000\" fill-rule=\"evenodd\" fill-opacity=\"1\" /><path clip-path=\"url(#clip750)\" d=\"M 0 0 M138.33 831.806 Q134.719 831.806 132.89 835.371 Q131.084 838.913 131.084 846.042 Q131.084 853.149 132.89 856.713 Q134.719 860.255 138.33 860.255 Q141.964 860.255 143.769 856.713 Q145.598 853.149 145.598 846.042 Q145.598 838.913 143.769 835.371 Q141.964 831.806 138.33 831.806 M138.33 828.102 Q144.14 828.102 147.195 832.709 Q150.274 837.292 150.274 846.042 Q150.274 854.769 147.195 859.375 Q144.14 863.959 138.33 863.959 Q132.519 863.959 129.441 859.375 Q126.385 854.769 126.385 846.042 Q126.385 837.292 129.441 832.709 Q132.519 828.102 138.33 828.102 Z\" fill=\"#000000\" fill-rule=\"evenodd\" fill-opacity=\"1\" /><path clip-path=\"url(#clip750)\" d=\"M 0 0 M63.9319 531.952 Q60.3208 531.952 58.4921 535.517 Q56.6865 539.058 56.6865 546.188 Q56.6865 553.295 58.4921 556.859 Q60.3208 560.401 63.9319 560.401 Q67.5661 560.401 69.3717 556.859 Q71.2004 553.295 71.2004 546.188 Q71.2004 539.058 69.3717 535.517 Q67.5661 531.952 63.9319 531.952 M63.9319 528.248 Q69.742 528.248 72.7976 532.855 Q75.8763 537.438 75.8763 546.188 Q75.8763 554.915 72.7976 559.521 Q69.742 564.105 63.9319 564.105 Q58.1217 564.105 55.043 559.521 Q51.9875 554.915 51.9875 546.188 Q51.9875 537.438 55.043 532.855 Q58.1217 528.248 63.9319 528.248 Z\" fill=\"#000000\" fill-rule=\"evenodd\" fill-opacity=\"1\" /><path clip-path=\"url(#clip750)\" d=\"M 0 0 M84.0938 557.554 L88.978 557.554 L88.978 563.433 L84.0938 563.433 L84.0938 557.554 Z\" fill=\"#000000\" fill-rule=\"evenodd\" fill-opacity=\"1\" /><path clip-path=\"url(#clip750)\" d=\"M 0 0 M99.9733 559.498 L107.612 559.498 L107.612 533.133 L99.3021 534.799 L99.3021 530.54 L107.566 528.873 L112.242 528.873 L112.242 559.498 L119.881 559.498 L119.881 563.433 L99.9733 563.433 L99.9733 559.498 Z\" fill=\"#000000\" fill-rule=\"evenodd\" fill-opacity=\"1\" /><path clip-path=\"url(#clip750)\" d=\"M 0 0 M129.371 528.873 L147.728 528.873 L147.728 532.809 L133.654 532.809 L133.654 541.281 Q134.672 540.933 135.691 540.771 Q136.709 540.586 137.728 540.586 Q143.515 540.586 146.894 543.758 Q150.274 546.929 150.274 552.345 Q150.274 557.924 146.802 561.026 Q143.33 564.105 137.01 564.105 Q134.834 564.105 132.566 563.734 Q130.32 563.364 127.913 562.623 L127.913 557.924 Q129.996 559.058 132.219 559.614 Q134.441 560.169 136.918 560.169 Q140.922 560.169 143.26 558.063 Q145.598 555.957 145.598 552.345 Q145.598 548.734 143.26 546.628 Q140.922 544.521 136.918 544.521 Q135.043 544.521 133.168 544.938 Q131.316 545.355 129.371 546.234 L129.371 528.873 Z\" fill=\"#000000\" fill-rule=\"evenodd\" fill-opacity=\"1\" /><path clip-path=\"url(#clip750)\" d=\"M 0 0 M62.9365 232.098 Q59.3254 232.098 57.4967 235.663 Q55.6912 239.204 55.6912 246.334 Q55.6912 253.44 57.4967 257.005 Q59.3254 260.547 62.9365 260.547 Q66.5707 260.547 68.3763 257.005 Q70.205 253.44 70.205 246.334 Q70.205 239.204 68.3763 235.663 Q66.5707 232.098 62.9365 232.098 M62.9365 228.394 Q68.7467 228.394 71.8022 233.001 Q74.8809 237.584 74.8809 246.334 Q74.8809 255.061 71.8022 259.667 Q68.7467 264.251 62.9365 264.251 Q57.1264 264.251 54.0477 259.667 Q50.9921 255.061 50.9921 246.334 Q50.9921 237.584 54.0477 233.001 Q57.1264 228.394 62.9365 228.394 Z\" fill=\"#000000\" fill-rule=\"evenodd\" fill-opacity=\"1\" /><path clip-path=\"url(#clip750)\" d=\"M 0 0 M83.0984 257.7 L87.9827 257.7 L87.9827 263.579 L83.0984 263.579 L83.0984 257.7 Z\" fill=\"#000000\" fill-rule=\"evenodd\" fill-opacity=\"1\" /><path clip-path=\"url(#clip750)\" d=\"M 0 0 M102.196 259.644 L118.515 259.644 L118.515 263.579 L96.5706 263.579 L96.5706 259.644 Q99.2326 256.889 103.816 252.26 Q108.422 247.607 109.603 246.265 Q111.848 243.741 112.728 242.005 Q113.631 240.246 113.631 238.556 Q113.631 235.802 111.686 234.066 Q109.765 232.329 106.663 232.329 Q104.464 232.329 102.01 233.093 Q99.5798 233.857 96.8021 235.408 L96.8021 230.686 Q99.6261 229.552 102.08 228.973 Q104.534 228.394 106.571 228.394 Q111.941 228.394 115.135 231.079 Q118.33 233.765 118.33 238.255 Q118.33 240.385 117.52 242.306 Q116.733 244.204 114.626 246.797 Q114.047 247.468 110.946 250.686 Q107.844 253.88 102.196 259.644 Z\" fill=\"#000000\" fill-rule=\"evenodd\" fill-opacity=\"1\" /><path clip-path=\"url(#clip750)\" d=\"M 0 0 M138.33 232.098 Q134.719 232.098 132.89 235.663 Q131.084 239.204 131.084 246.334 Q131.084 253.44 132.89 257.005 Q134.719 260.547 138.33 260.547 Q141.964 260.547 143.769 257.005 Q145.598 253.44 145.598 246.334 Q145.598 239.204 143.769 235.663 Q141.964 232.098 138.33 232.098 M138.33 228.394 Q144.14 228.394 147.195 233.001 Q150.274 237.584 150.274 246.334 Q150.274 255.061 147.195 259.667 Q144.14 264.251 138.33 264.251 Q132.519 264.251 129.441 259.667 Q126.385 255.061 126.385 246.334 Q126.385 237.584 129.441 233.001 Q132.519 228.394 138.33 228.394 Z\" fill=\"#000000\" fill-rule=\"evenodd\" fill-opacity=\"1\" /><path clip-path=\"url(#clip752)\" d=\"\n",
       "M296.953 1336.57 L296.953 1445.72 L346.815 1445.72 L346.815 1336.57 L296.953 1336.57 L296.953 1336.57  Z\n",
       "  \" fill=\"#009af9\" fill-rule=\"evenodd\" fill-opacity=\"1\"/>\n",
       "<polyline clip-path=\"url(#clip752)\" style=\"stroke:#000000; stroke-width:4; stroke-opacity:1; fill:none\" points=\"\n",
       "  296.953,1336.57 296.953,1445.72 346.815,1445.72 346.815,1336.57 296.953,1336.57 \n",
       "  \"/>\n",
       "<path clip-path=\"url(#clip752)\" d=\"\n",
       "M346.815 859.201 L346.815 1445.72 L396.677 1445.72 L396.677 859.201 L346.815 859.201 L346.815 859.201  Z\n",
       "  \" fill=\"#009af9\" fill-rule=\"evenodd\" fill-opacity=\"1\"/>\n",
       "<polyline clip-path=\"url(#clip752)\" style=\"stroke:#000000; stroke-width:4; stroke-opacity:1; fill:none\" points=\"\n",
       "  346.815,859.201 346.815,1445.72 396.677,1445.72 396.677,859.201 346.815,859.201 \n",
       "  \"/>\n",
       "<path clip-path=\"url(#clip752)\" d=\"\n",
       "M396.677 567.743 L396.677 1445.72 L446.54 1445.72 L446.54 567.743 L396.677 567.743 L396.677 567.743  Z\n",
       "  \" fill=\"#009af9\" fill-rule=\"evenodd\" fill-opacity=\"1\"/>\n",
       "<polyline clip-path=\"url(#clip752)\" style=\"stroke:#000000; stroke-width:4; stroke-opacity:1; fill:none\" points=\"\n",
       "  396.677,567.743 396.677,1445.72 446.54,1445.72 446.54,567.743 396.677,567.743 \n",
       "  \"/>\n",
       "<path clip-path=\"url(#clip752)\" d=\"\n",
       "M446.54 228.308 L446.54 1445.72 L496.402 1445.72 L496.402 228.308 L446.54 228.308 L446.54 228.308  Z\n",
       "  \" fill=\"#009af9\" fill-rule=\"evenodd\" fill-opacity=\"1\"/>\n",
       "<polyline clip-path=\"url(#clip752)\" style=\"stroke:#000000; stroke-width:4; stroke-opacity:1; fill:none\" points=\"\n",
       "  446.54,228.308 446.54,1445.72 496.402,1445.72 496.402,228.308 446.54,228.308 \n",
       "  \"/>\n",
       "<path clip-path=\"url(#clip752)\" d=\"\n",
       "M496.402 87.9763 L496.402 1445.72 L546.264 1445.72 L546.264 87.9763 L496.402 87.9763 L496.402 87.9763  Z\n",
       "  \" fill=\"#009af9\" fill-rule=\"evenodd\" fill-opacity=\"1\"/>\n",
       "<polyline clip-path=\"url(#clip752)\" style=\"stroke:#000000; stroke-width:4; stroke-opacity:1; fill:none\" points=\"\n",
       "  496.402,87.9763 496.402,1445.72 546.264,1445.72 546.264,87.9763 496.402,87.9763 \n",
       "  \"/>\n",
       "<path clip-path=\"url(#clip752)\" d=\"\n",
       "M546.264 161.141 L546.264 1445.72 L596.126 1445.72 L596.126 161.141 L546.264 161.141 L546.264 161.141  Z\n",
       "  \" fill=\"#009af9\" fill-rule=\"evenodd\" fill-opacity=\"1\"/>\n",
       "<polyline clip-path=\"url(#clip752)\" style=\"stroke:#000000; stroke-width:4; stroke-opacity:1; fill:none\" points=\"\n",
       "  546.264,161.141 546.264,1445.72 596.126,1445.72 596.126,161.141 546.264,161.141 \n",
       "  \"/>\n",
       "<path clip-path=\"url(#clip752)\" d=\"\n",
       "M596.126 279.883 L596.126 1445.72 L645.988 1445.72 L645.988 279.883 L596.126 279.883 L596.126 279.883  Z\n",
       "  \" fill=\"#009af9\" fill-rule=\"evenodd\" fill-opacity=\"1\"/>\n",
       "<polyline clip-path=\"url(#clip752)\" style=\"stroke:#000000; stroke-width:4; stroke-opacity:1; fill:none\" points=\"\n",
       "  596.126,279.883 596.126,1445.72 645.988,1445.72 645.988,279.883 596.126,279.883 \n",
       "  \"/>\n",
       "<path clip-path=\"url(#clip752)\" d=\"\n",
       "M645.988 379.434 L645.988 1445.72 L695.851 1445.72 L695.851 379.434 L645.988 379.434 L645.988 379.434  Z\n",
       "  \" fill=\"#009af9\" fill-rule=\"evenodd\" fill-opacity=\"1\"/>\n",
       "<polyline clip-path=\"url(#clip752)\" style=\"stroke:#000000; stroke-width:4; stroke-opacity:1; fill:none\" points=\"\n",
       "  645.988,379.434 645.988,1445.72 695.851,1445.72 695.851,379.434 645.988,379.434 \n",
       "  \"/>\n",
       "<path clip-path=\"url(#clip752)\" d=\"\n",
       "M695.851 514.969 L695.851 1445.72 L745.713 1445.72 L745.713 514.969 L695.851 514.969 L695.851 514.969  Z\n",
       "  \" fill=\"#009af9\" fill-rule=\"evenodd\" fill-opacity=\"1\"/>\n",
       "<polyline clip-path=\"url(#clip752)\" style=\"stroke:#000000; stroke-width:4; stroke-opacity:1; fill:none\" points=\"\n",
       "  695.851,514.969 695.851,1445.72 745.713,1445.72 745.713,514.969 695.851,514.969 \n",
       "  \"/>\n",
       "<path clip-path=\"url(#clip752)\" d=\"\n",
       "M745.713 708.075 L745.713 1445.72 L795.575 1445.72 L795.575 708.075 L745.713 708.075 L745.713 708.075  Z\n",
       "  \" fill=\"#009af9\" fill-rule=\"evenodd\" fill-opacity=\"1\"/>\n",
       "<polyline clip-path=\"url(#clip752)\" style=\"stroke:#000000; stroke-width:4; stroke-opacity:1; fill:none\" points=\"\n",
       "  745.713,708.075 745.713,1445.72 795.575,1445.72 795.575,708.075 745.713,708.075 \n",
       "  \"/>\n",
       "<path clip-path=\"url(#clip752)\" d=\"\n",
       "M795.575 806.427 L795.575 1445.72 L845.437 1445.72 L845.437 806.427 L795.575 806.427 L795.575 806.427  Z\n",
       "  \" fill=\"#009af9\" fill-rule=\"evenodd\" fill-opacity=\"1\"/>\n",
       "<polyline clip-path=\"url(#clip752)\" style=\"stroke:#000000; stroke-width:4; stroke-opacity:1; fill:none\" points=\"\n",
       "  795.575,806.427 795.575,1445.72 845.437,1445.72 845.437,806.427 795.575,806.427 \n",
       "  \"/>\n",
       "<path clip-path=\"url(#clip752)\" d=\"\n",
       "M845.437 952.756 L845.437 1445.72 L895.299 1445.72 L895.299 952.756 L845.437 952.756 L845.437 952.756  Z\n",
       "  \" fill=\"#009af9\" fill-rule=\"evenodd\" fill-opacity=\"1\"/>\n",
       "<polyline clip-path=\"url(#clip752)\" style=\"stroke:#000000; stroke-width:4; stroke-opacity:1; fill:none\" points=\"\n",
       "  845.437,952.756 845.437,1445.72 895.299,1445.72 895.299,952.756 845.437,952.756 \n",
       "  \"/>\n",
       "<path clip-path=\"url(#clip752)\" d=\"\n",
       "M895.299 1072.7 L895.299 1445.72 L945.161 1445.72 L945.161 1072.7 L895.299 1072.7 L895.299 1072.7  Z\n",
       "  \" fill=\"#009af9\" fill-rule=\"evenodd\" fill-opacity=\"1\"/>\n",
       "<polyline clip-path=\"url(#clip752)\" style=\"stroke:#000000; stroke-width:4; stroke-opacity:1; fill:none\" points=\"\n",
       "  895.299,1072.7 895.299,1445.72 945.161,1445.72 945.161,1072.7 895.299,1072.7 \n",
       "  \"/>\n",
       "<path clip-path=\"url(#clip752)\" d=\"\n",
       "M945.161 1135.07 L945.161 1445.72 L995.024 1445.72 L995.024 1135.07 L945.161 1135.07 L945.161 1135.07  Z\n",
       "  \" fill=\"#009af9\" fill-rule=\"evenodd\" fill-opacity=\"1\"/>\n",
       "<polyline clip-path=\"url(#clip752)\" style=\"stroke:#000000; stroke-width:4; stroke-opacity:1; fill:none\" points=\"\n",
       "  945.161,1135.07 945.161,1445.72 995.024,1445.72 995.024,1135.07 945.161,1135.07 \n",
       "  \"/>\n",
       "<path clip-path=\"url(#clip752)\" d=\"\n",
       "M995.024 1222.62 L995.024 1445.72 L1044.89 1445.72 L1044.89 1222.62 L995.024 1222.62 L995.024 1222.62  Z\n",
       "  \" fill=\"#009af9\" fill-rule=\"evenodd\" fill-opacity=\"1\"/>\n",
       "<polyline clip-path=\"url(#clip752)\" style=\"stroke:#000000; stroke-width:4; stroke-opacity:1; fill:none\" points=\"\n",
       "  995.024,1222.62 995.024,1445.72 1044.89,1445.72 1044.89,1222.62 995.024,1222.62 \n",
       "  \"/>\n",
       "<path clip-path=\"url(#clip752)\" d=\"\n",
       "M1044.89 1286.19 L1044.89 1445.72 L1094.75 1445.72 L1094.75 1286.19 L1044.89 1286.19 L1044.89 1286.19  Z\n",
       "  \" fill=\"#009af9\" fill-rule=\"evenodd\" fill-opacity=\"1\"/>\n",
       "<polyline clip-path=\"url(#clip752)\" style=\"stroke:#000000; stroke-width:4; stroke-opacity:1; fill:none\" points=\"\n",
       "  1044.89,1286.19 1044.89,1445.72 1094.75,1445.72 1094.75,1286.19 1044.89,1286.19 \n",
       "  \"/>\n",
       "<path clip-path=\"url(#clip752)\" d=\"\n",
       "M1094.75 1311.38 L1094.75 1445.72 L1144.61 1445.72 L1144.61 1311.38 L1094.75 1311.38 L1094.75 1311.38  Z\n",
       "  \" fill=\"#009af9\" fill-rule=\"evenodd\" fill-opacity=\"1\"/>\n",
       "<polyline clip-path=\"url(#clip752)\" style=\"stroke:#000000; stroke-width:4; stroke-opacity:1; fill:none\" points=\"\n",
       "  1094.75,1311.38 1094.75,1445.72 1144.61,1445.72 1144.61,1311.38 1094.75,1311.38 \n",
       "  \"/>\n",
       "<path clip-path=\"url(#clip752)\" d=\"\n",
       "M1144.61 1366.55 L1144.61 1445.72 L1194.47 1445.72 L1194.47 1366.55 L1144.61 1366.55 L1144.61 1366.55  Z\n",
       "  \" fill=\"#009af9\" fill-rule=\"evenodd\" fill-opacity=\"1\"/>\n",
       "<polyline clip-path=\"url(#clip752)\" style=\"stroke:#000000; stroke-width:4; stroke-opacity:1; fill:none\" points=\"\n",
       "  1144.61,1366.55 1144.61,1445.72 1194.47,1445.72 1194.47,1366.55 1144.61,1366.55 \n",
       "  \"/>\n",
       "<path clip-path=\"url(#clip752)\" d=\"\n",
       "M1194.47 1377.35 L1194.47 1445.72 L1244.33 1445.72 L1244.33 1377.35 L1194.47 1377.35 L1194.47 1377.35  Z\n",
       "  \" fill=\"#009af9\" fill-rule=\"evenodd\" fill-opacity=\"1\"/>\n",
       "<polyline clip-path=\"url(#clip752)\" style=\"stroke:#000000; stroke-width:4; stroke-opacity:1; fill:none\" points=\"\n",
       "  1194.47,1377.35 1194.47,1445.72 1244.33,1445.72 1244.33,1377.35 1194.47,1377.35 \n",
       "  \"/>\n",
       "<path clip-path=\"url(#clip752)\" d=\"\n",
       "M1244.33 1394.14 L1244.33 1445.72 L1294.2 1445.72 L1294.2 1394.14 L1244.33 1394.14 L1244.33 1394.14  Z\n",
       "  \" fill=\"#009af9\" fill-rule=\"evenodd\" fill-opacity=\"1\"/>\n",
       "<polyline clip-path=\"url(#clip752)\" style=\"stroke:#000000; stroke-width:4; stroke-opacity:1; fill:none\" points=\"\n",
       "  1244.33,1394.14 1244.33,1445.72 1294.2,1445.72 1294.2,1394.14 1244.33,1394.14 \n",
       "  \"/>\n",
       "<path clip-path=\"url(#clip752)\" d=\"\n",
       "M1294.2 1410.93 L1294.2 1445.72 L1344.06 1445.72 L1344.06 1410.93 L1294.2 1410.93 L1294.2 1410.93  Z\n",
       "  \" fill=\"#009af9\" fill-rule=\"evenodd\" fill-opacity=\"1\"/>\n",
       "<polyline clip-path=\"url(#clip752)\" style=\"stroke:#000000; stroke-width:4; stroke-opacity:1; fill:none\" points=\"\n",
       "  1294.2,1410.93 1294.2,1445.72 1344.06,1445.72 1344.06,1410.93 1294.2,1410.93 \n",
       "  \"/>\n",
       "<path clip-path=\"url(#clip752)\" d=\"\n",
       "M1344.06 1420.53 L1344.06 1445.72 L1393.92 1445.72 L1393.92 1420.53 L1344.06 1420.53 L1344.06 1420.53  Z\n",
       "  \" fill=\"#009af9\" fill-rule=\"evenodd\" fill-opacity=\"1\"/>\n",
       "<polyline clip-path=\"url(#clip752)\" style=\"stroke:#000000; stroke-width:4; stroke-opacity:1; fill:none\" points=\"\n",
       "  1344.06,1420.53 1344.06,1445.72 1393.92,1445.72 1393.92,1420.53 1344.06,1420.53 \n",
       "  \"/>\n",
       "<path clip-path=\"url(#clip752)\" d=\"\n",
       "M1393.92 1432.52 L1393.92 1445.72 L1443.78 1445.72 L1443.78 1432.52 L1393.92 1432.52 L1393.92 1432.52  Z\n",
       "  \" fill=\"#009af9\" fill-rule=\"evenodd\" fill-opacity=\"1\"/>\n",
       "<polyline clip-path=\"url(#clip752)\" style=\"stroke:#000000; stroke-width:4; stroke-opacity:1; fill:none\" points=\"\n",
       "  1393.92,1432.52 1393.92,1445.72 1443.78,1445.72 1443.78,1432.52 1393.92,1432.52 \n",
       "  \"/>\n",
       "<path clip-path=\"url(#clip752)\" d=\"\n",
       "M1443.78 1427.72 L1443.78 1445.72 L1493.65 1445.72 L1493.65 1427.72 L1443.78 1427.72 L1443.78 1427.72  Z\n",
       "  \" fill=\"#009af9\" fill-rule=\"evenodd\" fill-opacity=\"1\"/>\n",
       "<polyline clip-path=\"url(#clip752)\" style=\"stroke:#000000; stroke-width:4; stroke-opacity:1; fill:none\" points=\"\n",
       "  1443.78,1427.72 1443.78,1445.72 1493.65,1445.72 1493.65,1427.72 1443.78,1427.72 \n",
       "  \"/>\n",
       "<path clip-path=\"url(#clip752)\" d=\"\n",
       "M1493.65 1437.32 L1493.65 1445.72 L1543.51 1445.72 L1543.51 1437.32 L1493.65 1437.32 L1493.65 1437.32  Z\n",
       "  \" fill=\"#009af9\" fill-rule=\"evenodd\" fill-opacity=\"1\"/>\n",
       "<polyline clip-path=\"url(#clip752)\" style=\"stroke:#000000; stroke-width:4; stroke-opacity:1; fill:none\" points=\"\n",
       "  1493.65,1437.32 1493.65,1445.72 1543.51,1445.72 1543.51,1437.32 1493.65,1437.32 \n",
       "  \"/>\n",
       "<path clip-path=\"url(#clip752)\" d=\"\n",
       "M1543.51 1436.12 L1543.51 1445.72 L1593.37 1445.72 L1593.37 1436.12 L1543.51 1436.12 L1543.51 1436.12  Z\n",
       "  \" fill=\"#009af9\" fill-rule=\"evenodd\" fill-opacity=\"1\"/>\n",
       "<polyline clip-path=\"url(#clip752)\" style=\"stroke:#000000; stroke-width:4; stroke-opacity:1; fill:none\" points=\"\n",
       "  1543.51,1436.12 1543.51,1445.72 1593.37,1445.72 1593.37,1436.12 1543.51,1436.12 \n",
       "  \"/>\n",
       "<path clip-path=\"url(#clip752)\" d=\"\n",
       "M1593.37 1438.52 L1593.37 1445.72 L1643.23 1445.72 L1643.23 1438.52 L1593.37 1438.52 L1593.37 1438.52  Z\n",
       "  \" fill=\"#009af9\" fill-rule=\"evenodd\" fill-opacity=\"1\"/>\n",
       "<polyline clip-path=\"url(#clip752)\" style=\"stroke:#000000; stroke-width:4; stroke-opacity:1; fill:none\" points=\"\n",
       "  1593.37,1438.52 1593.37,1445.72 1643.23,1445.72 1643.23,1438.52 1593.37,1438.52 \n",
       "  \"/>\n",
       "<path clip-path=\"url(#clip752)\" d=\"\n",
       "M1643.23 1439.72 L1643.23 1445.72 L1693.09 1445.72 L1693.09 1439.72 L1643.23 1439.72 L1643.23 1439.72  Z\n",
       "  \" fill=\"#009af9\" fill-rule=\"evenodd\" fill-opacity=\"1\"/>\n",
       "<polyline clip-path=\"url(#clip752)\" style=\"stroke:#000000; stroke-width:4; stroke-opacity:1; fill:none\" points=\"\n",
       "  1643.23,1439.72 1643.23,1445.72 1693.09,1445.72 1693.09,1439.72 1643.23,1439.72 \n",
       "  \"/>\n",
       "<path clip-path=\"url(#clip752)\" d=\"\n",
       "M1693.09 1443.32 L1693.09 1445.72 L1742.96 1445.72 L1742.96 1443.32 L1693.09 1443.32 L1693.09 1443.32  Z\n",
       "  \" fill=\"#009af9\" fill-rule=\"evenodd\" fill-opacity=\"1\"/>\n",
       "<polyline clip-path=\"url(#clip752)\" style=\"stroke:#000000; stroke-width:4; stroke-opacity:1; fill:none\" points=\"\n",
       "  1693.09,1443.32 1693.09,1445.72 1742.96,1445.72 1742.96,1443.32 1693.09,1443.32 \n",
       "  \"/>\n",
       "<path clip-path=\"url(#clip752)\" d=\"\n",
       "M1742.96 1444.52 L1742.96 1445.72 L1792.82 1445.72 L1792.82 1444.52 L1742.96 1444.52 L1742.96 1444.52  Z\n",
       "  \" fill=\"#009af9\" fill-rule=\"evenodd\" fill-opacity=\"1\"/>\n",
       "<polyline clip-path=\"url(#clip752)\" style=\"stroke:#000000; stroke-width:4; stroke-opacity:1; fill:none\" points=\"\n",
       "  1742.96,1444.52 1742.96,1445.72 1792.82,1445.72 1792.82,1444.52 1742.96,1444.52 \n",
       "  \"/>\n",
       "<path clip-path=\"url(#clip752)\" d=\"\n",
       "M1792.82 1445.72 L1792.82 1445.72 L1842.68 1445.72 L1842.68 1445.72 L1792.82 1445.72 L1792.82 1445.72  Z\n",
       "  \" fill=\"#009af9\" fill-rule=\"evenodd\" fill-opacity=\"1\"/>\n",
       "<polyline clip-path=\"url(#clip752)\" style=\"stroke:#000000; stroke-width:4; stroke-opacity:1; fill:none\" points=\"\n",
       "  1792.82,1445.72 1792.82,1445.72 1842.68,1445.72 1792.82,1445.72 \n",
       "  \"/>\n",
       "<path clip-path=\"url(#clip752)\" d=\"\n",
       "M1842.68 1445.72 L1842.68 1445.72 L1892.54 1445.72 L1892.54 1445.72 L1842.68 1445.72 L1842.68 1445.72  Z\n",
       "  \" fill=\"#009af9\" fill-rule=\"evenodd\" fill-opacity=\"1\"/>\n",
       "<polyline clip-path=\"url(#clip752)\" style=\"stroke:#000000; stroke-width:4; stroke-opacity:1; fill:none\" points=\"\n",
       "  1842.68,1445.72 1842.68,1445.72 1892.54,1445.72 1842.68,1445.72 \n",
       "  \"/>\n",
       "<path clip-path=\"url(#clip752)\" d=\"\n",
       "M1892.54 1443.32 L1892.54 1445.72 L1942.41 1445.72 L1942.41 1443.32 L1892.54 1443.32 L1892.54 1443.32  Z\n",
       "  \" fill=\"#009af9\" fill-rule=\"evenodd\" fill-opacity=\"1\"/>\n",
       "<polyline clip-path=\"url(#clip752)\" style=\"stroke:#000000; stroke-width:4; stroke-opacity:1; fill:none\" points=\"\n",
       "  1892.54,1443.32 1892.54,1445.72 1942.41,1445.72 1942.41,1443.32 1892.54,1443.32 \n",
       "  \"/>\n",
       "<polyline clip-path=\"url(#clip752)\" style=\"stroke:#e26f46; stroke-width:4; stroke-opacity:1; fill:none\" points=\"\n",
       "  296.953,1445.72 306.926,1380.25 316.898,1231.32 326.87,1050.76 336.843,870.854 346.815,710.315 356.788,578.698 366.76,479.526 376.733,412.508 386.705,375.1 \n",
       "  396.677,363.56 406.65,373.663 416.622,401.153 426.595,442.025 436.567,492.678 446.54,549.984 456.512,611.312 466.485,674.501 476.457,737.829 486.429,799.962 \n",
       "  496.402,859.9 506.374,916.929 516.347,970.568 526.319,1020.53 536.292,1066.67 546.264,1108.98 556.236,1147.52 566.209,1182.44 576.181,1213.9 586.154,1242.12 \n",
       "  596.126,1267.33 606.099,1289.77 616.071,1309.67 626.043,1327.26 636.016,1342.76 645.988,1356.39 655.961,1368.35 665.933,1378.8 675.906,1387.93 685.878,1395.88 \n",
       "  695.851,1402.8 705.823,1408.8 715.795,1414 725.768,1418.5 735.74,1422.38 745.713,1425.73 755.685,1428.62 765.658,1431.1 775.63,1433.24 785.602,1435.07 \n",
       "  795.575,1436.64 805.547,1437.99 815.52,1439.14 825.492,1440.12 835.465,1440.96 845.437,1441.68 855.41,1442.29 865.382,1442.81 875.354,1443.25 885.327,1443.63 \n",
       "  895.299,1443.95 905.272,1444.22 915.244,1444.45 925.217,1444.65 935.189,1444.81 945.161,1444.95 955.134,1445.07 965.106,1445.17 975.079,1445.26 985.051,1445.33 \n",
       "  995.024,1445.39 1005,1445.44 1014.97,1445.48 1024.94,1445.52 1034.91,1445.55 1044.89,1445.58 1054.86,1445.6 1064.83,1445.62 1074.8,1445.63 1084.78,1445.65 \n",
       "  1094.75,1445.66 1104.72,1445.67 1114.69,1445.68 1124.67,1445.68 1134.64,1445.69 1144.61,1445.69 1154.58,1445.7 1164.56,1445.7 1174.53,1445.7 1184.5,1445.7 \n",
       "  1194.47,1445.71 1204.44,1445.71 1214.42,1445.71 1224.39,1445.71 1234.36,1445.71 1244.33,1445.71 1254.31,1445.71 1264.28,1445.71 1274.25,1445.71 1284.22,1445.71 \n",
       "  1294.2,1445.71 1304.17,1445.71 1314.14,1445.71 1324.11,1445.71 1334.09,1445.71 1344.06,1445.72 1354.03,1445.72 1364,1445.72 1373.98,1445.72 1383.95,1445.72 \n",
       "  1393.92,1445.72 1403.89,1445.72 1413.87,1445.72 1423.84,1445.72 1433.81,1445.72 1443.78,1445.72 1453.76,1445.72 1463.73,1445.72 1473.7,1445.72 1483.67,1445.72 \n",
       "  1493.65,1445.72 1503.62,1445.72 1513.59,1445.72 1523.56,1445.72 1533.54,1445.72 1543.51,1445.72 1553.48,1445.72 1563.45,1445.72 1573.42,1445.72 1583.4,1445.72 \n",
       "  1593.37,1445.72 1603.34,1445.72 1613.31,1445.72 1623.29,1445.72 1633.26,1445.72 1643.23,1445.72 1653.2,1445.72 1663.18,1445.72 1673.15,1445.72 1683.12,1445.72 \n",
       "  1693.09,1445.72 1703.07,1445.72 1713.04,1445.72 1723.01,1445.72 1732.98,1445.72 1742.96,1445.72 1752.93,1445.72 1762.9,1445.72 1772.87,1445.72 1782.85,1445.72 \n",
       "  1792.82,1445.72 1802.79,1445.72 1812.76,1445.72 1822.74,1445.72 1832.71,1445.72 1842.68,1445.72 1852.65,1445.72 1862.63,1445.72 1872.6,1445.72 1882.57,1445.72 \n",
       "  1892.54,1445.72 1902.52,1445.72 1912.49,1445.72 1922.46,1445.72 1932.43,1445.72 1942.41,1445.72 1952.38,1445.72 1962.35,1445.72 1972.32,1445.72 1982.29,1445.72 \n",
       "  1992.27,1445.72 2002.24,1445.72 2012.21,1445.72 2022.18,1445.72 2032.16,1445.72 2042.13,1445.72 2052.1,1445.72 2062.07,1445.72 2072.05,1445.72 2082.02,1445.72 \n",
       "  2091.99,1445.72 2101.96,1445.72 2111.94,1445.72 2121.91,1445.72 2131.88,1445.72 2141.85,1445.72 2151.83,1445.72 2161.8,1445.72 2171.77,1445.72 2181.74,1445.72 \n",
       "  2191.72,1445.72 2201.69,1445.72 2211.66,1445.72 2221.63,1445.72 2231.61,1445.72 2241.58,1445.72 2251.55,1445.72 2261.52,1445.72 2271.5,1445.72 2281.47,1445.72 \n",
       "  2291.44,1445.72 \n",
       "  \"/>\n",
       "</svg>\n"
      ]
     },
     "execution_count": 60,
     "metadata": {},
     "output_type": "execute_result"
    }
   ],
   "source": [
    "plot!(0:0.1:20,x->pdf(Gamma(3,1/2),x)/3)"
   ]
  },
  {
   "cell_type": "code",
   "execution_count": null,
   "metadata": {
    "hidden": true
   },
   "outputs": [],
   "source": []
  }
 ],
 "metadata": {
  "kernelspec": {
   "display_name": "Julia 1.6.0",
   "language": "julia",
   "name": "julia-1.6"
  },
  "language_info": {
   "file_extension": ".jl",
   "mimetype": "application/julia",
   "name": "julia",
   "version": "1.6.0"
  },
  "toc": {
   "base_numbering": 1,
   "nav_menu": {},
   "number_sections": true,
   "sideBar": true,
   "skip_h1_title": false,
   "title_cell": "Table of Contents",
   "title_sidebar": "Contents",
   "toc_cell": false,
   "toc_position": {},
   "toc_section_display": true,
   "toc_window_display": false
  }
 },
 "nbformat": 4,
 "nbformat_minor": 4
}
