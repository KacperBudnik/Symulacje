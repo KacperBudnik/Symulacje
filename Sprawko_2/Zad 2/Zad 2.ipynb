{
 "cells": [
  {
   "cell_type": "code",
   "execution_count": 1,
   "metadata": {},
   "outputs": [],
   "source": [
    "using Plots\n",
    "using Distributions\n",
    "using Base.Threads\n",
    "plot();"
   ]
  },
  {
   "cell_type": "markdown",
   "metadata": {},
   "source": [
    "# Start"
   ]
  },
  {
   "cell_type": "markdown",
   "metadata": {},
   "source": [
    "## funkcje"
   ]
  },
  {
   "cell_type": "code",
   "execution_count": 355,
   "metadata": {},
   "outputs": [
    {
     "data": {
      "text/plain": [
       "N (generic function with 1 method)"
      ]
     },
     "execution_count": 355,
     "metadata": {},
     "output_type": "execute_result"
    }
   ],
   "source": [
    "N(;μ=0, σ²=1,N::Int=1)=begin\n",
    "    σ=√σ²\n",
    "    n=round(Int,N/2)+1\n",
    "    U₁=rand(n)\n",
    "    U₂=rand(n)\n",
    "    wyn=zeros(2*n)\n",
    "    wyn[1:Int(end/2)]=sqrt.(-2*log.(U₁)).*sin.(2*π*U₂)\n",
    "    wyn[Int(end/2)+1:end]=sqrt.(-2*log.(U₁)).*cos.(2*π*U₂)\n",
    "    wyn[1:N]\n",
    "end"
   ]
  },
  {
   "cell_type": "code",
   "execution_count": 105,
   "metadata": {},
   "outputs": [
    {
     "data": {
      "text/plain": [
       "Brown (generic function with 1 method)"
      ]
     },
     "execution_count": 105,
     "metadata": {},
     "output_type": "execute_result"
    }
   ],
   "source": [
    "Brown(;Δ=0.01,times=100,n=1000) = begin\n",
    "    [cumsum(N(μ=0,σ²=1,N=n))*√Δ for i in 1:times]\n",
    "end"
   ]
  },
  {
   "cell_type": "code",
   "execution_count": 14,
   "metadata": {},
   "outputs": [],
   "source": [
    "Brown();"
   ]
  },
  {
   "cell_type": "markdown",
   "metadata": {},
   "source": [
    "## czas wyjścia"
   ]
  },
  {
   "cell_type": "code",
   "execution_count": 132,
   "metadata": {},
   "outputs": [
    {
     "data": {
      "text/plain": [
       "Exit (generic function with 1 method)"
      ]
     },
     "execution_count": 132,
     "metadata": {},
     "output_type": "execute_result"
    }
   ],
   "source": [
    "Exit(;a=-2,b=2,x=0,Δ=0.01,Times=1e3)=begin\n",
    "    y=x/√Δ\n",
    "    time=0\n",
    "    a′=a/√Δ\n",
    "    b′=b/√Δ\n",
    "    while a′<y<b′\n",
    "        time+=1\n",
    "        y+=ℕ()\n",
    "    end\n",
    "    return time*Δ, b′<=y\n",
    "end"
   ]
  },
  {
   "cell_type": "code",
   "execution_count": 138,
   "metadata": {},
   "outputs": [
    {
     "data": {
      "text/plain": [
       "0.7442"
      ]
     },
     "execution_count": 138,
     "metadata": {},
     "output_type": "execute_result"
    }
   ],
   "source": [
    "sum(Exit(a=1,b=5,x=4)[2] for i in 1:1e5)/1e5"
   ]
  },
  {
   "cell_type": "code",
   "execution_count": 149,
   "metadata": {},
   "outputs": [
    {
     "data": {
      "text/plain": [
       "0.49965"
      ]
     },
     "execution_count": 149,
     "metadata": {},
     "output_type": "execute_result"
    }
   ],
   "source": [
    "a=2.5;\n",
    "b=3;\n",
    "Up_to=1e5\n",
    "sum(Exit(a=a,b=b,x=(b-a)*rand()+a)[2] for i in 1:Up_to)/Up_to"
   ]
  },
  {
   "cell_type": "code",
   "execution_count": 152,
   "metadata": {},
   "outputs": [
    {
     "data": {
      "text/plain": [
       "Exit (generic function with 1 method)"
      ]
     },
     "execution_count": 152,
     "metadata": {},
     "output_type": "execute_result"
    }
   ],
   "source": [
    "Exit(;a=-2,b=2,x=0,Δ=0.01,Times=1e3)=begin\n",
    "    y=x/√Δ\n",
    "    time=0\n",
    "    a′=a/√Δ\n",
    "    b′=b/√Δ\n",
    "    while a′<y<b′\n",
    "        time+=1\n",
    "        y+=rand(Normal())\n",
    "    end\n",
    "    return time*Δ, b′<=y\n",
    "end"
   ]
  },
  {
   "cell_type": "code",
   "execution_count": 256,
   "metadata": {},
   "outputs": [
    {
     "data": {
      "text/plain": [
       "0.07790320000005059"
      ]
     },
     "execution_count": 256,
     "metadata": {},
     "output_type": "execute_result"
    }
   ],
   "source": [
    "a=2.5;\n",
    "b=3;\n",
    "Up_to=1e5\n",
    "k=rand()*10-5\n",
    "a+=k\n",
    "b+=k\n",
    "mean(Exit(a=a,b=b,x=(b-a)*rand()+a)[1] for i in 1:Up_to)"
   ]
  },
  {
   "cell_type": "code",
   "execution_count": 273,
   "metadata": {},
   "outputs": [
    {
     "data": {
      "text/plain": [
       "g (generic function with 1 method)"
      ]
     },
     "execution_count": 273,
     "metadata": {},
     "output_type": "execute_result"
    }
   ],
   "source": [
    "g(;Δ=1,M=1e4)=mean(Exit(a=0,b=Δ,x=Δ*rand())[1] for i in 1:M)"
   ]
  },
  {
   "cell_type": "code",
   "execution_count": 291,
   "metadata": {},
   "outputs": [
    {
     "data": {
      "text/plain": [
       "0.7959400000000119"
      ]
     },
     "execution_count": 291,
     "metadata": {},
     "output_type": "execute_result"
    }
   ],
   "source": [
    "g(Δ=2)"
   ]
  },
  {
   "cell_type": "code",
   "execution_count": 298,
   "metadata": {},
   "outputs": [
    {
     "name": "stdout",
     "output_type": "stream",
     "text": [
      " 78.902207 seconds (682.48 k allocations: 37.959 MiB, 0.36% compilation time)\n"
     ]
    },
    {
     "data": {
      "image/svg+xml": [
       "<?xml version=\"1.0\" encoding=\"utf-8\"?>\n",
       "<svg xmlns=\"http://www.w3.org/2000/svg\" xmlns:xlink=\"http://www.w3.org/1999/xlink\" width=\"600\" height=\"400\" viewBox=\"0 0 2400 1600\">\n",
       "<defs>\n",
       "  <clipPath id=\"clip6600\">\n",
       "    <rect x=\"0\" y=\"0\" width=\"2400\" height=\"1600\"/>\n",
       "  </clipPath>\n",
       "</defs>\n",
       "<path clip-path=\"url(#clip6600)\" d=\"\n",
       "M0 1600 L2400 1600 L2400 0 L0 0  Z\n",
       "  \" fill=\"#ffffff\" fill-rule=\"evenodd\" fill-opacity=\"1\"/>\n",
       "<defs>\n",
       "  <clipPath id=\"clip6601\">\n",
       "    <rect x=\"480\" y=\"0\" width=\"1681\" height=\"1600\"/>\n",
       "  </clipPath>\n",
       "</defs>\n",
       "<path clip-path=\"url(#clip6600)\" d=\"\n",
       "M140.517 1487.47 L2352.76 1487.47 L2352.76 47.2441 L140.517 47.2441  Z\n",
       "  \" fill=\"#ffffff\" fill-rule=\"evenodd\" fill-opacity=\"1\"/>\n",
       "<defs>\n",
       "  <clipPath id=\"clip6602\">\n",
       "    <rect x=\"140\" y=\"47\" width=\"2213\" height=\"1441\"/>\n",
       "  </clipPath>\n",
       "</defs>\n",
       "<polyline clip-path=\"url(#clip6602)\" style=\"stroke:#000000; stroke-width:2; stroke-opacity:0.1; fill:none\" points=\"\n",
       "  203.127,1487.47 203.127,47.2441 \n",
       "  \"/>\n",
       "<polyline clip-path=\"url(#clip6602)\" style=\"stroke:#000000; stroke-width:2; stroke-opacity:0.1; fill:none\" points=\"\n",
       "  724.882,1487.47 724.882,47.2441 \n",
       "  \"/>\n",
       "<polyline clip-path=\"url(#clip6602)\" style=\"stroke:#000000; stroke-width:2; stroke-opacity:0.1; fill:none\" points=\"\n",
       "  1246.64,1487.47 1246.64,47.2441 \n",
       "  \"/>\n",
       "<polyline clip-path=\"url(#clip6602)\" style=\"stroke:#000000; stroke-width:2; stroke-opacity:0.1; fill:none\" points=\"\n",
       "  1768.39,1487.47 1768.39,47.2441 \n",
       "  \"/>\n",
       "<polyline clip-path=\"url(#clip6602)\" style=\"stroke:#000000; stroke-width:2; stroke-opacity:0.1; fill:none\" points=\"\n",
       "  2290.15,1487.47 2290.15,47.2441 \n",
       "  \"/>\n",
       "<polyline clip-path=\"url(#clip6602)\" style=\"stroke:#000000; stroke-width:2; stroke-opacity:0.1; fill:none\" points=\"\n",
       "  140.517,1446.71 2352.76,1446.71 \n",
       "  \"/>\n",
       "<polyline clip-path=\"url(#clip6602)\" style=\"stroke:#000000; stroke-width:2; stroke-opacity:0.1; fill:none\" points=\"\n",
       "  140.517,1053 2352.76,1053 \n",
       "  \"/>\n",
       "<polyline clip-path=\"url(#clip6602)\" style=\"stroke:#000000; stroke-width:2; stroke-opacity:0.1; fill:none\" points=\"\n",
       "  140.517,659.291 2352.76,659.291 \n",
       "  \"/>\n",
       "<polyline clip-path=\"url(#clip6602)\" style=\"stroke:#000000; stroke-width:2; stroke-opacity:0.1; fill:none\" points=\"\n",
       "  140.517,265.58 2352.76,265.58 \n",
       "  \"/>\n",
       "<polyline clip-path=\"url(#clip6600)\" style=\"stroke:#000000; stroke-width:4; stroke-opacity:1; fill:none\" points=\"\n",
       "  140.517,1487.47 2352.76,1487.47 \n",
       "  \"/>\n",
       "<polyline clip-path=\"url(#clip6600)\" style=\"stroke:#000000; stroke-width:4; stroke-opacity:1; fill:none\" points=\"\n",
       "  140.517,1487.47 140.517,47.2441 \n",
       "  \"/>\n",
       "<polyline clip-path=\"url(#clip6600)\" style=\"stroke:#000000; stroke-width:4; stroke-opacity:1; fill:none\" points=\"\n",
       "  203.127,1487.47 203.127,1470.19 \n",
       "  \"/>\n",
       "<polyline clip-path=\"url(#clip6600)\" style=\"stroke:#000000; stroke-width:4; stroke-opacity:1; fill:none\" points=\"\n",
       "  724.882,1487.47 724.882,1470.19 \n",
       "  \"/>\n",
       "<polyline clip-path=\"url(#clip6600)\" style=\"stroke:#000000; stroke-width:4; stroke-opacity:1; fill:none\" points=\"\n",
       "  1246.64,1487.47 1246.64,1470.19 \n",
       "  \"/>\n",
       "<polyline clip-path=\"url(#clip6600)\" style=\"stroke:#000000; stroke-width:4; stroke-opacity:1; fill:none\" points=\"\n",
       "  1768.39,1487.47 1768.39,1470.19 \n",
       "  \"/>\n",
       "<polyline clip-path=\"url(#clip6600)\" style=\"stroke:#000000; stroke-width:4; stroke-opacity:1; fill:none\" points=\"\n",
       "  2290.15,1487.47 2290.15,1470.19 \n",
       "  \"/>\n",
       "<polyline clip-path=\"url(#clip6600)\" style=\"stroke:#000000; stroke-width:4; stroke-opacity:1; fill:none\" points=\"\n",
       "  140.517,1446.71 167.064,1446.71 \n",
       "  \"/>\n",
       "<polyline clip-path=\"url(#clip6600)\" style=\"stroke:#000000; stroke-width:4; stroke-opacity:1; fill:none\" points=\"\n",
       "  140.517,1053 167.064,1053 \n",
       "  \"/>\n",
       "<polyline clip-path=\"url(#clip6600)\" style=\"stroke:#000000; stroke-width:4; stroke-opacity:1; fill:none\" points=\"\n",
       "  140.517,659.291 167.064,659.291 \n",
       "  \"/>\n",
       "<polyline clip-path=\"url(#clip6600)\" style=\"stroke:#000000; stroke-width:4; stroke-opacity:1; fill:none\" points=\"\n",
       "  140.517,265.58 167.064,265.58 \n",
       "  \"/>\n",
       "<g clip-path=\"url(#clip6600)\">\n",
       "<text style=\"fill:#000000; fill-opacity:1; font-family:Arial,Helvetica Neue,Helvetica,sans-serif; font-size:48px; text-anchor:middle;\" transform=\"rotate(0, 203.127, 1541.47)\" x=\"203.127\" y=\"1541.47\">0.0</text>\n",
       "</g>\n",
       "<g clip-path=\"url(#clip6600)\">\n",
       "<text style=\"fill:#000000; fill-opacity:1; font-family:Arial,Helvetica Neue,Helvetica,sans-serif; font-size:48px; text-anchor:middle;\" transform=\"rotate(0, 724.882, 1541.47)\" x=\"724.882\" y=\"1541.47\">2.5</text>\n",
       "</g>\n",
       "<g clip-path=\"url(#clip6600)\">\n",
       "<text style=\"fill:#000000; fill-opacity:1; font-family:Arial,Helvetica Neue,Helvetica,sans-serif; font-size:48px; text-anchor:middle;\" transform=\"rotate(0, 1246.64, 1541.47)\" x=\"1246.64\" y=\"1541.47\">5.0</text>\n",
       "</g>\n",
       "<g clip-path=\"url(#clip6600)\">\n",
       "<text style=\"fill:#000000; fill-opacity:1; font-family:Arial,Helvetica Neue,Helvetica,sans-serif; font-size:48px; text-anchor:middle;\" transform=\"rotate(0, 1768.39, 1541.47)\" x=\"1768.39\" y=\"1541.47\">7.5</text>\n",
       "</g>\n",
       "<g clip-path=\"url(#clip6600)\">\n",
       "<text style=\"fill:#000000; fill-opacity:1; font-family:Arial,Helvetica Neue,Helvetica,sans-serif; font-size:48px; text-anchor:middle;\" transform=\"rotate(0, 2290.15, 1541.47)\" x=\"2290.15\" y=\"1541.47\">10.0</text>\n",
       "</g>\n",
       "<g clip-path=\"url(#clip6600)\">\n",
       "<text style=\"fill:#000000; fill-opacity:1; font-family:Arial,Helvetica Neue,Helvetica,sans-serif; font-size:48px; text-anchor:end;\" transform=\"rotate(0, 116.517, 1464.21)\" x=\"116.517\" y=\"1464.21\">0</text>\n",
       "</g>\n",
       "<g clip-path=\"url(#clip6600)\">\n",
       "<text style=\"fill:#000000; fill-opacity:1; font-family:Arial,Helvetica Neue,Helvetica,sans-serif; font-size:48px; text-anchor:end;\" transform=\"rotate(0, 116.517, 1070.5)\" x=\"116.517\" y=\"1070.5\">5</text>\n",
       "</g>\n",
       "<g clip-path=\"url(#clip6600)\">\n",
       "<text style=\"fill:#000000; fill-opacity:1; font-family:Arial,Helvetica Neue,Helvetica,sans-serif; font-size:48px; text-anchor:end;\" transform=\"rotate(0, 116.517, 676.791)\" x=\"116.517\" y=\"676.791\">10</text>\n",
       "</g>\n",
       "<g clip-path=\"url(#clip6600)\">\n",
       "<text style=\"fill:#000000; fill-opacity:1; font-family:Arial,Helvetica Neue,Helvetica,sans-serif; font-size:48px; text-anchor:end;\" transform=\"rotate(0, 116.517, 283.08)\" x=\"116.517\" y=\"283.08\">15</text>\n",
       "</g>\n",
       "<polyline clip-path=\"url(#clip6602)\" style=\"stroke:#009af9; stroke-width:4; stroke-opacity:1; fill:none\" points=\"\n",
       "  203.127,1446.71 307.478,1440.58 411.829,1428.47 516.18,1409.73 620.531,1384.33 724.882,1352.81 829.233,1314.36 933.584,1269.24 1037.93,1218.4 1142.29,1159.77 \n",
       "  1246.64,1094.91 1350.99,1023.95 1455.34,947.108 1559.69,861.798 1664.04,769.406 1768.39,673.246 1872.74,571.041 1977.09,459.719 2081.44,341.926 2185.79,218.474 \n",
       "  2290.15,88.0053 \n",
       "  \"/>\n",
       "</svg>\n"
      ]
     },
     "execution_count": 298,
     "metadata": {},
     "output_type": "execute_result"
    }
   ],
   "source": [
    "@time plot(0:0.5:10, Δ->g(Δ=Δ, M=1e6), leg=false)"
   ]
  },
  {
   "cell_type": "code",
   "execution_count": 331,
   "metadata": {},
   "outputs": [],
   "source": [
    "plt=deepcopy(plt_save);"
   ]
  },
  {
   "cell_type": "code",
   "execution_count": 332,
   "metadata": {},
   "outputs": [
    {
     "data": {
      "image/svg+xml": [
       "<?xml version=\"1.0\" encoding=\"utf-8\"?>\n",
       "<svg xmlns=\"http://www.w3.org/2000/svg\" xmlns:xlink=\"http://www.w3.org/1999/xlink\" width=\"600\" height=\"400\" viewBox=\"0 0 2400 1600\">\n",
       "<defs>\n",
       "  <clipPath id=\"clip7400\">\n",
       "    <rect x=\"0\" y=\"0\" width=\"2400\" height=\"1600\"/>\n",
       "  </clipPath>\n",
       "</defs>\n",
       "<path clip-path=\"url(#clip7400)\" d=\"\n",
       "M0 1600 L2400 1600 L2400 0 L0 0  Z\n",
       "  \" fill=\"#ffffff\" fill-rule=\"evenodd\" fill-opacity=\"1\"/>\n",
       "<defs>\n",
       "  <clipPath id=\"clip7401\">\n",
       "    <rect x=\"480\" y=\"0\" width=\"1681\" height=\"1600\"/>\n",
       "  </clipPath>\n",
       "</defs>\n",
       "<path clip-path=\"url(#clip7400)\" d=\"\n",
       "M140.517 1487.47 L2352.76 1487.47 L2352.76 47.2441 L140.517 47.2441  Z\n",
       "  \" fill=\"#ffffff\" fill-rule=\"evenodd\" fill-opacity=\"1\"/>\n",
       "<defs>\n",
       "  <clipPath id=\"clip7402\">\n",
       "    <rect x=\"140\" y=\"47\" width=\"2213\" height=\"1441\"/>\n",
       "  </clipPath>\n",
       "</defs>\n",
       "<polyline clip-path=\"url(#clip7402)\" style=\"stroke:#000000; stroke-width:2; stroke-opacity:0.1; fill:none\" points=\"\n",
       "  203.127,1487.47 203.127,47.2441 \n",
       "  \"/>\n",
       "<polyline clip-path=\"url(#clip7402)\" style=\"stroke:#000000; stroke-width:2; stroke-opacity:0.1; fill:none\" points=\"\n",
       "  724.882,1487.47 724.882,47.2441 \n",
       "  \"/>\n",
       "<polyline clip-path=\"url(#clip7402)\" style=\"stroke:#000000; stroke-width:2; stroke-opacity:0.1; fill:none\" points=\"\n",
       "  1246.64,1487.47 1246.64,47.2441 \n",
       "  \"/>\n",
       "<polyline clip-path=\"url(#clip7402)\" style=\"stroke:#000000; stroke-width:2; stroke-opacity:0.1; fill:none\" points=\"\n",
       "  1768.39,1487.47 1768.39,47.2441 \n",
       "  \"/>\n",
       "<polyline clip-path=\"url(#clip7402)\" style=\"stroke:#000000; stroke-width:2; stroke-opacity:0.1; fill:none\" points=\"\n",
       "  2290.15,1487.47 2290.15,47.2441 \n",
       "  \"/>\n",
       "<polyline clip-path=\"url(#clip7402)\" style=\"stroke:#000000; stroke-width:2; stroke-opacity:0.1; fill:none\" points=\"\n",
       "  140.517,1446.71 2352.76,1446.71 \n",
       "  \"/>\n",
       "<polyline clip-path=\"url(#clip7402)\" style=\"stroke:#000000; stroke-width:2; stroke-opacity:0.1; fill:none\" points=\"\n",
       "  140.517,1053 2352.76,1053 \n",
       "  \"/>\n",
       "<polyline clip-path=\"url(#clip7402)\" style=\"stroke:#000000; stroke-width:2; stroke-opacity:0.1; fill:none\" points=\"\n",
       "  140.517,659.291 2352.76,659.291 \n",
       "  \"/>\n",
       "<polyline clip-path=\"url(#clip7402)\" style=\"stroke:#000000; stroke-width:2; stroke-opacity:0.1; fill:none\" points=\"\n",
       "  140.517,265.58 2352.76,265.58 \n",
       "  \"/>\n",
       "<polyline clip-path=\"url(#clip7400)\" style=\"stroke:#000000; stroke-width:4; stroke-opacity:1; fill:none\" points=\"\n",
       "  140.517,1487.47 2352.76,1487.47 \n",
       "  \"/>\n",
       "<polyline clip-path=\"url(#clip7400)\" style=\"stroke:#000000; stroke-width:4; stroke-opacity:1; fill:none\" points=\"\n",
       "  140.517,1487.47 140.517,47.2441 \n",
       "  \"/>\n",
       "<polyline clip-path=\"url(#clip7400)\" style=\"stroke:#000000; stroke-width:4; stroke-opacity:1; fill:none\" points=\"\n",
       "  203.127,1487.47 203.127,1470.19 \n",
       "  \"/>\n",
       "<polyline clip-path=\"url(#clip7400)\" style=\"stroke:#000000; stroke-width:4; stroke-opacity:1; fill:none\" points=\"\n",
       "  724.882,1487.47 724.882,1470.19 \n",
       "  \"/>\n",
       "<polyline clip-path=\"url(#clip7400)\" style=\"stroke:#000000; stroke-width:4; stroke-opacity:1; fill:none\" points=\"\n",
       "  1246.64,1487.47 1246.64,1470.19 \n",
       "  \"/>\n",
       "<polyline clip-path=\"url(#clip7400)\" style=\"stroke:#000000; stroke-width:4; stroke-opacity:1; fill:none\" points=\"\n",
       "  1768.39,1487.47 1768.39,1470.19 \n",
       "  \"/>\n",
       "<polyline clip-path=\"url(#clip7400)\" style=\"stroke:#000000; stroke-width:4; stroke-opacity:1; fill:none\" points=\"\n",
       "  2290.15,1487.47 2290.15,1470.19 \n",
       "  \"/>\n",
       "<polyline clip-path=\"url(#clip7400)\" style=\"stroke:#000000; stroke-width:4; stroke-opacity:1; fill:none\" points=\"\n",
       "  140.517,1446.71 167.064,1446.71 \n",
       "  \"/>\n",
       "<polyline clip-path=\"url(#clip7400)\" style=\"stroke:#000000; stroke-width:4; stroke-opacity:1; fill:none\" points=\"\n",
       "  140.517,1053 167.064,1053 \n",
       "  \"/>\n",
       "<polyline clip-path=\"url(#clip7400)\" style=\"stroke:#000000; stroke-width:4; stroke-opacity:1; fill:none\" points=\"\n",
       "  140.517,659.291 167.064,659.291 \n",
       "  \"/>\n",
       "<polyline clip-path=\"url(#clip7400)\" style=\"stroke:#000000; stroke-width:4; stroke-opacity:1; fill:none\" points=\"\n",
       "  140.517,265.58 167.064,265.58 \n",
       "  \"/>\n",
       "<g clip-path=\"url(#clip7400)\">\n",
       "<text style=\"fill:#000000; fill-opacity:1; font-family:Arial,Helvetica Neue,Helvetica,sans-serif; font-size:48px; text-anchor:middle;\" transform=\"rotate(0, 203.127, 1541.47)\" x=\"203.127\" y=\"1541.47\">0.0</text>\n",
       "</g>\n",
       "<g clip-path=\"url(#clip7400)\">\n",
       "<text style=\"fill:#000000; fill-opacity:1; font-family:Arial,Helvetica Neue,Helvetica,sans-serif; font-size:48px; text-anchor:middle;\" transform=\"rotate(0, 724.882, 1541.47)\" x=\"724.882\" y=\"1541.47\">2.5</text>\n",
       "</g>\n",
       "<g clip-path=\"url(#clip7400)\">\n",
       "<text style=\"fill:#000000; fill-opacity:1; font-family:Arial,Helvetica Neue,Helvetica,sans-serif; font-size:48px; text-anchor:middle;\" transform=\"rotate(0, 1246.64, 1541.47)\" x=\"1246.64\" y=\"1541.47\">5.0</text>\n",
       "</g>\n",
       "<g clip-path=\"url(#clip7400)\">\n",
       "<text style=\"fill:#000000; fill-opacity:1; font-family:Arial,Helvetica Neue,Helvetica,sans-serif; font-size:48px; text-anchor:middle;\" transform=\"rotate(0, 1768.39, 1541.47)\" x=\"1768.39\" y=\"1541.47\">7.5</text>\n",
       "</g>\n",
       "<g clip-path=\"url(#clip7400)\">\n",
       "<text style=\"fill:#000000; fill-opacity:1; font-family:Arial,Helvetica Neue,Helvetica,sans-serif; font-size:48px; text-anchor:middle;\" transform=\"rotate(0, 2290.15, 1541.47)\" x=\"2290.15\" y=\"1541.47\">10.0</text>\n",
       "</g>\n",
       "<g clip-path=\"url(#clip7400)\">\n",
       "<text style=\"fill:#000000; fill-opacity:1; font-family:Arial,Helvetica Neue,Helvetica,sans-serif; font-size:48px; text-anchor:end;\" transform=\"rotate(0, 116.517, 1464.21)\" x=\"116.517\" y=\"1464.21\">0</text>\n",
       "</g>\n",
       "<g clip-path=\"url(#clip7400)\">\n",
       "<text style=\"fill:#000000; fill-opacity:1; font-family:Arial,Helvetica Neue,Helvetica,sans-serif; font-size:48px; text-anchor:end;\" transform=\"rotate(0, 116.517, 1070.5)\" x=\"116.517\" y=\"1070.5\">5</text>\n",
       "</g>\n",
       "<g clip-path=\"url(#clip7400)\">\n",
       "<text style=\"fill:#000000; fill-opacity:1; font-family:Arial,Helvetica Neue,Helvetica,sans-serif; font-size:48px; text-anchor:end;\" transform=\"rotate(0, 116.517, 676.791)\" x=\"116.517\" y=\"676.791\">10</text>\n",
       "</g>\n",
       "<g clip-path=\"url(#clip7400)\">\n",
       "<text style=\"fill:#000000; fill-opacity:1; font-family:Arial,Helvetica Neue,Helvetica,sans-serif; font-size:48px; text-anchor:end;\" transform=\"rotate(0, 116.517, 283.08)\" x=\"116.517\" y=\"283.08\">15</text>\n",
       "</g>\n",
       "<polyline clip-path=\"url(#clip7402)\" style=\"stroke:#009af9; stroke-width:4; stroke-opacity:1; fill:none\" points=\"\n",
       "  203.127,1446.71 307.478,1440.58 411.829,1428.47 516.18,1409.73 620.531,1384.33 724.882,1352.81 829.233,1314.36 933.584,1269.24 1037.93,1218.4 1142.29,1159.77 \n",
       "  1246.64,1094.91 1350.99,1023.95 1455.34,947.108 1559.69,861.798 1664.04,769.406 1768.39,673.246 1872.74,571.041 1977.09,459.719 2081.44,341.926 2185.79,218.474 \n",
       "  2290.15,88.0053 \n",
       "  \"/>\n",
       "</svg>\n"
      ]
     },
     "execution_count": 332,
     "metadata": {},
     "output_type": "execute_result"
    }
   ],
   "source": [
    "plot(plt)"
   ]
  },
  {
   "cell_type": "code",
   "execution_count": 333,
   "metadata": {},
   "outputs": [
    {
     "data": {
      "image/svg+xml": [
       "<?xml version=\"1.0\" encoding=\"utf-8\"?>\n",
       "<svg xmlns=\"http://www.w3.org/2000/svg\" xmlns:xlink=\"http://www.w3.org/1999/xlink\" width=\"600\" height=\"400\" viewBox=\"0 0 2400 1600\">\n",
       "<defs>\n",
       "  <clipPath id=\"clip7800\">\n",
       "    <rect x=\"0\" y=\"0\" width=\"2400\" height=\"1600\"/>\n",
       "  </clipPath>\n",
       "</defs>\n",
       "<path clip-path=\"url(#clip7800)\" d=\"\n",
       "M0 1600 L2400 1600 L2400 0 L0 0  Z\n",
       "  \" fill=\"#ffffff\" fill-rule=\"evenodd\" fill-opacity=\"1\"/>\n",
       "<defs>\n",
       "  <clipPath id=\"clip7801\">\n",
       "    <rect x=\"480\" y=\"0\" width=\"1681\" height=\"1600\"/>\n",
       "  </clipPath>\n",
       "</defs>\n",
       "<path clip-path=\"url(#clip7800)\" d=\"\n",
       "M140.517 1487.47 L2352.76 1487.47 L2352.76 47.2441 L140.517 47.2441  Z\n",
       "  \" fill=\"#ffffff\" fill-rule=\"evenodd\" fill-opacity=\"1\"/>\n",
       "<defs>\n",
       "  <clipPath id=\"clip7802\">\n",
       "    <rect x=\"140\" y=\"47\" width=\"2213\" height=\"1441\"/>\n",
       "  </clipPath>\n",
       "</defs>\n",
       "<polyline clip-path=\"url(#clip7802)\" style=\"stroke:#000000; stroke-width:2; stroke-opacity:0.1; fill:none\" points=\"\n",
       "  203.127,1487.47 203.127,47.2441 \n",
       "  \"/>\n",
       "<polyline clip-path=\"url(#clip7802)\" style=\"stroke:#000000; stroke-width:2; stroke-opacity:0.1; fill:none\" points=\"\n",
       "  724.882,1487.47 724.882,47.2441 \n",
       "  \"/>\n",
       "<polyline clip-path=\"url(#clip7802)\" style=\"stroke:#000000; stroke-width:2; stroke-opacity:0.1; fill:none\" points=\"\n",
       "  1246.64,1487.47 1246.64,47.2441 \n",
       "  \"/>\n",
       "<polyline clip-path=\"url(#clip7802)\" style=\"stroke:#000000; stroke-width:2; stroke-opacity:0.1; fill:none\" points=\"\n",
       "  1768.39,1487.47 1768.39,47.2441 \n",
       "  \"/>\n",
       "<polyline clip-path=\"url(#clip7802)\" style=\"stroke:#000000; stroke-width:2; stroke-opacity:0.1; fill:none\" points=\"\n",
       "  2290.15,1487.47 2290.15,47.2441 \n",
       "  \"/>\n",
       "<polyline clip-path=\"url(#clip7802)\" style=\"stroke:#000000; stroke-width:2; stroke-opacity:0.1; fill:none\" points=\"\n",
       "  140.517,1446.71 2352.76,1446.71 \n",
       "  \"/>\n",
       "<polyline clip-path=\"url(#clip7802)\" style=\"stroke:#000000; stroke-width:2; stroke-opacity:0.1; fill:none\" points=\"\n",
       "  140.517,1053.18 2352.76,1053.18 \n",
       "  \"/>\n",
       "<polyline clip-path=\"url(#clip7802)\" style=\"stroke:#000000; stroke-width:2; stroke-opacity:0.1; fill:none\" points=\"\n",
       "  140.517,659.65 2352.76,659.65 \n",
       "  \"/>\n",
       "<polyline clip-path=\"url(#clip7802)\" style=\"stroke:#000000; stroke-width:2; stroke-opacity:0.1; fill:none\" points=\"\n",
       "  140.517,266.118 2352.76,266.118 \n",
       "  \"/>\n",
       "<polyline clip-path=\"url(#clip7800)\" style=\"stroke:#000000; stroke-width:4; stroke-opacity:1; fill:none\" points=\"\n",
       "  140.517,1487.47 2352.76,1487.47 \n",
       "  \"/>\n",
       "<polyline clip-path=\"url(#clip7800)\" style=\"stroke:#000000; stroke-width:4; stroke-opacity:1; fill:none\" points=\"\n",
       "  140.517,1487.47 140.517,47.2441 \n",
       "  \"/>\n",
       "<polyline clip-path=\"url(#clip7800)\" style=\"stroke:#000000; stroke-width:4; stroke-opacity:1; fill:none\" points=\"\n",
       "  203.127,1487.47 203.127,1470.19 \n",
       "  \"/>\n",
       "<polyline clip-path=\"url(#clip7800)\" style=\"stroke:#000000; stroke-width:4; stroke-opacity:1; fill:none\" points=\"\n",
       "  724.882,1487.47 724.882,1470.19 \n",
       "  \"/>\n",
       "<polyline clip-path=\"url(#clip7800)\" style=\"stroke:#000000; stroke-width:4; stroke-opacity:1; fill:none\" points=\"\n",
       "  1246.64,1487.47 1246.64,1470.19 \n",
       "  \"/>\n",
       "<polyline clip-path=\"url(#clip7800)\" style=\"stroke:#000000; stroke-width:4; stroke-opacity:1; fill:none\" points=\"\n",
       "  1768.39,1487.47 1768.39,1470.19 \n",
       "  \"/>\n",
       "<polyline clip-path=\"url(#clip7800)\" style=\"stroke:#000000; stroke-width:4; stroke-opacity:1; fill:none\" points=\"\n",
       "  2290.15,1487.47 2290.15,1470.19 \n",
       "  \"/>\n",
       "<polyline clip-path=\"url(#clip7800)\" style=\"stroke:#000000; stroke-width:4; stroke-opacity:1; fill:none\" points=\"\n",
       "  140.517,1446.71 167.064,1446.71 \n",
       "  \"/>\n",
       "<polyline clip-path=\"url(#clip7800)\" style=\"stroke:#000000; stroke-width:4; stroke-opacity:1; fill:none\" points=\"\n",
       "  140.517,1053.18 167.064,1053.18 \n",
       "  \"/>\n",
       "<polyline clip-path=\"url(#clip7800)\" style=\"stroke:#000000; stroke-width:4; stroke-opacity:1; fill:none\" points=\"\n",
       "  140.517,659.65 167.064,659.65 \n",
       "  \"/>\n",
       "<polyline clip-path=\"url(#clip7800)\" style=\"stroke:#000000; stroke-width:4; stroke-opacity:1; fill:none\" points=\"\n",
       "  140.517,266.118 167.064,266.118 \n",
       "  \"/>\n",
       "<g clip-path=\"url(#clip7800)\">\n",
       "<text style=\"fill:#000000; fill-opacity:1; font-family:Arial,Helvetica Neue,Helvetica,sans-serif; font-size:48px; text-anchor:middle;\" transform=\"rotate(0, 203.127, 1541.47)\" x=\"203.127\" y=\"1541.47\">0.0</text>\n",
       "</g>\n",
       "<g clip-path=\"url(#clip7800)\">\n",
       "<text style=\"fill:#000000; fill-opacity:1; font-family:Arial,Helvetica Neue,Helvetica,sans-serif; font-size:48px; text-anchor:middle;\" transform=\"rotate(0, 724.882, 1541.47)\" x=\"724.882\" y=\"1541.47\">2.5</text>\n",
       "</g>\n",
       "<g clip-path=\"url(#clip7800)\">\n",
       "<text style=\"fill:#000000; fill-opacity:1; font-family:Arial,Helvetica Neue,Helvetica,sans-serif; font-size:48px; text-anchor:middle;\" transform=\"rotate(0, 1246.64, 1541.47)\" x=\"1246.64\" y=\"1541.47\">5.0</text>\n",
       "</g>\n",
       "<g clip-path=\"url(#clip7800)\">\n",
       "<text style=\"fill:#000000; fill-opacity:1; font-family:Arial,Helvetica Neue,Helvetica,sans-serif; font-size:48px; text-anchor:middle;\" transform=\"rotate(0, 1768.39, 1541.47)\" x=\"1768.39\" y=\"1541.47\">7.5</text>\n",
       "</g>\n",
       "<g clip-path=\"url(#clip7800)\">\n",
       "<text style=\"fill:#000000; fill-opacity:1; font-family:Arial,Helvetica Neue,Helvetica,sans-serif; font-size:48px; text-anchor:middle;\" transform=\"rotate(0, 2290.15, 1541.47)\" x=\"2290.15\" y=\"1541.47\">10.0</text>\n",
       "</g>\n",
       "<g clip-path=\"url(#clip7800)\">\n",
       "<text style=\"fill:#000000; fill-opacity:1; font-family:Arial,Helvetica Neue,Helvetica,sans-serif; font-size:48px; text-anchor:end;\" transform=\"rotate(0, 116.517, 1464.21)\" x=\"116.517\" y=\"1464.21\">0</text>\n",
       "</g>\n",
       "<g clip-path=\"url(#clip7800)\">\n",
       "<text style=\"fill:#000000; fill-opacity:1; font-family:Arial,Helvetica Neue,Helvetica,sans-serif; font-size:48px; text-anchor:end;\" transform=\"rotate(0, 116.517, 1070.68)\" x=\"116.517\" y=\"1070.68\">5</text>\n",
       "</g>\n",
       "<g clip-path=\"url(#clip7800)\">\n",
       "<text style=\"fill:#000000; fill-opacity:1; font-family:Arial,Helvetica Neue,Helvetica,sans-serif; font-size:48px; text-anchor:end;\" transform=\"rotate(0, 116.517, 677.15)\" x=\"116.517\" y=\"677.15\">10</text>\n",
       "</g>\n",
       "<g clip-path=\"url(#clip7800)\">\n",
       "<text style=\"fill:#000000; fill-opacity:1; font-family:Arial,Helvetica Neue,Helvetica,sans-serif; font-size:48px; text-anchor:end;\" transform=\"rotate(0, 116.517, 283.618)\" x=\"116.517\" y=\"283.618\">15</text>\n",
       "</g>\n",
       "<polyline clip-path=\"url(#clip7802)\" style=\"stroke:#009af9; stroke-width:4; stroke-opacity:1; fill:none\" points=\"\n",
       "  203.127,1446.71 307.478,1440.58 411.829,1428.48 516.18,1409.75 620.531,1384.36 724.882,1352.85 829.233,1314.42 933.584,1269.32 1037.93,1218.51 1142.29,1159.9 \n",
       "  1246.64,1095.07 1350.99,1024.14 1455.34,947.336 1559.69,862.064 1664.04,769.715 1768.39,673.598 1872.74,571.439 1977.09,460.168 2081.44,342.429 2185.79,219.033 \n",
       "  2290.15,88.6237 \n",
       "  \"/>\n",
       "<polyline clip-path=\"url(#clip7802)\" style=\"stroke:#e26f46; stroke-width:4; stroke-opacity:1; fill:none\" points=\"\n",
       "  203.127,1446.71 205.214,1446.71 207.301,1446.71 209.388,1446.7 211.475,1446.69 213.562,1446.68 215.649,1446.66 217.736,1446.65 219.823,1446.63 221.911,1446.6 \n",
       "  223.998,1446.58 226.085,1446.55 228.172,1446.52 230.259,1446.48 232.346,1446.45 234.433,1446.41 236.52,1446.37 238.607,1446.32 240.694,1446.27 242.781,1446.22 \n",
       "  244.868,1446.17 246.955,1446.11 249.042,1446.06 251.129,1445.99 253.216,1445.93 255.303,1445.86 257.39,1445.79 259.477,1445.72 261.564,1445.65 263.651,1445.57 \n",
       "  265.738,1445.49 267.825,1445.41 269.912,1445.32 271.999,1445.23 274.086,1445.14 276.173,1445.05 278.26,1444.95 280.347,1444.85 282.434,1444.75 284.521,1444.65 \n",
       "  286.608,1444.54 288.695,1444.43 290.782,1444.32 292.869,1444.2 294.956,1444.08 297.043,1443.96 299.13,1443.84 301.217,1443.71 303.304,1443.58 305.391,1443.45 \n",
       "  307.478,1443.32 309.565,1443.18 311.652,1443.04 313.739,1442.9 315.826,1442.75 317.913,1442.6 320,1442.45 322.087,1442.3 324.174,1442.14 326.261,1441.98 \n",
       "  328.348,1441.82 330.435,1441.66 332.522,1441.49 334.609,1441.32 336.696,1441.15 338.784,1440.97 340.871,1440.79 342.958,1440.61 345.045,1440.43 347.132,1440.24 \n",
       "  349.219,1440.06 351.306,1439.86 353.393,1439.67 355.48,1439.47 357.567,1439.27 359.654,1439.07 361.741,1438.87 363.828,1438.66 365.915,1438.45 368.002,1438.23 \n",
       "  370.089,1438.02 372.176,1437.8 374.263,1437.58 376.35,1437.35 378.437,1437.13 380.524,1436.9 382.611,1436.66 384.698,1436.43 386.785,1436.19 388.872,1435.95 \n",
       "  390.959,1435.71 393.046,1435.46 395.133,1435.21 397.22,1434.96 399.307,1434.71 401.394,1434.45 403.481,1434.19 405.568,1433.93 407.655,1433.66 409.742,1433.4 \n",
       "  411.829,1433.13 413.916,1432.85 416.003,1432.58 418.09,1432.3 420.177,1432.02 422.264,1431.73 424.351,1431.45 426.438,1431.16 428.525,1430.87 430.612,1430.57 \n",
       "  432.699,1430.27 434.786,1429.97 436.873,1429.67 438.96,1429.36 441.047,1429.06 443.134,1428.74 445.221,1428.43 447.308,1428.11 449.395,1427.79 451.482,1427.47 \n",
       "  453.57,1427.15 455.657,1426.82 457.744,1426.49 459.831,1426.16 461.918,1425.82 464.005,1425.48 466.092,1425.14 468.179,1424.8 470.266,1424.45 472.353,1424.1 \n",
       "  474.44,1423.75 476.527,1423.4 478.614,1423.04 480.701,1422.68 482.788,1422.32 484.875,1421.95 486.962,1421.58 489.049,1421.21 491.136,1420.84 493.223,1420.46 \n",
       "  495.31,1420.08 497.397,1419.7 499.484,1419.32 501.571,1418.93 503.658,1418.54 505.745,1418.15 507.832,1417.75 509.919,1417.35 512.006,1416.95 514.093,1416.55 \n",
       "  516.18,1416.14 518.267,1415.73 520.354,1415.32 522.441,1414.91 524.528,1414.49 526.615,1414.07 528.702,1413.65 530.789,1413.22 532.876,1412.79 534.963,1412.36 \n",
       "  537.05,1411.93 539.137,1411.49 541.224,1411.06 543.311,1410.61 545.398,1410.17 547.485,1409.72 549.572,1409.27 551.659,1408.82 553.746,1408.37 555.833,1407.91 \n",
       "  557.92,1407.45 560.007,1406.98 562.094,1406.52 564.181,1406.05 566.268,1405.58 568.355,1405.1 570.443,1404.63 572.53,1404.15 574.617,1403.66 576.704,1403.18 \n",
       "  578.791,1402.69 580.878,1402.2 582.965,1401.71 585.052,1401.21 587.139,1400.71 589.226,1400.21 591.313,1399.71 593.4,1399.2 595.487,1398.69 597.574,1398.18 \n",
       "  599.661,1397.66 601.748,1397.15 603.835,1396.63 605.922,1396.1 608.009,1395.58 610.096,1395.05 612.183,1394.52 614.27,1393.98 616.357,1393.45 618.444,1392.91 \n",
       "  620.531,1392.37 622.618,1391.82 624.705,1391.27 626.792,1390.72 628.879,1390.17 630.966,1389.61 633.053,1389.06 635.14,1388.49 637.227,1387.93 639.314,1387.36 \n",
       "  641.401,1386.79 643.488,1386.22 645.575,1385.65 647.662,1385.07 649.749,1384.49 651.836,1383.91 653.923,1383.32 656.01,1382.73 658.097,1382.14 660.184,1381.55 \n",
       "  662.271,1380.95 664.358,1380.35 666.445,1379.75 668.532,1379.15 670.619,1378.54 672.706,1377.93 674.793,1377.32 676.88,1376.7 678.967,1376.08 681.054,1375.46 \n",
       "  683.141,1374.84 685.229,1374.21 687.316,1373.58 689.403,1372.95 691.49,1372.32 693.577,1371.68 695.664,1371.04 697.751,1370.4 699.838,1369.75 701.925,1369.1 \n",
       "  704.012,1368.45 706.099,1367.8 708.186,1367.14 710.273,1366.48 712.36,1365.82 714.447,1365.16 716.534,1364.49 718.621,1363.82 720.708,1363.15 722.795,1362.47 \n",
       "  724.882,1361.79 726.969,1361.11 729.056,1360.43 731.143,1359.74 733.23,1359.06 735.317,1358.36 737.404,1357.67 739.491,1356.97 741.578,1356.27 743.665,1355.57 \n",
       "  745.752,1354.86 747.839,1354.16 749.926,1353.45 752.013,1352.73 754.1,1352.02 756.187,1351.3 758.274,1350.58 760.361,1349.85 762.448,1349.13 764.535,1348.4 \n",
       "  766.622,1347.66 768.709,1346.93 770.796,1346.19 772.883,1345.45 774.97,1344.71 777.057,1343.96 779.144,1343.21 781.231,1342.46 783.318,1341.71 785.405,1340.95 \n",
       "  787.492,1340.19 789.579,1339.43 791.666,1338.66 793.753,1337.9 795.84,1337.13 797.927,1336.35 800.014,1335.58 802.102,1334.8 804.189,1334.02 806.276,1333.23 \n",
       "  808.363,1332.45 810.45,1331.66 812.537,1330.86 814.624,1330.07 816.711,1329.27 818.798,1328.47 820.885,1327.67 822.972,1326.86 825.059,1326.05 827.146,1325.24 \n",
       "  829.233,1324.43 831.32,1323.61 833.407,1322.79 835.494,1321.97 837.581,1321.15 839.668,1320.32 841.755,1319.49 843.842,1318.66 845.929,1317.82 848.016,1316.98 \n",
       "  850.103,1316.14 852.19,1315.3 854.277,1314.45 856.364,1313.6 858.451,1312.75 860.538,1311.9 862.625,1311.04 864.712,1310.18 866.799,1309.32 868.886,1308.45 \n",
       "  870.973,1307.58 873.06,1306.71 875.147,1305.84 877.234,1304.96 879.321,1304.08 881.408,1303.2 883.495,1302.32 885.582,1301.43 887.669,1300.54 889.756,1299.65 \n",
       "  891.843,1298.75 893.93,1297.85 896.017,1296.95 898.104,1296.05 900.191,1295.14 902.278,1294.23 904.365,1293.32 906.452,1292.41 908.539,1291.49 910.626,1290.57 \n",
       "  912.713,1289.65 914.8,1288.72 916.888,1287.79 918.975,1286.86 921.062,1285.93 923.149,1284.99 925.236,1284.05 927.323,1283.11 929.41,1282.17 931.497,1281.22 \n",
       "  933.584,1280.27 935.671,1279.32 937.758,1278.36 939.845,1277.41 941.932,1276.45 944.019,1275.48 946.106,1274.52 948.193,1273.55 950.28,1272.58 952.367,1271.6 \n",
       "  954.454,1270.62 956.541,1269.65 958.628,1268.66 960.715,1267.68 962.802,1266.69 964.889,1265.7 966.976,1264.71 969.063,1263.71 971.15,1262.71 973.237,1261.71 \n",
       "  975.324,1260.71 977.411,1259.7 979.498,1258.69 981.585,1257.68 983.672,1256.66 985.759,1255.65 987.846,1254.62 989.933,1253.6 992.02,1252.58 994.107,1251.55 \n",
       "  996.194,1250.52 998.281,1249.48 1000.37,1248.45 1002.46,1247.41 1004.54,1246.36 1006.63,1245.32 1008.72,1244.27 1010.8,1243.22 1012.89,1242.17 1014.98,1241.11 \n",
       "  1017.06,1240.05 1019.15,1238.99 1021.24,1237.93 1023.33,1236.86 1025.41,1235.79 1027.5,1234.72 1029.59,1233.65 1031.67,1232.57 1033.76,1231.49 1035.85,1230.41 \n",
       "  1037.93,1229.32 1040.02,1228.23 1042.11,1227.14 1044.2,1226.05 1046.28,1224.95 1048.37,1223.85 1050.46,1222.75 1052.54,1221.64 1054.63,1220.54 1056.72,1219.43 \n",
       "  1058.8,1218.31 1060.89,1217.2 1062.98,1216.08 1065.07,1214.96 1067.15,1213.84 1069.24,1212.71 1071.33,1211.58 1073.41,1210.45 1075.5,1209.31 1077.59,1208.18 \n",
       "  1079.67,1207.04 1081.76,1205.89 1083.85,1204.75 1085.94,1203.6 1088.02,1202.45 1090.11,1201.3 1092.2,1200.14 1094.28,1198.98 1096.37,1197.82 1098.46,1196.66 \n",
       "  1100.55,1195.49 1102.63,1194.32 1104.72,1193.15 1106.81,1191.97 1108.89,1190.79 1110.98,1189.61 1113.07,1188.43 1115.15,1187.24 1117.24,1186.05 1119.33,1184.86 \n",
       "  1121.42,1183.67 1123.5,1182.47 1125.59,1181.27 1127.68,1180.07 1129.76,1178.86 1131.85,1177.66 1133.94,1176.44 1136.02,1175.23 1138.11,1174.02 1140.2,1172.8 \n",
       "  1142.29,1171.58 1144.37,1170.35 1146.46,1169.12 1148.55,1167.89 1150.63,1166.66 1152.72,1165.43 1154.81,1164.19 1156.89,1162.95 1158.98,1161.71 1161.07,1160.46 \n",
       "  1163.16,1159.21 1165.24,1157.96 1167.33,1156.71 1169.42,1155.45 1171.5,1154.19 1173.59,1152.93 1175.68,1151.66 1177.76,1150.39 1179.85,1149.12 1181.94,1147.85 \n",
       "  1184.03,1146.57 1186.11,1145.3 1188.2,1144.02 1190.29,1142.73 1192.37,1141.44 1194.46,1140.15 1196.55,1138.86 1198.63,1137.57 1200.72,1136.27 1202.81,1134.97 \n",
       "  1204.9,1133.67 1206.98,1132.36 1209.07,1131.05 1211.16,1129.74 1213.24,1128.43 1215.33,1127.11 1217.42,1125.79 1219.51,1124.47 1221.59,1123.15 1223.68,1121.82 \n",
       "  1225.77,1120.49 1227.85,1119.15 1229.94,1117.82 1232.03,1116.48 1234.11,1115.14 1236.2,1113.8 1238.29,1112.45 1240.38,1111.1 1242.46,1109.75 1244.55,1108.39 \n",
       "  1246.64,1107.04 1248.72,1105.68 1250.81,1104.31 1252.9,1102.95 1254.98,1101.58 1257.07,1100.21 1259.16,1098.84 1261.25,1097.46 1263.33,1096.08 1265.42,1094.7 \n",
       "  1267.51,1093.31 1269.59,1091.93 1271.68,1090.54 1273.77,1089.14 1275.85,1087.75 1277.94,1086.35 1280.03,1084.95 1282.12,1083.55 1284.2,1082.14 1286.29,1080.73 \n",
       "  1288.38,1079.32 1290.46,1077.9 1292.55,1076.49 1294.64,1075.07 1296.72,1073.64 1298.81,1072.22 1300.9,1070.79 1302.99,1069.36 1305.07,1067.93 1307.16,1066.49 \n",
       "  1309.25,1065.05 1311.33,1063.61 1313.42,1062.17 1315.51,1060.72 1317.59,1059.27 1319.68,1057.82 1321.77,1056.36 1323.86,1054.9 1325.94,1053.44 1328.03,1051.98 \n",
       "  1330.12,1050.51 1332.2,1049.05 1334.29,1047.57 1336.38,1046.1 1338.47,1044.62 1340.55,1043.14 1342.64,1041.66 1344.73,1040.18 1346.81,1038.69 1348.9,1037.2 \n",
       "  1350.99,1035.7 1353.07,1034.21 1355.16,1032.71 1357.25,1031.21 1359.34,1029.7 1361.42,1028.2 1363.51,1026.69 1365.6,1025.18 1367.68,1023.66 1369.77,1022.14 \n",
       "  1371.86,1020.62 1373.94,1019.1 1376.03,1017.57 1378.12,1016.05 1380.21,1014.51 1382.29,1012.98 1384.38,1011.44 1386.47,1009.9 1388.55,1008.36 1390.64,1006.82 \n",
       "  1392.73,1005.27 1394.81,1003.72 1396.9,1002.17 1398.99,1000.61 1401.08,999.052 1403.16,997.491 1405.25,995.927 1407.34,994.36 1409.42,992.791 1411.51,991.219 \n",
       "  1413.6,989.644 1415.68,988.067 1417.77,986.486 1419.86,984.904 1421.95,983.318 1424.03,981.73 1426.12,980.139 1428.21,978.545 1430.29,976.948 1432.38,975.349 \n",
       "  1434.47,973.747 1436.55,972.143 1438.64,970.535 1440.73,968.925 1442.82,967.312 1444.9,965.697 1446.99,964.079 1449.08,962.458 1451.16,960.834 1453.25,959.208 \n",
       "  1455.34,957.579 1457.43,955.947 1459.51,954.312 1461.6,952.675 1463.69,951.035 1465.77,949.392 1467.86,947.747 1469.95,946.099 1472.03,944.448 1474.12,942.794 \n",
       "  1476.21,941.138 1478.3,939.479 1480.38,937.817 1482.47,936.153 1484.56,934.486 1486.64,932.816 1488.73,931.144 1490.82,929.468 1492.9,927.79 1494.99,926.11 \n",
       "  1497.08,924.426 1499.17,922.74 1501.25,921.051 1503.34,919.359 1505.43,917.665 1507.51,915.968 1509.6,914.268 1511.69,912.566 1513.77,910.861 1515.86,909.153 \n",
       "  1517.95,907.442 1520.04,905.729 1522.12,904.013 1524.21,902.294 1526.3,900.573 1528.38,898.848 1530.47,897.121 1532.56,895.392 1534.64,893.659 1536.73,891.924 \n",
       "  1538.82,890.187 1540.91,888.446 1542.99,886.703 1545.08,884.957 1547.17,883.208 1549.25,881.457 1551.34,879.703 1553.43,877.946 1555.52,876.186 1557.6,874.424 \n",
       "  1559.69,872.659 1561.78,870.892 1563.86,869.121 1565.95,867.348 1568.04,865.572 1570.12,863.794 1572.21,862.012 1574.3,860.228 1576.39,858.442 1578.47,856.652 \n",
       "  1580.56,854.86 1582.65,853.065 1584.73,851.268 1586.82,849.468 1588.91,847.664 1590.99,845.859 1593.08,844.05 1595.17,842.239 1597.26,840.425 1599.34,838.609 \n",
       "  1601.43,836.789 1603.52,834.967 1605.6,833.143 1607.69,831.315 1609.78,829.485 1611.86,827.652 1613.95,825.816 1616.04,823.978 1618.13,822.137 1620.21,820.293 \n",
       "  1622.3,818.447 1624.39,816.598 1626.47,814.746 1628.56,812.891 1630.65,811.034 1632.73,809.174 1634.82,807.311 1636.91,805.445 1639,803.577 1641.08,801.706 \n",
       "  1643.17,799.833 1645.26,797.956 1647.34,796.077 1649.43,794.195 1651.52,792.311 1653.6,790.423 1655.69,788.534 1657.78,786.641 1659.87,784.745 1661.95,782.847 \n",
       "  1664.04,780.946 1666.13,779.043 1668.21,777.137 1670.3,775.228 1672.39,773.316 1674.48,771.402 1676.56,769.484 1678.65,767.565 1680.74,765.642 1682.82,763.717 \n",
       "  1684.91,761.789 1687,759.858 1689.08,757.925 1691.17,755.988 1693.26,754.05 1695.35,752.108 1697.43,750.164 1699.52,748.217 1701.61,746.267 1703.69,744.314 \n",
       "  1705.78,742.359 1707.87,740.401 1709.95,738.441 1712.04,736.477 1714.13,734.511 1716.22,732.543 1718.3,730.571 1720.39,728.597 1722.48,726.62 1724.56,724.64 \n",
       "  1726.65,722.658 1728.74,720.673 1730.82,718.685 1732.91,716.695 1735,714.701 1737.09,712.705 1739.17,710.707 1741.26,708.705 1743.35,706.701 1745.43,704.694 \n",
       "  1747.52,702.685 1749.61,700.673 1751.69,698.658 1753.78,696.64 1755.87,694.62 1757.96,692.596 1760.04,690.571 1762.13,688.542 1764.22,686.511 1766.3,684.477 \n",
       "  1768.39,682.44 1770.48,680.401 1772.56,678.359 1774.65,676.314 1776.74,674.266 1778.83,672.216 1780.91,670.163 1783,668.107 1785.09,666.049 1787.17,663.988 \n",
       "  1789.26,661.924 1791.35,659.857 1793.44,657.788 1795.52,655.716 1797.61,653.641 1799.7,651.564 1801.78,649.483 1803.87,647.4 1805.96,645.315 1808.04,643.226 \n",
       "  1810.13,641.135 1812.22,639.042 1814.31,636.945 1816.39,634.846 1818.48,632.744 1820.57,630.639 1822.65,628.532 1824.74,626.422 1826.83,624.309 1828.91,622.194 \n",
       "  1831,620.075 1833.09,617.955 1835.18,615.831 1837.26,613.704 1839.35,611.575 1841.44,609.444 1843.52,607.309 1845.61,605.172 1847.7,603.032 1849.78,600.889 \n",
       "  1851.87,598.744 1853.96,596.596 1856.05,594.445 1858.13,592.291 1860.22,590.135 1862.31,587.976 1864.39,585.814 1866.48,583.65 1868.57,581.483 1870.65,579.313 \n",
       "  1872.74,577.14 1874.83,574.965 1876.92,572.787 1879,570.606 1881.09,568.423 1883.18,566.237 1885.26,564.048 1887.35,561.856 1889.44,559.662 1891.52,557.465 \n",
       "  1893.61,555.265 1895.7,553.063 1897.79,550.857 1899.87,548.65 1901.96,546.439 1904.05,544.226 1906.13,542.01 1908.22,539.791 1910.31,537.569 1912.4,535.345 \n",
       "  1914.48,533.118 1916.57,530.888 1918.66,528.656 1920.74,526.421 1922.83,524.183 1924.92,521.943 1927,519.7 1929.09,517.454 1931.18,515.205 1933.27,512.954 \n",
       "  1935.35,510.699 1937.44,508.443 1939.53,506.183 1941.61,503.921 1943.7,501.656 1945.79,499.388 1947.87,497.118 1949.96,494.845 1952.05,492.569 1954.14,490.29 \n",
       "  1956.22,488.009 1958.31,485.725 1960.4,483.438 1962.48,481.149 1964.57,478.857 1966.66,476.562 1968.74,474.264 1970.83,471.964 1972.92,469.661 1975.01,467.355 \n",
       "  1977.09,465.047 1979.18,462.736 1981.27,460.422 1983.35,458.105 1985.44,455.786 1987.53,453.464 1989.61,451.139 1991.7,448.812 1993.79,446.481 1995.88,444.149 \n",
       "  1997.96,441.813 2000.05,439.475 2002.14,437.134 2004.22,434.79 2006.31,432.443 2008.4,430.094 2010.48,427.742 2012.57,425.388 2014.66,423.03 2016.75,420.67 \n",
       "  2018.83,418.307 2020.92,415.942 2023.01,413.574 2025.09,411.203 2027.18,408.829 2029.27,406.453 2031.36,404.073 2033.44,401.692 2035.53,399.307 2037.62,396.92 \n",
       "  2039.7,394.53 2041.79,392.137 2043.88,389.742 2045.96,387.344 2048.05,384.943 2050.14,382.539 2052.23,380.133 2054.31,377.724 2056.4,375.312 2058.49,372.898 \n",
       "  2060.57,370.481 2062.66,368.061 2064.75,365.638 2066.83,363.213 2068.92,360.785 2071.01,358.354 2073.1,355.921 2075.18,353.485 2077.27,351.046 2079.36,348.604 \n",
       "  2081.44,346.16 2083.53,343.713 2085.62,341.263 2087.7,338.811 2089.79,336.355 2091.88,333.898 2093.97,331.437 2096.05,328.974 2098.14,326.508 2100.23,324.039 \n",
       "  2102.31,321.567 2104.4,319.093 2106.49,316.616 2108.57,314.136 2110.66,311.654 2112.75,309.169 2114.84,306.681 2116.92,304.191 2119.01,301.698 2121.1,299.202 \n",
       "  2123.18,296.703 2125.27,294.202 2127.36,291.697 2129.44,289.191 2131.53,286.681 2133.62,284.169 2135.71,281.654 2137.79,279.136 2139.88,276.616 2141.97,274.093 \n",
       "  2144.05,271.567 2146.14,269.038 2148.23,266.507 2150.32,263.973 2152.4,261.436 2154.49,258.897 2156.58,256.355 2158.66,253.81 2160.75,251.262 2162.84,248.712 \n",
       "  2164.92,246.159 2167.01,243.603 2169.1,241.045 2171.19,238.484 2173.27,235.92 2175.36,233.353 2177.45,230.784 2179.53,228.212 2181.62,225.637 2183.71,223.06 \n",
       "  2185.79,220.479 2187.88,217.896 2189.97,215.311 2192.06,212.723 2194.14,210.131 2196.23,207.538 2198.32,204.941 2200.4,202.342 2202.49,199.74 2204.58,197.135 \n",
       "  2206.66,194.528 2208.75,191.918 2210.84,189.305 2212.93,186.69 2215.01,184.071 2217.1,181.45 2219.19,178.827 2221.27,176.2 2223.36,173.571 2225.45,170.94 \n",
       "  2227.53,168.305 2229.62,165.668 2231.71,163.028 2233.8,160.385 2235.88,157.74 2237.97,155.092 2240.06,152.441 2242.14,149.787 2244.23,147.131 2246.32,144.472 \n",
       "  2248.41,141.81 2250.49,139.146 2252.58,136.479 2254.67,133.809 2256.75,131.136 2258.84,128.461 2260.93,125.783 2263.01,123.102 2265.1,120.419 2267.19,117.733 \n",
       "  2269.28,115.044 2271.36,112.352 2273.45,109.658 2275.54,106.961 2277.62,104.261 2279.71,101.558 2281.8,98.8533 2283.88,96.1454 2285.97,93.4347 2288.06,90.7214 \n",
       "  2290.15,88.0053 \n",
       "  \"/>\n",
       "</svg>\n"
      ]
     },
     "execution_count": 333,
     "metadata": {},
     "output_type": "execute_result"
    }
   ],
   "source": [
    "plot!(0:0.01:10, x->17.263*(x/10)^2)"
   ]
  },
  {
   "cell_type": "code",
   "execution_count": 329,
   "metadata": {},
   "outputs": [
    {
     "data": {
      "text/plain": [
       "17.263147209996013"
      ]
     },
     "execution_count": 329,
     "metadata": {},
     "output_type": "execute_result"
    }
   ],
   "source": [
    "g(Δ=10, M=1e6)"
   ]
  },
  {
   "cell_type": "code",
   "execution_count": 336,
   "metadata": {},
   "outputs": [
    {
     "data": {
      "text/plain": [
       "h (generic function with 1 method)"
      ]
     },
     "execution_count": 336,
     "metadata": {},
     "output_type": "execute_result"
    }
   ],
   "source": [
    "h(;x=1/2,Δ=1,M=1e4)=mean(Exit(a=0,b=Δ,x=x)[2] for i in 1:M)"
   ]
  },
  {
   "cell_type": "code",
   "execution_count": 337,
   "metadata": {},
   "outputs": [
    {
     "data": {
      "text/plain": [
       "0.105036"
      ]
     },
     "execution_count": 337,
     "metadata": {},
     "output_type": "execute_result"
    }
   ],
   "source": [
    "h(x=1,Δ=10, M=1e6)"
   ]
  },
  {
   "cell_type": "code",
   "execution_count": 354,
   "metadata": {},
   "outputs": [
    {
     "name": "stdout",
     "output_type": "stream",
     "text": [
      "192.923459 seconds (260.23 k allocations: 13.738 MiB, 0.11% compilation time)\n"
     ]
    },
    {
     "data": {
      "image/svg+xml": [
       "<?xml version=\"1.0\" encoding=\"utf-8\"?>\n",
       "<svg xmlns=\"http://www.w3.org/2000/svg\" xmlns:xlink=\"http://www.w3.org/1999/xlink\" width=\"600\" height=\"400\" viewBox=\"0 0 2400 1600\">\n",
       "<defs>\n",
       "  <clipPath id=\"clip0600\">\n",
       "    <rect x=\"0\" y=\"0\" width=\"2400\" height=\"1600\"/>\n",
       "  </clipPath>\n",
       "</defs>\n",
       "<path clip-path=\"url(#clip0600)\" d=\"\n",
       "M0 1600 L2400 1600 L2400 0 L0 0  Z\n",
       "  \" fill=\"#ffffff\" fill-rule=\"evenodd\" fill-opacity=\"1\"/>\n",
       "<defs>\n",
       "  <clipPath id=\"clip0601\">\n",
       "    <rect x=\"480\" y=\"0\" width=\"1681\" height=\"1600\"/>\n",
       "  </clipPath>\n",
       "</defs>\n",
       "<path clip-path=\"url(#clip0600)\" d=\"\n",
       "M180.66 1487.47 L2352.76 1487.47 L2352.76 47.2441 L180.66 47.2441  Z\n",
       "  \" fill=\"#ffffff\" fill-rule=\"evenodd\" fill-opacity=\"1\"/>\n",
       "<defs>\n",
       "  <clipPath id=\"clip0602\">\n",
       "    <rect x=\"180\" y=\"47\" width=\"2173\" height=\"1441\"/>\n",
       "  </clipPath>\n",
       "</defs>\n",
       "<polyline clip-path=\"url(#clip0602)\" style=\"stroke:#000000; stroke-width:2; stroke-opacity:0.1; fill:none\" points=\"\n",
       "  242.135,1487.47 242.135,47.2441 \n",
       "  \"/>\n",
       "<polyline clip-path=\"url(#clip0602)\" style=\"stroke:#000000; stroke-width:2; stroke-opacity:0.1; fill:none\" points=\"\n",
       "  754.421,1487.47 754.421,47.2441 \n",
       "  \"/>\n",
       "<polyline clip-path=\"url(#clip0602)\" style=\"stroke:#000000; stroke-width:2; stroke-opacity:0.1; fill:none\" points=\"\n",
       "  1266.71,1487.47 1266.71,47.2441 \n",
       "  \"/>\n",
       "<polyline clip-path=\"url(#clip0602)\" style=\"stroke:#000000; stroke-width:2; stroke-opacity:0.1; fill:none\" points=\"\n",
       "  1778.99,1487.47 1778.99,47.2441 \n",
       "  \"/>\n",
       "<polyline clip-path=\"url(#clip0602)\" style=\"stroke:#000000; stroke-width:2; stroke-opacity:0.1; fill:none\" points=\"\n",
       "  2291.28,1487.47 2291.28,47.2441 \n",
       "  \"/>\n",
       "<polyline clip-path=\"url(#clip0602)\" style=\"stroke:#000000; stroke-width:2; stroke-opacity:0.1; fill:none\" points=\"\n",
       "  180.66,1446.71 2352.76,1446.71 \n",
       "  \"/>\n",
       "<polyline clip-path=\"url(#clip0602)\" style=\"stroke:#000000; stroke-width:2; stroke-opacity:0.1; fill:none\" points=\"\n",
       "  180.66,1107.04 2352.76,1107.04 \n",
       "  \"/>\n",
       "<polyline clip-path=\"url(#clip0602)\" style=\"stroke:#000000; stroke-width:2; stroke-opacity:0.1; fill:none\" points=\"\n",
       "  180.66,767.359 2352.76,767.359 \n",
       "  \"/>\n",
       "<polyline clip-path=\"url(#clip0602)\" style=\"stroke:#000000; stroke-width:2; stroke-opacity:0.1; fill:none\" points=\"\n",
       "  180.66,427.682 2352.76,427.682 \n",
       "  \"/>\n",
       "<polyline clip-path=\"url(#clip0602)\" style=\"stroke:#000000; stroke-width:2; stroke-opacity:0.1; fill:none\" points=\"\n",
       "  180.66,88.0053 2352.76,88.0053 \n",
       "  \"/>\n",
       "<polyline clip-path=\"url(#clip0600)\" style=\"stroke:#000000; stroke-width:4; stroke-opacity:1; fill:none\" points=\"\n",
       "  180.66,1487.47 2352.76,1487.47 \n",
       "  \"/>\n",
       "<polyline clip-path=\"url(#clip0600)\" style=\"stroke:#000000; stroke-width:4; stroke-opacity:1; fill:none\" points=\"\n",
       "  180.66,1487.47 180.66,47.2441 \n",
       "  \"/>\n",
       "<polyline clip-path=\"url(#clip0600)\" style=\"stroke:#000000; stroke-width:4; stroke-opacity:1; fill:none\" points=\"\n",
       "  242.135,1487.47 242.135,1470.19 \n",
       "  \"/>\n",
       "<polyline clip-path=\"url(#clip0600)\" style=\"stroke:#000000; stroke-width:4; stroke-opacity:1; fill:none\" points=\"\n",
       "  754.421,1487.47 754.421,1470.19 \n",
       "  \"/>\n",
       "<polyline clip-path=\"url(#clip0600)\" style=\"stroke:#000000; stroke-width:4; stroke-opacity:1; fill:none\" points=\"\n",
       "  1266.71,1487.47 1266.71,1470.19 \n",
       "  \"/>\n",
       "<polyline clip-path=\"url(#clip0600)\" style=\"stroke:#000000; stroke-width:4; stroke-opacity:1; fill:none\" points=\"\n",
       "  1778.99,1487.47 1778.99,1470.19 \n",
       "  \"/>\n",
       "<polyline clip-path=\"url(#clip0600)\" style=\"stroke:#000000; stroke-width:4; stroke-opacity:1; fill:none\" points=\"\n",
       "  2291.28,1487.47 2291.28,1470.19 \n",
       "  \"/>\n",
       "<polyline clip-path=\"url(#clip0600)\" style=\"stroke:#000000; stroke-width:4; stroke-opacity:1; fill:none\" points=\"\n",
       "  180.66,1446.71 206.725,1446.71 \n",
       "  \"/>\n",
       "<polyline clip-path=\"url(#clip0600)\" style=\"stroke:#000000; stroke-width:4; stroke-opacity:1; fill:none\" points=\"\n",
       "  180.66,1107.04 206.725,1107.04 \n",
       "  \"/>\n",
       "<polyline clip-path=\"url(#clip0600)\" style=\"stroke:#000000; stroke-width:4; stroke-opacity:1; fill:none\" points=\"\n",
       "  180.66,767.359 206.725,767.359 \n",
       "  \"/>\n",
       "<polyline clip-path=\"url(#clip0600)\" style=\"stroke:#000000; stroke-width:4; stroke-opacity:1; fill:none\" points=\"\n",
       "  180.66,427.682 206.725,427.682 \n",
       "  \"/>\n",
       "<polyline clip-path=\"url(#clip0600)\" style=\"stroke:#000000; stroke-width:4; stroke-opacity:1; fill:none\" points=\"\n",
       "  180.66,88.0053 206.725,88.0053 \n",
       "  \"/>\n",
       "<g clip-path=\"url(#clip0600)\">\n",
       "<text style=\"fill:#000000; fill-opacity:1; font-family:Arial,Helvetica Neue,Helvetica,sans-serif; font-size:48px; text-anchor:middle;\" transform=\"rotate(0, 242.135, 1541.47)\" x=\"242.135\" y=\"1541.47\">0.0</text>\n",
       "</g>\n",
       "<g clip-path=\"url(#clip0600)\">\n",
       "<text style=\"fill:#000000; fill-opacity:1; font-family:Arial,Helvetica Neue,Helvetica,sans-serif; font-size:48px; text-anchor:middle;\" transform=\"rotate(0, 754.421, 1541.47)\" x=\"754.421\" y=\"1541.47\">2.5</text>\n",
       "</g>\n",
       "<g clip-path=\"url(#clip0600)\">\n",
       "<text style=\"fill:#000000; fill-opacity:1; font-family:Arial,Helvetica Neue,Helvetica,sans-serif; font-size:48px; text-anchor:middle;\" transform=\"rotate(0, 1266.71, 1541.47)\" x=\"1266.71\" y=\"1541.47\">5.0</text>\n",
       "</g>\n",
       "<g clip-path=\"url(#clip0600)\">\n",
       "<text style=\"fill:#000000; fill-opacity:1; font-family:Arial,Helvetica Neue,Helvetica,sans-serif; font-size:48px; text-anchor:middle;\" transform=\"rotate(0, 1778.99, 1541.47)\" x=\"1778.99\" y=\"1541.47\">7.5</text>\n",
       "</g>\n",
       "<g clip-path=\"url(#clip0600)\">\n",
       "<text style=\"fill:#000000; fill-opacity:1; font-family:Arial,Helvetica Neue,Helvetica,sans-serif; font-size:48px; text-anchor:middle;\" transform=\"rotate(0, 2291.28, 1541.47)\" x=\"2291.28\" y=\"1541.47\">10.0</text>\n",
       "</g>\n",
       "<g clip-path=\"url(#clip0600)\">\n",
       "<text style=\"fill:#000000; fill-opacity:1; font-family:Arial,Helvetica Neue,Helvetica,sans-serif; font-size:48px; text-anchor:end;\" transform=\"rotate(0, 156.66, 1464.21)\" x=\"156.66\" y=\"1464.21\">0.00</text>\n",
       "</g>\n",
       "<g clip-path=\"url(#clip0600)\">\n",
       "<text style=\"fill:#000000; fill-opacity:1; font-family:Arial,Helvetica Neue,Helvetica,sans-serif; font-size:48px; text-anchor:end;\" transform=\"rotate(0, 156.66, 1124.54)\" x=\"156.66\" y=\"1124.54\">0.25</text>\n",
       "</g>\n",
       "<g clip-path=\"url(#clip0600)\">\n",
       "<text style=\"fill:#000000; fill-opacity:1; font-family:Arial,Helvetica Neue,Helvetica,sans-serif; font-size:48px; text-anchor:end;\" transform=\"rotate(0, 156.66, 784.859)\" x=\"156.66\" y=\"784.859\">0.50</text>\n",
       "</g>\n",
       "<g clip-path=\"url(#clip0600)\">\n",
       "<text style=\"fill:#000000; fill-opacity:1; font-family:Arial,Helvetica Neue,Helvetica,sans-serif; font-size:48px; text-anchor:end;\" transform=\"rotate(0, 156.66, 445.182)\" x=\"156.66\" y=\"445.182\">0.75</text>\n",
       "</g>\n",
       "<g clip-path=\"url(#clip0600)\">\n",
       "<text style=\"fill:#000000; fill-opacity:1; font-family:Arial,Helvetica Neue,Helvetica,sans-serif; font-size:48px; text-anchor:end;\" transform=\"rotate(0, 156.66, 105.505)\" x=\"156.66\" y=\"105.505\">1.00</text>\n",
       "</g>\n",
       "<polyline clip-path=\"url(#clip0602)\" style=\"stroke:#009af9; stroke-width:4; stroke-opacity:1; fill:none\" points=\"\n",
       "  242.135,1446.71 344.592,1372.1 447.049,1304.71 549.507,1237.69 651.964,1170.14 754.421,1103.6 856.879,1036.5 959.336,968.854 1061.79,901.948 1164.25,835.092 \n",
       "  1266.71,767.789 1369.17,701.003 1471.62,633.096 1574.08,565.498 1676.54,499.426 1778.99,431.18 1881.45,364.642 1983.91,297.26 2086.37,230.003 2188.82,163.128 \n",
       "  2291.28,88.0053 \n",
       "  \"/>\n",
       "</svg>\n"
      ]
     },
     "execution_count": 354,
     "metadata": {},
     "output_type": "execute_result"
    }
   ],
   "source": [
    "Δ=10\n",
    "@time plot(0:0.5:Δ, x->h(x=x,Δ=Δ, M=1e6), leg=false)"
   ]
  },
  {
   "cell_type": "code",
   "execution_count": 350,
   "metadata": {},
   "outputs": [
    {
     "data": {
      "text/plain": [
       "1.0"
      ]
     },
     "execution_count": 350,
     "metadata": {},
     "output_type": "execute_result"
    }
   ],
   "source": [
    "h(x=1,Δ=2,M=1e3)"
   ]
  },
  {
   "cell_type": "markdown",
   "metadata": {},
   "source": [
    "## czas wyjscia poprawny"
   ]
  },
  {
   "cell_type": "code",
   "execution_count": 3,
   "metadata": {},
   "outputs": [
    {
     "data": {
      "text/plain": [
       "Exit (generic function with 1 method)"
      ]
     },
     "execution_count": 3,
     "metadata": {},
     "output_type": "execute_result"
    }
   ],
   "source": [
    "Exit(;a=-2,b=2,x=0,Δ=0.01)=begin\n",
    "    y=x/√Δ\n",
    "    time=0\n",
    "    a′=a/√Δ\n",
    "    b′=b/√Δ\n",
    "    while a′<y<b′\n",
    "        time+=1\n",
    "        y+=rand(Normal())\n",
    "    end\n",
    "    return time*Δ, b′<=y\n",
    "end"
   ]
  },
  {
   "cell_type": "code",
   "execution_count": 86,
   "metadata": {},
   "outputs": [
    {
     "data": {
      "text/plain": [
       "test (generic function with 1 method)"
      ]
     },
     "execution_count": 86,
     "metadata": {},
     "output_type": "execute_result"
    }
   ],
   "source": [
    "test(x;a=0,b=2)=Exit(a=a,b=b,x=x)"
   ]
  },
  {
   "cell_type": "code",
   "execution_count": 85,
   "metadata": {},
   "outputs": [
    {
     "data": {
      "text/plain": [
       "Test (generic function with 1 method)"
      ]
     },
     "execution_count": 85,
     "metadata": {},
     "output_type": "execute_result"
    }
   ],
   "source": [
    "Test(x;n=1e3,a=0,b=2)=mean(test(x,a=a,b=b)[1] for i in 1:n)"
   ]
  },
  {
   "cell_type": "code",
   "execution_count": 63,
   "metadata": {},
   "outputs": [
    {
     "data": {
      "text/plain": [
       "1.1190114000000029"
      ]
     },
     "execution_count": 63,
     "metadata": {},
     "output_type": "execute_result"
    }
   ],
   "source": [
    "Test(1,n=1e5)"
   ]
  },
  {
   "cell_type": "code",
   "execution_count": 76,
   "metadata": {},
   "outputs": [
    {
     "name": "stdout",
     "output_type": "stream",
     "text": [
      " 96.681232 seconds (643.61 k allocations: 36.300 MiB, 0.02% gc time, 0.31% compilation time)\n"
     ]
    },
    {
     "data": {
      "image/svg+xml": [
       "<?xml version=\"1.0\" encoding=\"utf-8\"?>\n",
       "<svg xmlns=\"http://www.w3.org/2000/svg\" xmlns:xlink=\"http://www.w3.org/1999/xlink\" width=\"600\" height=\"400\" viewBox=\"0 0 2400 1600\">\n",
       "<defs>\n",
       "  <clipPath id=\"clip5200\">\n",
       "    <rect x=\"0\" y=\"0\" width=\"2400\" height=\"1600\"/>\n",
       "  </clipPath>\n",
       "</defs>\n",
       "<path clip-path=\"url(#clip5200)\" d=\"\n",
       "M0 1600 L2400 1600 L2400 0 L0 0  Z\n",
       "  \" fill=\"#ffffff\" fill-rule=\"evenodd\" fill-opacity=\"1\"/>\n",
       "<defs>\n",
       "  <clipPath id=\"clip5201\">\n",
       "    <rect x=\"480\" y=\"0\" width=\"1681\" height=\"1600\"/>\n",
       "  </clipPath>\n",
       "</defs>\n",
       "<path clip-path=\"url(#clip5200)\" d=\"\n",
       "M180.66 1487.47 L2352.76 1487.47 L2352.76 47.2441 L180.66 47.2441  Z\n",
       "  \" fill=\"#ffffff\" fill-rule=\"evenodd\" fill-opacity=\"1\"/>\n",
       "<defs>\n",
       "  <clipPath id=\"clip5202\">\n",
       "    <rect x=\"180\" y=\"47\" width=\"2173\" height=\"1441\"/>\n",
       "  </clipPath>\n",
       "</defs>\n",
       "<polyline clip-path=\"url(#clip5202)\" style=\"stroke:#000000; stroke-width:2; stroke-opacity:0.1; fill:none\" points=\"\n",
       "  242.135,1487.47 242.135,47.2441 \n",
       "  \"/>\n",
       "<polyline clip-path=\"url(#clip5202)\" style=\"stroke:#000000; stroke-width:2; stroke-opacity:0.1; fill:none\" points=\"\n",
       "  754.421,1487.47 754.421,47.2441 \n",
       "  \"/>\n",
       "<polyline clip-path=\"url(#clip5202)\" style=\"stroke:#000000; stroke-width:2; stroke-opacity:0.1; fill:none\" points=\"\n",
       "  1266.71,1487.47 1266.71,47.2441 \n",
       "  \"/>\n",
       "<polyline clip-path=\"url(#clip5202)\" style=\"stroke:#000000; stroke-width:2; stroke-opacity:0.1; fill:none\" points=\"\n",
       "  1778.99,1487.47 1778.99,47.2441 \n",
       "  \"/>\n",
       "<polyline clip-path=\"url(#clip5202)\" style=\"stroke:#000000; stroke-width:2; stroke-opacity:0.1; fill:none\" points=\"\n",
       "  2291.28,1487.47 2291.28,47.2441 \n",
       "  \"/>\n",
       "<polyline clip-path=\"url(#clip5202)\" style=\"stroke:#000000; stroke-width:2; stroke-opacity:0.1; fill:none\" points=\"\n",
       "  180.66,1446.71 2352.76,1446.71 \n",
       "  \"/>\n",
       "<polyline clip-path=\"url(#clip5202)\" style=\"stroke:#000000; stroke-width:2; stroke-opacity:0.1; fill:none\" points=\"\n",
       "  180.66,1144.35 2352.76,1144.35 \n",
       "  \"/>\n",
       "<polyline clip-path=\"url(#clip5202)\" style=\"stroke:#000000; stroke-width:2; stroke-opacity:0.1; fill:none\" points=\"\n",
       "  180.66,841.981 2352.76,841.981 \n",
       "  \"/>\n",
       "<polyline clip-path=\"url(#clip5202)\" style=\"stroke:#000000; stroke-width:2; stroke-opacity:0.1; fill:none\" points=\"\n",
       "  180.66,539.615 2352.76,539.615 \n",
       "  \"/>\n",
       "<polyline clip-path=\"url(#clip5202)\" style=\"stroke:#000000; stroke-width:2; stroke-opacity:0.1; fill:none\" points=\"\n",
       "  180.66,237.249 2352.76,237.249 \n",
       "  \"/>\n",
       "<polyline clip-path=\"url(#clip5200)\" style=\"stroke:#000000; stroke-width:4; stroke-opacity:1; fill:none\" points=\"\n",
       "  180.66,1487.47 2352.76,1487.47 \n",
       "  \"/>\n",
       "<polyline clip-path=\"url(#clip5200)\" style=\"stroke:#000000; stroke-width:4; stroke-opacity:1; fill:none\" points=\"\n",
       "  180.66,1487.47 180.66,47.2441 \n",
       "  \"/>\n",
       "<polyline clip-path=\"url(#clip5200)\" style=\"stroke:#000000; stroke-width:4; stroke-opacity:1; fill:none\" points=\"\n",
       "  242.135,1487.47 242.135,1470.19 \n",
       "  \"/>\n",
       "<polyline clip-path=\"url(#clip5200)\" style=\"stroke:#000000; stroke-width:4; stroke-opacity:1; fill:none\" points=\"\n",
       "  754.421,1487.47 754.421,1470.19 \n",
       "  \"/>\n",
       "<polyline clip-path=\"url(#clip5200)\" style=\"stroke:#000000; stroke-width:4; stroke-opacity:1; fill:none\" points=\"\n",
       "  1266.71,1487.47 1266.71,1470.19 \n",
       "  \"/>\n",
       "<polyline clip-path=\"url(#clip5200)\" style=\"stroke:#000000; stroke-width:4; stroke-opacity:1; fill:none\" points=\"\n",
       "  1778.99,1487.47 1778.99,1470.19 \n",
       "  \"/>\n",
       "<polyline clip-path=\"url(#clip5200)\" style=\"stroke:#000000; stroke-width:4; stroke-opacity:1; fill:none\" points=\"\n",
       "  2291.28,1487.47 2291.28,1470.19 \n",
       "  \"/>\n",
       "<polyline clip-path=\"url(#clip5200)\" style=\"stroke:#000000; stroke-width:4; stroke-opacity:1; fill:none\" points=\"\n",
       "  180.66,1446.71 206.725,1446.71 \n",
       "  \"/>\n",
       "<polyline clip-path=\"url(#clip5200)\" style=\"stroke:#000000; stroke-width:4; stroke-opacity:1; fill:none\" points=\"\n",
       "  180.66,1144.35 206.725,1144.35 \n",
       "  \"/>\n",
       "<polyline clip-path=\"url(#clip5200)\" style=\"stroke:#000000; stroke-width:4; stroke-opacity:1; fill:none\" points=\"\n",
       "  180.66,841.981 206.725,841.981 \n",
       "  \"/>\n",
       "<polyline clip-path=\"url(#clip5200)\" style=\"stroke:#000000; stroke-width:4; stroke-opacity:1; fill:none\" points=\"\n",
       "  180.66,539.615 206.725,539.615 \n",
       "  \"/>\n",
       "<polyline clip-path=\"url(#clip5200)\" style=\"stroke:#000000; stroke-width:4; stroke-opacity:1; fill:none\" points=\"\n",
       "  180.66,237.249 206.725,237.249 \n",
       "  \"/>\n",
       "<g clip-path=\"url(#clip5200)\">\n",
       "<text style=\"fill:#000000; fill-opacity:1; font-family:Arial,Helvetica Neue,Helvetica,sans-serif; font-size:48px; text-anchor:middle;\" transform=\"rotate(0, 242.135, 1541.47)\" x=\"242.135\" y=\"1541.47\">0.0</text>\n",
       "</g>\n",
       "<g clip-path=\"url(#clip5200)\">\n",
       "<text style=\"fill:#000000; fill-opacity:1; font-family:Arial,Helvetica Neue,Helvetica,sans-serif; font-size:48px; text-anchor:middle;\" transform=\"rotate(0, 754.421, 1541.47)\" x=\"754.421\" y=\"1541.47\">0.5</text>\n",
       "</g>\n",
       "<g clip-path=\"url(#clip5200)\">\n",
       "<text style=\"fill:#000000; fill-opacity:1; font-family:Arial,Helvetica Neue,Helvetica,sans-serif; font-size:48px; text-anchor:middle;\" transform=\"rotate(0, 1266.71, 1541.47)\" x=\"1266.71\" y=\"1541.47\">1.0</text>\n",
       "</g>\n",
       "<g clip-path=\"url(#clip5200)\">\n",
       "<text style=\"fill:#000000; fill-opacity:1; font-family:Arial,Helvetica Neue,Helvetica,sans-serif; font-size:48px; text-anchor:middle;\" transform=\"rotate(0, 1778.99, 1541.47)\" x=\"1778.99\" y=\"1541.47\">1.5</text>\n",
       "</g>\n",
       "<g clip-path=\"url(#clip5200)\">\n",
       "<text style=\"fill:#000000; fill-opacity:1; font-family:Arial,Helvetica Neue,Helvetica,sans-serif; font-size:48px; text-anchor:middle;\" transform=\"rotate(0, 2291.28, 1541.47)\" x=\"2291.28\" y=\"1541.47\">2.0</text>\n",
       "</g>\n",
       "<g clip-path=\"url(#clip5200)\">\n",
       "<text style=\"fill:#000000; fill-opacity:1; font-family:Arial,Helvetica Neue,Helvetica,sans-serif; font-size:48px; text-anchor:end;\" transform=\"rotate(0, 156.66, 1464.21)\" x=\"156.66\" y=\"1464.21\">0.00</text>\n",
       "</g>\n",
       "<g clip-path=\"url(#clip5200)\">\n",
       "<text style=\"fill:#000000; fill-opacity:1; font-family:Arial,Helvetica Neue,Helvetica,sans-serif; font-size:48px; text-anchor:end;\" transform=\"rotate(0, 156.66, 1161.85)\" x=\"156.66\" y=\"1161.85\">0.25</text>\n",
       "</g>\n",
       "<g clip-path=\"url(#clip5200)\">\n",
       "<text style=\"fill:#000000; fill-opacity:1; font-family:Arial,Helvetica Neue,Helvetica,sans-serif; font-size:48px; text-anchor:end;\" transform=\"rotate(0, 156.66, 859.481)\" x=\"156.66\" y=\"859.481\">0.50</text>\n",
       "</g>\n",
       "<g clip-path=\"url(#clip5200)\">\n",
       "<text style=\"fill:#000000; fill-opacity:1; font-family:Arial,Helvetica Neue,Helvetica,sans-serif; font-size:48px; text-anchor:end;\" transform=\"rotate(0, 156.66, 557.115)\" x=\"156.66\" y=\"557.115\">0.75</text>\n",
       "</g>\n",
       "<g clip-path=\"url(#clip5200)\">\n",
       "<text style=\"fill:#000000; fill-opacity:1; font-family:Arial,Helvetica Neue,Helvetica,sans-serif; font-size:48px; text-anchor:end;\" transform=\"rotate(0, 156.66, 254.749)\" x=\"156.66\" y=\"254.749\">1.00</text>\n",
       "</g>\n",
       "<polyline clip-path=\"url(#clip5202)\" style=\"stroke:#009af9; stroke-width:4; stroke-opacity:1; fill:none\" points=\"\n",
       "  242.135,1446.71 252.38,1249.01 262.626,1230.04 272.872,1211.91 283.118,1191.53 293.363,1172.02 303.609,1152.4 313.855,1130.45 324.101,1108.48 334.346,1087.75 \n",
       "  344.592,1067.21 354.838,1046.57 365.084,1026.62 375.329,1004.62 385.575,983.441 395.821,963.756 406.066,944.83 416.312,922.421 426.558,901.215 436.804,884.049 \n",
       "  447.049,863.045 457.295,844.286 467.541,825.222 477.787,806.325 488.032,785.975 498.278,769.013 508.524,752.154 518.77,733.159 529.015,716.017 539.261,698.153 \n",
       "  549.507,683.219 559.752,663.493 569.998,648.538 580.244,633.902 590.49,617.459 600.735,600.389 610.981,585.496 621.227,569.833 631.473,554.201 641.718,539.598 \n",
       "  651.964,527.274 662.21,512.063 672.456,495.285 682.701,481.744 692.947,470.606 703.193,455.018 713.438,439.588 723.684,431.185 733.93,414.648 744.176,404.804 \n",
       "  754.421,392.045 764.667,380.409 774.913,369.07 785.159,356.589 795.404,344.992 805.65,332.771 815.896,323.466 826.142,314.624 836.387,303.438 846.633,294.329 \n",
       "  856.879,282.883 867.124,274.793 877.37,264.219 887.616,255.765 897.862,246.979 908.107,237.835 918.353,227.6 928.599,221.543 938.845,211.633 949.09,207.019 \n",
       "  959.336,199.532 969.582,189.201 979.828,185.071 990.073,177.878 1000.32,169.387 1010.56,164.235 1020.81,160.089 1031.06,154.376 1041.3,145.752 1051.55,142.545 \n",
       "  1061.79,137.251 1072.04,131.908 1082.28,129.751 1092.53,122.989 1102.78,121.652 1113.02,117.931 1123.27,113.373 1133.51,111.365 1143.76,105.811 1154.01,103.013 \n",
       "  1164.25,102.601 1174.5,98.7803 1184.74,97.9546 1194.99,95.5724 1205.23,96.0506 1215.48,94.7294 1225.73,92.0301 1235.97,89.0381 1246.22,91.0538 1256.46,91.9708 \n",
       "  1266.71,88.0053 1276.95,90.7227 1287.2,90.2821 1297.45,90.6953 1307.69,90.6641 1317.94,92.4073 1328.18,93.6897 1338.43,96.9554 1348.67,97.0551 1358.92,100.824 \n",
       "  1369.17,102.133 1379.41,105.061 1389.66,106.869 1399.9,109.314 1410.15,114.576 1420.39,117.479 1430.64,120.049 1440.89,124.93 1451.13,128.025 1461.38,133.334 \n",
       "  1471.62,135.238 1481.87,145.064 1492.11,148.813 1502.36,154.068 1512.61,159.393 1522.85,166.371 1533.1,169.325 1543.34,178.099 1553.59,185.795 1563.83,191.288 \n",
       "  1574.08,198.575 1584.33,204.171 1594.57,211.436 1604.82,220.26 1615.06,226.444 1625.31,239.484 1635.55,246.878 1645.8,254.548 1656.05,264.408 1666.29,274.72 \n",
       "  1676.54,283.762 1686.78,293.22 1697.03,301.567 1707.27,312.203 1717.52,323.979 1727.77,333.57 1738.01,344.335 1748.26,355.039 1758.5,367.717 1768.75,381.089 \n",
       "  1778.99,392.309 1789.24,404.323 1799.49,415.571 1809.73,428.261 1819.98,442.446 1830.22,456.099 1840.47,468.332 1850.71,481.587 1860.96,497.146 1871.21,509.981 \n",
       "  1881.45,523.359 1891.7,540.191 1901.94,553.916 1912.19,569.269 1922.44,584.65 1932.68,601.157 1942.93,614.278 1953.17,633.403 1963.42,646.509 1973.66,664.063 \n",
       "  1983.91,682.819 1994.16,698.786 2004.4,715.386 2014.65,734.226 2024.89,751.369 2035.14,770.935 2045.38,787.871 2055.63,807.098 2065.88,826.125 2076.12,846.396 \n",
       "  2086.37,863.297 2096.61,881.772 2106.86,902.749 2117.1,923.799 2127.35,941.606 2137.6,963.501 2147.84,984.111 2158.09,1005.56 2168.33,1023.8 2178.58,1046.92 \n",
       "  2188.82,1067.37 2199.07,1088.47 2209.32,1110.43 2219.56,1130.33 2229.81,1151.78 2240.05,1171.39 2250.3,1191.45 2260.54,1210.9 2270.79,1229.9 2281.04,1248.62 \n",
       "  2291.28,1446.71 \n",
       "  \"/>\n",
       "</svg>\n"
      ]
     },
     "execution_count": 76,
     "metadata": {},
     "output_type": "execute_result"
    }
   ],
   "source": [
    "@time plot(0:0.01:2,x->Test(x,n=1e6),leg=false)"
   ]
  },
  {
   "cell_type": "code",
   "execution_count": 77,
   "metadata": {},
   "outputs": [
    {
     "data": {
      "image/svg+xml": [
       "<?xml version=\"1.0\" encoding=\"utf-8\"?>\n",
       "<svg xmlns=\"http://www.w3.org/2000/svg\" xmlns:xlink=\"http://www.w3.org/1999/xlink\" width=\"600\" height=\"400\" viewBox=\"0 0 2400 1600\">\n",
       "<defs>\n",
       "  <clipPath id=\"clip5600\">\n",
       "    <rect x=\"0\" y=\"0\" width=\"2400\" height=\"1600\"/>\n",
       "  </clipPath>\n",
       "</defs>\n",
       "<path clip-path=\"url(#clip5600)\" d=\"\n",
       "M0 1600 L2400 1600 L2400 0 L0 0  Z\n",
       "  \" fill=\"#ffffff\" fill-rule=\"evenodd\" fill-opacity=\"1\"/>\n",
       "<defs>\n",
       "  <clipPath id=\"clip5601\">\n",
       "    <rect x=\"480\" y=\"0\" width=\"1681\" height=\"1600\"/>\n",
       "  </clipPath>\n",
       "</defs>\n",
       "<path clip-path=\"url(#clip5600)\" d=\"\n",
       "M180.66 1487.47 L2352.76 1487.47 L2352.76 47.2441 L180.66 47.2441  Z\n",
       "  \" fill=\"#ffffff\" fill-rule=\"evenodd\" fill-opacity=\"1\"/>\n",
       "<defs>\n",
       "  <clipPath id=\"clip5602\">\n",
       "    <rect x=\"180\" y=\"47\" width=\"2173\" height=\"1441\"/>\n",
       "  </clipPath>\n",
       "</defs>\n",
       "<polyline clip-path=\"url(#clip5602)\" style=\"stroke:#000000; stroke-width:2; stroke-opacity:0.1; fill:none\" points=\"\n",
       "  242.135,1487.47 242.135,47.2441 \n",
       "  \"/>\n",
       "<polyline clip-path=\"url(#clip5602)\" style=\"stroke:#000000; stroke-width:2; stroke-opacity:0.1; fill:none\" points=\"\n",
       "  754.421,1487.47 754.421,47.2441 \n",
       "  \"/>\n",
       "<polyline clip-path=\"url(#clip5602)\" style=\"stroke:#000000; stroke-width:2; stroke-opacity:0.1; fill:none\" points=\"\n",
       "  1266.71,1487.47 1266.71,47.2441 \n",
       "  \"/>\n",
       "<polyline clip-path=\"url(#clip5602)\" style=\"stroke:#000000; stroke-width:2; stroke-opacity:0.1; fill:none\" points=\"\n",
       "  1778.99,1487.47 1778.99,47.2441 \n",
       "  \"/>\n",
       "<polyline clip-path=\"url(#clip5602)\" style=\"stroke:#000000; stroke-width:2; stroke-opacity:0.1; fill:none\" points=\"\n",
       "  2291.28,1487.47 2291.28,47.2441 \n",
       "  \"/>\n",
       "<polyline clip-path=\"url(#clip5602)\" style=\"stroke:#000000; stroke-width:2; stroke-opacity:0.1; fill:none\" points=\"\n",
       "  180.66,1446.71 2352.76,1446.71 \n",
       "  \"/>\n",
       "<polyline clip-path=\"url(#clip5602)\" style=\"stroke:#000000; stroke-width:2; stroke-opacity:0.1; fill:none\" points=\"\n",
       "  180.66,1144.35 2352.76,1144.35 \n",
       "  \"/>\n",
       "<polyline clip-path=\"url(#clip5602)\" style=\"stroke:#000000; stroke-width:2; stroke-opacity:0.1; fill:none\" points=\"\n",
       "  180.66,841.981 2352.76,841.981 \n",
       "  \"/>\n",
       "<polyline clip-path=\"url(#clip5602)\" style=\"stroke:#000000; stroke-width:2; stroke-opacity:0.1; fill:none\" points=\"\n",
       "  180.66,539.615 2352.76,539.615 \n",
       "  \"/>\n",
       "<polyline clip-path=\"url(#clip5602)\" style=\"stroke:#000000; stroke-width:2; stroke-opacity:0.1; fill:none\" points=\"\n",
       "  180.66,237.249 2352.76,237.249 \n",
       "  \"/>\n",
       "<polyline clip-path=\"url(#clip5600)\" style=\"stroke:#000000; stroke-width:4; stroke-opacity:1; fill:none\" points=\"\n",
       "  180.66,1487.47 2352.76,1487.47 \n",
       "  \"/>\n",
       "<polyline clip-path=\"url(#clip5600)\" style=\"stroke:#000000; stroke-width:4; stroke-opacity:1; fill:none\" points=\"\n",
       "  180.66,1487.47 180.66,47.2441 \n",
       "  \"/>\n",
       "<polyline clip-path=\"url(#clip5600)\" style=\"stroke:#000000; stroke-width:4; stroke-opacity:1; fill:none\" points=\"\n",
       "  242.135,1487.47 242.135,1470.19 \n",
       "  \"/>\n",
       "<polyline clip-path=\"url(#clip5600)\" style=\"stroke:#000000; stroke-width:4; stroke-opacity:1; fill:none\" points=\"\n",
       "  754.421,1487.47 754.421,1470.19 \n",
       "  \"/>\n",
       "<polyline clip-path=\"url(#clip5600)\" style=\"stroke:#000000; stroke-width:4; stroke-opacity:1; fill:none\" points=\"\n",
       "  1266.71,1487.47 1266.71,1470.19 \n",
       "  \"/>\n",
       "<polyline clip-path=\"url(#clip5600)\" style=\"stroke:#000000; stroke-width:4; stroke-opacity:1; fill:none\" points=\"\n",
       "  1778.99,1487.47 1778.99,1470.19 \n",
       "  \"/>\n",
       "<polyline clip-path=\"url(#clip5600)\" style=\"stroke:#000000; stroke-width:4; stroke-opacity:1; fill:none\" points=\"\n",
       "  2291.28,1487.47 2291.28,1470.19 \n",
       "  \"/>\n",
       "<polyline clip-path=\"url(#clip5600)\" style=\"stroke:#000000; stroke-width:4; stroke-opacity:1; fill:none\" points=\"\n",
       "  180.66,1446.71 206.725,1446.71 \n",
       "  \"/>\n",
       "<polyline clip-path=\"url(#clip5600)\" style=\"stroke:#000000; stroke-width:4; stroke-opacity:1; fill:none\" points=\"\n",
       "  180.66,1144.35 206.725,1144.35 \n",
       "  \"/>\n",
       "<polyline clip-path=\"url(#clip5600)\" style=\"stroke:#000000; stroke-width:4; stroke-opacity:1; fill:none\" points=\"\n",
       "  180.66,841.981 206.725,841.981 \n",
       "  \"/>\n",
       "<polyline clip-path=\"url(#clip5600)\" style=\"stroke:#000000; stroke-width:4; stroke-opacity:1; fill:none\" points=\"\n",
       "  180.66,539.615 206.725,539.615 \n",
       "  \"/>\n",
       "<polyline clip-path=\"url(#clip5600)\" style=\"stroke:#000000; stroke-width:4; stroke-opacity:1; fill:none\" points=\"\n",
       "  180.66,237.249 206.725,237.249 \n",
       "  \"/>\n",
       "<g clip-path=\"url(#clip5600)\">\n",
       "<text style=\"fill:#000000; fill-opacity:1; font-family:Arial,Helvetica Neue,Helvetica,sans-serif; font-size:48px; text-anchor:middle;\" transform=\"rotate(0, 242.135, 1541.47)\" x=\"242.135\" y=\"1541.47\">0.0</text>\n",
       "</g>\n",
       "<g clip-path=\"url(#clip5600)\">\n",
       "<text style=\"fill:#000000; fill-opacity:1; font-family:Arial,Helvetica Neue,Helvetica,sans-serif; font-size:48px; text-anchor:middle;\" transform=\"rotate(0, 754.421, 1541.47)\" x=\"754.421\" y=\"1541.47\">0.5</text>\n",
       "</g>\n",
       "<g clip-path=\"url(#clip5600)\">\n",
       "<text style=\"fill:#000000; fill-opacity:1; font-family:Arial,Helvetica Neue,Helvetica,sans-serif; font-size:48px; text-anchor:middle;\" transform=\"rotate(0, 1266.71, 1541.47)\" x=\"1266.71\" y=\"1541.47\">1.0</text>\n",
       "</g>\n",
       "<g clip-path=\"url(#clip5600)\">\n",
       "<text style=\"fill:#000000; fill-opacity:1; font-family:Arial,Helvetica Neue,Helvetica,sans-serif; font-size:48px; text-anchor:middle;\" transform=\"rotate(0, 1778.99, 1541.47)\" x=\"1778.99\" y=\"1541.47\">1.5</text>\n",
       "</g>\n",
       "<g clip-path=\"url(#clip5600)\">\n",
       "<text style=\"fill:#000000; fill-opacity:1; font-family:Arial,Helvetica Neue,Helvetica,sans-serif; font-size:48px; text-anchor:middle;\" transform=\"rotate(0, 2291.28, 1541.47)\" x=\"2291.28\" y=\"1541.47\">2.0</text>\n",
       "</g>\n",
       "<g clip-path=\"url(#clip5600)\">\n",
       "<text style=\"fill:#000000; fill-opacity:1; font-family:Arial,Helvetica Neue,Helvetica,sans-serif; font-size:48px; text-anchor:end;\" transform=\"rotate(0, 156.66, 1464.21)\" x=\"156.66\" y=\"1464.21\">0.00</text>\n",
       "</g>\n",
       "<g clip-path=\"url(#clip5600)\">\n",
       "<text style=\"fill:#000000; fill-opacity:1; font-family:Arial,Helvetica Neue,Helvetica,sans-serif; font-size:48px; text-anchor:end;\" transform=\"rotate(0, 156.66, 1161.85)\" x=\"156.66\" y=\"1161.85\">0.25</text>\n",
       "</g>\n",
       "<g clip-path=\"url(#clip5600)\">\n",
       "<text style=\"fill:#000000; fill-opacity:1; font-family:Arial,Helvetica Neue,Helvetica,sans-serif; font-size:48px; text-anchor:end;\" transform=\"rotate(0, 156.66, 859.481)\" x=\"156.66\" y=\"859.481\">0.50</text>\n",
       "</g>\n",
       "<g clip-path=\"url(#clip5600)\">\n",
       "<text style=\"fill:#000000; fill-opacity:1; font-family:Arial,Helvetica Neue,Helvetica,sans-serif; font-size:48px; text-anchor:end;\" transform=\"rotate(0, 156.66, 557.115)\" x=\"156.66\" y=\"557.115\">0.75</text>\n",
       "</g>\n",
       "<g clip-path=\"url(#clip5600)\">\n",
       "<text style=\"fill:#000000; fill-opacity:1; font-family:Arial,Helvetica Neue,Helvetica,sans-serif; font-size:48px; text-anchor:end;\" transform=\"rotate(0, 156.66, 254.749)\" x=\"156.66\" y=\"254.749\">1.00</text>\n",
       "</g>\n",
       "<polyline clip-path=\"url(#clip5602)\" style=\"stroke:#009af9; stroke-width:4; stroke-opacity:1; fill:none\" points=\"\n",
       "  242.135,1446.71 252.38,1249.01 262.626,1230.04 272.872,1211.91 283.118,1191.53 293.363,1172.02 303.609,1152.4 313.855,1130.45 324.101,1108.48 334.346,1087.75 \n",
       "  344.592,1067.21 354.838,1046.57 365.084,1026.62 375.329,1004.62 385.575,983.441 395.821,963.756 406.066,944.83 416.312,922.421 426.558,901.215 436.804,884.049 \n",
       "  447.049,863.045 457.295,844.286 467.541,825.222 477.787,806.325 488.032,785.975 498.278,769.013 508.524,752.154 518.77,733.159 529.015,716.017 539.261,698.153 \n",
       "  549.507,683.219 559.752,663.493 569.998,648.538 580.244,633.902 590.49,617.459 600.735,600.389 610.981,585.496 621.227,569.833 631.473,554.201 641.718,539.598 \n",
       "  651.964,527.274 662.21,512.063 672.456,495.285 682.701,481.744 692.947,470.606 703.193,455.018 713.438,439.588 723.684,431.185 733.93,414.648 744.176,404.804 \n",
       "  754.421,392.045 764.667,380.409 774.913,369.07 785.159,356.589 795.404,344.992 805.65,332.771 815.896,323.466 826.142,314.624 836.387,303.438 846.633,294.329 \n",
       "  856.879,282.883 867.124,274.793 877.37,264.219 887.616,255.765 897.862,246.979 908.107,237.835 918.353,227.6 928.599,221.543 938.845,211.633 949.09,207.019 \n",
       "  959.336,199.532 969.582,189.201 979.828,185.071 990.073,177.878 1000.32,169.387 1010.56,164.235 1020.81,160.089 1031.06,154.376 1041.3,145.752 1051.55,142.545 \n",
       "  1061.79,137.251 1072.04,131.908 1082.28,129.751 1092.53,122.989 1102.78,121.652 1113.02,117.931 1123.27,113.373 1133.51,111.365 1143.76,105.811 1154.01,103.013 \n",
       "  1164.25,102.601 1174.5,98.7803 1184.74,97.9546 1194.99,95.5724 1205.23,96.0506 1215.48,94.7294 1225.73,92.0301 1235.97,89.0381 1246.22,91.0538 1256.46,91.9708 \n",
       "  1266.71,88.0053 1276.95,90.7227 1287.2,90.2821 1297.45,90.6953 1307.69,90.6641 1317.94,92.4073 1328.18,93.6897 1338.43,96.9554 1348.67,97.0551 1358.92,100.824 \n",
       "  1369.17,102.133 1379.41,105.061 1389.66,106.869 1399.9,109.314 1410.15,114.576 1420.39,117.479 1430.64,120.049 1440.89,124.93 1451.13,128.025 1461.38,133.334 \n",
       "  1471.62,135.238 1481.87,145.064 1492.11,148.813 1502.36,154.068 1512.61,159.393 1522.85,166.371 1533.1,169.325 1543.34,178.099 1553.59,185.795 1563.83,191.288 \n",
       "  1574.08,198.575 1584.33,204.171 1594.57,211.436 1604.82,220.26 1615.06,226.444 1625.31,239.484 1635.55,246.878 1645.8,254.548 1656.05,264.408 1666.29,274.72 \n",
       "  1676.54,283.762 1686.78,293.22 1697.03,301.567 1707.27,312.203 1717.52,323.979 1727.77,333.57 1738.01,344.335 1748.26,355.039 1758.5,367.717 1768.75,381.089 \n",
       "  1778.99,392.309 1789.24,404.323 1799.49,415.571 1809.73,428.261 1819.98,442.446 1830.22,456.099 1840.47,468.332 1850.71,481.587 1860.96,497.146 1871.21,509.981 \n",
       "  1881.45,523.359 1891.7,540.191 1901.94,553.916 1912.19,569.269 1922.44,584.65 1932.68,601.157 1942.93,614.278 1953.17,633.403 1963.42,646.509 1973.66,664.063 \n",
       "  1983.91,682.819 1994.16,698.786 2004.4,715.386 2014.65,734.226 2024.89,751.369 2035.14,770.935 2045.38,787.871 2055.63,807.098 2065.88,826.125 2076.12,846.396 \n",
       "  2086.37,863.297 2096.61,881.772 2106.86,902.749 2117.1,923.799 2127.35,941.606 2137.6,963.501 2147.84,984.111 2158.09,1005.56 2168.33,1023.8 2178.58,1046.92 \n",
       "  2188.82,1067.37 2199.07,1088.47 2209.32,1110.43 2219.56,1130.33 2229.81,1151.78 2240.05,1171.39 2250.3,1191.45 2260.54,1210.9 2270.79,1229.9 2281.04,1248.62 \n",
       "  2291.28,1446.71 \n",
       "  \"/>\n",
       "</svg>\n"
      ]
     },
     "execution_count": 77,
     "metadata": {},
     "output_type": "execute_result"
    }
   ],
   "source": [
    "plt=plot!()"
   ]
  },
  {
   "cell_type": "code",
   "execution_count": 81,
   "metadata": {},
   "outputs": [],
   "source": [
    "plt_copy=deepcopy(plt);\n",
    "#plt_copy_save=deepcopy(plt);"
   ]
  },
  {
   "cell_type": "code",
   "execution_count": 83,
   "metadata": {},
   "outputs": [
    {
     "data": {
      "image/svg+xml": [
       "<?xml version=\"1.0\" encoding=\"utf-8\"?>\n",
       "<svg xmlns=\"http://www.w3.org/2000/svg\" xmlns:xlink=\"http://www.w3.org/1999/xlink\" width=\"600\" height=\"400\" viewBox=\"0 0 2400 1600\">\n",
       "<defs>\n",
       "  <clipPath id=\"clip6800\">\n",
       "    <rect x=\"0\" y=\"0\" width=\"2400\" height=\"1600\"/>\n",
       "  </clipPath>\n",
       "</defs>\n",
       "<path clip-path=\"url(#clip6800)\" d=\"\n",
       "M0 1600 L2400 1600 L2400 0 L0 0  Z\n",
       "  \" fill=\"#ffffff\" fill-rule=\"evenodd\" fill-opacity=\"1\"/>\n",
       "<defs>\n",
       "  <clipPath id=\"clip6801\">\n",
       "    <rect x=\"480\" y=\"0\" width=\"1681\" height=\"1600\"/>\n",
       "  </clipPath>\n",
       "</defs>\n",
       "<path clip-path=\"url(#clip6800)\" d=\"\n",
       "M180.66 1487.47 L2352.76 1487.47 L2352.76 47.2441 L180.66 47.2441  Z\n",
       "  \" fill=\"#ffffff\" fill-rule=\"evenodd\" fill-opacity=\"1\"/>\n",
       "<defs>\n",
       "  <clipPath id=\"clip6802\">\n",
       "    <rect x=\"180\" y=\"47\" width=\"2173\" height=\"1441\"/>\n",
       "  </clipPath>\n",
       "</defs>\n",
       "<polyline clip-path=\"url(#clip6802)\" style=\"stroke:#000000; stroke-width:2; stroke-opacity:0.1; fill:none\" points=\"\n",
       "  300.129,1487.47 300.129,47.2441 \n",
       "  \"/>\n",
       "<polyline clip-path=\"url(#clip6802)\" style=\"stroke:#000000; stroke-width:2; stroke-opacity:0.1; fill:none\" points=\"\n",
       "  783.419,1487.47 783.419,47.2441 \n",
       "  \"/>\n",
       "<polyline clip-path=\"url(#clip6802)\" style=\"stroke:#000000; stroke-width:2; stroke-opacity:0.1; fill:none\" points=\"\n",
       "  1266.71,1487.47 1266.71,47.2441 \n",
       "  \"/>\n",
       "<polyline clip-path=\"url(#clip6802)\" style=\"stroke:#000000; stroke-width:2; stroke-opacity:0.1; fill:none\" points=\"\n",
       "  1750,1487.47 1750,47.2441 \n",
       "  \"/>\n",
       "<polyline clip-path=\"url(#clip6802)\" style=\"stroke:#000000; stroke-width:2; stroke-opacity:0.1; fill:none\" points=\"\n",
       "  2233.29,1487.47 2233.29,47.2441 \n",
       "  \"/>\n",
       "<polyline clip-path=\"url(#clip6802)\" style=\"stroke:#000000; stroke-width:2; stroke-opacity:0.1; fill:none\" points=\"\n",
       "  180.66,1446.71 2352.76,1446.71 \n",
       "  \"/>\n",
       "<polyline clip-path=\"url(#clip6802)\" style=\"stroke:#000000; stroke-width:2; stroke-opacity:0.1; fill:none\" points=\"\n",
       "  180.66,1144.77 2352.76,1144.77 \n",
       "  \"/>\n",
       "<polyline clip-path=\"url(#clip6802)\" style=\"stroke:#000000; stroke-width:2; stroke-opacity:0.1; fill:none\" points=\"\n",
       "  180.66,842.829 2352.76,842.829 \n",
       "  \"/>\n",
       "<polyline clip-path=\"url(#clip6802)\" style=\"stroke:#000000; stroke-width:2; stroke-opacity:0.1; fill:none\" points=\"\n",
       "  180.66,540.886 2352.76,540.886 \n",
       "  \"/>\n",
       "<polyline clip-path=\"url(#clip6802)\" style=\"stroke:#000000; stroke-width:2; stroke-opacity:0.1; fill:none\" points=\"\n",
       "  180.66,238.944 2352.76,238.944 \n",
       "  \"/>\n",
       "<polyline clip-path=\"url(#clip6800)\" style=\"stroke:#000000; stroke-width:4; stroke-opacity:1; fill:none\" points=\"\n",
       "  180.66,1487.47 2352.76,1487.47 \n",
       "  \"/>\n",
       "<polyline clip-path=\"url(#clip6800)\" style=\"stroke:#000000; stroke-width:4; stroke-opacity:1; fill:none\" points=\"\n",
       "  180.66,1487.47 180.66,47.2441 \n",
       "  \"/>\n",
       "<polyline clip-path=\"url(#clip6800)\" style=\"stroke:#000000; stroke-width:4; stroke-opacity:1; fill:none\" points=\"\n",
       "  300.129,1487.47 300.129,1470.19 \n",
       "  \"/>\n",
       "<polyline clip-path=\"url(#clip6800)\" style=\"stroke:#000000; stroke-width:4; stroke-opacity:1; fill:none\" points=\"\n",
       "  783.419,1487.47 783.419,1470.19 \n",
       "  \"/>\n",
       "<polyline clip-path=\"url(#clip6800)\" style=\"stroke:#000000; stroke-width:4; stroke-opacity:1; fill:none\" points=\"\n",
       "  1266.71,1487.47 1266.71,1470.19 \n",
       "  \"/>\n",
       "<polyline clip-path=\"url(#clip6800)\" style=\"stroke:#000000; stroke-width:4; stroke-opacity:1; fill:none\" points=\"\n",
       "  1750,1487.47 1750,1470.19 \n",
       "  \"/>\n",
       "<polyline clip-path=\"url(#clip6800)\" style=\"stroke:#000000; stroke-width:4; stroke-opacity:1; fill:none\" points=\"\n",
       "  2233.29,1487.47 2233.29,1470.19 \n",
       "  \"/>\n",
       "<polyline clip-path=\"url(#clip6800)\" style=\"stroke:#000000; stroke-width:4; stroke-opacity:1; fill:none\" points=\"\n",
       "  180.66,1446.71 206.725,1446.71 \n",
       "  \"/>\n",
       "<polyline clip-path=\"url(#clip6800)\" style=\"stroke:#000000; stroke-width:4; stroke-opacity:1; fill:none\" points=\"\n",
       "  180.66,1144.77 206.725,1144.77 \n",
       "  \"/>\n",
       "<polyline clip-path=\"url(#clip6800)\" style=\"stroke:#000000; stroke-width:4; stroke-opacity:1; fill:none\" points=\"\n",
       "  180.66,842.829 206.725,842.829 \n",
       "  \"/>\n",
       "<polyline clip-path=\"url(#clip6800)\" style=\"stroke:#000000; stroke-width:4; stroke-opacity:1; fill:none\" points=\"\n",
       "  180.66,540.886 206.725,540.886 \n",
       "  \"/>\n",
       "<polyline clip-path=\"url(#clip6800)\" style=\"stroke:#000000; stroke-width:4; stroke-opacity:1; fill:none\" points=\"\n",
       "  180.66,238.944 206.725,238.944 \n",
       "  \"/>\n",
       "<g clip-path=\"url(#clip6800)\">\n",
       "<text style=\"fill:#000000; fill-opacity:1; font-family:Arial,Helvetica Neue,Helvetica,sans-serif; font-size:48px; text-anchor:middle;\" transform=\"rotate(0, 300.129, 1541.47)\" x=\"300.129\" y=\"1541.47\">0.0</text>\n",
       "</g>\n",
       "<g clip-path=\"url(#clip6800)\">\n",
       "<text style=\"fill:#000000; fill-opacity:1; font-family:Arial,Helvetica Neue,Helvetica,sans-serif; font-size:48px; text-anchor:middle;\" transform=\"rotate(0, 783.419, 1541.47)\" x=\"783.419\" y=\"1541.47\">0.5</text>\n",
       "</g>\n",
       "<g clip-path=\"url(#clip6800)\">\n",
       "<text style=\"fill:#000000; fill-opacity:1; font-family:Arial,Helvetica Neue,Helvetica,sans-serif; font-size:48px; text-anchor:middle;\" transform=\"rotate(0, 1266.71, 1541.47)\" x=\"1266.71\" y=\"1541.47\">1.0</text>\n",
       "</g>\n",
       "<g clip-path=\"url(#clip6800)\">\n",
       "<text style=\"fill:#000000; fill-opacity:1; font-family:Arial,Helvetica Neue,Helvetica,sans-serif; font-size:48px; text-anchor:middle;\" transform=\"rotate(0, 1750, 1541.47)\" x=\"1750\" y=\"1541.47\">1.5</text>\n",
       "</g>\n",
       "<g clip-path=\"url(#clip6800)\">\n",
       "<text style=\"fill:#000000; fill-opacity:1; font-family:Arial,Helvetica Neue,Helvetica,sans-serif; font-size:48px; text-anchor:middle;\" transform=\"rotate(0, 2233.29, 1541.47)\" x=\"2233.29\" y=\"1541.47\">2.0</text>\n",
       "</g>\n",
       "<g clip-path=\"url(#clip6800)\">\n",
       "<text style=\"fill:#000000; fill-opacity:1; font-family:Arial,Helvetica Neue,Helvetica,sans-serif; font-size:48px; text-anchor:end;\" transform=\"rotate(0, 156.66, 1464.21)\" x=\"156.66\" y=\"1464.21\">0.00</text>\n",
       "</g>\n",
       "<g clip-path=\"url(#clip6800)\">\n",
       "<text style=\"fill:#000000; fill-opacity:1; font-family:Arial,Helvetica Neue,Helvetica,sans-serif; font-size:48px; text-anchor:end;\" transform=\"rotate(0, 156.66, 1162.27)\" x=\"156.66\" y=\"1162.27\">0.25</text>\n",
       "</g>\n",
       "<g clip-path=\"url(#clip6800)\">\n",
       "<text style=\"fill:#000000; fill-opacity:1; font-family:Arial,Helvetica Neue,Helvetica,sans-serif; font-size:48px; text-anchor:end;\" transform=\"rotate(0, 156.66, 860.329)\" x=\"156.66\" y=\"860.329\">0.50</text>\n",
       "</g>\n",
       "<g clip-path=\"url(#clip6800)\">\n",
       "<text style=\"fill:#000000; fill-opacity:1; font-family:Arial,Helvetica Neue,Helvetica,sans-serif; font-size:48px; text-anchor:end;\" transform=\"rotate(0, 156.66, 558.386)\" x=\"156.66\" y=\"558.386\">0.75</text>\n",
       "</g>\n",
       "<g clip-path=\"url(#clip6800)\">\n",
       "<text style=\"fill:#000000; fill-opacity:1; font-family:Arial,Helvetica Neue,Helvetica,sans-serif; font-size:48px; text-anchor:end;\" transform=\"rotate(0, 156.66, 256.444)\" x=\"156.66\" y=\"256.444\">1.00</text>\n",
       "</g>\n",
       "<polyline clip-path=\"url(#clip6802)\" style=\"stroke:#009af9; stroke-width:4; stroke-opacity:1; fill:none\" points=\"\n",
       "  300.129,1446.71 309.795,1249.29 319.461,1230.34 329.127,1212.24 338.793,1191.88 348.458,1172.41 358.124,1152.81 367.79,1130.89 377.456,1108.96 387.122,1088.25 \n",
       "  396.787,1067.74 406.453,1047.13 416.119,1027.21 425.785,1005.24 435.45,984.09 445.116,964.433 454.782,945.533 464.448,923.155 474.114,901.979 483.779,884.837 \n",
       "  493.445,863.862 503.111,845.13 512.777,826.092 522.443,807.223 532.108,786.901 541.774,769.963 551.44,753.127 561.106,734.159 570.771,717.041 580.437,699.202 \n",
       "  590.103,684.288 599.769,664.59 609.435,649.656 619.1,635.041 628.766,618.621 638.432,601.575 648.098,586.703 657.764,571.062 667.429,555.451 677.095,540.869 \n",
       "  686.761,528.562 696.427,513.372 706.092,496.618 715.758,483.096 725.424,471.973 735.09,456.408 744.756,440.999 754.421,432.608 764.087,416.094 773.753,406.263 \n",
       "  783.419,393.523 793.085,381.903 802.75,370.58 812.416,358.116 822.082,346.536 831.748,334.332 841.413,325.039 851.079,316.21 860.745,305.039 870.411,295.944 \n",
       "  880.077,284.513 889.742,276.435 899.408,265.876 909.074,257.433 918.74,248.66 928.406,239.529 938.071,229.308 947.737,223.26 957.403,213.363 967.069,208.755 \n",
       "  976.735,201.279 986.4,190.963 996.066,186.838 1005.73,179.656 1015.4,171.177 1025.06,166.032 1034.73,161.892 1044.4,156.186 1054.06,147.575 1063.73,144.373 \n",
       "  1073.39,139.085 1083.06,133.75 1092.72,131.596 1102.39,124.844 1112.06,123.509 1121.72,119.793 1131.39,115.241 1141.05,113.236 1150.72,107.69 1160.38,104.895 \n",
       "  1170.05,104.485 1179.72,100.669 1189.38,99.8443 1199.05,97.4655 1208.71,97.943 1218.38,96.6236 1228.04,93.9281 1237.71,90.9403 1247.38,92.9532 1257.04,93.869 \n",
       "  1266.71,89.909 1276.37,92.6226 1286.04,92.1826 1295.71,92.5952 1305.37,92.564 1315.04,94.3048 1324.7,95.5854 1334.37,98.8465 1344.03,98.9461 1353.7,102.71 \n",
       "  1363.37,104.016 1373.03,106.941 1382.7,108.747 1392.36,111.188 1402.03,116.442 1411.69,119.341 1421.36,121.908 1431.03,126.782 1440.69,129.873 1450.36,135.174 \n",
       "  1460.02,137.076 1469.69,146.888 1479.36,150.632 1489.02,155.879 1498.69,161.196 1508.35,168.164 1518.02,171.115 1527.68,179.877 1537.35,187.561 1547.02,193.047 \n",
       "  1556.68,200.324 1566.35,205.912 1576.01,213.167 1585.68,221.978 1595.34,228.154 1605.01,241.175 1614.68,248.559 1624.34,256.218 1634.01,266.065 1643.67,276.362 \n",
       "  1653.34,285.392 1663.01,294.836 1672.67,303.171 1682.34,313.793 1692,325.552 1701.67,335.13 1711.33,345.879 1721,356.569 1730.67,369.229 1740.33,382.582 \n",
       "  1750,393.786 1759.66,405.784 1769.33,417.016 1778.99,429.688 1788.66,443.853 1798.33,457.487 1807.99,469.702 1817.66,482.939 1827.32,498.476 1836.99,511.293 \n",
       "  1846.66,524.653 1856.32,541.461 1865.99,555.167 1875.65,570.499 1885.32,585.858 1894.98,602.342 1904.65,615.444 1914.32,634.543 1923.98,647.63 1933.65,665.159 \n",
       "  1943.31,683.889 1952.98,699.834 1962.64,716.411 1972.31,735.224 1981.98,752.344 1991.64,771.881 2001.31,788.794 2010.97,807.995 2020.64,826.995 2030.31,847.237 \n",
       "  2039.97,864.115 2049.64,882.563 2059.3,903.511 2068.97,924.531 2078.63,942.313 2088.3,964.178 2097.97,984.759 2107.63,1006.18 2117.3,1024.39 2126.96,1047.48 \n",
       "  2136.63,1067.9 2146.29,1088.98 2155.96,1110.9 2165.63,1130.78 2175.29,1152.2 2184.96,1171.78 2194.62,1191.81 2204.29,1211.23 2213.96,1230.21 2223.62,1248.9 \n",
       "  2233.29,1446.71 \n",
       "  \"/>\n",
       "<polyline clip-path=\"url(#clip6802)\" style=\"stroke:#e26f46; stroke-width:4; stroke-opacity:1; fill:none\" points=\"\n",
       "  242.135,1445.02 252.141,1418.65 262.146,1392.53 354.664,1163.3 447.182,956.203 502.782,842.391 558.381,736.572 605.39,653.339 652.399,575.82 703.463,498.086 \n",
       "  754.528,427.094 801.605,367.618 848.682,313.873 899.154,262.616 949.625,217.946 1008.1,174.427 1066.58,139.749 1118.54,116.351 1170.51,99.9351 1216.08,91.2857 \n",
       "  1261.65,88.0053 1311.34,90.5469 1361.02,99.4706 1411,114.886 1460.98,136.761 1516.24,168.463 1571.49,208.06 1624.07,253.065 1676.65,305.216 1731.31,367.021 \n",
       "  1785.98,436.553 1832,501.074 1878.02,571.069 1934.2,663.95 1990.39,764.991 2043.2,867.414 2096.01,977.05 2180.63,1167.73 2265.24,1376.91 2278.26,1410.75 \n",
       "  2291.28,1445.02 \n",
       "  \"/>\n",
       "</svg>\n"
      ]
     },
     "execution_count": 83,
     "metadata": {},
     "output_type": "execute_result"
    }
   ],
   "source": [
    "plot!(plt,x->-(x-1)^2+1.125)"
   ]
  },
  {
   "cell_type": "code",
   "execution_count": 91,
   "metadata": {},
   "outputs": [
    {
     "name": "stdout",
     "output_type": "stream",
     "text": [
      " 18.777197 seconds (670.84 k allocations: 37.887 MiB, 0.13% gc time, 1.66% compilation time)\n"
     ]
    },
    {
     "data": {
      "image/svg+xml": [
       "<?xml version=\"1.0\" encoding=\"utf-8\"?>\n",
       "<svg xmlns=\"http://www.w3.org/2000/svg\" xmlns:xlink=\"http://www.w3.org/1999/xlink\" width=\"600\" height=\"400\" viewBox=\"0 0 2400 1600\">\n",
       "<defs>\n",
       "  <clipPath id=\"clip8800\">\n",
       "    <rect x=\"0\" y=\"0\" width=\"2400\" height=\"1600\"/>\n",
       "  </clipPath>\n",
       "</defs>\n",
       "<path clip-path=\"url(#clip8800)\" d=\"\n",
       "M0 1600 L2400 1600 L2400 0 L0 0  Z\n",
       "  \" fill=\"#ffffff\" fill-rule=\"evenodd\" fill-opacity=\"1\"/>\n",
       "<defs>\n",
       "  <clipPath id=\"clip8801\">\n",
       "    <rect x=\"480\" y=\"0\" width=\"1681\" height=\"1600\"/>\n",
       "  </clipPath>\n",
       "</defs>\n",
       "<path clip-path=\"url(#clip8800)\" d=\"\n",
       "M153.898 1487.47 L2352.76 1487.47 L2352.76 47.2441 L153.898 47.2441  Z\n",
       "  \" fill=\"#ffffff\" fill-rule=\"evenodd\" fill-opacity=\"1\"/>\n",
       "<defs>\n",
       "  <clipPath id=\"clip8802\">\n",
       "    <rect x=\"153\" y=\"47\" width=\"2200\" height=\"1441\"/>\n",
       "  </clipPath>\n",
       "</defs>\n",
       "<polyline clip-path=\"url(#clip8802)\" style=\"stroke:#000000; stroke-width:2; stroke-opacity:0.1; fill:none\" points=\"\n",
       "  216.13,1487.47 216.13,47.2441 \n",
       "  \"/>\n",
       "<polyline clip-path=\"url(#clip8802)\" style=\"stroke:#000000; stroke-width:2; stroke-opacity:0.1; fill:none\" points=\"\n",
       "  734.728,1487.47 734.728,47.2441 \n",
       "  \"/>\n",
       "<polyline clip-path=\"url(#clip8802)\" style=\"stroke:#000000; stroke-width:2; stroke-opacity:0.1; fill:none\" points=\"\n",
       "  1253.33,1487.47 1253.33,47.2441 \n",
       "  \"/>\n",
       "<polyline clip-path=\"url(#clip8802)\" style=\"stroke:#000000; stroke-width:2; stroke-opacity:0.1; fill:none\" points=\"\n",
       "  1771.93,1487.47 1771.93,47.2441 \n",
       "  \"/>\n",
       "<polyline clip-path=\"url(#clip8802)\" style=\"stroke:#000000; stroke-width:2; stroke-opacity:0.1; fill:none\" points=\"\n",
       "  2290.52,1487.47 2290.52,47.2441 \n",
       "  \"/>\n",
       "<polyline clip-path=\"url(#clip8802)\" style=\"stroke:#000000; stroke-width:2; stroke-opacity:0.1; fill:none\" points=\"\n",
       "  153.898,1446.71 2352.76,1446.71 \n",
       "  \"/>\n",
       "<polyline clip-path=\"url(#clip8802)\" style=\"stroke:#000000; stroke-width:2; stroke-opacity:0.1; fill:none\" points=\"\n",
       "  153.898,1014.15 2352.76,1014.15 \n",
       "  \"/>\n",
       "<polyline clip-path=\"url(#clip8802)\" style=\"stroke:#000000; stroke-width:2; stroke-opacity:0.1; fill:none\" points=\"\n",
       "  153.898,581.586 2352.76,581.586 \n",
       "  \"/>\n",
       "<polyline clip-path=\"url(#clip8802)\" style=\"stroke:#000000; stroke-width:2; stroke-opacity:0.1; fill:none\" points=\"\n",
       "  153.898,149.022 2352.76,149.022 \n",
       "  \"/>\n",
       "<polyline clip-path=\"url(#clip8800)\" style=\"stroke:#000000; stroke-width:4; stroke-opacity:1; fill:none\" points=\"\n",
       "  153.898,1487.47 2352.76,1487.47 \n",
       "  \"/>\n",
       "<polyline clip-path=\"url(#clip8800)\" style=\"stroke:#000000; stroke-width:4; stroke-opacity:1; fill:none\" points=\"\n",
       "  153.898,1487.47 153.898,47.2441 \n",
       "  \"/>\n",
       "<polyline clip-path=\"url(#clip8800)\" style=\"stroke:#000000; stroke-width:4; stroke-opacity:1; fill:none\" points=\"\n",
       "  216.13,1487.47 216.13,1470.19 \n",
       "  \"/>\n",
       "<polyline clip-path=\"url(#clip8800)\" style=\"stroke:#000000; stroke-width:4; stroke-opacity:1; fill:none\" points=\"\n",
       "  734.728,1487.47 734.728,1470.19 \n",
       "  \"/>\n",
       "<polyline clip-path=\"url(#clip8800)\" style=\"stroke:#000000; stroke-width:4; stroke-opacity:1; fill:none\" points=\"\n",
       "  1253.33,1487.47 1253.33,1470.19 \n",
       "  \"/>\n",
       "<polyline clip-path=\"url(#clip8800)\" style=\"stroke:#000000; stroke-width:4; stroke-opacity:1; fill:none\" points=\"\n",
       "  1771.93,1487.47 1771.93,1470.19 \n",
       "  \"/>\n",
       "<polyline clip-path=\"url(#clip8800)\" style=\"stroke:#000000; stroke-width:4; stroke-opacity:1; fill:none\" points=\"\n",
       "  2290.52,1487.47 2290.52,1470.19 \n",
       "  \"/>\n",
       "<polyline clip-path=\"url(#clip8800)\" style=\"stroke:#000000; stroke-width:4; stroke-opacity:1; fill:none\" points=\"\n",
       "  153.898,1446.71 180.284,1446.71 \n",
       "  \"/>\n",
       "<polyline clip-path=\"url(#clip8800)\" style=\"stroke:#000000; stroke-width:4; stroke-opacity:1; fill:none\" points=\"\n",
       "  153.898,1014.15 180.284,1014.15 \n",
       "  \"/>\n",
       "<polyline clip-path=\"url(#clip8800)\" style=\"stroke:#000000; stroke-width:4; stroke-opacity:1; fill:none\" points=\"\n",
       "  153.898,581.586 180.284,581.586 \n",
       "  \"/>\n",
       "<polyline clip-path=\"url(#clip8800)\" style=\"stroke:#000000; stroke-width:4; stroke-opacity:1; fill:none\" points=\"\n",
       "  153.898,149.022 180.284,149.022 \n",
       "  \"/>\n",
       "<g clip-path=\"url(#clip8800)\">\n",
       "<text style=\"fill:#000000; fill-opacity:1; font-family:Arial,Helvetica Neue,Helvetica,sans-serif; font-size:48px; text-anchor:middle;\" transform=\"rotate(0, 216.13, 1541.47)\" x=\"216.13\" y=\"1541.47\">0.00</text>\n",
       "</g>\n",
       "<g clip-path=\"url(#clip8800)\">\n",
       "<text style=\"fill:#000000; fill-opacity:1; font-family:Arial,Helvetica Neue,Helvetica,sans-serif; font-size:48px; text-anchor:middle;\" transform=\"rotate(0, 734.728, 1541.47)\" x=\"734.728\" y=\"1541.47\">0.25</text>\n",
       "</g>\n",
       "<g clip-path=\"url(#clip8800)\">\n",
       "<text style=\"fill:#000000; fill-opacity:1; font-family:Arial,Helvetica Neue,Helvetica,sans-serif; font-size:48px; text-anchor:middle;\" transform=\"rotate(0, 1253.33, 1541.47)\" x=\"1253.33\" y=\"1541.47\">0.50</text>\n",
       "</g>\n",
       "<g clip-path=\"url(#clip8800)\">\n",
       "<text style=\"fill:#000000; fill-opacity:1; font-family:Arial,Helvetica Neue,Helvetica,sans-serif; font-size:48px; text-anchor:middle;\" transform=\"rotate(0, 1771.93, 1541.47)\" x=\"1771.93\" y=\"1541.47\">0.75</text>\n",
       "</g>\n",
       "<g clip-path=\"url(#clip8800)\">\n",
       "<text style=\"fill:#000000; fill-opacity:1; font-family:Arial,Helvetica Neue,Helvetica,sans-serif; font-size:48px; text-anchor:middle;\" transform=\"rotate(0, 2290.52, 1541.47)\" x=\"2290.52\" y=\"1541.47\">1.00</text>\n",
       "</g>\n",
       "<g clip-path=\"url(#clip8800)\">\n",
       "<text style=\"fill:#000000; fill-opacity:1; font-family:Arial,Helvetica Neue,Helvetica,sans-serif; font-size:48px; text-anchor:end;\" transform=\"rotate(0, 129.898, 1464.21)\" x=\"129.898\" y=\"1464.21\">0.0</text>\n",
       "</g>\n",
       "<g clip-path=\"url(#clip8800)\">\n",
       "<text style=\"fill:#000000; fill-opacity:1; font-family:Arial,Helvetica Neue,Helvetica,sans-serif; font-size:48px; text-anchor:end;\" transform=\"rotate(0, 129.898, 1031.65)\" x=\"129.898\" y=\"1031.65\">0.1</text>\n",
       "</g>\n",
       "<g clip-path=\"url(#clip8800)\">\n",
       "<text style=\"fill:#000000; fill-opacity:1; font-family:Arial,Helvetica Neue,Helvetica,sans-serif; font-size:48px; text-anchor:end;\" transform=\"rotate(0, 129.898, 599.086)\" x=\"129.898\" y=\"599.086\">0.2</text>\n",
       "</g>\n",
       "<g clip-path=\"url(#clip8800)\">\n",
       "<text style=\"fill:#000000; fill-opacity:1; font-family:Arial,Helvetica Neue,Helvetica,sans-serif; font-size:48px; text-anchor:end;\" transform=\"rotate(0, 129.898, 166.522)\" x=\"129.898\" y=\"166.522\">0.3</text>\n",
       "</g>\n",
       "<polyline clip-path=\"url(#clip8802)\" style=\"stroke:#009af9; stroke-width:4; stroke-opacity:1; fill:none\" points=\"\n",
       "  216.13,1446.71 236.874,1076 257.618,1043.44 278.362,1012.35 299.106,979.372 319.85,945.59 340.593,910.792 361.337,878.489 382.081,844.93 402.825,811.041 \n",
       "  423.569,778.501 444.313,743.484 465.057,710.874 485.801,678.855 506.545,647.067 527.289,617.026 548.033,588.998 568.777,559.452 589.521,531.556 610.265,504.365 \n",
       "  631.009,477.917 651.753,450.055 672.497,424.717 693.24,405.339 713.984,380.341 734.728,356.08 755.472,336.741 776.216,316.317 796.96,295.816 817.704,278.177 \n",
       "  838.448,261.745 859.192,244.538 879.936,228.362 900.68,214.815 921.424,198.158 942.168,184.251 962.912,171.112 983.656,160.872 1004.4,150.543 1025.14,139.834 \n",
       "  1045.89,128.865 1066.63,122.986 1087.38,115.056 1108.12,108.898 1128.86,104.244 1149.61,98.9161 1170.35,96.1907 1191.1,92.0795 1211.84,90.3927 1232.58,88.0631 \n",
       "  1253.33,88.4087 1274.07,90.3536 1294.81,88.0053 1315.56,92.533 1336.3,94.3535 1357.05,100.254 1377.79,103.04 1398.53,108.411 1419.28,114.135 1440.02,121.669 \n",
       "  1460.77,132.466 1481.51,139.074 1502.25,148.875 1523,163.334 1543.74,172.094 1564.49,184.234 1585.23,198.514 1605.97,213.729 1626.72,227.728 1647.46,246.905 \n",
       "  1668.21,260.455 1688.95,279.913 1709.69,296.936 1730.44,318.317 1751.18,338.155 1771.93,355.896 1792.67,379.095 1813.41,403.986 1834.16,429.698 1854.9,451.328 \n",
       "  1875.65,476.508 1896.39,503.785 1917.13,532.229 1937.88,560.546 1958.62,587.839 1979.36,619.47 2000.11,646.867 2020.85,683.134 2041.6,710.601 2062.34,743.775 \n",
       "  2083.08,777.983 2103.83,810.87 2124.57,845.209 2145.32,878.192 2166.06,912.696 2186.8,946.865 2207.55,979.618 2228.29,1011.77 2249.04,1044.37 2269.78,1075.39 \n",
       "  2290.52,1446.71 \n",
       "  \"/>\n",
       "</svg>\n"
      ]
     },
     "execution_count": 91,
     "metadata": {},
     "output_type": "execute_result"
    }
   ],
   "source": [
    "@time plot(0:0.01:1,x->Test(x,n=1e6,b=1),leg=false)"
   ]
  },
  {
   "cell_type": "code",
   "execution_count": 94,
   "metadata": {},
   "outputs": [
    {
     "data": {
      "text/plain": [
       "Test_len (generic function with 1 method)"
      ]
     },
     "execution_count": 94,
     "metadata": {},
     "output_type": "execute_result"
    }
   ],
   "source": [
    "Test_len(b;n=1e3)=Test(b/2,b=b,n=n)"
   ]
  },
  {
   "cell_type": "code",
   "execution_count": 120,
   "metadata": {},
   "outputs": [
    {
     "data": {
      "text/plain": [
       "0.3139000000000002"
      ]
     },
     "execution_count": 120,
     "metadata": {},
     "output_type": "execute_result"
    }
   ],
   "source": [
    "Test_len(1,n=1e3)"
   ]
  },
  {
   "cell_type": "code",
   "execution_count": 129,
   "metadata": {},
   "outputs": [
    {
     "name": "stdout",
     "output_type": "stream",
     "text": [
      " 17.097460 seconds (681.83 k allocations: 38.565 MiB, 0.12% gc time, 2.04% compilation time)\n"
     ]
    },
    {
     "data": {
      "image/svg+xml": [
       "<?xml version=\"1.0\" encoding=\"utf-8\"?>\n",
       "<svg xmlns=\"http://www.w3.org/2000/svg\" xmlns:xlink=\"http://www.w3.org/1999/xlink\" width=\"600\" height=\"400\" viewBox=\"0 0 2400 1600\">\n",
       "<defs>\n",
       "  <clipPath id=\"clip2000\">\n",
       "    <rect x=\"0\" y=\"0\" width=\"2400\" height=\"1600\"/>\n",
       "  </clipPath>\n",
       "</defs>\n",
       "<path clip-path=\"url(#clip2000)\" d=\"\n",
       "M0 1600 L2400 1600 L2400 0 L0 0  Z\n",
       "  \" fill=\"#ffffff\" fill-rule=\"evenodd\" fill-opacity=\"1\"/>\n",
       "<defs>\n",
       "  <clipPath id=\"clip2001\">\n",
       "    <rect x=\"480\" y=\"0\" width=\"1681\" height=\"1600\"/>\n",
       "  </clipPath>\n",
       "</defs>\n",
       "<path clip-path=\"url(#clip2000)\" d=\"\n",
       "M140.517 1487.47 L2352.76 1487.47 L2352.76 47.2441 L140.517 47.2441  Z\n",
       "  \" fill=\"#ffffff\" fill-rule=\"evenodd\" fill-opacity=\"1\"/>\n",
       "<defs>\n",
       "  <clipPath id=\"clip2002\">\n",
       "    <rect x=\"140\" y=\"47\" width=\"2213\" height=\"1441\"/>\n",
       "  </clipPath>\n",
       "</defs>\n",
       "<polyline clip-path=\"url(#clip2002)\" style=\"stroke:#000000; stroke-width:2; stroke-opacity:0.1; fill:none\" points=\"\n",
       "  176.371,1487.47 176.371,47.2441 \n",
       "  \"/>\n",
       "<polyline clip-path=\"url(#clip2002)\" style=\"stroke:#000000; stroke-width:2; stroke-opacity:0.1; fill:none\" points=\"\n",
       "  711.504,1487.47 711.504,47.2441 \n",
       "  \"/>\n",
       "<polyline clip-path=\"url(#clip2002)\" style=\"stroke:#000000; stroke-width:2; stroke-opacity:0.1; fill:none\" points=\"\n",
       "  1246.64,1487.47 1246.64,47.2441 \n",
       "  \"/>\n",
       "<polyline clip-path=\"url(#clip2002)\" style=\"stroke:#000000; stroke-width:2; stroke-opacity:0.1; fill:none\" points=\"\n",
       "  1781.77,1487.47 1781.77,47.2441 \n",
       "  \"/>\n",
       "<polyline clip-path=\"url(#clip2002)\" style=\"stroke:#000000; stroke-width:2; stroke-opacity:0.1; fill:none\" points=\"\n",
       "  2316.9,1487.47 2316.9,47.2441 \n",
       "  \"/>\n",
       "<polyline clip-path=\"url(#clip2002)\" style=\"stroke:#000000; stroke-width:2; stroke-opacity:0.1; fill:none\" points=\"\n",
       "  140.517,1448.07 2352.76,1448.07 \n",
       "  \"/>\n",
       "<polyline clip-path=\"url(#clip2002)\" style=\"stroke:#000000; stroke-width:2; stroke-opacity:0.1; fill:none\" points=\"\n",
       "  140.517,1024.63 2352.76,1024.63 \n",
       "  \"/>\n",
       "<polyline clip-path=\"url(#clip2002)\" style=\"stroke:#000000; stroke-width:2; stroke-opacity:0.1; fill:none\" points=\"\n",
       "  140.517,601.191 2352.76,601.191 \n",
       "  \"/>\n",
       "<polyline clip-path=\"url(#clip2002)\" style=\"stroke:#000000; stroke-width:2; stroke-opacity:0.1; fill:none\" points=\"\n",
       "  140.517,177.753 2352.76,177.753 \n",
       "  \"/>\n",
       "<polyline clip-path=\"url(#clip2000)\" style=\"stroke:#000000; stroke-width:4; stroke-opacity:1; fill:none\" points=\"\n",
       "  140.517,1487.47 2352.76,1487.47 \n",
       "  \"/>\n",
       "<polyline clip-path=\"url(#clip2000)\" style=\"stroke:#000000; stroke-width:4; stroke-opacity:1; fill:none\" points=\"\n",
       "  140.517,1487.47 140.517,47.2441 \n",
       "  \"/>\n",
       "<polyline clip-path=\"url(#clip2000)\" style=\"stroke:#000000; stroke-width:4; stroke-opacity:1; fill:none\" points=\"\n",
       "  176.371,1487.47 176.371,1470.19 \n",
       "  \"/>\n",
       "<polyline clip-path=\"url(#clip2000)\" style=\"stroke:#000000; stroke-width:4; stroke-opacity:1; fill:none\" points=\"\n",
       "  711.504,1487.47 711.504,1470.19 \n",
       "  \"/>\n",
       "<polyline clip-path=\"url(#clip2000)\" style=\"stroke:#000000; stroke-width:4; stroke-opacity:1; fill:none\" points=\"\n",
       "  1246.64,1487.47 1246.64,1470.19 \n",
       "  \"/>\n",
       "<polyline clip-path=\"url(#clip2000)\" style=\"stroke:#000000; stroke-width:4; stroke-opacity:1; fill:none\" points=\"\n",
       "  1781.77,1487.47 1781.77,1470.19 \n",
       "  \"/>\n",
       "<polyline clip-path=\"url(#clip2000)\" style=\"stroke:#000000; stroke-width:4; stroke-opacity:1; fill:none\" points=\"\n",
       "  2316.9,1487.47 2316.9,1470.19 \n",
       "  \"/>\n",
       "<polyline clip-path=\"url(#clip2000)\" style=\"stroke:#000000; stroke-width:4; stroke-opacity:1; fill:none\" points=\"\n",
       "  140.517,1448.07 167.064,1448.07 \n",
       "  \"/>\n",
       "<polyline clip-path=\"url(#clip2000)\" style=\"stroke:#000000; stroke-width:4; stroke-opacity:1; fill:none\" points=\"\n",
       "  140.517,1024.63 167.064,1024.63 \n",
       "  \"/>\n",
       "<polyline clip-path=\"url(#clip2000)\" style=\"stroke:#000000; stroke-width:4; stroke-opacity:1; fill:none\" points=\"\n",
       "  140.517,601.191 167.064,601.191 \n",
       "  \"/>\n",
       "<polyline clip-path=\"url(#clip2000)\" style=\"stroke:#000000; stroke-width:4; stroke-opacity:1; fill:none\" points=\"\n",
       "  140.517,177.753 167.064,177.753 \n",
       "  \"/>\n",
       "<g clip-path=\"url(#clip2000)\">\n",
       "<text style=\"fill:#000000; fill-opacity:1; font-family:Arial,Helvetica Neue,Helvetica,sans-serif; font-size:48px; text-anchor:middle;\" transform=\"rotate(0, 176.371, 1541.47)\" x=\"176.371\" y=\"1541.47\">0</text>\n",
       "</g>\n",
       "<g clip-path=\"url(#clip2000)\">\n",
       "<text style=\"fill:#000000; fill-opacity:1; font-family:Arial,Helvetica Neue,Helvetica,sans-serif; font-size:48px; text-anchor:middle;\" transform=\"rotate(0, 711.504, 1541.47)\" x=\"711.504\" y=\"1541.47\">2</text>\n",
       "</g>\n",
       "<g clip-path=\"url(#clip2000)\">\n",
       "<text style=\"fill:#000000; fill-opacity:1; font-family:Arial,Helvetica Neue,Helvetica,sans-serif; font-size:48px; text-anchor:middle;\" transform=\"rotate(0, 1246.64, 1541.47)\" x=\"1246.64\" y=\"1541.47\">4</text>\n",
       "</g>\n",
       "<g clip-path=\"url(#clip2000)\">\n",
       "<text style=\"fill:#000000; fill-opacity:1; font-family:Arial,Helvetica Neue,Helvetica,sans-serif; font-size:48px; text-anchor:middle;\" transform=\"rotate(0, 1781.77, 1541.47)\" x=\"1781.77\" y=\"1541.47\">6</text>\n",
       "</g>\n",
       "<g clip-path=\"url(#clip2000)\">\n",
       "<text style=\"fill:#000000; fill-opacity:1; font-family:Arial,Helvetica Neue,Helvetica,sans-serif; font-size:48px; text-anchor:middle;\" transform=\"rotate(0, 2316.9, 1541.47)\" x=\"2316.9\" y=\"1541.47\">8</text>\n",
       "</g>\n",
       "<g clip-path=\"url(#clip2000)\">\n",
       "<text style=\"fill:#000000; fill-opacity:1; font-family:Arial,Helvetica Neue,Helvetica,sans-serif; font-size:48px; text-anchor:end;\" transform=\"rotate(0, 116.517, 1465.57)\" x=\"116.517\" y=\"1465.57\">0</text>\n",
       "</g>\n",
       "<g clip-path=\"url(#clip2000)\">\n",
       "<text style=\"fill:#000000; fill-opacity:1; font-family:Arial,Helvetica Neue,Helvetica,sans-serif; font-size:48px; text-anchor:end;\" transform=\"rotate(0, 116.517, 1042.13)\" x=\"116.517\" y=\"1042.13\">5</text>\n",
       "</g>\n",
       "<g clip-path=\"url(#clip2000)\">\n",
       "<text style=\"fill:#000000; fill-opacity:1; font-family:Arial,Helvetica Neue,Helvetica,sans-serif; font-size:48px; text-anchor:end;\" transform=\"rotate(0, 116.517, 618.691)\" x=\"116.517\" y=\"618.691\">10</text>\n",
       "</g>\n",
       "<g clip-path=\"url(#clip2000)\">\n",
       "<text style=\"fill:#000000; fill-opacity:1; font-family:Arial,Helvetica Neue,Helvetica,sans-serif; font-size:48px; text-anchor:end;\" transform=\"rotate(0, 116.517, 195.253)\" x=\"116.517\" y=\"195.253\">15</text>\n",
       "</g>\n",
       "<polyline clip-path=\"url(#clip2002)\" style=\"stroke:#009af9; stroke-width:4; stroke-opacity:1; fill:none\" points=\"\n",
       "  203.127,1446.71 256.641,1444.19 310.154,1439.8 363.667,1433.72 417.18,1425.91 470.694,1416.49 524.207,1405.16 577.72,1392.8 631.234,1378.07 684.747,1362.02 \n",
       "  738.26,1343.56 791.773,1324.53 845.287,1303.08 898.8,1279.95 952.313,1255.02 1005.83,1228.75 1059.34,1200.73 1112.85,1170.63 1166.37,1141.25 1219.88,1104.97 \n",
       "  1273.39,1071.22 1326.91,1036.19 1380.42,997.605 1433.93,956.76 1487.45,917.347 1540.96,871.529 1594.47,828.045 1647.99,778.772 1701.5,730.455 1755.01,681.376 \n",
       "  1808.53,630.29 1862.04,577.156 1915.55,521.332 1969.07,466.352 2022.58,405.222 2076.09,345.72 2129.61,278.04 2183.12,216.796 2236.63,160.233 2290.15,88.0053 \n",
       "  \n",
       "  \"/>\n",
       "</svg>\n"
      ]
     },
     "execution_count": 129,
     "metadata": {},
     "output_type": "execute_result"
    }
   ],
   "source": [
    "@time plot(0.1:0.2:8,x->Test_len(x,n=1e5),leg=false)"
   ]
  },
  {
   "cell_type": "code",
   "execution_count": 130,
   "metadata": {},
   "outputs": [
    {
     "data": {
      "image/svg+xml": [
       "<?xml version=\"1.0\" encoding=\"utf-8\"?>\n",
       "<svg xmlns=\"http://www.w3.org/2000/svg\" xmlns:xlink=\"http://www.w3.org/1999/xlink\" width=\"600\" height=\"400\" viewBox=\"0 0 2400 1600\">\n",
       "<defs>\n",
       "  <clipPath id=\"clip2400\">\n",
       "    <rect x=\"0\" y=\"0\" width=\"2400\" height=\"1600\"/>\n",
       "  </clipPath>\n",
       "</defs>\n",
       "<path clip-path=\"url(#clip2400)\" d=\"\n",
       "M0 1600 L2400 1600 L2400 0 L0 0  Z\n",
       "  \" fill=\"#ffffff\" fill-rule=\"evenodd\" fill-opacity=\"1\"/>\n",
       "<defs>\n",
       "  <clipPath id=\"clip2401\">\n",
       "    <rect x=\"480\" y=\"0\" width=\"1681\" height=\"1600\"/>\n",
       "  </clipPath>\n",
       "</defs>\n",
       "<path clip-path=\"url(#clip2400)\" d=\"\n",
       "M140.517 1487.47 L2352.76 1487.47 L2352.76 47.2441 L140.517 47.2441  Z\n",
       "  \" fill=\"#ffffff\" fill-rule=\"evenodd\" fill-opacity=\"1\"/>\n",
       "<defs>\n",
       "  <clipPath id=\"clip2402\">\n",
       "    <rect x=\"140\" y=\"47\" width=\"2213\" height=\"1441\"/>\n",
       "  </clipPath>\n",
       "</defs>\n",
       "<polyline clip-path=\"url(#clip2402)\" style=\"stroke:#000000; stroke-width:2; stroke-opacity:0.1; fill:none\" points=\"\n",
       "  236.952,1487.47 236.952,47.2441 \n",
       "  \"/>\n",
       "<polyline clip-path=\"url(#clip2402)\" style=\"stroke:#000000; stroke-width:2; stroke-opacity:0.1; fill:none\" points=\"\n",
       "  741.794,1487.47 741.794,47.2441 \n",
       "  \"/>\n",
       "<polyline clip-path=\"url(#clip2402)\" style=\"stroke:#000000; stroke-width:2; stroke-opacity:0.1; fill:none\" points=\"\n",
       "  1246.64,1487.47 1246.64,47.2441 \n",
       "  \"/>\n",
       "<polyline clip-path=\"url(#clip2402)\" style=\"stroke:#000000; stroke-width:2; stroke-opacity:0.1; fill:none\" points=\"\n",
       "  1751.48,1487.47 1751.48,47.2441 \n",
       "  \"/>\n",
       "<polyline clip-path=\"url(#clip2402)\" style=\"stroke:#000000; stroke-width:2; stroke-opacity:0.1; fill:none\" points=\"\n",
       "  2256.32,1487.47 2256.32,47.2441 \n",
       "  \"/>\n",
       "<polyline clip-path=\"url(#clip2402)\" style=\"stroke:#000000; stroke-width:2; stroke-opacity:0.1; fill:none\" points=\"\n",
       "  140.517,1446.77 2352.76,1446.77 \n",
       "  \"/>\n",
       "<polyline clip-path=\"url(#clip2402)\" style=\"stroke:#000000; stroke-width:2; stroke-opacity:0.1; fill:none\" points=\"\n",
       "  140.517,1036.03 2352.76,1036.03 \n",
       "  \"/>\n",
       "<polyline clip-path=\"url(#clip2402)\" style=\"stroke:#000000; stroke-width:2; stroke-opacity:0.1; fill:none\" points=\"\n",
       "  140.517,625.293 2352.76,625.293 \n",
       "  \"/>\n",
       "<polyline clip-path=\"url(#clip2402)\" style=\"stroke:#000000; stroke-width:2; stroke-opacity:0.1; fill:none\" points=\"\n",
       "  140.517,214.553 2352.76,214.553 \n",
       "  \"/>\n",
       "<polyline clip-path=\"url(#clip2400)\" style=\"stroke:#000000; stroke-width:4; stroke-opacity:1; fill:none\" points=\"\n",
       "  140.517,1487.47 2352.76,1487.47 \n",
       "  \"/>\n",
       "<polyline clip-path=\"url(#clip2400)\" style=\"stroke:#000000; stroke-width:4; stroke-opacity:1; fill:none\" points=\"\n",
       "  140.517,1487.47 140.517,47.2441 \n",
       "  \"/>\n",
       "<polyline clip-path=\"url(#clip2400)\" style=\"stroke:#000000; stroke-width:4; stroke-opacity:1; fill:none\" points=\"\n",
       "  236.952,1487.47 236.952,1470.19 \n",
       "  \"/>\n",
       "<polyline clip-path=\"url(#clip2400)\" style=\"stroke:#000000; stroke-width:4; stroke-opacity:1; fill:none\" points=\"\n",
       "  741.794,1487.47 741.794,1470.19 \n",
       "  \"/>\n",
       "<polyline clip-path=\"url(#clip2400)\" style=\"stroke:#000000; stroke-width:4; stroke-opacity:1; fill:none\" points=\"\n",
       "  1246.64,1487.47 1246.64,1470.19 \n",
       "  \"/>\n",
       "<polyline clip-path=\"url(#clip2400)\" style=\"stroke:#000000; stroke-width:4; stroke-opacity:1; fill:none\" points=\"\n",
       "  1751.48,1487.47 1751.48,1470.19 \n",
       "  \"/>\n",
       "<polyline clip-path=\"url(#clip2400)\" style=\"stroke:#000000; stroke-width:4; stroke-opacity:1; fill:none\" points=\"\n",
       "  2256.32,1487.47 2256.32,1470.19 \n",
       "  \"/>\n",
       "<polyline clip-path=\"url(#clip2400)\" style=\"stroke:#000000; stroke-width:4; stroke-opacity:1; fill:none\" points=\"\n",
       "  140.517,1446.77 167.064,1446.77 \n",
       "  \"/>\n",
       "<polyline clip-path=\"url(#clip2400)\" style=\"stroke:#000000; stroke-width:4; stroke-opacity:1; fill:none\" points=\"\n",
       "  140.517,1036.03 167.064,1036.03 \n",
       "  \"/>\n",
       "<polyline clip-path=\"url(#clip2400)\" style=\"stroke:#000000; stroke-width:4; stroke-opacity:1; fill:none\" points=\"\n",
       "  140.517,625.293 167.064,625.293 \n",
       "  \"/>\n",
       "<polyline clip-path=\"url(#clip2400)\" style=\"stroke:#000000; stroke-width:4; stroke-opacity:1; fill:none\" points=\"\n",
       "  140.517,214.553 167.064,214.553 \n",
       "  \"/>\n",
       "<g clip-path=\"url(#clip2400)\">\n",
       "<text style=\"fill:#000000; fill-opacity:1; font-family:Arial,Helvetica Neue,Helvetica,sans-serif; font-size:48px; text-anchor:middle;\" transform=\"rotate(0, 236.952, 1541.47)\" x=\"236.952\" y=\"1541.47\">0</text>\n",
       "</g>\n",
       "<g clip-path=\"url(#clip2400)\">\n",
       "<text style=\"fill:#000000; fill-opacity:1; font-family:Arial,Helvetica Neue,Helvetica,sans-serif; font-size:48px; text-anchor:middle;\" transform=\"rotate(0, 741.794, 1541.47)\" x=\"741.794\" y=\"1541.47\">2</text>\n",
       "</g>\n",
       "<g clip-path=\"url(#clip2400)\">\n",
       "<text style=\"fill:#000000; fill-opacity:1; font-family:Arial,Helvetica Neue,Helvetica,sans-serif; font-size:48px; text-anchor:middle;\" transform=\"rotate(0, 1246.64, 1541.47)\" x=\"1246.64\" y=\"1541.47\">4</text>\n",
       "</g>\n",
       "<g clip-path=\"url(#clip2400)\">\n",
       "<text style=\"fill:#000000; fill-opacity:1; font-family:Arial,Helvetica Neue,Helvetica,sans-serif; font-size:48px; text-anchor:middle;\" transform=\"rotate(0, 1751.48, 1541.47)\" x=\"1751.48\" y=\"1541.47\">6</text>\n",
       "</g>\n",
       "<g clip-path=\"url(#clip2400)\">\n",
       "<text style=\"fill:#000000; fill-opacity:1; font-family:Arial,Helvetica Neue,Helvetica,sans-serif; font-size:48px; text-anchor:middle;\" transform=\"rotate(0, 2256.32, 1541.47)\" x=\"2256.32\" y=\"1541.47\">8</text>\n",
       "</g>\n",
       "<g clip-path=\"url(#clip2400)\">\n",
       "<text style=\"fill:#000000; fill-opacity:1; font-family:Arial,Helvetica Neue,Helvetica,sans-serif; font-size:48px; text-anchor:end;\" transform=\"rotate(0, 116.517, 1464.27)\" x=\"116.517\" y=\"1464.27\">0</text>\n",
       "</g>\n",
       "<g clip-path=\"url(#clip2400)\">\n",
       "<text style=\"fill:#000000; fill-opacity:1; font-family:Arial,Helvetica Neue,Helvetica,sans-serif; font-size:48px; text-anchor:end;\" transform=\"rotate(0, 116.517, 1053.53)\" x=\"116.517\" y=\"1053.53\">5</text>\n",
       "</g>\n",
       "<g clip-path=\"url(#clip2400)\">\n",
       "<text style=\"fill:#000000; fill-opacity:1; font-family:Arial,Helvetica Neue,Helvetica,sans-serif; font-size:48px; text-anchor:end;\" transform=\"rotate(0, 116.517, 642.793)\" x=\"116.517\" y=\"642.793\">10</text>\n",
       "</g>\n",
       "<g clip-path=\"url(#clip2400)\">\n",
       "<text style=\"fill:#000000; fill-opacity:1; font-family:Arial,Helvetica Neue,Helvetica,sans-serif; font-size:48px; text-anchor:end;\" transform=\"rotate(0, 116.517, 232.053)\" x=\"116.517\" y=\"232.053\">15</text>\n",
       "</g>\n",
       "<polyline clip-path=\"url(#clip2402)\" style=\"stroke:#009af9; stroke-width:4; stroke-opacity:1; fill:none\" points=\"\n",
       "  262.194,1445.46 312.678,1443.01 363.162,1438.75 413.647,1432.85 464.131,1425.28 514.615,1416.14 565.099,1405.15 615.583,1393.16 666.068,1378.87 716.552,1363.3 \n",
       "  767.036,1345.4 817.52,1326.94 868.005,1306.14 918.489,1283.7 968.973,1259.51 1019.46,1234.04 1069.94,1206.85 1120.43,1177.65 1170.91,1149.16 1221.39,1113.96 \n",
       "  1271.88,1081.23 1322.36,1047.24 1372.85,1009.82 1423.33,970.199 1473.82,931.968 1524.3,887.523 1574.78,845.343 1625.27,797.548 1675.75,750.68 1726.24,703.073 \n",
       "  1776.72,653.519 1827.2,601.978 1877.69,547.829 1928.17,494.498 1978.66,435.201 2029.14,377.484 2079.63,311.833 2130.11,252.426 2180.59,197.559 2231.08,127.497 \n",
       "  \n",
       "  \"/>\n",
       "<polyline clip-path=\"url(#clip2402)\" style=\"stroke:#e26f46; stroke-width:4; stroke-opacity:1; fill:none\" points=\"\n",
       "  203.127,1446.4 223.509,1446.71 411.965,1436.9 525.219,1419.99 620.974,1399.24 724.99,1370 820.884,1336.87 923.693,1294.76 1042.81,1237.46 1148.66,1178.86 \n",
       "  1241.49,1121.52 1342.69,1052.69 1444.5,976.779 1557.05,885.077 1664.15,790.242 1775.51,683.795 1869.25,587.992 1983.69,463.349 2091.27,338.482 2263.62,122.885 \n",
       "  2290.15,88.0053 \n",
       "  \"/>\n",
       "</svg>\n"
      ]
     },
     "execution_count": 130,
     "metadata": {},
     "output_type": "execute_result"
    }
   ],
   "source": [
    "plot!(x->0.25*x^2)"
   ]
  },
  {
   "cell_type": "code",
   "execution_count": null,
   "metadata": {},
   "outputs": [],
   "source": []
  },
  {
   "cell_type": "code",
   "execution_count": null,
   "metadata": {},
   "outputs": [],
   "source": []
  },
  {
   "cell_type": "markdown",
   "metadata": {
    "heading_collapsed": true
   },
   "source": [
    "# All in"
   ]
  },
  {
   "cell_type": "code",
   "execution_count": 2,
   "metadata": {
    "hidden": true
   },
   "outputs": [
    {
     "data": {
      "text/plain": [
       "N (generic function with 1 method)"
      ]
     },
     "execution_count": 2,
     "metadata": {},
     "output_type": "execute_result"
    }
   ],
   "source": [
    "N(;μ=0, σ²=1,N::Int=1)=begin\n",
    "    σ=√σ²\n",
    "    n=round(Int,N/2)+1\n",
    "    U₁=rand(n)\n",
    "    U₂=rand(n)\n",
    "    wyn=zeros(2*n)\n",
    "    wyn[1:Int(end/2)]=sqrt.(-2*log.(U₁)).*sin.(2*π*U₂)\n",
    "    wyn[Int(end/2)+1:end]=sqrt.(-2*log.(U₁)).*cos.(2*π*U₂)\n",
    "    wyn[1:N]\n",
    "end"
   ]
  },
  {
   "cell_type": "code",
   "execution_count": 93,
   "metadata": {
    "hidden": true
   },
   "outputs": [
    {
     "data": {
      "text/plain": [
       "BrownExit (generic function with 1 method)"
      ]
     },
     "execution_count": 93,
     "metadata": {},
     "output_type": "execute_result"
    }
   ],
   "source": [
    "BrownExit(;Δ=0.01, lim=10, M=1e2, points_number=20) = begin\n",
    "    results=[Matrix{Int}[] for _ in 1:Threads.nthreads()];\n",
    "    n=round(Int,lim/Δ)+1 # zasada 3σ, dla 1 mamy 0.68 że się uda\n",
    "    \n",
    "    points=LinRange(0,lim,points_number)\n",
    "    Threads.@threads for i in 1:M\n",
    "        temp=cumsum(N(N=n))*√Δ\n",
    "        while !any(temp.>lim) && !any(temp.<-lim)\n",
    "            temp=cumsum(N(N=n))*√Δ\n",
    "        end\n",
    "        result_1=[argmax(abs.(temp).>points[i]) for i in 1:points_number]\n",
    "        result_2=[temp[i]>0 for i in result_1]\n",
    "        result=hcat(result_1,result_2)\n",
    "        push!(results[Threads.threadid()],result)\n",
    "    end\n",
    "    reduce(vcat, results)\n",
    "end"
   ]
  },
  {
   "cell_type": "code",
   "execution_count": 41,
   "metadata": {
    "hidden": true
   },
   "outputs": [
    {
     "data": {
      "text/plain": [
       "0.05"
      ]
     },
     "execution_count": 41,
     "metadata": {},
     "output_type": "execute_result"
    }
   ],
   "source": [
    "0.05"
   ]
  },
  {
   "cell_type": "code",
   "execution_count": 75,
   "metadata": {
    "hidden": true
   },
   "outputs": [
    {
     "name": "stdout",
     "output_type": "stream",
     "text": [
      " 11.845833 seconds (6.47 M allocations: 27.826 GiB, 41.94% gc time)\n"
     ]
    },
    {
     "data": {
      "text/plain": [
       "96-element Vector{Matrix{Int64}}:\n",
       " [1 0; 9 0; … ; 1324 0; 1333 0]\n",
       " [1 1; 4 1; … ; 798 1; 941 1]\n",
       " [1 1; 4 0; … ; 927 0; 1252 0]\n",
       " [1 0; 8 1; … ; 1335 1; 1366 1]\n",
       " [1 0; 3 0; … ; 1398 0; 1399 0]\n",
       " [1 0; 4 0; … ; 1391 0; 1395 0]\n",
       " [1 0; 1 0; … ; 1290 0; 1360 0]\n",
       " [1 0; 3 0; … ; 1166 0; 1335 0]\n",
       " [1 1; 9 1; … ; 1349 1; 1351 1]\n",
       " [1 1; 8 1; … ; 1070 1; 1081 1]\n",
       " [1 1; 14 0; … ; 1381 0; 1383 0]\n",
       " [1 0; 6 1; … ; 1342 1; 1343 1]\n",
       " [1 1; 3 1; … ; 1355 0; 1356 0]\n",
       " ⋮\n",
       " [1 1; 2 0; … ; 1115 0; 1218 0]\n",
       " [1 0; 4 1; … ; 1299 1; 1301 1]\n",
       " [1 0; 4 1; … ; 1147 0; 1165 0]\n",
       " [1 1; 4 1; … ; 988 1; 990 1]\n",
       " [1 1; 5 0; … ; 1292 1; 1292 1]\n",
       " [1 1; 7 0; … ; 1337 0; 1344 0]\n",
       " [1 0; 4 1; … ; 1327 0; 1368 0]\n",
       " [1 0; 4 0; … ; 1374 0; 1378 0]\n",
       " [1 0; 3 0; … ; 1276 1; 1292 1]\n",
       " [1 1; 5 1; … ; 1254 1; 1255 1]\n",
       " [1 1; 2 0; … ; 1344 0; 1346 0]\n",
       " [1 1; 2 1; … ; 1395 0; 1397 0]"
      ]
     },
     "execution_count": 75,
     "metadata": {},
     "output_type": "execute_result"
    }
   ],
   "source": [
    "@time BrownExit(lim=14,M=12*8, points_number=100)"
   ]
  },
  {
   "cell_type": "code",
   "execution_count": 76,
   "metadata": {
    "hidden": true
   },
   "outputs": [
    {
     "data": {
      "text/plain": [
       "96-element Vector{Matrix{Int64}}:\n",
       " [1 0; 9 0; … ; 1324 0; 1333 0]\n",
       " [1 1; 4 1; … ; 798 1; 941 1]\n",
       " [1 1; 4 0; … ; 927 0; 1252 0]\n",
       " [1 0; 8 1; … ; 1335 1; 1366 1]\n",
       " [1 0; 3 0; … ; 1398 0; 1399 0]\n",
       " [1 0; 4 0; … ; 1391 0; 1395 0]\n",
       " [1 0; 1 0; … ; 1290 0; 1360 0]\n",
       " [1 0; 3 0; … ; 1166 0; 1335 0]\n",
       " [1 1; 9 1; … ; 1349 1; 1351 1]\n",
       " [1 1; 8 1; … ; 1070 1; 1081 1]\n",
       " [1 1; 14 0; … ; 1381 0; 1383 0]\n",
       " [1 0; 6 1; … ; 1342 1; 1343 1]\n",
       " [1 1; 3 1; … ; 1355 0; 1356 0]\n",
       " ⋮\n",
       " [1 1; 2 0; … ; 1115 0; 1218 0]\n",
       " [1 0; 4 1; … ; 1299 1; 1301 1]\n",
       " [1 0; 4 1; … ; 1147 0; 1165 0]\n",
       " [1 1; 4 1; … ; 988 1; 990 1]\n",
       " [1 1; 5 0; … ; 1292 1; 1292 1]\n",
       " [1 1; 7 0; … ; 1337 0; 1344 0]\n",
       " [1 0; 4 1; … ; 1327 0; 1368 0]\n",
       " [1 0; 4 0; … ; 1374 0; 1378 0]\n",
       " [1 0; 3 0; … ; 1276 1; 1292 1]\n",
       " [1 1; 5 1; … ; 1254 1; 1255 1]\n",
       " [1 1; 2 0; … ; 1344 0; 1346 0]\n",
       " [1 1; 2 1; … ; 1395 0; 1397 0]"
      ]
     },
     "execution_count": 76,
     "metadata": {},
     "output_type": "execute_result"
    }
   ],
   "source": [
    "A=ans"
   ]
  },
  {
   "cell_type": "code",
   "execution_count": 80,
   "metadata": {
    "hidden": true
   },
   "outputs": [],
   "source": [
    "A=BrownExit(lim=100,M=10000, points_number=100);"
   ]
  },
  {
   "cell_type": "code",
   "execution_count": 90,
   "metadata": {
    "hidden": true
   },
   "outputs": [],
   "source": [
    "B=BrownExit(lim=100,M=10, points_number=10);"
   ]
  },
  {
   "cell_type": "code",
   "execution_count": 84,
   "metadata": {
    "hidden": true
   },
   "outputs": [
    {
     "data": {
      "text/plain": [
       "((10,), (10, 2))"
      ]
     },
     "execution_count": 84,
     "metadata": {},
     "output_type": "execute_result"
    }
   ],
   "source": [
    "size(B), size(B[1])"
   ]
  },
  {
   "cell_type": "code",
   "execution_count": 102,
   "metadata": {
    "hidden": true
   },
   "outputs": [
    {
     "data": {
      "text/plain": [
       "10×2 Matrix{Int64}:\n",
       "    1  1\n",
       " 2505  0\n",
       " 4647  0\n",
       "    1  1\n",
       "    1  1\n",
       "    1  1\n",
       "    1  1\n",
       "    1  1\n",
       "    1  1\n",
       "    1  1"
      ]
     },
     "execution_count": 102,
     "metadata": {},
     "output_type": "execute_result"
    }
   ],
   "source": [
    "B[6]"
   ]
  },
  {
   "cell_type": "code",
   "execution_count": null,
   "metadata": {
    "hidden": true
   },
   "outputs": [],
   "source": []
  },
  {
   "cell_type": "markdown",
   "metadata": {
    "heading_collapsed": true
   },
   "source": [
    "# analiza"
   ]
  },
  {
   "cell_type": "code",
   "execution_count": 99,
   "metadata": {
    "hidden": true
   },
   "outputs": [
    {
     "data": {
      "text/plain": [
       "100-element LinRange{Float64, Int64}:\n",
       " 0.0,0.141414,0.282828,0.424242,…,13.4343,13.5758,13.7172,13.8586,14.0"
      ]
     },
     "execution_count": 99,
     "metadata": {},
     "output_type": "execute_result"
    }
   ],
   "source": [
    "lim=14\n",
    "M=12*8\n",
    "points_number=100\n",
    "Δ=0.01\n",
    "exit_interval=LinRange(0,lim,points_number)"
   ]
  },
  {
   "cell_type": "code",
   "execution_count": 77,
   "metadata": {
    "hidden": true
   },
   "outputs": [
    {
     "data": {
      "text/plain": [
       "96-element Vector{Matrix{Int64}}:\n",
       " [1 0; 9 0; … ; 1324 0; 1333 0]\n",
       " [1 1; 4 1; … ; 798 1; 941 1]\n",
       " [1 1; 4 0; … ; 927 0; 1252 0]\n",
       " [1 0; 8 1; … ; 1335 1; 1366 1]\n",
       " [1 0; 3 0; … ; 1398 0; 1399 0]\n",
       " [1 0; 4 0; … ; 1391 0; 1395 0]\n",
       " [1 0; 1 0; … ; 1290 0; 1360 0]\n",
       " [1 0; 3 0; … ; 1166 0; 1335 0]\n",
       " [1 1; 9 1; … ; 1349 1; 1351 1]\n",
       " [1 1; 8 1; … ; 1070 1; 1081 1]\n",
       " [1 1; 14 0; … ; 1381 0; 1383 0]\n",
       " [1 0; 6 1; … ; 1342 1; 1343 1]\n",
       " [1 1; 3 1; … ; 1355 0; 1356 0]\n",
       " ⋮\n",
       " [1 1; 2 0; … ; 1115 0; 1218 0]\n",
       " [1 0; 4 1; … ; 1299 1; 1301 1]\n",
       " [1 0; 4 1; … ; 1147 0; 1165 0]\n",
       " [1 1; 4 1; … ; 988 1; 990 1]\n",
       " [1 1; 5 0; … ; 1292 1; 1292 1]\n",
       " [1 1; 7 0; … ; 1337 0; 1344 0]\n",
       " [1 0; 4 1; … ; 1327 0; 1368 0]\n",
       " [1 0; 4 0; … ; 1374 0; 1378 0]\n",
       " [1 0; 3 0; … ; 1276 1; 1292 1]\n",
       " [1 1; 5 1; … ; 1254 1; 1255 1]\n",
       " [1 1; 2 0; … ; 1344 0; 1346 0]\n",
       " [1 1; 2 1; … ; 1395 0; 1397 0]"
      ]
     },
     "execution_count": 77,
     "metadata": {},
     "output_type": "execute_result"
    }
   ],
   "source": [
    "A"
   ]
  },
  {
   "cell_type": "code",
   "execution_count": 86,
   "metadata": {
    "hidden": true
   },
   "outputs": [
    {
     "data": {
      "text/plain": [
       "(100, 2)"
      ]
     },
     "execution_count": 86,
     "metadata": {},
     "output_type": "execute_result"
    }
   ],
   "source": [
    "n1=size(A)[1]\n",
    "n2,n3=size(A[1])"
   ]
  },
  {
   "cell_type": "code",
   "execution_count": 95,
   "metadata": {
    "hidden": true
   },
   "outputs": [
    {
     "data": {
      "text/plain": [
       "14.01"
      ]
     },
     "execution_count": 95,
     "metadata": {},
     "output_type": "execute_result"
    }
   ],
   "source": [
    "maximum(A[i][end,1] for i in 1:n1)*Δ"
   ]
  },
  {
   "cell_type": "code",
   "execution_count": 103,
   "metadata": {
    "hidden": true
   },
   "outputs": [
    {
     "data": {
      "text/plain": [
       "(3, 60)"
      ]
     },
     "execution_count": 103,
     "metadata": {},
     "output_type": "execute_result"
    }
   ],
   "source": [
    "a,b=3,60"
   ]
  },
  {
   "cell_type": "code",
   "execution_count": 107,
   "metadata": {
    "hidden": true
   },
   "outputs": [
    {
     "data": {
      "text/plain": [
       "2-element Vector{Int64}:\n",
       " 12\n",
       "  0"
      ]
     },
     "execution_count": 107,
     "metadata": {},
     "output_type": "execute_result"
    }
   ],
   "source": [
    "A[1][3,:]"
   ]
  },
  {
   "cell_type": "code",
   "execution_count": null,
   "metadata": {
    "hidden": true
   },
   "outputs": [],
   "source": [
    "A[1][3,:]"
   ]
  },
  {
   "cell_type": "code",
   "execution_count": null,
   "metadata": {
    "hidden": true
   },
   "outputs": [],
   "source": []
  },
  {
   "cell_type": "code",
   "execution_count": null,
   "metadata": {
    "hidden": true
   },
   "outputs": [],
   "source": []
  },
  {
   "cell_type": "code",
   "execution_count": null,
   "metadata": {
    "hidden": true
   },
   "outputs": [],
   "source": []
  },
  {
   "cell_type": "code",
   "execution_count": null,
   "metadata": {
    "hidden": true
   },
   "outputs": [],
   "source": []
  },
  {
   "cell_type": "markdown",
   "metadata": {
    "heading_collapsed": true
   },
   "source": [
    "# Test"
   ]
  },
  {
   "cell_type": "code",
   "execution_count": 110,
   "metadata": {
    "hidden": true
   },
   "outputs": [],
   "source": [
    "A=Brown()[1];"
   ]
  },
  {
   "cell_type": "code",
   "execution_count": 116,
   "metadata": {
    "hidden": true
   },
   "outputs": [
    {
     "data": {
      "text/plain": [
       "385"
      ]
     },
     "execution_count": 116,
     "metadata": {},
     "output_type": "execute_result"
    }
   ],
   "source": [
    "argmax(abs.(A).>2)"
   ]
  },
  {
   "cell_type": "code",
   "execution_count": 114,
   "metadata": {
    "hidden": true
   },
   "outputs": [
    {
     "data": {
      "text/plain": [
       "2.1415736466007926"
      ]
     },
     "execution_count": 114,
     "metadata": {},
     "output_type": "execute_result"
    }
   ],
   "source": [
    "maximum(A)"
   ]
  },
  {
   "cell_type": "code",
   "execution_count": 119,
   "metadata": {
    "hidden": true
   },
   "outputs": [
    {
     "data": {
      "text/plain": [
       "21-element BitVector:\n",
       " 0\n",
       " 0\n",
       " 0\n",
       " 0\n",
       " 0\n",
       " 1\n",
       " 0\n",
       " 0\n",
       " 0\n",
       " 0\n",
       " 0\n",
       " 0\n",
       " 0\n",
       " 0\n",
       " 0\n",
       " 0\n",
       " 0\n",
       " 0\n",
       " 0\n",
       " 0\n",
       " 0"
      ]
     },
     "execution_count": 119,
     "metadata": {},
     "output_type": "execute_result"
    }
   ],
   "source": [
    "(abs.(A).>2)[380:400]"
   ]
  },
  {
   "cell_type": "code",
   "execution_count": null,
   "metadata": {
    "hidden": true
   },
   "outputs": [],
   "source": []
  },
  {
   "cell_type": "code",
   "execution_count": null,
   "metadata": {
    "hidden": true
   },
   "outputs": [],
   "source": []
  },
  {
   "cell_type": "code",
   "execution_count": null,
   "metadata": {
    "hidden": true
   },
   "outputs": [],
   "source": []
  },
  {
   "cell_type": "code",
   "execution_count": null,
   "metadata": {
    "hidden": true
   },
   "outputs": [],
   "source": []
  },
  {
   "cell_type": "code",
   "execution_count": null,
   "metadata": {
    "hidden": true
   },
   "outputs": [],
   "source": []
  },
  {
   "cell_type": "code",
   "execution_count": null,
   "metadata": {
    "hidden": true
   },
   "outputs": [],
   "source": []
  },
  {
   "cell_type": "code",
   "execution_count": null,
   "metadata": {
    "hidden": true
   },
   "outputs": [],
   "source": []
  },
  {
   "cell_type": "code",
   "execution_count": null,
   "metadata": {
    "hidden": true
   },
   "outputs": [],
   "source": []
  },
  {
   "cell_type": "code",
   "execution_count": null,
   "metadata": {
    "hidden": true
   },
   "outputs": [],
   "source": []
  },
  {
   "cell_type": "code",
   "execution_count": null,
   "metadata": {
    "hidden": true
   },
   "outputs": [],
   "source": []
  },
  {
   "cell_type": "code",
   "execution_count": null,
   "metadata": {
    "hidden": true
   },
   "outputs": [],
   "source": []
  },
  {
   "cell_type": "code",
   "execution_count": null,
   "metadata": {
    "hidden": true
   },
   "outputs": [],
   "source": []
  },
  {
   "cell_type": "code",
   "execution_count": null,
   "metadata": {
    "hidden": true
   },
   "outputs": [],
   "source": []
  },
  {
   "cell_type": "code",
   "execution_count": null,
   "metadata": {
    "hidden": true
   },
   "outputs": [],
   "source": []
  },
  {
   "cell_type": "code",
   "execution_count": null,
   "metadata": {
    "hidden": true
   },
   "outputs": [],
   "source": []
  },
  {
   "cell_type": "code",
   "execution_count": null,
   "metadata": {
    "hidden": true
   },
   "outputs": [],
   "source": []
  },
  {
   "cell_type": "code",
   "execution_count": null,
   "metadata": {
    "hidden": true
   },
   "outputs": [],
   "source": []
  },
  {
   "cell_type": "code",
   "execution_count": null,
   "metadata": {
    "hidden": true
   },
   "outputs": [],
   "source": []
  },
  {
   "cell_type": "code",
   "execution_count": null,
   "metadata": {
    "hidden": true
   },
   "outputs": [],
   "source": []
  },
  {
   "cell_type": "code",
   "execution_count": null,
   "metadata": {
    "hidden": true
   },
   "outputs": [],
   "source": []
  },
  {
   "cell_type": "code",
   "execution_count": null,
   "metadata": {
    "hidden": true
   },
   "outputs": [],
   "source": []
  },
  {
   "cell_type": "code",
   "execution_count": null,
   "metadata": {
    "hidden": true
   },
   "outputs": [],
   "source": []
  },
  {
   "cell_type": "code",
   "execution_count": null,
   "metadata": {
    "hidden": true
   },
   "outputs": [],
   "source": []
  },
  {
   "cell_type": "code",
   "execution_count": 58,
   "metadata": {
    "hidden": true
   },
   "outputs": [],
   "source": [
    "temp_1=[i for i in 1:20]\n",
    "temp_2=[(i-4)^2 for i in temp_1];"
   ]
  },
  {
   "cell_type": "code",
   "execution_count": 62,
   "metadata": {
    "hidden": true
   },
   "outputs": [
    {
     "data": {
      "text/plain": [
       "20×2 Matrix{Int64}:\n",
       "  1    9\n",
       "  2    4\n",
       "  3    1\n",
       "  4    0\n",
       "  5    1\n",
       "  6    4\n",
       "  7    9\n",
       "  8   16\n",
       "  9   25\n",
       " 10   36\n",
       " 11   49\n",
       " 12   64\n",
       " 13   81\n",
       " 14  100\n",
       " 15  121\n",
       " 16  144\n",
       " 17  169\n",
       " 18  196\n",
       " 19  225\n",
       " 20  256"
      ]
     },
     "execution_count": 62,
     "metadata": {},
     "output_type": "execute_result"
    }
   ],
   "source": [
    "hcat(temp_1,temp_2)"
   ]
  },
  {
   "cell_type": "code",
   "execution_count": null,
   "metadata": {
    "hidden": true
   },
   "outputs": [],
   "source": []
  },
  {
   "cell_type": "code",
   "execution_count": null,
   "metadata": {
    "hidden": true
   },
   "outputs": [],
   "source": []
  },
  {
   "cell_type": "code",
   "execution_count": 8,
   "metadata": {
    "hidden": true
   },
   "outputs": [
    {
     "data": {
      "text/plain": [
       "g (generic function with 1 method)"
      ]
     },
     "execution_count": 8,
     "metadata": {},
     "output_type": "execute_result"
    }
   ],
   "source": [
    "g(T;L,Times)=begin\n",
    "    \n",
    "    Threads.@threads for a in 1:Threads.nthreads()\n",
    "        result = f(L=L, Times=Times,T=T)\n",
    "        push!(results[Threads.threadid()], result)\n",
    "    end\n",
    "    return results\n",
    "end"
   ]
  },
  {
   "cell_type": "code",
   "execution_count": 51,
   "metadata": {
    "hidden": true
   },
   "outputs": [
    {
     "name": "stdout",
     "output_type": "stream",
     "text": [
      "search: \u001b[0m\u001b[1ma\u001b[22m\u001b[0m\u001b[1mr\u001b[22m\u001b[0m\u001b[1mg\u001b[22m\u001b[0m\u001b[1mm\u001b[22m\u001b[0m\u001b[1ma\u001b[22m\u001b[0m\u001b[1mx\u001b[22m\n",
      "\n"
     ]
    },
    {
     "data": {
      "text/latex": [
       "\\begin{verbatim}\n",
       "argmax(r::AbstractRange)\n",
       "\\end{verbatim}\n",
       "Ranges can have multiple maximal elements. In that case \\texttt{argmax} will return a maximal index, but not necessarily the first one.\n",
       "\n",
       "\\rule{\\textwidth}{1pt}\n",
       "\\begin{verbatim}\n",
       "argmax(f, domain)\n",
       "\\end{verbatim}\n",
       "Return a value \\texttt{x} in the domain of \\texttt{f} for which \\texttt{f(x)} is maximised. If there are multiple maximal values for \\texttt{f(x)} then the first one will be found.\n",
       "\n",
       "\\texttt{domain} must be a non-empty iterable.\n",
       "\n",
       "Values are compared with \\texttt{isless}.\n",
       "\n",
       "\\begin{quote}\n",
       "\\textbf{compat}\n",
       "\n",
       "Julia 1.7\n",
       "\n",
       "This method requires Julia 1.7 or later.\n",
       "\n",
       "\\end{quote}\n",
       "\\section{Examples}\n",
       "\\begin{verbatim}\n",
       "julia> argmax(abs, -10:5)\n",
       "-10\n",
       "\n",
       "julia> argmax(cos, 0:π/2:2π)\n",
       "0.0\n",
       "\\end{verbatim}\n",
       "\\rule{\\textwidth}{1pt}\n",
       "\\begin{verbatim}\n",
       "argmax(itr)\n",
       "\\end{verbatim}\n",
       "Return the index or key of the maximal element in a collection. If there are multiple maximal elements, then the first one will be returned.\n",
       "\n",
       "The collection must not be empty.\n",
       "\n",
       "Values are compared with \\texttt{isless}.\n",
       "\n",
       "See also: \\href{@ref}{\\texttt{argmin}}, \\href{@ref}{\\texttt{findmax}}.\n",
       "\n",
       "\\section{Examples}\n",
       "\\begin{verbatim}\n",
       "julia> argmax([8, 0.1, -9, pi])\n",
       "1\n",
       "\n",
       "julia> argmax([1, 7, 7, 6])\n",
       "2\n",
       "\n",
       "julia> argmax([1, 7, 7, NaN])\n",
       "4\n",
       "\\end{verbatim}\n",
       "\\rule{\\textwidth}{1pt}\n",
       "\\begin{verbatim}\n",
       "argmax(A; dims) -> indices\n",
       "\\end{verbatim}\n",
       "For an array input, return the indices of the maximum elements over the given dimensions. \\texttt{NaN} is treated as greater than all other values except \\texttt{missing}.\n",
       "\n",
       "\\section{Examples}\n",
       "\\begin{verbatim}\n",
       "julia> A = [1.0 2; 3 4]\n",
       "2×2 Matrix{Float64}:\n",
       " 1.0  2.0\n",
       " 3.0  4.0\n",
       "\n",
       "julia> argmax(A, dims=1)\n",
       "1×2 Matrix{CartesianIndex{2}}:\n",
       " CartesianIndex(2, 1)  CartesianIndex(2, 2)\n",
       "\n",
       "julia> argmax(A, dims=2)\n",
       "2×1 Matrix{CartesianIndex{2}}:\n",
       " CartesianIndex(1, 2)\n",
       " CartesianIndex(2, 2)\n",
       "\\end{verbatim}\n"
      ],
      "text/markdown": [
       "```\n",
       "argmax(r::AbstractRange)\n",
       "```\n",
       "\n",
       "Ranges can have multiple maximal elements. In that case `argmax` will return a maximal index, but not necessarily the first one.\n",
       "\n",
       "---\n",
       "\n",
       "```\n",
       "argmax(f, domain)\n",
       "```\n",
       "\n",
       "Return a value `x` in the domain of `f` for which `f(x)` is maximised. If there are multiple maximal values for `f(x)` then the first one will be found.\n",
       "\n",
       "`domain` must be a non-empty iterable.\n",
       "\n",
       "Values are compared with `isless`.\n",
       "\n",
       "!!! compat \"Julia 1.7\"\n",
       "    This method requires Julia 1.7 or later.\n",
       "\n",
       "\n",
       "# Examples\n",
       "\n",
       "```jldoctest\n",
       "julia> argmax(abs, -10:5)\n",
       "-10\n",
       "\n",
       "julia> argmax(cos, 0:π/2:2π)\n",
       "0.0\n",
       "```\n",
       "\n",
       "---\n",
       "\n",
       "```\n",
       "argmax(itr)\n",
       "```\n",
       "\n",
       "Return the index or key of the maximal element in a collection. If there are multiple maximal elements, then the first one will be returned.\n",
       "\n",
       "The collection must not be empty.\n",
       "\n",
       "Values are compared with `isless`.\n",
       "\n",
       "See also: [`argmin`](@ref), [`findmax`](@ref).\n",
       "\n",
       "# Examples\n",
       "\n",
       "```jldoctest\n",
       "julia> argmax([8, 0.1, -9, pi])\n",
       "1\n",
       "\n",
       "julia> argmax([1, 7, 7, 6])\n",
       "2\n",
       "\n",
       "julia> argmax([1, 7, 7, NaN])\n",
       "4\n",
       "```\n",
       "\n",
       "---\n",
       "\n",
       "```\n",
       "argmax(A; dims) -> indices\n",
       "```\n",
       "\n",
       "For an array input, return the indices of the maximum elements over the given dimensions. `NaN` is treated as greater than all other values except `missing`.\n",
       "\n",
       "# Examples\n",
       "\n",
       "```jldoctest\n",
       "julia> A = [1.0 2; 3 4]\n",
       "2×2 Matrix{Float64}:\n",
       " 1.0  2.0\n",
       " 3.0  4.0\n",
       "\n",
       "julia> argmax(A, dims=1)\n",
       "1×2 Matrix{CartesianIndex{2}}:\n",
       " CartesianIndex(2, 1)  CartesianIndex(2, 2)\n",
       "\n",
       "julia> argmax(A, dims=2)\n",
       "2×1 Matrix{CartesianIndex{2}}:\n",
       " CartesianIndex(1, 2)\n",
       " CartesianIndex(2, 2)\n",
       "```\n"
      ],
      "text/plain": [
       "\u001b[36m  argmax(r::AbstractRange)\u001b[39m\n",
       "\n",
       "  Ranges can have multiple maximal elements. In that case \u001b[36margmax\u001b[39m will return a\n",
       "  maximal index, but not necessarily the first one.\n",
       "\n",
       "  ────────────────────────────────────────────────────────────────────────────\n",
       "\n",
       "\u001b[36m  argmax(f, domain)\u001b[39m\n",
       "\n",
       "  Return a value \u001b[36mx\u001b[39m in the domain of \u001b[36mf\u001b[39m for which \u001b[36mf(x)\u001b[39m is maximised. If there\n",
       "  are multiple maximal values for \u001b[36mf(x)\u001b[39m then the first one will be found.\n",
       "\n",
       "  \u001b[36mdomain\u001b[39m must be a non-empty iterable.\n",
       "\n",
       "  Values are compared with \u001b[36misless\u001b[39m.\n",
       "\n",
       "\u001b[39m\u001b[1m  │ \u001b[22m\u001b[39m\u001b[1mJulia 1.7\u001b[22m\n",
       "\u001b[39m\u001b[1m  │\u001b[22m\n",
       "\u001b[39m\u001b[1m  │\u001b[22m  This method requires Julia 1.7 or later.\n",
       "\n",
       "\u001b[1m  Examples\u001b[22m\n",
       "\u001b[1m  ≡≡≡≡≡≡≡≡≡≡\u001b[22m\n",
       "\n",
       "\u001b[36m  julia> argmax(abs, -10:5)\u001b[39m\n",
       "\u001b[36m  -10\u001b[39m\n",
       "\u001b[36m  \u001b[39m\n",
       "\u001b[36m  julia> argmax(cos, 0:π/2:2π)\u001b[39m\n",
       "\u001b[36m  0.0\u001b[39m\n",
       "\n",
       "  ────────────────────────────────────────────────────────────────────────────\n",
       "\n",
       "\u001b[36m  argmax(itr)\u001b[39m\n",
       "\n",
       "  Return the index or key of the maximal element in a collection. If there are\n",
       "  multiple maximal elements, then the first one will be returned.\n",
       "\n",
       "  The collection must not be empty.\n",
       "\n",
       "  Values are compared with \u001b[36misless\u001b[39m.\n",
       "\n",
       "  See also: \u001b[36margmin\u001b[39m, \u001b[36mfindmax\u001b[39m.\n",
       "\n",
       "\u001b[1m  Examples\u001b[22m\n",
       "\u001b[1m  ≡≡≡≡≡≡≡≡≡≡\u001b[22m\n",
       "\n",
       "\u001b[36m  julia> argmax([8, 0.1, -9, pi])\u001b[39m\n",
       "\u001b[36m  1\u001b[39m\n",
       "\u001b[36m  \u001b[39m\n",
       "\u001b[36m  julia> argmax([1, 7, 7, 6])\u001b[39m\n",
       "\u001b[36m  2\u001b[39m\n",
       "\u001b[36m  \u001b[39m\n",
       "\u001b[36m  julia> argmax([1, 7, 7, NaN])\u001b[39m\n",
       "\u001b[36m  4\u001b[39m\n",
       "\n",
       "  ────────────────────────────────────────────────────────────────────────────\n",
       "\n",
       "\u001b[36m  argmax(A; dims) -> indices\u001b[39m\n",
       "\n",
       "  For an array input, return the indices of the maximum elements over the\n",
       "  given dimensions. \u001b[36mNaN\u001b[39m is treated as greater than all other values except\n",
       "  \u001b[36mmissing\u001b[39m.\n",
       "\n",
       "\u001b[1m  Examples\u001b[22m\n",
       "\u001b[1m  ≡≡≡≡≡≡≡≡≡≡\u001b[22m\n",
       "\n",
       "\u001b[36m  julia> A = [1.0 2; 3 4]\u001b[39m\n",
       "\u001b[36m  2×2 Matrix{Float64}:\u001b[39m\n",
       "\u001b[36m   1.0  2.0\u001b[39m\n",
       "\u001b[36m   3.0  4.0\u001b[39m\n",
       "\u001b[36m  \u001b[39m\n",
       "\u001b[36m  julia> argmax(A, dims=1)\u001b[39m\n",
       "\u001b[36m  1×2 Matrix{CartesianIndex{2}}:\u001b[39m\n",
       "\u001b[36m   CartesianIndex(2, 1)  CartesianIndex(2, 2)\u001b[39m\n",
       "\u001b[36m  \u001b[39m\n",
       "\u001b[36m  julia> argmax(A, dims=2)\u001b[39m\n",
       "\u001b[36m  2×1 Matrix{CartesianIndex{2}}:\u001b[39m\n",
       "\u001b[36m   CartesianIndex(1, 2)\u001b[39m\n",
       "\u001b[36m   CartesianIndex(2, 2)\u001b[39m"
      ]
     },
     "execution_count": 51,
     "metadata": {},
     "output_type": "execute_result"
    }
   ],
   "source": [
    "?argmax"
   ]
  },
  {
   "cell_type": "code",
   "execution_count": null,
   "metadata": {
    "hidden": true
   },
   "outputs": [],
   "source": []
  },
  {
   "cell_type": "code",
   "execution_count": null,
   "metadata": {
    "hidden": true
   },
   "outputs": [],
   "source": []
  },
  {
   "cell_type": "code",
   "execution_count": null,
   "metadata": {
    "hidden": true
   },
   "outputs": [],
   "source": []
  },
  {
   "cell_type": "code",
   "execution_count": null,
   "metadata": {
    "hidden": true
   },
   "outputs": [],
   "source": []
  },
  {
   "cell_type": "markdown",
   "metadata": {
    "heading_collapsed": true
   },
   "source": [
    "# Śmieci - test"
   ]
  },
  {
   "cell_type": "code",
   "execution_count": 11,
   "metadata": {
    "hidden": true
   },
   "outputs": [
    {
     "data": {
      "text/plain": [
       "0.7142125932221923"
      ]
     },
     "execution_count": 11,
     "metadata": {},
     "output_type": "execute_result"
    }
   ],
   "source": [
    "cdf(Normal(0,2),1)+cdf(Normal(0,1),-2)"
   ]
  },
  {
   "cell_type": "code",
   "execution_count": 36,
   "metadata": {
    "hidden": true
   },
   "outputs": [
    {
     "data": {
      "text/plain": [
       "temp_test (generic function with 1 method)"
      ]
     },
     "execution_count": 36,
     "metadata": {},
     "output_type": "execute_result"
    }
   ],
   "source": [
    "temp_test(w)=begin\n",
    "    σ=1\n",
    "    while 1-cdf(Normal(0,σ),w)+cdf(Normal(0,σ),-w)<1/2\n",
    "        σ+=1\n",
    "    end\n",
    "    σ\n",
    "end"
   ]
  },
  {
   "cell_type": "code",
   "execution_count": 18,
   "metadata": {
    "hidden": true
   },
   "outputs": [
    {
     "data": {
      "text/plain": [
       "test (generic function with 1 method)"
      ]
     },
     "execution_count": 18,
     "metadata": {},
     "output_type": "execute_result"
    }
   ],
   "source": [
    "test(w,t)=1-cdf(Normal(0,t),w)+cdf(Normal(0,t),-w)"
   ]
  },
  {
   "cell_type": "code",
   "execution_count": 28,
   "metadata": {
    "hidden": true
   },
   "outputs": [
    {
     "data": {
      "text/plain": [
       "0.920344325445942"
      ]
     },
     "execution_count": 28,
     "metadata": {},
     "output_type": "execute_result"
    }
   ],
   "source": [
    "test(1,10)"
   ]
  },
  {
   "cell_type": "code",
   "execution_count": 44,
   "metadata": {
    "hidden": true
   },
   "outputs": [
    {
     "data": {
      "text/plain": [
       "1483"
      ]
     },
     "execution_count": 44,
     "metadata": {},
     "output_type": "execute_result"
    }
   ],
   "source": [
    "temp_test(1000)"
   ]
  },
  {
   "cell_type": "code",
   "execution_count": null,
   "metadata": {
    "hidden": true
   },
   "outputs": [],
   "source": []
  },
  {
   "cell_type": "code",
   "execution_count": 45,
   "metadata": {
    "hidden": true
   },
   "outputs": [
    {
     "data": {
      "text/plain": [
       "temp2 (generic function with 1 method)"
      ]
     },
     "execution_count": 45,
     "metadata": {},
     "output_type": "execute_result"
    }
   ],
   "source": [
    "temp2(w)=cdf(Normal(0,1.5*w),-w)+1-cdf(Normal(0,1.5*w),w)"
   ]
  },
  {
   "cell_type": "code",
   "execution_count": 48,
   "metadata": {
    "hidden": true
   },
   "outputs": [
    {
     "data": {
      "text/plain": [
       "0.5049850750938458"
      ]
     },
     "execution_count": 48,
     "metadata": {},
     "output_type": "execute_result"
    }
   ],
   "source": [
    "temp2(10)"
   ]
  },
  {
   "cell_type": "code",
   "execution_count": null,
   "metadata": {
    "hidden": true
   },
   "outputs": [],
   "source": []
  },
  {
   "cell_type": "code",
   "execution_count": null,
   "metadata": {
    "hidden": true
   },
   "outputs": [],
   "source": []
  },
  {
   "cell_type": "code",
   "execution_count": null,
   "metadata": {
    "hidden": true
   },
   "outputs": [],
   "source": []
  },
  {
   "cell_type": "code",
   "execution_count": null,
   "metadata": {
    "hidden": true
   },
   "outputs": [],
   "source": []
  },
  {
   "cell_type": "code",
   "execution_count": null,
   "metadata": {
    "hidden": true
   },
   "outputs": [],
   "source": []
  },
  {
   "cell_type": "code",
   "execution_count": null,
   "metadata": {
    "hidden": true
   },
   "outputs": [],
   "source": []
  },
  {
   "cell_type": "code",
   "execution_count": null,
   "metadata": {
    "hidden": true
   },
   "outputs": [],
   "source": []
  },
  {
   "cell_type": "code",
   "execution_count": null,
   "metadata": {
    "hidden": true
   },
   "outputs": [],
   "source": []
  }
 ],
 "metadata": {
  "kernelspec": {
   "display_name": "Julia_12_Threads 1.7.2",
   "language": "julia",
   "name": "julia_12_threads-1.7"
  },
  "language_info": {
   "file_extension": ".jl",
   "mimetype": "application/julia",
   "name": "julia",
   "version": "1.7.2"
  },
  "toc": {
   "base_numbering": 1,
   "nav_menu": {},
   "number_sections": true,
   "sideBar": true,
   "skip_h1_title": false,
   "title_cell": "Table of Contents",
   "title_sidebar": "Contents",
   "toc_cell": false,
   "toc_position": {},
   "toc_section_display": true,
   "toc_window_display": false
  },
  "varInspector": {
   "cols": {
    "lenName": 16,
    "lenType": 16,
    "lenVar": 40
   },
   "kernels_config": {
    "python": {
     "delete_cmd_postfix": "",
     "delete_cmd_prefix": "del ",
     "library": "var_list.py",
     "varRefreshCmd": "print(var_dic_list())"
    },
    "r": {
     "delete_cmd_postfix": ") ",
     "delete_cmd_prefix": "rm(",
     "library": "var_list.r",
     "varRefreshCmd": "cat(var_dic_list()) "
    }
   },
   "types_to_exclude": [
    "module",
    "function",
    "builtin_function_or_method",
    "instance",
    "_Feature"
   ],
   "window_display": false
  }
 },
 "nbformat": 4,
 "nbformat_minor": 4
}
