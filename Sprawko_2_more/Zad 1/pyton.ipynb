{
 "cells": [
  {
   "cell_type": "code",
   "execution_count": 2,
   "metadata": {},
   "outputs": [],
   "source": [
    "import pickle"
   ]
  },
  {
   "cell_type": "code",
   "execution_count": 11,
   "metadata": {},
   "outputs": [],
   "source": [
    "data = pickle.load(open(\"Budnik.p\", \"rb\"))\n",
    "file = open(\"data1.txt\", \"w\")\n",
    "for t in data:\n",
    "    for i in t:\n",
    "        file.write(str(i) + \"\\n\")\n",
    "file.close()"
   ]
  },
  {
   "cell_type": "code",
   "execution_count": 3,
   "metadata": {},
   "outputs": [],
   "source": [
    "data = pickle.load(open(\"Hałas.p\", \"rb\"))\n",
    "file = open(\"dataH.txt\", \"w\")\n",
    "for t in data:\n",
    "    for i in t:\n",
    "        file.write(str(i) + \"\\n\")\n",
    "file.close()"
   ]
  }
 ],
 "metadata": {
  "kernelspec": {
   "display_name": "Python 3.8.8 64-bit",
   "language": "python",
   "name": "python3"
  },
  "language_info": {
   "codemirror_mode": {
    "name": "ipython",
    "version": 3
   },
   "file_extension": ".py",
   "mimetype": "text/x-python",
   "name": "python",
   "nbconvert_exporter": "python",
   "pygments_lexer": "ipython3",
   "version": "3.8.8"
  },
  "orig_nbformat": 4,
  "vscode": {
   "interpreter": {
    "hash": "72bfc691e125b99acbc6d80c2190d4963aecde9ca99ebcb34dfd45ffa5b3f8fc"
   }
  }
 },
 "nbformat": 4,
 "nbformat_minor": 2
}
